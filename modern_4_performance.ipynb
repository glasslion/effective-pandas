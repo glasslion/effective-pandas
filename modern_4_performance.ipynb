{
  "nbformat": 4,
  "nbformat_minor": 0,
  "metadata": {
    "colab": {
      "name": "modern_4_performance.ipynb",
      "version": "0.3.2",
      "provenance": []
    },
    "kernelspec": {
      "display_name": "Python 3",
      "language": "python",
      "name": "python3"
    }
  },
  "cells": [
    {
      "metadata": {
        "id": "ImbHIi5orFqI",
        "colab_type": "text"
      },
      "cell_type": "markdown",
      "source": [
        "# Performance\n",
        "\n",
        "[Wes McKinney](https://twitter.com/wesmckinn), the creator of pandas, is kind of obsessed with performance. From micro-optimizations for element access, to [embedding](https://github.com/pydata/pandas/tree/master/pandas/src/klib) a fast hash table inside pandas, we all benefit from his and others' hard work.\n",
        "This post will focus mainly on making efficient use of pandas and NumPy.\n",
        "\n",
        "One thing I'll explicitly not touch on is storage formats.\n",
        "Performance is just one of many factors that go into choosing a storage format.\n",
        "Just know that pandas can talk to [many formats](http://pandas.pydata.org/pandas-docs/version/0.18.0/io.html), and the format that strikes the right balance between performance, portability, data-types, metadata handling, etc., is an [ongoing](http://blog.cloudera.com/blog/2016/03/feather-a-fast-on-disk-format-for-data-frames-for-r-and-python-powered-by-apache-arrow/) topic of discussion."
      ]
    },
    {
      "metadata": {
        "id": "MBZhVBvLrFqO",
        "colab_type": "code",
        "colab": {}
      },
      "cell_type": "code",
      "source": [
        "%matplotlib inline\n",
        "\n",
        "import os\n",
        "import numpy as np\n",
        "import pandas as pd\n",
        "import matplotlib.pyplot as plt\n",
        "import seaborn as sns\n",
        "\n",
        "if int(os.environ.get(\"MODERN_PANDAS_EPUB\", 0)):\n",
        "    import prep # noqa\n",
        "\n",
        "sns.set_style('ticks')\n",
        "sns.set_context('talk')\n",
        "pd.options.display.max_rows = 10"
      ],
      "execution_count": 0,
      "outputs": []
    },
    {
      "metadata": {
        "id": "8sXlmU1-YH8_",
        "colab_type": "code",
        "colab": {
          "base_uri": "https://localhost:8080/",
          "height": 85
        },
        "outputId": "1c12141e-fb65-4e61-f567-d46d03c786d4"
      },
      "cell_type": "code",
      "source": [
        "import os\n",
        "if not os.getcwd().endswith('effective-pandas'):\n",
        "  if 'effective-pandas' not in os.listdir():\n",
        "      !git clone https://github.com/glasslion/effective-pandas\n",
        "  os.chdir('effective-pandas')\n",
        "!pip install --upgrade tables"
      ],
      "execution_count": 2,
      "outputs": [
        {
          "output_type": "stream",
          "text": [
            "Requirement already up-to-date: tables in /usr/local/lib/python3.6/dist-packages (3.4.4)\n",
            "Requirement already satisfied, skipping upgrade: numexpr>=2.5.2 in /usr/local/lib/python3.6/dist-packages (from tables) (2.6.8)\n",
            "Requirement already satisfied, skipping upgrade: numpy>=1.8.0 in /usr/local/lib/python3.6/dist-packages (from tables) (1.14.5)\n",
            "Requirement already satisfied, skipping upgrade: six>=1.9.0 in /usr/local/lib/python3.6/dist-packages (from tables) (1.11.0)\n"
          ],
          "name": "stdout"
        }
      ]
    },
    {
      "metadata": {
        "id": "McF0JGxN2g84",
        "colab_type": "code",
        "colab": {}
      },
      "cell_type": "code",
      "source": [
        "from downloader import download_all\n",
        "download_all()"
      ],
      "execution_count": 0,
      "outputs": []
    },
    {
      "metadata": {
        "id": "vxGpLp4irFqX",
        "colab_type": "text"
      },
      "cell_type": "markdown",
      "source": [
        "## Constructors\n",
        "\n",
        "It's pretty common to have many similar sources (say a bunch of CSVs) that need to be combined into a single DataFrame. There are two routes to the same end:\n",
        "\n",
        "1. Initialize one DataFrame and append to that\n",
        "2. Make many smaller DataFrames and concatenate at the end\n",
        "\n",
        "For pandas, the second option is faster.\n",
        "DataFrame appends are expensive relative to a list append.\n",
        "Depending on the values, pandas might have to recast the data to a different type.\n",
        "And indexes are immutable, so each time you append pandas has to create an entirely new one.\n",
        "\n",
        "In the last section we downloaded a bunch of weather files, one per state, writing each to a separate CSV.\n",
        "One could imagine coming back later to read them in, using the following code.\n",
        "\n",
        "The idiomatic python way\n",
        "\n",
        "```python\n",
        "files = glob.glob('weather/*.csv')\n",
        "columns = ['station', 'date', 'tmpf', 'relh', 'sped', 'mslp',\n",
        "           'p01i', 'vsby', 'gust_mph', 'skyc1', 'skyc2', 'skyc3']\n",
        "\n",
        "# init empty DataFrame, like you might for a list\n",
        "weather = pd.DataFrame(columns=columns)\n",
        "\n",
        "for fp in files:\n",
        "    city = pd.read_csv(fp, columns=columns)\n",
        "    weather.append(city)\n",
        "```\n",
        "\n",
        "This is pretty standard code, quite similar to building up a list of tuples, say.\n",
        "The only nitpick is that you'd probably use a list-comprehension if you were just making a list.\n",
        "But we don't have special syntax for DataFrame-comprehensions (if only), so you'd fall back to the \"initialize empty container, append to said container\" pattern.\n",
        "\n",
        "But there's a better, pandorable, way\n",
        "\n",
        "```python\n",
        "files = glob.glob('weather/*.csv')\n",
        "weather_dfs = [pd.read_csv(fp, names=columns) for fp in files]\n",
        "weather = pd.concat(weather_dfs)\n",
        "```\n",
        "\n",
        "Subjectively this is cleaner and more beautiful.\n",
        "There's fewer lines of code.\n",
        "You don't have this extraneous detail of building an empty DataFrame.\n",
        "And objectively the pandorable way is faster, as we'll test next."
      ]
    },
    {
      "metadata": {
        "id": "DxYlhOn1rFqZ",
        "colab_type": "text"
      },
      "cell_type": "markdown",
      "source": [
        "We'll define two functions for building an identical DataFrame. The first `append_df`, creates an empty DataFrame and appends to it. The second, `concat_df`,  creates many DataFrames, and concatenates them at the end. We also write a short decorator that runs the functions a handful of times and records the results."
      ]
    },
    {
      "metadata": {
        "id": "G7B8y_yirFqa",
        "colab_type": "code",
        "colab": {}
      },
      "cell_type": "code",
      "source": [
        "import time\n",
        "\n",
        "size_per = 5000\n",
        "N = 100\n",
        "cols = list('abcd')\n",
        "\n",
        "def timed(n=30):\n",
        "    '''\n",
        "    Running a microbenchmark. Never use this.\n",
        "    '''\n",
        "    def deco(func):\n",
        "        def wrapper(*args, **kwargs):\n",
        "            timings = []\n",
        "            for i in range(n):\n",
        "                t0 = time.time()\n",
        "                func(*args, **kwargs)\n",
        "                t1 = time.time()\n",
        "                timings.append(t1 - t0)\n",
        "            return timings\n",
        "        return wrapper\n",
        "    return deco\n",
        "    \n",
        "@timed(60)\n",
        "def append_df():\n",
        "    '''\n",
        "    The pythonic (bad) way\n",
        "    '''\n",
        "    df = pd.DataFrame(columns=cols)\n",
        "    for _ in range(N):\n",
        "        df.append(pd.DataFrame(np.random.randn(size_per, 4), columns=cols))\n",
        "    return df\n",
        "\n",
        "@timed(60)\n",
        "def concat_df():\n",
        "    '''\n",
        "    The pandorabe (good) way\n",
        "    '''\n",
        "    dfs = [pd.DataFrame(np.random.randn(size_per, 4), columns=cols)\n",
        "           for _ in range(N)]\n",
        "    return pd.concat(dfs, ignore_index=True)"
      ],
      "execution_count": 0,
      "outputs": []
    },
    {
      "metadata": {
        "id": "zRA8Nu_YrFqg",
        "colab_type": "code",
        "colab": {
          "base_uri": "https://localhost:8080/",
          "height": 241
        },
        "outputId": "7084a369-7e6c-4361-ea6d-65053f62453b"
      },
      "cell_type": "code",
      "source": [
        "t_append = append_df()\n",
        "t_concat = concat_df()\n",
        "\n",
        "timings = (pd.DataFrame({\"Append\": t_append, \"Concat\": t_concat})\n",
        "             .stack()\n",
        "             .reset_index()\n",
        "             .rename(columns={0: 'Time (s)',\n",
        "                              'level_1': 'Method'}))\n",
        "timings.head()"
      ],
      "execution_count": 5,
      "outputs": [
        {
          "output_type": "execute_result",
          "data": {
            "text/html": [
              "<div>\n",
              "<style scoped>\n",
              "    .dataframe tbody tr th:only-of-type {\n",
              "        vertical-align: middle;\n",
              "    }\n",
              "\n",
              "    .dataframe tbody tr th {\n",
              "        vertical-align: top;\n",
              "    }\n",
              "\n",
              "    .dataframe thead th {\n",
              "        text-align: right;\n",
              "    }\n",
              "</style>\n",
              "<table border=\"1\" class=\"dataframe\">\n",
              "  <thead>\n",
              "    <tr style=\"text-align: right;\">\n",
              "      <th></th>\n",
              "      <th>level_0</th>\n",
              "      <th>Method</th>\n",
              "      <th>Time (s)</th>\n",
              "    </tr>\n",
              "  </thead>\n",
              "  <tbody>\n",
              "    <tr>\n",
              "      <th>0</th>\n",
              "      <td>0</td>\n",
              "      <td>Append</td>\n",
              "      <td>0.235768</td>\n",
              "    </tr>\n",
              "    <tr>\n",
              "      <th>1</th>\n",
              "      <td>0</td>\n",
              "      <td>Concat</td>\n",
              "      <td>0.136633</td>\n",
              "    </tr>\n",
              "    <tr>\n",
              "      <th>2</th>\n",
              "      <td>1</td>\n",
              "      <td>Append</td>\n",
              "      <td>0.212396</td>\n",
              "    </tr>\n",
              "    <tr>\n",
              "      <th>3</th>\n",
              "      <td>1</td>\n",
              "      <td>Concat</td>\n",
              "      <td>0.160445</td>\n",
              "    </tr>\n",
              "    <tr>\n",
              "      <th>4</th>\n",
              "      <td>2</td>\n",
              "      <td>Append</td>\n",
              "      <td>0.211288</td>\n",
              "    </tr>\n",
              "  </tbody>\n",
              "</table>\n",
              "</div>"
            ],
            "text/plain": [
              "   level_0  Method  Time (s)\n",
              "0        0  Append  0.235768\n",
              "1        0  Concat  0.136633\n",
              "2        1  Append  0.212396\n",
              "3        1  Concat  0.160445\n",
              "4        2  Append  0.211288"
            ]
          },
          "metadata": {
            "tags": []
          },
          "execution_count": 5
        }
      ]
    },
    {
      "metadata": {
        "id": "nN0Ea3M4rFqp",
        "colab_type": "code",
        "colab": {
          "base_uri": "https://localhost:8080/",
          "height": 463
        },
        "outputId": "3020e612-7677-4ab8-bbf0-7ba522820f8d"
      },
      "cell_type": "code",
      "source": [
        "plt.figure(figsize=(4, 6))\n",
        "sns.boxplot(x='Method', y='Time (s)', data=timings)\n",
        "sns.despine()\n",
        "plt.tight_layout()"
      ],
      "execution_count": 6,
      "outputs": [
        {
          "output_type": "stream",
          "text": [
            "/usr/local/lib/python3.6/dist-packages/seaborn/categorical.py:454: FutureWarning: remove_na is deprecated and is a private function. Do not use.\n",
            "  box_data = remove_na(group_data)\n"
          ],
          "name": "stderr"
        },
        {
          "output_type": "display_data",
          "data": {
            "image/png": "[encoded data removed]",
            "text/plain": [
              "<matplotlib.figure.Figure at 0x7fc0601d8a90>"
            ]
          },
          "metadata": {
            "tags": []
          }
        }
      ]
    },
    {
      "metadata": {
        "id": "jDrPbnqFWlBZ",
        "colab_type": "code",
        "colab": {}
      },
      "cell_type": "code",
      "source": [
        "sales = {'account': ['Jones LLC', 'Alpha Co', 'Blue Inc'],\n",
        "         'Jan': [150, np.nan, 50],\n",
        "         'Feb': [200, 210, 90],\n",
        "         'Mar': [140, 215, 95]}\n",
        "df = pd.DataFrame.from_dict(sales)\n"
      ],
      "execution_count": 0,
      "outputs": []
    },
    {
      "metadata": {
        "id": "O_TYjnojWx0m",
        "colab_type": "code",
        "colab": {
          "base_uri": "https://localhost:8080/",
          "height": 102
        },
        "outputId": "6b96dd52-a6c5-4b43-bade-462054951a78"
      },
      "cell_type": "code",
      "source": [
        "df.dtypes"
      ],
      "execution_count": 8,
      "outputs": [
        {
          "output_type": "execute_result",
          "data": {
            "text/plain": [
              "Feb          int64\n",
              "Jan        float64\n",
              "Mar          int64\n",
              "account     object\n",
              "dtype: object"
            ]
          },
          "metadata": {
            "tags": []
          },
          "execution_count": 8
        }
      ]
    },
    {
      "metadata": {
        "id": "nOeaRRvdrFq5",
        "colab_type": "text"
      },
      "cell_type": "markdown",
      "source": [
        "## Datatypes\n",
        "\n",
        "The pandas type system essentially [NumPy's](http://docs.scipy.org/doc/numpy/reference/arrays.scalars.html) with a few extensions (`categorical`, `datetime64` with timezone, `timedelta64`).\n",
        "An advantage of the DataFrame over a 2-dimensional NumPy array is that the DataFrame can have columns of various types within a single table.\n",
        "That said, each column should have a specific dtype; you don't want to be mixing bools with ints with strings within a single column.\n",
        "For one thing, this is slow.\n",
        "It forces the column to be have an `object` dtype (the fallback python-object container type), which means you don't get any of the type-specific optimizations in pandas or NumPy.\n",
        "For another, it means you're probably violating the maxims of tidy data, which we'll discuss next time.\n",
        "\n",
        "When should you have `object` columns?\n",
        "There are a few places where the NumPy / pandas type system isn't as rich as you might like.\n",
        "There's no integer NA (at the moment anyway), so if you have any missing values, represented by `NaN`, your otherwise integer column will be floats.\n",
        "There's also no `date` dtype (distinct from `datetime`).\n",
        "Consider the needs of your application: can you treat an integer `1` as `1.0`?\n",
        "Can you treat `date(2016, 1, 1)` as `datetime(2016, 1, 1, 0, 0)`?\n",
        "In my experience, this is rarely a problem other than when writing to something with a stricter schema like a database.\n",
        "But at that point it's fine to cast to one of the less performant types, since you're just not doing numeric operations anymore.\n",
        "\n",
        "The last case of `object` dtype data is text data.\n",
        "Pandas doesn't have any fixed-width string dtypes, so you're stuck with python objects.\n",
        "There is an important exception here, and that's low-cardinality text data, for which you'll want to use the `category` dtype (see below).\n",
        "\n",
        "If you have object data (either strings or python objects) that needs to be converted, checkout the [`to_numeric`](http://pandas.pydata.org/pandas-docs/version/0.18.0/generated/pandas.to_numeric.html), [`to_datetime`](http://pandas.pydata.org/pandas-docs/version/0.18.0/generated/pandas.to_datetime.html) and [`to_timedelta`](http://pandas.pydata.org/pandas-docs/version/0.18.0/generated/pandas.to_timedelta.html) methods."
      ]
    },
    {
      "metadata": {
        "id": "EMpMrxjIrFq7",
        "colab_type": "text"
      },
      "cell_type": "markdown",
      "source": [
        "## Iteration, Apply, And Vectorization\n",
        "\n",
        "We know that [\"Python is slow\"](https://jakevdp.github.io/blog/2014/05/09/why-python-is-slow/) (scare  quotes since that statement is too broad to be meaningful).\n",
        "There are various steps that can be taken to improve your code's performance from relatively simple changes, to rewriting your code in a lower-level language, to trying to parallelize it.\n",
        "And while you might have many options, there's typically an order you would proceed in.\n",
        "\n",
        "First (and I know it's cliché to say so, but still) benchmark your code.\n",
        "Make sure you actually need to spend time optimizing it.\n",
        "There are [many](https://github.com/nvdv/vprof) [options](https://jiffyclub.github.io/snakeviz/) [for](https://github.com/rkern/line_profiler) [benchmarking](https://docs.python.org/3.5/library/timeit.html) and visualizing where things are slow.\n",
        "\n",
        "Second, consider your algorithm.\n",
        "Make sure you aren't doing more work than you need to.\n",
        "A common one I see is doing a full sort on an array, just to select the `N` largest or smallest items.\n",
        "Pandas has methods for that."
      ]
    },
    {
      "metadata": {
        "id": "28BlsfFfrFq8",
        "colab_type": "code",
        "colab": {}
      },
      "cell_type": "code",
      "source": [
        "df = pd.read_csv(\"data/55014902_T_ONTIME.csv\")\n",
        "delays = df['DEP_DELAY']"
      ],
      "execution_count": 0,
      "outputs": []
    },
    {
      "metadata": {
        "id": "kDF1RxqOrFq-",
        "colab_type": "code",
        "colab": {
          "base_uri": "https://localhost:8080/",
          "height": 119
        },
        "outputId": "cda6f056-8e95-4370-ae8e-a4ade6eb8c5c"
      },
      "cell_type": "code",
      "source": [
        "# Select the 5 largest delays\n",
        "delays.nlargest(5).sort_values()"
      ],
      "execution_count": 10,
      "outputs": [
        {
          "output_type": "execute_result",
          "data": {
            "text/plain": [
              "102482    1480.0\n",
              "158136    1545.0\n",
              "147676    1934.0\n",
              "60246     1970.0\n",
              "52705     2755.0\n",
              "Name: DEP_DELAY, dtype: float64"
            ]
          },
          "metadata": {
            "tags": []
          },
          "execution_count": 10
        }
      ]
    },
    {
      "metadata": {
        "id": "crR3UAc0rFrC",
        "colab_type": "code",
        "colab": {
          "base_uri": "https://localhost:8080/",
          "height": 119
        },
        "outputId": "d3a17608-55a2-4a86-ef80-8bf57766aa61"
      },
      "cell_type": "code",
      "source": [
        "delays.nsmallest(5).sort_values()"
      ],
      "execution_count": 11,
      "outputs": [
        {
          "output_type": "execute_result",
          "data": {
            "text/plain": [
              "297185   -59.0\n",
              "239632   -58.0\n",
              "199996   -56.0\n",
              "325574   -56.0\n",
              "335979   -55.0\n",
              "Name: DEP_DELAY, dtype: float64"
            ]
          },
          "metadata": {
            "tags": []
          },
          "execution_count": 11
        }
      ]
    },
    {
      "metadata": {
        "id": "CJl8zqwMrFrG",
        "colab_type": "text"
      },
      "cell_type": "markdown",
      "source": [
        "We follow up the `nlargest` or `nsmallest` with a sort (the result of `nlargest/smallest` is unordered), but it's much easier to sort 5 items that 500,000. The timings bear this out:"
      ]
    },
    {
      "metadata": {
        "id": "CHKNk8C4rFrG",
        "colab_type": "code",
        "colab": {
          "base_uri": "https://localhost:8080/",
          "height": 54
        },
        "outputId": "1ea7dbc5-5750-41a7-a365-cbb05ce47b44"
      },
      "cell_type": "code",
      "source": [
        "%timeit delays.sort_values().tail(5)"
      ],
      "execution_count": 12,
      "outputs": [
        {
          "output_type": "stream",
          "text": [
            "10 loops, best of 3: 46.7 ms per loop\n"
          ],
          "name": "stdout"
        }
      ]
    },
    {
      "metadata": {
        "id": "eIbFWnyVrFrK",
        "colab_type": "code",
        "colab": {
          "base_uri": "https://localhost:8080/",
          "height": 54
        },
        "outputId": "098fbd62-7e3c-4744-caed-bfbd259aabc7"
      },
      "cell_type": "code",
      "source": [
        "%timeit delays.nlargest(5).sort_values()"
      ],
      "execution_count": 13,
      "outputs": [
        {
          "output_type": "stream",
          "text": [
            "100 loops, best of 3: 13.7 ms per loop\n"
          ],
          "name": "stdout"
        }
      ]
    },
    {
      "metadata": {
        "id": "gfe8HgDMrFrO",
        "colab_type": "text"
      },
      "cell_type": "markdown",
      "source": [
        "\"Use the right algorithm\" is easy to say, but harder to apply in practice since you have to actually figure out the best algorithm to use.\n",
        "That one comes down to experience.\n",
        "\n",
        "Assuming you're at a spot that needs optimizing, and you've got the correct algorithm, *and* there isn't a readily available optimized version of what you need in pandas/numpy/scipy/scikit-learn/statsmodels/..., then what?\n",
        "\n",
        "The first place to turn is probably a vectorized NumPy implementation.\n",
        "Vectorization here means operating directly on arrays, rather than looping over lists scalars.\n",
        "This is generally much less work than rewriting it in something like Cython, and you can get pretty good results just by making *effective* use of NumPy and pandas.\n",
        "While not every operation can be vectorized, many can.\n",
        "\n",
        "Let's work through an example calculating the [Great-circle distance](https://en.wikipedia.org/wiki/Great-circle_distance) between airports.\n",
        "Grab the table of airport latitudes and longitudes from the [BTS website](http://www.transtats.bts.gov/DL_SelectFields.asp?Table_ID=288&DB_Short_Name=Aviation%20Support%20Tables) and extract it to a CSV."
      ]
    },
    {
      "metadata": {
        "id": "fqnTkxEGrFrP",
        "colab_type": "code",
        "colab": {}
      },
      "cell_type": "code",
      "source": [
        "from utils import download_airports\n",
        "import zipfile"
      ],
      "execution_count": 0,
      "outputs": []
    },
    {
      "metadata": {
        "id": "L5Bq6PhTrFrS",
        "colab_type": "code",
        "colab": {}
      },
      "cell_type": "code",
      "source": [
        "if not os.path.exists(\"data/airports.csv.zip\"):\n",
        "    download_airports()"
      ],
      "execution_count": 0,
      "outputs": []
    },
    {
      "metadata": {
        "id": "OBvoAqHrn2B3",
        "colab_type": "code",
        "colab": {
          "base_uri": "https://localhost:8080/",
          "height": 136
        },
        "outputId": "ea5972c4-2a38-45a5-b811-45b0103cd0be"
      },
      "cell_type": "code",
      "source": [
        "!ls  -lh data"
      ],
      "execution_count": 19,
      "outputs": [
        {
          "output_type": "stream",
          "text": [
            "total 981M\n",
            "-rw-r--r-- 1 root root  88M Sep 12 11:45 55014902_T_ONTIME.csv\n",
            "-rw-r--r-- 1 root root 267K Sep 12 11:46 airports.csv.zip\n",
            "-rw-r--r-- 1 root root  16M Sep 12 08:30 flights.csv.zip\n",
            "-rw-r--r-- 1 root root 123M Sep 12 08:41 flights.h5\n",
            "drwxr-xr-x 2 root root 4.0K Sep 12 08:29 weather\n",
            "-rw-r--r-- 1 root root 755M Sep 12 08:29 weather.h5\n"
          ],
          "name": "stdout"
        }
      ]
    },
    {
      "metadata": {
        "id": "ZWDXiGf7rFrV",
        "colab_type": "code",
        "colab": {
          "base_uri": "https://localhost:8080/",
          "height": 235
        },
        "outputId": "633d0763-3df1-49d5-bfa2-dd3344067d28"
      },
      "cell_type": "code",
      "source": [
        "coord = (pd.read_csv(\"data/airports.csv.zip\", index_col=['AIRPORT'],\n",
        "                     usecols=['AIRPORT', 'LATITUDE', 'LONGITUDE'])\n",
        "           .groupby(level=0).first()\n",
        "           .dropna()\n",
        "           .sample(n=500, random_state=42)\n",
        "           .sort_index())\n",
        "\n",
        "coord.head()"
      ],
      "execution_count": 20,
      "outputs": [
        {
          "output_type": "execute_result",
          "data": {
            "text/html": [
              "<div>\n",
              "<style scoped>\n",
              "    .dataframe tbody tr th:only-of-type {\n",
              "        vertical-align: middle;\n",
              "    }\n",
              "\n",
              "    .dataframe tbody tr th {\n",
              "        vertical-align: top;\n",
              "    }\n",
              "\n",
              "    .dataframe thead th {\n",
              "        text-align: right;\n",
              "    }\n",
              "</style>\n",
              "<table border=\"1\" class=\"dataframe\">\n",
              "  <thead>\n",
              "    <tr style=\"text-align: right;\">\n",
              "      <th></th>\n",
              "      <th>LATITUDE</th>\n",
              "      <th>LONGITUDE</th>\n",
              "    </tr>\n",
              "    <tr>\n",
              "      <th>AIRPORT</th>\n",
              "      <th></th>\n",
              "      <th></th>\n",
              "    </tr>\n",
              "  </thead>\n",
              "  <tbody>\n",
              "    <tr>\n",
              "      <th>8F3</th>\n",
              "      <td>33.623889</td>\n",
              "      <td>-101.240833</td>\n",
              "    </tr>\n",
              "    <tr>\n",
              "      <th>A03</th>\n",
              "      <td>58.457500</td>\n",
              "      <td>-154.023333</td>\n",
              "    </tr>\n",
              "    <tr>\n",
              "      <th>A09</th>\n",
              "      <td>60.482222</td>\n",
              "      <td>-146.582222</td>\n",
              "    </tr>\n",
              "    <tr>\n",
              "      <th>A18</th>\n",
              "      <td>63.541667</td>\n",
              "      <td>-150.993889</td>\n",
              "    </tr>\n",
              "    <tr>\n",
              "      <th>A23</th>\n",
              "      <td>59.776111</td>\n",
              "      <td>-151.963611</td>\n",
              "    </tr>\n",
              "  </tbody>\n",
              "</table>\n",
              "</div>"
            ],
            "text/plain": [
              "          LATITUDE   LONGITUDE\n",
              "AIRPORT                       \n",
              "8F3      33.623889 -101.240833\n",
              "A03      58.457500 -154.023333\n",
              "A09      60.482222 -146.582222\n",
              "A18      63.541667 -150.993889\n",
              "A23      59.776111 -151.963611"
            ]
          },
          "metadata": {
            "tags": []
          },
          "execution_count": 20
        }
      ]
    },
    {
      "metadata": {
        "id": "B40XS_Z_rFrZ",
        "colab_type": "text"
      },
      "cell_type": "markdown",
      "source": [
        "For whatever reason, suppose we're interested in all the pairwise distances (I've limited it to just a sample of 500 airports to make this manageable.\n",
        "In the real world you *probably* don't need *all* the pairwise distances and would be better off with a [tree](http://scikit-learn.org/stable/modules/generated/sklearn.neighbors.KDTree.html). Remember: think about what you actually need, and find the right algorithm for that).\n",
        "\n",
        "MultiIndexes have an alternative `from_product` constructor for getting the [Cartesian product](https://en.wikipedia.org/wiki/Cartesian_product) of the arrays you pass in.\n",
        "We'll give it `coords.index` twice (to get its Cartesian product with itself).\n",
        "That gives a MultiIndex of all the combination.\n",
        "With some minor reshaping of `coords` we'll have a DataFrame with all the latitude/longitude pairs."
      ]
    },
    {
      "metadata": {
        "id": "t-2e3IJKrFrb",
        "colab_type": "code",
        "colab": {
          "base_uri": "https://localhost:8080/",
          "height": 235
        },
        "outputId": "83a5cf2a-1619-413f-f46e-84046093e1b9"
      },
      "cell_type": "code",
      "source": [
        "idx = pd.MultiIndex.from_product([coord.index, coord.index],\n",
        "                                 names=['origin', 'dest'])\n",
        "\n",
        "pairs = pd.concat([coord.add_suffix('_1').reindex(idx, level='origin'),\n",
        "                   coord.add_suffix('_2').reindex(idx, level='dest')],\n",
        "                  axis=1)\n",
        "pairs.head()"
      ],
      "execution_count": 21,
      "outputs": [
        {
          "output_type": "execute_result",
          "data": {
            "text/html": [
              "<div>\n",
              "<style scoped>\n",
              "    .dataframe tbody tr th:only-of-type {\n",
              "        vertical-align: middle;\n",
              "    }\n",
              "\n",
              "    .dataframe tbody tr th {\n",
              "        vertical-align: top;\n",
              "    }\n",
              "\n",
              "    .dataframe thead th {\n",
              "        text-align: right;\n",
              "    }\n",
              "</style>\n",
              "<table border=\"1\" class=\"dataframe\">\n",
              "  <thead>\n",
              "    <tr style=\"text-align: right;\">\n",
              "      <th></th>\n",
              "      <th></th>\n",
              "      <th>LATITUDE_1</th>\n",
              "      <th>LONGITUDE_1</th>\n",
              "      <th>LATITUDE_2</th>\n",
              "      <th>LONGITUDE_2</th>\n",
              "    </tr>\n",
              "    <tr>\n",
              "      <th>origin</th>\n",
              "      <th>dest</th>\n",
              "      <th></th>\n",
              "      <th></th>\n",
              "      <th></th>\n",
              "      <th></th>\n",
              "    </tr>\n",
              "  </thead>\n",
              "  <tbody>\n",
              "    <tr>\n",
              "      <th rowspan=\"5\" valign=\"top\">8F3</th>\n",
              "      <th>8F3</th>\n",
              "      <td>33.623889</td>\n",
              "      <td>-101.240833</td>\n",
              "      <td>33.623889</td>\n",
              "      <td>-101.240833</td>\n",
              "    </tr>\n",
              "    <tr>\n",
              "      <th>A03</th>\n",
              "      <td>33.623889</td>\n",
              "      <td>-101.240833</td>\n",
              "      <td>58.457500</td>\n",
              "      <td>-154.023333</td>\n",
              "    </tr>\n",
              "    <tr>\n",
              "      <th>A09</th>\n",
              "      <td>33.623889</td>\n",
              "      <td>-101.240833</td>\n",
              "      <td>60.482222</td>\n",
              "      <td>-146.582222</td>\n",
              "    </tr>\n",
              "    <tr>\n",
              "      <th>A18</th>\n",
              "      <td>33.623889</td>\n",
              "      <td>-101.240833</td>\n",
              "      <td>63.541667</td>\n",
              "      <td>-150.993889</td>\n",
              "    </tr>\n",
              "    <tr>\n",
              "      <th>A23</th>\n",
              "      <td>33.623889</td>\n",
              "      <td>-101.240833</td>\n",
              "      <td>59.776111</td>\n",
              "      <td>-151.963611</td>\n",
              "    </tr>\n",
              "  </tbody>\n",
              "</table>\n",
              "</div>"
            ],
            "text/plain": [
              "             LATITUDE_1  LONGITUDE_1  LATITUDE_2  LONGITUDE_2\n",
              "origin dest                                                  \n",
              "8F3    8F3    33.623889  -101.240833   33.623889  -101.240833\n",
              "       A03    33.623889  -101.240833   58.457500  -154.023333\n",
              "       A09    33.623889  -101.240833   60.482222  -146.582222\n",
              "       A18    33.623889  -101.240833   63.541667  -150.993889\n",
              "       A23    33.623889  -101.240833   59.776111  -151.963611"
            ]
          },
          "metadata": {
            "tags": []
          },
          "execution_count": 21
        }
      ]
    },
    {
      "metadata": {
        "id": "WO_tm92RrFri",
        "colab_type": "code",
        "colab": {}
      },
      "cell_type": "code",
      "source": [
        "idx = idx[idx.get_level_values(0) <= idx.get_level_values(1)]"
      ],
      "execution_count": 0,
      "outputs": []
    },
    {
      "metadata": {
        "id": "lrYoBlPdrFrk",
        "colab_type": "code",
        "colab": {
          "base_uri": "https://localhost:8080/",
          "height": 34
        },
        "outputId": "5dfc9bc7-acd4-4841-8563-7526c8a2ee1e"
      },
      "cell_type": "code",
      "source": [
        "len(idx)"
      ],
      "execution_count": 31,
      "outputs": [
        {
          "output_type": "execute_result",
          "data": {
            "text/plain": [
              "125250"
            ]
          },
          "metadata": {
            "tags": []
          },
          "execution_count": 31
        }
      ]
    },
    {
      "metadata": {
        "id": "d4rJdRKDrFrp",
        "colab_type": "text"
      },
      "cell_type": "markdown",
      "source": [
        "We'll break that down a bit, but don't lose sight of the real target: our great-circle distance calculation.\n",
        "\n",
        "The `add_suffix` (and `add_prefix`) method is handy for quickly renaming the columns."
      ]
    },
    {
      "metadata": {
        "id": "dCnjpbuYrFrq",
        "colab_type": "code",
        "colab": {
          "base_uri": "https://localhost:8080/",
          "height": 235
        },
        "outputId": "96cbe681-dc1b-4fee-e19f-b811b24f73b7"
      },
      "cell_type": "code",
      "source": [
        "coord.add_suffix('_1').head()"
      ],
      "execution_count": 32,
      "outputs": [
        {
          "output_type": "execute_result",
          "data": {
            "text/html": [
              "<div>\n",
              "<style scoped>\n",
              "    .dataframe tbody tr th:only-of-type {\n",
              "        vertical-align: middle;\n",
              "    }\n",
              "\n",
              "    .dataframe tbody tr th {\n",
              "        vertical-align: top;\n",
              "    }\n",
              "\n",
              "    .dataframe thead th {\n",
              "        text-align: right;\n",
              "    }\n",
              "</style>\n",
              "<table border=\"1\" class=\"dataframe\">\n",
              "  <thead>\n",
              "    <tr style=\"text-align: right;\">\n",
              "      <th></th>\n",
              "      <th>LATITUDE_1</th>\n",
              "      <th>LONGITUDE_1</th>\n",
              "    </tr>\n",
              "    <tr>\n",
              "      <th>AIRPORT</th>\n",
              "      <th></th>\n",
              "      <th></th>\n",
              "    </tr>\n",
              "  </thead>\n",
              "  <tbody>\n",
              "    <tr>\n",
              "      <th>8F3</th>\n",
              "      <td>33.623889</td>\n",
              "      <td>-101.240833</td>\n",
              "    </tr>\n",
              "    <tr>\n",
              "      <th>A03</th>\n",
              "      <td>58.457500</td>\n",
              "      <td>-154.023333</td>\n",
              "    </tr>\n",
              "    <tr>\n",
              "      <th>A09</th>\n",
              "      <td>60.482222</td>\n",
              "      <td>-146.582222</td>\n",
              "    </tr>\n",
              "    <tr>\n",
              "      <th>A18</th>\n",
              "      <td>63.541667</td>\n",
              "      <td>-150.993889</td>\n",
              "    </tr>\n",
              "    <tr>\n",
              "      <th>A23</th>\n",
              "      <td>59.776111</td>\n",
              "      <td>-151.963611</td>\n",
              "    </tr>\n",
              "  </tbody>\n",
              "</table>\n",
              "</div>"
            ],
            "text/plain": [
              "         LATITUDE_1  LONGITUDE_1\n",
              "AIRPORT                         \n",
              "8F3       33.623889  -101.240833\n",
              "A03       58.457500  -154.023333\n",
              "A09       60.482222  -146.582222\n",
              "A18       63.541667  -150.993889\n",
              "A23       59.776111  -151.963611"
            ]
          },
          "metadata": {
            "tags": []
          },
          "execution_count": 32
        }
      ]
    },
    {
      "metadata": {
        "id": "GI8unCuJrFrx",
        "colab_type": "text"
      },
      "cell_type": "markdown",
      "source": [
        "Alternatively you could use the more general `.rename` like `coord.rename(columns=lambda x: x + '_1')`.\n",
        "\n",
        "Next, we have the `reindex`.\n",
        "Like I mentioned in the prior chapter, indexes are crucial to pandas.\n",
        "`.reindex` is all about aligning a Series or DataFrame to a given index.\n",
        "In this case we use `.reindex` to align our original DataFrame to the new\n",
        "MultiIndex of combinations.\n",
        "By default, the output will have the original value if that index label was already present, and `NaN` otherwise.\n",
        "If we just called `coord.reindex(idx)`, with no additional arguments, we'd get a DataFrame of all `NaN`s."
      ]
    },
    {
      "metadata": {
        "id": "Ed1Qni_HrFry",
        "colab_type": "code",
        "colab": {
          "base_uri": "https://localhost:8080/",
          "height": 235
        },
        "outputId": "ee0c8ad9-52bc-42c2-835d-298917102895"
      },
      "cell_type": "code",
      "source": [
        "coord.reindex(idx).head()"
      ],
      "execution_count": 33,
      "outputs": [
        {
          "output_type": "execute_result",
          "data": {
            "text/html": [
              "<div>\n",
              "<style scoped>\n",
              "    .dataframe tbody tr th:only-of-type {\n",
              "        vertical-align: middle;\n",
              "    }\n",
              "\n",
              "    .dataframe tbody tr th {\n",
              "        vertical-align: top;\n",
              "    }\n",
              "\n",
              "    .dataframe thead th {\n",
              "        text-align: right;\n",
              "    }\n",
              "</style>\n",
              "<table border=\"1\" class=\"dataframe\">\n",
              "  <thead>\n",
              "    <tr style=\"text-align: right;\">\n",
              "      <th></th>\n",
              "      <th></th>\n",
              "      <th>LATITUDE</th>\n",
              "      <th>LONGITUDE</th>\n",
              "    </tr>\n",
              "    <tr>\n",
              "      <th>origin</th>\n",
              "      <th>dest</th>\n",
              "      <th></th>\n",
              "      <th></th>\n",
              "    </tr>\n",
              "  </thead>\n",
              "  <tbody>\n",
              "    <tr>\n",
              "      <th rowspan=\"5\" valign=\"top\">8F3</th>\n",
              "      <th>8F3</th>\n",
              "      <td>NaN</td>\n",
              "      <td>NaN</td>\n",
              "    </tr>\n",
              "    <tr>\n",
              "      <th>A03</th>\n",
              "      <td>NaN</td>\n",
              "      <td>NaN</td>\n",
              "    </tr>\n",
              "    <tr>\n",
              "      <th>A09</th>\n",
              "      <td>NaN</td>\n",
              "      <td>NaN</td>\n",
              "    </tr>\n",
              "    <tr>\n",
              "      <th>A18</th>\n",
              "      <td>NaN</td>\n",
              "      <td>NaN</td>\n",
              "    </tr>\n",
              "    <tr>\n",
              "      <th>A23</th>\n",
              "      <td>NaN</td>\n",
              "      <td>NaN</td>\n",
              "    </tr>\n",
              "  </tbody>\n",
              "</table>\n",
              "</div>"
            ],
            "text/plain": [
              "             LATITUDE  LONGITUDE\n",
              "origin dest                     \n",
              "8F3    8F3        NaN        NaN\n",
              "       A03        NaN        NaN\n",
              "       A09        NaN        NaN\n",
              "       A18        NaN        NaN\n",
              "       A23        NaN        NaN"
            ]
          },
          "metadata": {
            "tags": []
          },
          "execution_count": 33
        }
      ]
    },
    {
      "metadata": {
        "id": "YmZScsblrFr2",
        "colab_type": "text"
      },
      "cell_type": "markdown",
      "source": [
        "That's because there weren't any values of `idx` that were in `coord.index`,\n",
        "which makes sense since `coord.index` is just a regular one-level Index, while `idx` is a MultiIndex.\n",
        "We use the `level` keyword to handle the transition from the original single-level Index, to the two-leveled `idx`.\n",
        "\n",
        "> `level` : int or name\n",
        ">\n",
        "  Broadcast across a level, matching Index values on the\n",
        "    passed MultiIndex level\n",
        "\n"
      ]
    },
    {
      "metadata": {
        "id": "ukfV60CQrFr4",
        "colab_type": "code",
        "colab": {
          "base_uri": "https://localhost:8080/",
          "height": 235
        },
        "outputId": "f3b462d5-9879-4c0f-e11b-a91598a5bd5d"
      },
      "cell_type": "code",
      "source": [
        "coord.reindex(idx, level='dest').head()"
      ],
      "execution_count": 34,
      "outputs": [
        {
          "output_type": "execute_result",
          "data": {
            "text/html": [
              "<div>\n",
              "<style scoped>\n",
              "    .dataframe tbody tr th:only-of-type {\n",
              "        vertical-align: middle;\n",
              "    }\n",
              "\n",
              "    .dataframe tbody tr th {\n",
              "        vertical-align: top;\n",
              "    }\n",
              "\n",
              "    .dataframe thead th {\n",
              "        text-align: right;\n",
              "    }\n",
              "</style>\n",
              "<table border=\"1\" class=\"dataframe\">\n",
              "  <thead>\n",
              "    <tr style=\"text-align: right;\">\n",
              "      <th></th>\n",
              "      <th></th>\n",
              "      <th>LATITUDE</th>\n",
              "      <th>LONGITUDE</th>\n",
              "    </tr>\n",
              "    <tr>\n",
              "      <th>origin</th>\n",
              "      <th>dest</th>\n",
              "      <th></th>\n",
              "      <th></th>\n",
              "    </tr>\n",
              "  </thead>\n",
              "  <tbody>\n",
              "    <tr>\n",
              "      <th rowspan=\"5\" valign=\"top\">8F3</th>\n",
              "      <th>8F3</th>\n",
              "      <td>33.623889</td>\n",
              "      <td>-101.240833</td>\n",
              "    </tr>\n",
              "    <tr>\n",
              "      <th>A03</th>\n",
              "      <td>58.457500</td>\n",
              "      <td>-154.023333</td>\n",
              "    </tr>\n",
              "    <tr>\n",
              "      <th>A09</th>\n",
              "      <td>60.482222</td>\n",
              "      <td>-146.582222</td>\n",
              "    </tr>\n",
              "    <tr>\n",
              "      <th>A18</th>\n",
              "      <td>63.541667</td>\n",
              "      <td>-150.993889</td>\n",
              "    </tr>\n",
              "    <tr>\n",
              "      <th>A23</th>\n",
              "      <td>59.776111</td>\n",
              "      <td>-151.963611</td>\n",
              "    </tr>\n",
              "  </tbody>\n",
              "</table>\n",
              "</div>"
            ],
            "text/plain": [
              "              LATITUDE   LONGITUDE\n",
              "origin dest                       \n",
              "8F3    8F3   33.623889 -101.240833\n",
              "       A03   58.457500 -154.023333\n",
              "       A09   60.482222 -146.582222\n",
              "       A18   63.541667 -150.993889\n",
              "       A23   59.776111 -151.963611"
            ]
          },
          "metadata": {
            "tags": []
          },
          "execution_count": 34
        }
      ]
    },
    {
      "metadata": {
        "id": "xk2FPGtJrFsA",
        "colab_type": "text"
      },
      "cell_type": "markdown",
      "source": [
        "If you ever need to do an operation that mixes regular single-level indexes with Multilevel Indexes, look for a level keyword argument.\n",
        "For example, all the arithmatic methods (`.mul`, `.add`, etc.) have them.\n",
        "\n",
        "This is a bit wasteful since the distance from airport `A` to `B` is the same as `B` to `A`.\n",
        "We could easily fix this with a `idx = idx[idx.get_level_values(0) <= idx.get_level_values(1)]`, but we'll ignore that for now.\n",
        "\n",
        "\n",
        "Quick tangent, I got some... let's say skepticism, on my last piece about the value of indexes.\n",
        "Here's an alternative version for the skeptics"
      ]
    },
    {
      "metadata": {
        "id": "g15vw_vRrFsC",
        "colab_type": "code",
        "colab": {}
      },
      "cell_type": "code",
      "source": [
        "from itertools import product, chain\n",
        "coord2 = coord.reset_index()"
      ],
      "execution_count": 0,
      "outputs": []
    },
    {
      "metadata": {
        "id": "zfi2IPDOrFsI",
        "colab_type": "code",
        "colab": {
          "base_uri": "https://localhost:8080/",
          "height": 235
        },
        "outputId": "58501613-2fa3-4221-c8b1-20b23531215d"
      },
      "cell_type": "code",
      "source": [
        "x = product(coord2.add_suffix('_1').itertuples(index=False),\n",
        "            coord2.add_suffix('_2').itertuples(index=False))\n",
        "y = [list(chain.from_iterable(z)) for z in x]\n",
        "\n",
        "df2 = (pd.DataFrame(y, columns=['origin', 'LATITUDE_1', 'LONGITUDE_1',\n",
        "                                'dest', 'LATITUDE_1', 'LONGITUDE_2'])\n",
        "       .set_index(['origin', 'dest']))\n",
        "df2.head()"
      ],
      "execution_count": 37,
      "outputs": [
        {
          "output_type": "execute_result",
          "data": {
            "text/html": [
              "<div>\n",
              "<style scoped>\n",
              "    .dataframe tbody tr th:only-of-type {\n",
              "        vertical-align: middle;\n",
              "    }\n",
              "\n",
              "    .dataframe tbody tr th {\n",
              "        vertical-align: top;\n",
              "    }\n",
              "\n",
              "    .dataframe thead th {\n",
              "        text-align: right;\n",
              "    }\n",
              "</style>\n",
              "<table border=\"1\" class=\"dataframe\">\n",
              "  <thead>\n",
              "    <tr style=\"text-align: right;\">\n",
              "      <th></th>\n",
              "      <th></th>\n",
              "      <th>LATITUDE_1</th>\n",
              "      <th>LONGITUDE_1</th>\n",
              "      <th>LATITUDE_1</th>\n",
              "      <th>LONGITUDE_2</th>\n",
              "    </tr>\n",
              "    <tr>\n",
              "      <th>origin</th>\n",
              "      <th>dest</th>\n",
              "      <th></th>\n",
              "      <th></th>\n",
              "      <th></th>\n",
              "      <th></th>\n",
              "    </tr>\n",
              "  </thead>\n",
              "  <tbody>\n",
              "    <tr>\n",
              "      <th rowspan=\"5\" valign=\"top\">8F3</th>\n",
              "      <th>8F3</th>\n",
              "      <td>33.623889</td>\n",
              "      <td>-101.240833</td>\n",
              "      <td>33.623889</td>\n",
              "      <td>-101.240833</td>\n",
              "    </tr>\n",
              "    <tr>\n",
              "      <th>A03</th>\n",
              "      <td>33.623889</td>\n",
              "      <td>-101.240833</td>\n",
              "      <td>58.457500</td>\n",
              "      <td>-154.023333</td>\n",
              "    </tr>\n",
              "    <tr>\n",
              "      <th>A09</th>\n",
              "      <td>33.623889</td>\n",
              "      <td>-101.240833</td>\n",
              "      <td>60.482222</td>\n",
              "      <td>-146.582222</td>\n",
              "    </tr>\n",
              "    <tr>\n",
              "      <th>A18</th>\n",
              "      <td>33.623889</td>\n",
              "      <td>-101.240833</td>\n",
              "      <td>63.541667</td>\n",
              "      <td>-150.993889</td>\n",
              "    </tr>\n",
              "    <tr>\n",
              "      <th>A23</th>\n",
              "      <td>33.623889</td>\n",
              "      <td>-101.240833</td>\n",
              "      <td>59.776111</td>\n",
              "      <td>-151.963611</td>\n",
              "    </tr>\n",
              "  </tbody>\n",
              "</table>\n",
              "</div>"
            ],
            "text/plain": [
              "             LATITUDE_1  LONGITUDE_1  LATITUDE_1  LONGITUDE_2\n",
              "origin dest                                                  \n",
              "8F3    8F3    33.623889  -101.240833   33.623889  -101.240833\n",
              "       A03    33.623889  -101.240833   58.457500  -154.023333\n",
              "       A09    33.623889  -101.240833   60.482222  -146.582222\n",
              "       A18    33.623889  -101.240833   63.541667  -150.993889\n",
              "       A23    33.623889  -101.240833   59.776111  -151.963611"
            ]
          },
          "metadata": {
            "tags": []
          },
          "execution_count": 37
        }
      ]
    },
    {
      "metadata": {
        "id": "47qRZfd-rFsL",
        "colab_type": "text"
      },
      "cell_type": "markdown",
      "source": [
        "It's also readable (it's Python after all), though a bit slower.\n",
        "To me the `.reindex` method seems more natural.\n",
        "My thought process was, \"I need all the combinations of origin & destination (`MultiIndex.from_product`).\n",
        "Now I need to align this original DataFrame to this new MultiIndex (`coords.reindex`).\"\n",
        "\n",
        "With that diversion out of the way, let's turn back to our great-circle distance calculation.\n",
        "Our first implementation is pure python.\n",
        "The algorithm itself isn't too important, all that matters is that we're doing math operations on scalars."
      ]
    },
    {
      "metadata": {
        "id": "yhK22S3frFsM",
        "colab_type": "code",
        "colab": {}
      },
      "cell_type": "code",
      "source": [
        "import math\n",
        "\n",
        "def gcd_py(lat1, lng1, lat2, lng2):\n",
        "    '''\n",
        "    Calculate great circle distance between two points.\n",
        "    http://www.johndcook.com/blog/python_longitude_latitude/\n",
        "    \n",
        "    Parameters\n",
        "    ----------\n",
        "    lat1, lng1, lat2, lng2: float\n",
        "    \n",
        "    Returns\n",
        "    -------\n",
        "    distance:\n",
        "      distance from ``(lat1, lng1)`` to ``(lat2, lng2)`` in kilometers.\n",
        "    '''\n",
        "    # python2 users will have to use ascii identifiers (or upgrade)\n",
        "    degrees_to_radians = math.pi / 180.0\n",
        "    ϕ1 = (90 - lat1) * degrees_to_radians\n",
        "    ϕ2 = (90 - lat2) * degrees_to_radians\n",
        "    \n",
        "    θ1 = lng1 * degrees_to_radians\n",
        "    θ2 = lng2 * degrees_to_radians\n",
        "    \n",
        "    cos = (math.sin(ϕ1) * math.sin(ϕ2) * math.cos(θ1 - θ2) +\n",
        "           math.cos(ϕ1) * math.cos(ϕ2))\n",
        "    # round to avoid precision issues on identical points causing ValueErrors\n",
        "    cos = round(cos, 8)\n",
        "    arc = math.acos(cos)\n",
        "    return arc * 6373  # radius of earth, in kilometers"
      ],
      "execution_count": 0,
      "outputs": []
    },
    {
      "metadata": {
        "id": "WIGblV_mrFsO",
        "colab_type": "text"
      },
      "cell_type": "markdown",
      "source": [
        "The second implementation uses NumPy.\n",
        "Aside from numpy having a builtin `deg2rad` convenience function (which is probably a bit slower than multiplying by a constant $\\frac{\\pi}{180}$), basically all we've done is swap the `math` prefix for `np`.\n",
        "Thanks to NumPy's broadcasting, we can write code that works on scalars or arrays of conformable shape."
      ]
    },
    {
      "metadata": {
        "id": "NvloGbHKrFsP",
        "colab_type": "code",
        "colab": {}
      },
      "cell_type": "code",
      "source": [
        "def gcd_vec(lat1, lng1, lat2, lng2):\n",
        "    '''\n",
        "    Calculate great circle distance.\n",
        "    http://www.johndcook.com/blog/python_longitude_latitude/\n",
        "    \n",
        "    Parameters\n",
        "    ----------\n",
        "    lat1, lng1, lat2, lng2: float or array of float\n",
        "    \n",
        "    Returns\n",
        "    -------\n",
        "    distance:\n",
        "      distance from ``(lat1, lng1)`` to ``(lat2, lng2)`` in kilometers.\n",
        "    '''\n",
        "    # python2 users will have to use ascii identifiers\n",
        "    ϕ1 = np.deg2rad(90 - lat1)\n",
        "    ϕ2 = np.deg2rad(90 - lat2)\n",
        "    \n",
        "    θ1 = np.deg2rad(lng1)\n",
        "    θ2 = np.deg2rad(lng2)\n",
        "    \n",
        "    cos = (np.sin(ϕ1) * np.sin(ϕ2) * np.cos(θ1 - θ2) +\n",
        "           np.cos(ϕ1) * np.cos(ϕ2))\n",
        "    arc = np.arccos(cos)\n",
        "    return arc * 6373"
      ],
      "execution_count": 0,
      "outputs": []
    },
    {
      "metadata": {
        "id": "ZTC2vfiurFsU",
        "colab_type": "text"
      },
      "cell_type": "markdown",
      "source": [
        "To use the python version on our DataFrame, we can either iterate..."
      ]
    },
    {
      "metadata": {
        "id": "sWBzQKQbrFsU",
        "colab_type": "code",
        "colab": {
          "base_uri": "https://localhost:8080/",
          "height": 272
        },
        "outputId": "6289299b-2e95-4087-be3b-6905364e475e"
      },
      "cell_type": "code",
      "source": [
        "%%time\n",
        "pd.Series([gcd_py(*x) for x in pairs.itertuples(index=False)],\n",
        "          index=pairs.index)"
      ],
      "execution_count": 44,
      "outputs": [
        {
          "output_type": "stream",
          "text": [
            "CPU times: user 728 ms, sys: 17 ms, total: 744 ms\n",
            "Wall time: 746 ms\n"
          ],
          "name": "stdout"
        },
        {
          "output_type": "execute_result",
          "data": {
            "text/plain": [
              "origin  dest\n",
              "8F3     8F3         0.000000\n",
              "        A03      4744.967448\n",
              "        A09      4407.533212\n",
              "        A18      4744.593127\n",
              "        A23      4665.169241\n",
              "                    ...     \n",
              "ZXW     ZBO     11429.606506\n",
              "        ZKB     15592.901309\n",
              "        ZOF      1482.836732\n",
              "        ZXJ      1925.243472\n",
              "        ZXW         0.000000\n",
              "Length: 250000, dtype: float64"
            ]
          },
          "metadata": {
            "tags": []
          },
          "execution_count": 44
        }
      ]
    },
    {
      "metadata": {
        "id": "i60ooFGJrFsY",
        "colab_type": "text"
      },
      "cell_type": "markdown",
      "source": [
        "Or use `DataFrame.apply`."
      ]
    },
    {
      "metadata": {
        "id": "ja5_x2qmrFsZ",
        "colab_type": "code",
        "colab": {
          "base_uri": "https://localhost:8080/",
          "height": 51
        },
        "outputId": "5da77ca3-d4a9-4b17-eadb-7db8b59c4a38"
      },
      "cell_type": "code",
      "source": [
        "%%time\n",
        "r = pairs.apply(lambda x: gcd_py(x['LATITUDE_1'], x['LONGITUDE_1'],\n",
        "                                 x['LATITUDE_2'], x['LONGITUDE_2']), axis=1);"
      ],
      "execution_count": 42,
      "outputs": [
        {
          "output_type": "stream",
          "text": [
            "CPU times: user 16.1 s, sys: 16.6 ms, total: 16.1 s\n",
            "Wall time: 16.1 s\n"
          ],
          "name": "stdout"
        }
      ]
    },
    {
      "metadata": {
        "id": "g4PDLoEqrFsb",
        "colab_type": "text"
      },
      "cell_type": "markdown",
      "source": [
        "But as you can see, you don't want to use apply, especially with `axis=1` (calling the function on each row).  It's doing a lot more work handling dtypes in the background, and trying to infer the correct output shape that are pure overhead in this case. On top of that, it has to essentially use a for loop internally.\n",
        "\n",
        "You *rarely* want to use `DataFrame.apply` and almost never should use it with `axis=1`. Better to write functions that take arrays, and pass those in directly. Like we did with the vectorized version"
      ]
    },
    {
      "metadata": {
        "id": "0zSIxR-qrFsd",
        "colab_type": "code",
        "colab": {
          "base_uri": "https://localhost:8080/",
          "height": 68
        },
        "outputId": "7b6fbd6b-f197-4e96-a095-ab6b89a8484f"
      },
      "cell_type": "code",
      "source": [
        "%%time\n",
        "r = gcd_vec(pairs['LATITUDE_1'], pairs['LONGITUDE_1'],\n",
        "            pairs['LATITUDE_2'], pairs['LONGITUDE_2'])"
      ],
      "execution_count": 43,
      "outputs": [
        {
          "output_type": "stream",
          "text": [
            "CPU times: user 54.2 ms, sys: 5.96 ms, total: 60.2 ms\n",
            "Wall time: 63.8 ms\n"
          ],
          "name": "stdout"
        },
        {
          "output_type": "stream",
          "text": [
            "/usr/local/lib/python3.6/dist-packages/ipykernel_launcher.py:24: RuntimeWarning: invalid value encountered in arccos\n"
          ],
          "name": "stderr"
        }
      ]
    },
    {
      "metadata": {
        "id": "VmIULl3NrFsf",
        "colab_type": "code",
        "colab": {
          "base_uri": "https://localhost:8080/",
          "height": 136
        },
        "outputId": "9619c389-bbef-4d2f-f5be-08da71333d6c"
      },
      "cell_type": "code",
      "source": [
        "r.head()"
      ],
      "execution_count": 45,
      "outputs": [
        {
          "output_type": "execute_result",
          "data": {
            "text/plain": [
              "origin  dest\n",
              "8F3     8F3        0.000000\n",
              "        A03     4744.967484\n",
              "        A09     4407.533240\n",
              "        A18     4744.593111\n",
              "        A23     4665.169198\n",
              "dtype: float64"
            ]
          },
          "metadata": {
            "tags": []
          },
          "execution_count": 45
        }
      ]
    },
    {
      "metadata": {
        "id": "kwAOPKuPrFsh",
        "colab_type": "text"
      },
      "cell_type": "markdown",
      "source": [
        "I try not to use the word \"easy\" when teaching, but that optimization was easy right?\n",
        "Why then, do I come across uses of `apply`, in my code and others', even when the vectorized version is available?\n",
        "The difficulty lies in knowing about broadcasting, and seeing where to apply it.\n",
        "\n",
        "For example, the README for [lifetimes](https://github.com/CamDavidsonPilon/lifetimes) (by Cam Davidson Pilon, also author of [Bayesian Methods for Hackers](https://github.com/CamDavidsonPilon/Probabilistic-Programming-and-Bayesian-Methods-for-Hackers), [lifelines](https://github.com/CamDavidsonPilon/lifelines), and [Data Origami](https://dataorigami.net)) used to have an example of passing [this method](https://github.com/CamDavidsonPilon/lifetimes/blob/5b4f7de0720413b6951ac0a4b0082bd50255a231/lifetimes/estimation.py#L249) into a `DataFrame.apply`.\n",
        "\n",
        "```python\n",
        "data.apply(lambda r: bgf.conditional_expected_number_of_purchases_up_to_time(\n",
        "    t, r['frequency'], r['recency'], r['T']), axis=1\n",
        ")\n",
        "```\n",
        "\n",
        "If you look at the function [I linked to](https://github.com/CamDavidsonPilon/lifetimes/blob/5b4f7de0720413b6951ac0a4b0082bd50255a231/lifetimes/estimation.py#L249), it's doing a fairly complicated computation involving a negative log likelihood and the Gamma function from `scipy.special`.\n",
        "But crucially, it was already vectorized.\n",
        "We were able to change the example to just pass the arrays (Series in this case) into the function, rather than applying the function to each row.\n",
        "\n",
        "```python\n",
        "bgf.conditional_expected_number_of_purchases_up_to_time(\n",
        "    t, data['frequency'], data['recency'], data['T']\n",
        ")\n",
        "```\n",
        "\n",
        "This got us another 30x speedup on the example dataset.\n",
        "I bring this up because it's very natural to have to translate an equation to code and think, \"Ok now I need to apply this function to each row\", so you reach for `DataFrame.apply`.\n",
        "See if you can just pass in the NumPy array or Series itself instead.\n",
        "\n",
        "Not all operations this easy to vectorize.\n",
        "Some operations are iterative by nature, and rely on the results of surrounding computations to proceed. In cases like this you can hope that one of the scientific python libraries has implemented it efficiently for you, or write your own solution using Numba / C / Cython / Fortran.\n",
        "\n",
        "Other examples take a bit more thought or knowledge to vectorize.\n",
        "Let's look at [this](http://nbviewer.jupyter.org/github/jreback/pydata2015-london/blob/master/notebooks/idioms.ipynb)\n",
        "example, taken from Jeff Reback's PyData London talk, that groupwise normalizes a dataset by subtracting the mean and dividing by the standard deviation for each group."
      ]
    },
    {
      "metadata": {
        "id": "XOHnc039rFsh",
        "colab_type": "code",
        "colab": {}
      },
      "cell_type": "code",
      "source": [
        "import random\n",
        "\n",
        "def create_frame(n, n_groups):\n",
        "    # just setup code, not benchmarking this\n",
        "    stamps = pd.date_range('20010101', periods=n, freq='ms')\n",
        "    random.shuffle(stamps.values)    \n",
        "    return pd.DataFrame({'name': np.random.randint(0,n_groups,size=n),\n",
        "                         'stamp': stamps,\n",
        "                         'value': np.random.randint(0,n,size=n),\n",
        "                         'value2': np.random.randn(n)})\n",
        "\n",
        "\n",
        "df = create_frame(1000000,10000)\n",
        "\n",
        "def f_apply(df):\n",
        "    # Typical transform\n",
        "    return df.groupby('name').value2.apply(lambda x: (x-x.mean())/x.std())\n",
        "\n",
        "def f_unwrap(df):\n",
        "    # \"unwrapped\"\n",
        "    g = df.groupby('name').value2\n",
        "    v = df.value2\n",
        "    return (v-g.transform(np.mean))/g.transform(np.std)\n"
      ],
      "execution_count": 0,
      "outputs": []
    },
    {
      "metadata": {
        "id": "ot4FnZTNwL3T",
        "colab_type": "code",
        "colab": {
          "base_uri": "https://localhost:8080/",
          "height": 221
        },
        "outputId": "58133919-bdf7-4db8-8287-1e31fa6bb470"
      },
      "cell_type": "code",
      "source": [
        "\n",
        "df = create_frame(1000000,10000)\n",
        "\n",
        "def f_apply(df):\n",
        "    # Typical transform\n",
        "    return df.groupby('name').value2.apply(lambda x: (x-x.mean())/x.std())"
      ],
      "execution_count": 51,
      "outputs": [
        {
          "output_type": "execute_result",
          "data": {
            "text/plain": [
              "0         0.924703\n",
              "1         1.202882\n",
              "2        -0.271490\n",
              "3         1.138441\n",
              "4        -0.493690\n",
              "            ...   \n",
              "999995    0.642324\n",
              "999996    1.190994\n",
              "999997   -1.201001\n",
              "999998   -0.938133\n",
              "999999    0.955006\n",
              "Name: value2, Length: 1000000, dtype: float64"
            ]
          },
          "metadata": {
            "tags": []
          },
          "execution_count": 51
        }
      ]
    },
    {
      "metadata": {
        "id": "ADb5-8AjrFsk",
        "colab_type": "text"
      },
      "cell_type": "markdown",
      "source": [
        "Timing it we see that the \"unwrapped\" version, get's quite a bit better performance."
      ]
    },
    {
      "metadata": {
        "id": "l1zfzxysrFsk",
        "colab_type": "code",
        "colab": {
          "base_uri": "https://localhost:8080/",
          "height": 34
        },
        "outputId": "3f5417fd-c9d9-4f0e-ab42-ace6611697d4"
      },
      "cell_type": "code",
      "source": [
        "%timeit f_apply(df)"
      ],
      "execution_count": 52,
      "outputs": [
        {
          "output_type": "stream",
          "text": [
            "1 loop, best of 3: 4.68 s per loop\n"
          ],
          "name": "stdout"
        }
      ]
    },
    {
      "metadata": {
        "id": "RnYq8NjCrFso",
        "colab_type": "code",
        "colab": {
          "base_uri": "https://localhost:8080/",
          "height": 34
        },
        "outputId": "1a27fe73-f0b2-466e-f530-ade70293b1b2"
      },
      "cell_type": "code",
      "source": [
        "%timeit f_unwrap(df)"
      ],
      "execution_count": 53,
      "outputs": [
        {
          "output_type": "stream",
          "text": [
            "10 loops, best of 3: 68.2 ms per loop\n"
          ],
          "name": "stdout"
        }
      ]
    },
    {
      "metadata": {
        "id": "hYPQt1FxrFsp",
        "colab_type": "text"
      },
      "cell_type": "markdown",
      "source": [
        "Pandas GroupBy objects intercept calls for common functions like mean, sum, etc. and substitutes them with optimized Cython versions.\n",
        "So the unwrapped `.transform(np.mean)` and `.transform(np.std)` are fast, while the `x.mean` and `x.std` in the `.apply(lambda x: x - x.mean()/x.std())` aren't.\n",
        "\n",
        "`Groupby.apply` is always going to be around, beacuse it offers maximum flexibility. If you need to [fit a model on each group and create additional columns in the process](http://stackoverflow.com/q/35924126/1889400), it can handle that. It just might not be the fastest (which may be OK sometimes).\n",
        "\n",
        "This last example is admittedly niche.\n",
        "I'd like to think that there aren't too many places in pandas where the natural thing to do `.transform((x - x.mean()) / x.std())` is slower than the less obvious alternative.\n",
        "Ideally the user wouldn't have to know about GroupBy having special fast implementations of common methods.\n",
        "But that's where we are now."
      ]
    },
    {
      "metadata": {
        "id": "6lPBjbDKrFsq",
        "colab_type": "text"
      },
      "cell_type": "markdown",
      "source": [
        "## Categoricals"
      ]
    },
    {
      "metadata": {
        "id": "_Vjh5m2arFsq",
        "colab_type": "text"
      },
      "cell_type": "markdown",
      "source": [
        "\n",
        "Thanks to some great work by [Jan Schulz](https://twitter.com/janschulz), [Jeff Reback](https://twitter.com/janschulz), and others, pandas 0.15 gained a new [Categorical](http://pandas.pydata.org/pandas-docs/version/0.18.0/categorical.html) data type. Categoricals are nice for many reasons beyond just efficiency, but we'll focus on that here.\n",
        "\n",
        "Categoricals are an efficient way of representing data (typically strings) that have a low *cardinality*, i.e. relatively few distinct values relative to the size of the array. Internally, a Categorical stores the categories once, and an array of `codes`, which are just integers that indicate which category belongs there. Since it's cheaper to store a `code` than a `category`, we save on memory (shown next).\n",
        "\n"
      ]
    },
    {
      "metadata": {
        "id": "vMNl2zjTrFss",
        "colab_type": "code",
        "colab": {
          "base_uri": "https://localhost:8080/",
          "height": 34
        },
        "outputId": "68c3463a-664c-4eed-93f8-f0dcd1eebfbc"
      },
      "cell_type": "code",
      "source": [
        "import string\n",
        "\n",
        "s = pd.Series(np.random.choice(list(string.ascii_letters), 100000))\n",
        "print('{:0.2f} KB'.format(s.memory_usage(index=False) / 1000))"
      ],
      "execution_count": 54,
      "outputs": [
        {
          "output_type": "stream",
          "text": [
            "800.00 KB\n"
          ],
          "name": "stdout"
        }
      ]
    },
    {
      "metadata": {
        "id": "k4F3_ssIrFst",
        "colab_type": "code",
        "colab": {
          "base_uri": "https://localhost:8080/",
          "height": 34
        },
        "outputId": "813d2c7d-ddb3-4b2d-89f4-725673246cc5"
      },
      "cell_type": "code",
      "source": [
        "c = s.astype('category')\n",
        "print('{:0.2f} KB'.format(c.memory_usage(index=False) / 1000))"
      ],
      "execution_count": 55,
      "outputs": [
        {
          "output_type": "stream",
          "text": [
            "102.98 KB\n"
          ],
          "name": "stdout"
        }
      ]
    },
    {
      "metadata": {
        "id": "sWHWLbKSrFsv",
        "colab_type": "text"
      },
      "cell_type": "markdown",
      "source": [
        "Beyond saving memory, having codes and a fixed set of categories offers up a bunch of algorithmic optimizations that pandas and others can take advantage of.\n",
        "\n",
        "[Matthew Rocklin](https://twitter.com/mrocklin) has a very nice [post](http://matthewrocklin.com/blog/work/2015/06/18/Categoricals) on using categoricals, and optimizing code in general."
      ]
    },
    {
      "metadata": {
        "id": "kdCfvrxTrFsv",
        "colab_type": "text"
      },
      "cell_type": "markdown",
      "source": [
        "## Going Further\n",
        "\n",
        "The pandas documentation has a section on [enhancing performance](http://pandas.pydata.org/pandas-docs/version/0.18.0/enhancingperf.html), focusing on using Cython or `numba` to speed up a computation. I've focused more on the lower-hanging fruit of picking the right algorithm, vectorizing your code, and using pandas or numpy more effetively. There are further optimizations availble if these aren't enough."
      ]
    },
    {
      "metadata": {
        "id": "0uRl0yEJrFsw",
        "colab_type": "text"
      },
      "cell_type": "markdown",
      "source": [
        "## Summary\n",
        "\n",
        "This post was more about how to make effective use of numpy and pandas, than writing your own highly-optimized code.\n",
        "In my day-to-day work of data analysis it's not worth the time to write and compile a cython extension.\n",
        "I'd rather rely on pandas to be fast at what matters (label lookup on large arrays, factorizations for groupbys and merges, numerics).\n",
        "If you want to learn more about what pandas does to make things fast, checkout Jeff Tratner' talk from PyData Seattle [talk](http://www.jeffreytratner.com/slides/pandas-under-the-hood-pydata-seattle-2015.pdf) on pandas' internals.\n",
        "\n",
        "Next time we'll look at a differnt kind of optimization: using the Tidy Data principles to facilitate efficient data analysis.\n"
      ]
    }
  ]
}