{
  "nbformat": 4,
  "nbformat_minor": 0,
  "metadata": {
    "colab": {
      "name": "modern_3_indexes.ipynb",
      "version": "0.3.2",
      "provenance": []
    },
    "kernelspec": {
      "display_name": "Python 3",
      "language": "python",
      "name": "python3"
    }
  },
  "cells": [
    {
      "metadata": {
        "id": "Y1VoddbWnNXf",
        "colab_type": "text"
      },
      "cell_type": "markdown",
      "source": [
        "# Indexes\n",
        "\n",
        "Today we're going to be talking about pandas' [`Index`es](http://pandas.pydata.org/pandas-docs/version/0.18.0/api.html#index).\n",
        "They're essential to pandas, but can be a difficult concept to grasp at first.\n",
        "I suspect this is partly because they're unlike what you'll find in SQL or R.\n",
        "\n",
        "`Index`es offer\n",
        "\n",
        "- a metadata container\n",
        "- easy label-based row selection and assignment\n",
        "- easy label-based alignment in operations\n",
        "\n",
        "One of my first tasks when analyzing a new dataset is to identify a unique identifier for each observation, and set that as the index. It could be a simple integer, or like in our first chapter, it could be several columns (`carrier`, `origin` `dest`, `tail_num` `date`).\n",
        "\n",
        "To demonstrate the benefits of proper `Index` use, we'll first fetch some weather data from sensors at a bunch of airports across the US.\n",
        "See [here](https://github.com/akrherz/iem/blob/master/scripts/asos/iem_scraper_example.py) for the example scraper I based this off of.\n",
        "Those uninterested in the details of fetching and prepping the data and [skip past it](#set-operations).\n",
        "\n",
        "At a high level, here's how we'll fetch the data: the sensors are broken up by \"network\" (states).\n",
        "We'll make one API call per state to get the list of airport IDs per network (using `get_ids` below).\n",
        "Once we have the IDs, we'll again make one call per state getting the actual observations (in `get_weather`).\n",
        "Feel free to skim the code below, I'll highlight the interesting bits.\n"
      ]
    },
    {
      "metadata": {
        "id": "YVqrYZOOnU7Z",
        "colab_type": "code",
        "colab": {
          "base_uri": "https://localhost:8080/",
          "height": 272
        },
        "outputId": "9dea590a-0f3d-4327-b922-76de9ce43246"
      },
      "cell_type": "code",
      "source": [
        "import os\n",
        "if not os.getcwd().endswith('effective-pandas'):\n",
        "  if 'effective-pandas' not in os.listdir():\n",
        "      !git clone https://github.com/TomAugspurger/effective-pandas\n",
        "  os.chdir('effective-pandas')\n",
        "!pip install --upgrade tables"
      ],
      "execution_count": 1,
      "outputs": [
        {
          "output_type": "stream",
          "text": [
            "Cloning into 'effective-pandas'...\n",
            "remote: Counting objects: 156, done.\u001b[K\n",
            "remote: Total 156 (delta 0), reused 0 (delta 0), pack-reused 156\u001b[K\n",
            "Receiving objects: 100% (156/156), 12.96 MiB | 34.83 MiB/s, done.\n",
            "Resolving deltas: 100% (80/80), done.\n",
            "Collecting tables\n",
            "\u001b[?25l  Downloading https://files.pythonhosted.org/packages/d7/1b/21f4c7f296b718575c17ef25e61c05742a283c45077b4c8d5a190b3e0b59/tables-3.4.4-cp36-cp36m-manylinux1_x86_64.whl (3.8MB)\n",
            "\u001b[K    100% |████████████████████████████████| 3.8MB 909kB/s \n",
            "\u001b[?25hRequirement already satisfied, skipping upgrade: numpy>=1.8.0 in /usr/local/lib/python3.6/dist-packages (from tables) (1.14.5)\n",
            "Collecting numexpr>=2.5.2 (from tables)\n",
            "\u001b[?25l  Downloading https://files.pythonhosted.org/packages/db/ea/efd9e16283637eb5b6c0042b6cc3521f1b9a5b47767ac463c88bbd37670c/numexpr-2.6.8-cp36-cp36m-manylinux1_x86_64.whl (162kB)\n",
            "\u001b[K    100% |████████████████████████████████| 163kB 9.8MB/s \n",
            "\u001b[?25hRequirement already satisfied, skipping upgrade: six>=1.9.0 in /usr/local/lib/python3.6/dist-packages (from tables) (1.11.0)\n",
            "Installing collected packages: numexpr, tables\n",
            "Successfully installed numexpr-2.6.8 tables-3.4.4\n"
          ],
          "name": "stdout"
        }
      ]
    },
    {
      "metadata": {
        "id": "vJcrXmxpnNXi",
        "colab_type": "code",
        "colab": {}
      },
      "cell_type": "code",
      "source": [
        "%matplotlib inline\n",
        "\n",
        "import os\n",
        "import json\n",
        "import glob\n",
        "import datetime\n",
        "from io import StringIO\n",
        "\n",
        "import requests\n",
        "import numpy as np\n",
        "import pandas as pd\n",
        "import seaborn as sns\n",
        "import matplotlib.pyplot as plt\n",
        "\n",
        "import prep\n",
        "\n",
        "sns.set_style('ticks')\n",
        "pd.options.display.max_rows = 10\n",
        "# States are broken into networks. The networks have a list of ids, each representing a station.\n",
        "# We will take that list of ids and pass them as query parameters to the URL we built up ealier.\n",
        "states = \"\"\"AK AL AR AZ CA CO CT DE FL GA HI IA ID IL IN KS KY LA MA MD ME\n",
        " MI MN MO MS MT NC ND NE NH NJ NM NV NY OH OK OR PA RI SC SD TN TX UT VA VT\n",
        " WA WI WV WY\"\"\".split()\n",
        "\n",
        "# IEM has Iowa AWOS sites in its own labeled network\n",
        "networks = ['AWOS'] + ['{}_ASOS'.format(state) for state in states]"
      ],
      "execution_count": 0,
      "outputs": []
    },
    {
      "metadata": {
        "id": "gqTV47QjnNXm",
        "colab_type": "code",
        "colab": {}
      },
      "cell_type": "code",
      "source": [
        "def get_weather(stations, start=pd.Timestamp('2017-01-01'),\n",
        "                end=pd.Timestamp('2017-01-31')):\n",
        "    '''\n",
        "    Fetch weather data from MESONet between ``start`` and ``stop``.\n",
        "    '''\n",
        "    url = (\"http://mesonet.agron.iastate.edu/cgi-bin/request/asos.py?\"\n",
        "           \"&data=tmpf&data=relh&data=sped&data=mslp&data=p01i&data=v\"\n",
        "           \"sby&data=gust_mph&data=skyc1&data=skyc2&data=skyc3\"\n",
        "           \"&tz=Etc/UTC&format=comma&latlon=no\"\n",
        "           \"&{start:year1=%Y&month1=%m&day1=%d}\"\n",
        "           \"&{end:year2=%Y&month2=%m&day2=%d}&{stations}\")\n",
        "    \n",
        "    stations = \"&\".join(\"station=%s\" % s for s in stations)\n",
        "    print(url.format(start=start, end=end, stations=stations))\n",
        "    weather = (pd.read_csv(url.format(start=start, end=end, stations=stations),\n",
        "                           comment=\"#\")\n",
        "                 .rename(columns={\"valid\": \"date\"})\n",
        "                 .rename(columns=str.strip)\n",
        "                 .assign(date=lambda df: pd.to_datetime(df['date']))\n",
        "                 .set_index([\"station\", \"date\"])\n",
        "                 .sort_index())\n",
        "    float_cols = ['tmpf', 'relh', 'sped', 'mslp', 'p01i', 'vsby', \"gust_mph\"]\n",
        "    weather[float_cols] = weather[float_cols].apply(pd.to_numeric, errors=\"corce\")\n",
        "    return weather"
      ],
      "execution_count": 0,
      "outputs": []
    },
    {
      "metadata": {
        "id": "N5FHF9u6nNXo",
        "colab_type": "code",
        "colab": {}
      },
      "cell_type": "code",
      "source": [
        "def get_ids(network):\n",
        "    url = \"http://mesonet.agron.iastate.edu/geojson/network.php?network={}\"\n",
        "    r = requests.get(url.format(network))\n",
        "    md = pd.io.json.json_normalize(r.json()['features'])\n",
        "    md['network'] = network\n",
        "    return md"
      ],
      "execution_count": 0,
      "outputs": []
    },
    {
      "metadata": {
        "id": "WmXH4V2JnNXr",
        "colab_type": "text"
      },
      "cell_type": "markdown",
      "source": [
        "There isn't too much in `get_weather` worth mentioning, just grabbing some CSV files from various URLs.\n",
        "They put metadata in the \"CSV\"s at the top of the file as lines prefixed by a `#`.\n",
        "Pandas will ignore these with the `comment='#'` parameter.\n",
        "\n",
        "I do want to talk briefly about the gem of a method that is [`json_normalize`](http://pandas.pydata.org/pandas-docs/version/0.18.0/generated/pandas.io.json.json_normalize.html)  .\n",
        "The weather API returns some slightly-nested data."
      ]
    },
    {
      "metadata": {
        "id": "9fZh6N8RnNXs",
        "colab_type": "code",
        "colab": {
          "base_uri": "https://localhost:8080/",
          "height": 527
        },
        "outputId": "b749732b-d9cd-4fe1-d43b-e725510a77d1"
      },
      "cell_type": "code",
      "source": [
        "url = \"http://mesonet.agron.iastate.edu/geojson/network.php?network={}\"\n",
        "r = requests.get(url.format(\"AWOS\"))\n",
        "js = r.json()\n",
        "\n",
        "js['features'][:2]"
      ],
      "execution_count": 5,
      "outputs": [
        {
          "output_type": "execute_result",
          "data": {
            "text/plain": [
              "[{'geometry': {'coordinates': [-94.2724, 43.0796], 'type': 'Point'},\n",
              "  'id': 'AXA',\n",
              "  'properties': {'climate_site': 'IA0133',\n",
              "   'country': 'US',\n",
              "   'county': 'Kossuth',\n",
              "   'elevation': 368.8,\n",
              "   'ncdc81': 'USC00130133',\n",
              "   'sid': 'AXA',\n",
              "   'sname': 'ALGONA',\n",
              "   'state': 'IA',\n",
              "   'tzname': 'America/Chicago',\n",
              "   'ugc_county': 'IAC109',\n",
              "   'ugc_zone': 'IAZ005',\n",
              "   'wfo': 'DMX'},\n",
              "  'type': 'Feature'},\n",
              " {'geometry': {'coordinates': [-93.5695, 41.6878], 'type': 'Point'},\n",
              "  'id': 'IKV',\n",
              "  'properties': {'climate_site': 'IA0241',\n",
              "   'country': 'US',\n",
              "   'county': 'Polk',\n",
              "   'elevation': 270.7,\n",
              "   'ncdc81': 'USC00130241',\n",
              "   'sid': 'IKV',\n",
              "   'sname': 'ANKENY',\n",
              "   'state': 'IA',\n",
              "   'tzname': 'America/Chicago',\n",
              "   'ugc_county': 'IAC153',\n",
              "   'ugc_zone': 'IAZ060',\n",
              "   'wfo': 'DMX'},\n",
              "  'type': 'Feature'}]"
            ]
          },
          "metadata": {
            "tags": []
          },
          "execution_count": 5
        }
      ]
    },
    {
      "metadata": {
        "id": "40QEPk9nnNXy",
        "colab_type": "text"
      },
      "cell_type": "markdown",
      "source": [
        "If we just pass that list off to the `DataFrame` constructor, we get this."
      ]
    },
    {
      "metadata": {
        "id": "smOzxsyxnNXz",
        "colab_type": "code",
        "colab": {
          "base_uri": "https://localhost:8080/",
          "height": 204
        },
        "outputId": "6759fd77-2016-49e9-e4c7-b1660219ccdd"
      },
      "cell_type": "code",
      "source": [
        "pd.DataFrame(js['features']).head()"
      ],
      "execution_count": 6,
      "outputs": [
        {
          "output_type": "execute_result",
          "data": {
            "text/html": [
              "<div>\n",
              "<style scoped>\n",
              "    .dataframe tbody tr th:only-of-type {\n",
              "        vertical-align: middle;\n",
              "    }\n",
              "\n",
              "    .dataframe tbody tr th {\n",
              "        vertical-align: top;\n",
              "    }\n",
              "\n",
              "    .dataframe thead th {\n",
              "        text-align: right;\n",
              "    }\n",
              "</style>\n",
              "<table border=\"1\" class=\"dataframe\">\n",
              "  <thead>\n",
              "    <tr style=\"text-align: right;\">\n",
              "      <th></th>\n",
              "      <th>geometry</th>\n",
              "      <th>id</th>\n",
              "      <th>properties</th>\n",
              "      <th>type</th>\n",
              "    </tr>\n",
              "  </thead>\n",
              "  <tbody>\n",
              "    <tr>\n",
              "      <th>0</th>\n",
              "      <td>{'type': 'Point', 'coordinates': [-94.2724, 43...</td>\n",
              "      <td>AXA</td>\n",
              "      <td>{'elevation': 368.8, 'sname': 'ALGONA', 'state...</td>\n",
              "      <td>Feature</td>\n",
              "    </tr>\n",
              "    <tr>\n",
              "      <th>1</th>\n",
              "      <td>{'type': 'Point', 'coordinates': [-93.5695, 41...</td>\n",
              "      <td>IKV</td>\n",
              "      <td>{'elevation': 270.7, 'sname': 'ANKENY', 'state...</td>\n",
              "      <td>Feature</td>\n",
              "    </tr>\n",
              "    <tr>\n",
              "      <th>2</th>\n",
              "      <td>{'type': 'Point', 'coordinates': [-95.0465, 41...</td>\n",
              "      <td>AIO</td>\n",
              "      <td>{'elevation': 351.7, 'sname': 'ATLANTIC', 'sta...</td>\n",
              "      <td>Feature</td>\n",
              "    </tr>\n",
              "    <tr>\n",
              "      <th>3</th>\n",
              "      <td>{'type': 'Point', 'coordinates': [-94.9204, 41...</td>\n",
              "      <td>ADU</td>\n",
              "      <td>{'elevation': 399.3, 'sname': 'AUDUBON', 'stat...</td>\n",
              "      <td>Feature</td>\n",
              "    </tr>\n",
              "    <tr>\n",
              "      <th>4</th>\n",
              "      <td>{'type': 'Point', 'coordinates': [-93.8486, 42...</td>\n",
              "      <td>BNW</td>\n",
              "      <td>{'elevation': 349.3, 'sname': 'BOONE MUNI', 's...</td>\n",
              "      <td>Feature</td>\n",
              "    </tr>\n",
              "  </tbody>\n",
              "</table>\n",
              "</div>"
            ],
            "text/plain": [
              "                                            geometry   id  \\\n",
              "0  {'type': 'Point', 'coordinates': [-94.2724, 43...  AXA   \n",
              "1  {'type': 'Point', 'coordinates': [-93.5695, 41...  IKV   \n",
              "2  {'type': 'Point', 'coordinates': [-95.0465, 41...  AIO   \n",
              "3  {'type': 'Point', 'coordinates': [-94.9204, 41...  ADU   \n",
              "4  {'type': 'Point', 'coordinates': [-93.8486, 42...  BNW   \n",
              "\n",
              "                                          properties     type  \n",
              "0  {'elevation': 368.8, 'sname': 'ALGONA', 'state...  Feature  \n",
              "1  {'elevation': 270.7, 'sname': 'ANKENY', 'state...  Feature  \n",
              "2  {'elevation': 351.7, 'sname': 'ATLANTIC', 'sta...  Feature  \n",
              "3  {'elevation': 399.3, 'sname': 'AUDUBON', 'stat...  Feature  \n",
              "4  {'elevation': 349.3, 'sname': 'BOONE MUNI', 's...  Feature  "
            ]
          },
          "metadata": {
            "tags": []
          },
          "execution_count": 6
        }
      ]
    },
    {
      "metadata": {
        "id": "F7wLpzINnNX3",
        "colab_type": "text"
      },
      "cell_type": "markdown",
      "source": [
        "In general, DataFrames don't handle nested data that well.\n",
        "It's often better to normalize it somehow.\n",
        "In this case, we can \"lift\"\n",
        "the nested items (`geometry.coordinates`, `properties.sid`, and `properties.sname`)\n",
        "up to the top level."
      ]
    },
    {
      "metadata": {
        "id": "0ED84K0bnNX3",
        "colab_type": "code",
        "colab": {
          "base_uri": "https://localhost:8080/",
          "height": 439
        },
        "outputId": "4101db3c-f1d9-4479-c0cf-7a444da14911"
      },
      "cell_type": "code",
      "source": [
        "pd.io.json.json_normalize(js['features'])"
      ],
      "execution_count": 7,
      "outputs": [
        {
          "output_type": "execute_result",
          "data": {
            "text/html": [
              "<div>\n",
              "<style scoped>\n",
              "    .dataframe tbody tr th:only-of-type {\n",
              "        vertical-align: middle;\n",
              "    }\n",
              "\n",
              "    .dataframe tbody tr th {\n",
              "        vertical-align: top;\n",
              "    }\n",
              "\n",
              "    .dataframe thead th {\n",
              "        text-align: right;\n",
              "    }\n",
              "</style>\n",
              "<table border=\"1\" class=\"dataframe\">\n",
              "  <thead>\n",
              "    <tr style=\"text-align: right;\">\n",
              "      <th></th>\n",
              "      <th>geometry.coordinates</th>\n",
              "      <th>geometry.type</th>\n",
              "      <th>id</th>\n",
              "      <th>properties.climate_site</th>\n",
              "      <th>properties.country</th>\n",
              "      <th>properties.county</th>\n",
              "      <th>properties.elevation</th>\n",
              "      <th>properties.ncdc81</th>\n",
              "      <th>properties.sid</th>\n",
              "      <th>properties.sname</th>\n",
              "      <th>properties.state</th>\n",
              "      <th>properties.tzname</th>\n",
              "      <th>properties.ugc_county</th>\n",
              "      <th>properties.ugc_zone</th>\n",
              "      <th>properties.wfo</th>\n",
              "      <th>type</th>\n",
              "    </tr>\n",
              "  </thead>\n",
              "  <tbody>\n",
              "    <tr>\n",
              "      <th>0</th>\n",
              "      <td>[-94.2724, 43.0796]</td>\n",
              "      <td>Point</td>\n",
              "      <td>AXA</td>\n",
              "      <td>IA0133</td>\n",
              "      <td>US</td>\n",
              "      <td>Kossuth</td>\n",
              "      <td>368.8</td>\n",
              "      <td>USC00130133</td>\n",
              "      <td>AXA</td>\n",
              "      <td>ALGONA</td>\n",
              "      <td>IA</td>\n",
              "      <td>America/Chicago</td>\n",
              "      <td>IAC109</td>\n",
              "      <td>IAZ005</td>\n",
              "      <td>DMX</td>\n",
              "      <td>Feature</td>\n",
              "    </tr>\n",
              "    <tr>\n",
              "      <th>1</th>\n",
              "      <td>[-93.5695, 41.6878]</td>\n",
              "      <td>Point</td>\n",
              "      <td>IKV</td>\n",
              "      <td>IA0241</td>\n",
              "      <td>US</td>\n",
              "      <td>Polk</td>\n",
              "      <td>270.7</td>\n",
              "      <td>USC00130241</td>\n",
              "      <td>IKV</td>\n",
              "      <td>ANKENY</td>\n",
              "      <td>IA</td>\n",
              "      <td>America/Chicago</td>\n",
              "      <td>IAC153</td>\n",
              "      <td>IAZ060</td>\n",
              "      <td>DMX</td>\n",
              "      <td>Feature</td>\n",
              "    </tr>\n",
              "    <tr>\n",
              "      <th>2</th>\n",
              "      <td>[-95.0465, 41.4059]</td>\n",
              "      <td>Point</td>\n",
              "      <td>AIO</td>\n",
              "      <td>IA0364</td>\n",
              "      <td>US</td>\n",
              "      <td>Cass</td>\n",
              "      <td>351.7</td>\n",
              "      <td>USC00130364</td>\n",
              "      <td>AIO</td>\n",
              "      <td>ATLANTIC</td>\n",
              "      <td>IA</td>\n",
              "      <td>America/Chicago</td>\n",
              "      <td>IAC029</td>\n",
              "      <td>IAZ070</td>\n",
              "      <td>DMX</td>\n",
              "      <td>Feature</td>\n",
              "    </tr>\n",
              "    <tr>\n",
              "      <th>3</th>\n",
              "      <td>[-94.9204, 41.6994]</td>\n",
              "      <td>Point</td>\n",
              "      <td>ADU</td>\n",
              "      <td>IA0385</td>\n",
              "      <td>US</td>\n",
              "      <td>Audubon</td>\n",
              "      <td>399.3</td>\n",
              "      <td>USC00130385</td>\n",
              "      <td>ADU</td>\n",
              "      <td>AUDUBON</td>\n",
              "      <td>IA</td>\n",
              "      <td>America/Chicago</td>\n",
              "      <td>IAC009</td>\n",
              "      <td>IAZ057</td>\n",
              "      <td>DMX</td>\n",
              "      <td>Feature</td>\n",
              "    </tr>\n",
              "    <tr>\n",
              "      <th>4</th>\n",
              "      <td>[-93.8486, 42.0486]</td>\n",
              "      <td>Point</td>\n",
              "      <td>BNW</td>\n",
              "      <td>IA0807</td>\n",
              "      <td>US</td>\n",
              "      <td>Boone</td>\n",
              "      <td>349.3</td>\n",
              "      <td>USC00130807</td>\n",
              "      <td>BNW</td>\n",
              "      <td>BOONE MUNI</td>\n",
              "      <td>IA</td>\n",
              "      <td>America/Chicago</td>\n",
              "      <td>IAC015</td>\n",
              "      <td>IAZ047</td>\n",
              "      <td>DMX</td>\n",
              "      <td>Feature</td>\n",
              "    </tr>\n",
              "    <tr>\n",
              "      <th>...</th>\n",
              "      <td>...</td>\n",
              "      <td>...</td>\n",
              "      <td>...</td>\n",
              "      <td>...</td>\n",
              "      <td>...</td>\n",
              "      <td>...</td>\n",
              "      <td>...</td>\n",
              "      <td>...</td>\n",
              "      <td>...</td>\n",
              "      <td>...</td>\n",
              "      <td>...</td>\n",
              "      <td>...</td>\n",
              "      <td>...</td>\n",
              "      <td>...</td>\n",
              "      <td>...</td>\n",
              "      <td>...</td>\n",
              "    </tr>\n",
              "    <tr>\n",
              "      <th>41</th>\n",
              "      <td>[-95.4112, 40.7533]</td>\n",
              "      <td>Point</td>\n",
              "      <td>SDA</td>\n",
              "      <td>IA7613</td>\n",
              "      <td>US</td>\n",
              "      <td>Fremont</td>\n",
              "      <td>296.0</td>\n",
              "      <td>USC00137613</td>\n",
              "      <td>SDA</td>\n",
              "      <td>SHENANDOAH MUNI</td>\n",
              "      <td>IA</td>\n",
              "      <td>America/Chicago</td>\n",
              "      <td>IAC071</td>\n",
              "      <td>IAZ090</td>\n",
              "      <td>OAX</td>\n",
              "      <td>Feature</td>\n",
              "    </tr>\n",
              "    <tr>\n",
              "      <th>42</th>\n",
              "      <td>[-95.2399, 42.5972]</td>\n",
              "      <td>Point</td>\n",
              "      <td>SLB</td>\n",
              "      <td>IA7979</td>\n",
              "      <td>US</td>\n",
              "      <td>Buena Vista</td>\n",
              "      <td>449.9</td>\n",
              "      <td>USC00137979</td>\n",
              "      <td>SLB</td>\n",
              "      <td>Storm Lake</td>\n",
              "      <td>IA</td>\n",
              "      <td>America/Chicago</td>\n",
              "      <td>IAC021</td>\n",
              "      <td>IAZ301</td>\n",
              "      <td>FSD</td>\n",
              "      <td>Feature</td>\n",
              "    </tr>\n",
              "    <tr>\n",
              "      <th>43</th>\n",
              "      <td>[-92.0248, 42.2176]</td>\n",
              "      <td>Point</td>\n",
              "      <td>VTI</td>\n",
              "      <td>IA8568</td>\n",
              "      <td>US</td>\n",
              "      <td>Benton</td>\n",
              "      <td>255.0</td>\n",
              "      <td>USC00138568</td>\n",
              "      <td>VTI</td>\n",
              "      <td>VINTON</td>\n",
              "      <td>IA</td>\n",
              "      <td>America/Chicago</td>\n",
              "      <td>IAC011</td>\n",
              "      <td>IAZ051</td>\n",
              "      <td>DVN</td>\n",
              "      <td>Feature</td>\n",
              "    </tr>\n",
              "    <tr>\n",
              "      <th>44</th>\n",
              "      <td>[-91.6748, 41.2751]</td>\n",
              "      <td>Point</td>\n",
              "      <td>AWG</td>\n",
              "      <td>IA8688</td>\n",
              "      <td>US</td>\n",
              "      <td>Washington</td>\n",
              "      <td>228.9</td>\n",
              "      <td>USC00138688</td>\n",
              "      <td>AWG</td>\n",
              "      <td>WASHINGTON</td>\n",
              "      <td>IA</td>\n",
              "      <td>America/Chicago</td>\n",
              "      <td>IAC183</td>\n",
              "      <td>IAZ077</td>\n",
              "      <td>DVN</td>\n",
              "      <td>Feature</td>\n",
              "    </tr>\n",
              "    <tr>\n",
              "      <th>45</th>\n",
              "      <td>[-93.8691, 42.4392]</td>\n",
              "      <td>Point</td>\n",
              "      <td>EBS</td>\n",
              "      <td>IA8806</td>\n",
              "      <td>US</td>\n",
              "      <td>Hamilton</td>\n",
              "      <td>337.4</td>\n",
              "      <td>USC00138806</td>\n",
              "      <td>EBS</td>\n",
              "      <td>Webster City</td>\n",
              "      <td>IA</td>\n",
              "      <td>America/Chicago</td>\n",
              "      <td>IAC079</td>\n",
              "      <td>IAZ036</td>\n",
              "      <td>DMX</td>\n",
              "      <td>Feature</td>\n",
              "    </tr>\n",
              "  </tbody>\n",
              "</table>\n",
              "<p>46 rows × 16 columns</p>\n",
              "</div>"
            ],
            "text/plain": [
              "   geometry.coordinates geometry.type   id properties.climate_site  \\\n",
              "0   [-94.2724, 43.0796]         Point  AXA                  IA0133   \n",
              "1   [-93.5695, 41.6878]         Point  IKV                  IA0241   \n",
              "2   [-95.0465, 41.4059]         Point  AIO                  IA0364   \n",
              "3   [-94.9204, 41.6994]         Point  ADU                  IA0385   \n",
              "4   [-93.8486, 42.0486]         Point  BNW                  IA0807   \n",
              "..                  ...           ...  ...                     ...   \n",
              "41  [-95.4112, 40.7533]         Point  SDA                  IA7613   \n",
              "42  [-95.2399, 42.5972]         Point  SLB                  IA7979   \n",
              "43  [-92.0248, 42.2176]         Point  VTI                  IA8568   \n",
              "44  [-91.6748, 41.2751]         Point  AWG                  IA8688   \n",
              "45  [-93.8691, 42.4392]         Point  EBS                  IA8806   \n",
              "\n",
              "   properties.country properties.county  properties.elevation  \\\n",
              "0                  US           Kossuth                 368.8   \n",
              "1                  US              Polk                 270.7   \n",
              "2                  US              Cass                 351.7   \n",
              "3                  US           Audubon                 399.3   \n",
              "4                  US             Boone                 349.3   \n",
              "..                ...               ...                   ...   \n",
              "41                 US           Fremont                 296.0   \n",
              "42                 US       Buena Vista                 449.9   \n",
              "43                 US            Benton                 255.0   \n",
              "44                 US        Washington                 228.9   \n",
              "45                 US          Hamilton                 337.4   \n",
              "\n",
              "   properties.ncdc81 properties.sid properties.sname properties.state  \\\n",
              "0        USC00130133            AXA           ALGONA               IA   \n",
              "1        USC00130241            IKV           ANKENY               IA   \n",
              "2        USC00130364            AIO         ATLANTIC               IA   \n",
              "3        USC00130385            ADU          AUDUBON               IA   \n",
              "4        USC00130807            BNW       BOONE MUNI               IA   \n",
              "..               ...            ...              ...              ...   \n",
              "41       USC00137613            SDA  SHENANDOAH MUNI               IA   \n",
              "42       USC00137979            SLB       Storm Lake               IA   \n",
              "43       USC00138568            VTI           VINTON               IA   \n",
              "44       USC00138688            AWG       WASHINGTON               IA   \n",
              "45       USC00138806            EBS     Webster City               IA   \n",
              "\n",
              "   properties.tzname properties.ugc_county properties.ugc_zone properties.wfo  \\\n",
              "0    America/Chicago                IAC109              IAZ005            DMX   \n",
              "1    America/Chicago                IAC153              IAZ060            DMX   \n",
              "2    America/Chicago                IAC029              IAZ070            DMX   \n",
              "3    America/Chicago                IAC009              IAZ057            DMX   \n",
              "4    America/Chicago                IAC015              IAZ047            DMX   \n",
              "..               ...                   ...                 ...            ...   \n",
              "41   America/Chicago                IAC071              IAZ090            OAX   \n",
              "42   America/Chicago                IAC021              IAZ301            FSD   \n",
              "43   America/Chicago                IAC011              IAZ051            DVN   \n",
              "44   America/Chicago                IAC183              IAZ077            DVN   \n",
              "45   America/Chicago                IAC079              IAZ036            DMX   \n",
              "\n",
              "       type  \n",
              "0   Feature  \n",
              "1   Feature  \n",
              "2   Feature  \n",
              "3   Feature  \n",
              "4   Feature  \n",
              "..      ...  \n",
              "41  Feature  \n",
              "42  Feature  \n",
              "43  Feature  \n",
              "44  Feature  \n",
              "45  Feature  \n",
              "\n",
              "[46 rows x 16 columns]"
            ]
          },
          "metadata": {
            "tags": []
          },
          "execution_count": 7
        }
      ]
    },
    {
      "metadata": {
        "id": "7c_MVyALnNX7",
        "colab_type": "text"
      },
      "cell_type": "markdown",
      "source": [
        "Sure, it's not *that* difficult to write a quick for loop or list comprehension to extract those,\n",
        "but that gets tedious.\n",
        "If we were using the latitude and longitude data, we would want to split\n",
        "the `geometry.coordinates` column into two. But we aren't so we won't.\n",
        "\n",
        "Going back to the task, we get the airport IDs for every network (state)\n",
        "with `get_ids`. Then we pass those IDs into `get_weather` to fetch the\n",
        "actual weather data."
      ]
    },
    {
      "metadata": {
        "id": "DFH1JQJmBrw4",
        "colab_type": "code",
        "colab": {}
      },
      "cell_type": "code",
      "source": [
        "\n",
        "  "
      ],
      "execution_count": 0,
      "outputs": []
    },
    {
      "metadata": {
        "id": "4H603hnGnNX7",
        "colab_type": "code",
        "colab": {
          "base_uri": "https://localhost:8080/",
          "height": 309
        },
        "outputId": "00e1a59c-36db-4934-8008-fa40bc81eb9f"
      },
      "cell_type": "code",
      "source": [
        "import os\n",
        "import concurrent.futures\n",
        "\n",
        "def weather_worker(k, v):\n",
        "    weather = get_weather(v['id'])\n",
        "    weather.to_csv(\"data/weather/{}.csv\".format(k))\n",
        "\n",
        "ids = pd.concat([get_ids(network) for network in networks], ignore_index=True)\n",
        "gr = ids.groupby('network')\n",
        "\n",
        "store = 'data/weather.h5'\n",
        "\n",
        "if not os.path.exists(store):\n",
        "    os.makedirs(\"data/weather\", exist_ok=True)\n",
        "    with concurrent.futures.ThreadPoolExecutor(max_workers=10) as e:\n",
        "        fs = [e.submit(weather_worker, k, v) for k, v in gr]\n",
        "        concurrent.futures.wait(fs)\n",
        "            \n",
        "    weather = pd.concat([\n",
        "        pd.read_csv(f, parse_dates=['date'], index_col=['station', 'date'])\n",
        "        for f in glob.glob('data/weather/*.csv')\n",
        "    ]).sort_index()\n",
        "\n",
        "    weather.to_hdf(\"data/weather.h5\", \"weather\")\n",
        "else:\n",
        "    weather = pd.read_hdf(\"data/weather.h5\", \"weather\")"
      ],
      "execution_count": 0,
      "outputs": [
        {
          "output_type": "stream",
          "text": [
            "http://mesonet.agron.iastate.edu/cgi-bin/request/asos.py?&data=tmpf&data=relh&data=sped&data=mslp&data=p01i&data=vsby&data=gust_mph&data=skyc1&data=skyc2&data=skyc3&tz=Etc/UTC&format=comma&latlon=no&year1=2017&month1=01&day1=01&year2=2017&month2=01&day2=31&station=PADK&station=PAKH&station=PAUT&station=PALP&station=PAFM&station=PAKP&station=PANC&station=PAGN&station=PANI&station=PANT&station=PANV&station=PARC&station=PAAK&station=PATQ&station=PABR&station=PABA&station=PABE&station=PABT&station=PALV&station=PABV&station=PFKT&station=PABL&station=PATW&station=PALU&station=PAEH&station=PACZ&station=PACE&station=PARL&station=PALR&station=PAVA&station=PAJC&station=PAEC&station=PFCL&station=PACD&station=PACV&station=PASC&station=PADE&station=PADL&station=PADU&station=PAEG&station=PAII&station=PAEI&station=PAEL&station=PFEL&station=PAED&station=PAEM&station=PAZK&station=PAFA&station=PAKF&station=PAFL&station=PAFK&station=PFYU&station=PABI&station=PAFR&station=PAGB&station=PAGA&station=PAGM&station=PAGL&station=PAGK&station=PAGS&station=PAHN&station=PAHZ&station=PAHV&station=PAHC&station=PAHO&station=PAOH&station=PAHP&station=PAHL&station=PAHS&station=PAHY&station=PAIG&station=PAIL&station=PAIM&station=PAJN&station=PAFE&station=PALG&station=PAKV&station=PAEN&station=PAKT&station=PAIK&station=PAVC&station=PAKN&station=PAKI&station=PAVL&station=PAKW&station=PADQ&station=PAJZ&station=PAOT&station=PAKK&station=PAKU&station=PFKW&station=PALH&station=PAML&station=PAMB&station=PADM&station=PAMX&station=PAMC&station=PAIN&station=PAMY&station=PAMR&station=PAER&station=PAMM&station=PAMD&station=PAMH&station=PAMO&station=PABN&station=PANA&station=PAOU&station=PANN&station=PANW&station=PAEW&station=PAFS&station=PAWN&station=PAOM&station=PFNO&station=PAOR&station=PFNU&station=PAQT&station=PPNU&station=PPIT&station=PAAQ&station=PAXK&station=PAPG&station=PAPN&station=PAPM&station=PAPO&station=PPIZ&station=PAAD&station=PATO&station=PAAP&station=PALJ&station=PAPC&station=PAPH&station=PAPR&station=PAPT&station=PAQH&station=PADG&station=PARD&station=PARY&station=PARS&station=PASM&station=PASN&station=PASD&station=PASA&station=PACM&station=PASK&station=PASO&station=PAWD&station=PAHX&station=PFSH&station=PASP&station=PASY&station=PASH&station=PAGH&station=PASI&station=PAGY&station=PASW&station=PADT&station=PASL&station=PALK&station=PASX&station=PFWS&station=PASV&station=PAPB&station=PAMK&station=PAJV&station=PATK&station=PATA&station=PATL&station=PATE&station=PATC&station=PATG&station=PAOO&station=PAUM&station=PAUN&station=PAVD&station=PAVW&station=PAFB&station=PAWI&station=PAIW&station=PAWS&station=PAWM&station=PAWR&station=PAUO&station=PAWG&station=WRG&station=PAYA\n",
            "http://mesonet.agron.iastate.edu/cgi-bin/request/asos.py?&data=tmpf&data=relh&data=sped&data=mslp&data=p01i&data=vsby&data=gust_mph&data=skyc1&data=skyc2&data=skyc3&tz=Etc/UTC&format=comma&latlon=no&year1=2017&month1=01&day1=01&year2=2017&month2=01&day2=31&station=EET&station=8A0&station=ALX&station=79J&station=ANB&station=AUO&station=AUB&station=EKY&station=BHM&station=OZR&station=9A4&station=CMD&station=3A1&station=DCU&station=DYA&station=DHN&station=EDN&station=EUF&station=GZH&station=4R4&station=CQF&station=0J4&station=NBJ&station=4A9&station=HEY&station=GAD&station=PRN&station=JKA&station=1M4&station=HSV&station=MDQ&station=LOR&station=JFX&station=A08&station=MXF&station=MOB&station=BFM&station=MGM&station=MSL&station=PLR&station=RAM&station=1A9&station=HUA&station=4A6&station=SEM&station=SXS&station=SCD&station=ASN&station=TOI&station=TCLhttp://mesonet.agron.iastate.edu/cgi-bin/request/asos.py?&data=tmpf&data=relh&data=sped&data=mslp&data=p01i&data=vsby&data=gust_mph&data=skyc1&data=skyc2&data=skyc3&tz=Etc/UTC&format=comma&latlon=no&year1=2017&month1=01&day1=01&year2=2017&month2=01&day2=31&station=ADF&station=M89&station=BVX&station=VBT&station=HKA&station=CDH&station=CCA&station=CXW&station=4M9&station=BYH&station=ELD&station=FYV&station=FLP&station=FSM&station=HRO&station=HOT&station=DEQ&station=JBR&station=LIT&station=LRF&station=MEZ&station=LLQ&station=BPK&station=MWT&station=M19&station=LZK&station=XNA&station=PBF&station=ROG&station=RUE&station=SRC&station=SLG&station=ASG&station=SGT&station=TXK&station=ARG&station=AWM\n",
            "http://mesonet.agron.iastate.edu/cgi-bin/request/asos.py?&data=tmpf&data=relh&data=sped&data=mslp&data=p01i&data=vsby&data=gust_mph&data=skyc1&data=skyc2&data=skyc3&tz=Etc/UTC&format=comma&latlon=no&year1=2017&month1=01&day1=01&year2=2017&month2=01&day2=31&station=AXA&station=IKV&station=AIO&station=ADU&station=BNW&station=CIN&station=TVK&station=CNC&station=CCY&station=CKP&station=ICL&station=CAV&station=CWI&station=CBF&station=CSQ&station=DEH&station=DNS&station=FFL&station=FXY&station=FOD&station=FSW&station=GGI&station=HPT&station=HNR&station=IIB&station=IFA&station=EOK&station=OXV&station=LRJ&station=MXO&station=MPZ&station=MUT&station=TNU&station=OLZ&station=ORC&station=I75&station=OOA&station=PEA&station=PRO&station=RDK&station=SHL&station=SDA&station=SLB&station=VTI&station=AWG&station=EBS\n",
            "\n",
            "http://mesonet.agron.iastate.edu/cgi-bin/request/asos.py?&data=tmpf&data=relh&data=sped&data=mslp&data=p01i&data=vsby&data=gust_mph&data=skyc1&data=skyc2&data=skyc3&tz=Etc/UTC&format=comma&latlon=no&year1=2017&month1=01&day1=01&year2=2017&month2=01&day2=31&station=BXK&station=IFP&station=CGZ&station=CHD&station=AZC&station=P08&station=DMA&station=DVT&station=DUG&station=FLG&station=FHU&station=GBN&station=GXF&station=GEU&station=GYR&station=GCN&station=40G&station=IGM&station=HII&station=LUF&station=A39&station=FFZ&station=OLS&station=PGA&station=PAN&station=P48&station=PHX&station=ALK&station=PRC&station=SAD&station=SDL&station=SEZ&station=SOW&station=JTC&station=SJN&station=TUS&station=AVQ&station=RYN&station=NOZ&station=CMR&station=IWA&station=RQE&station=INW&station=YUM&station=NYL\n",
            "http://mesonet.agron.iastate.edu/cgi-bin/request/asos.py?&data=tmpf&data=relh&data=sped&data=mslp&data=p01i&data=vsby&data=gust_mph&data=skyc1&data=skyc2&data=skyc3&tz=Etc/UTC&format=comma&latlon=no&year1=2017&month1=01&day1=01&year2=2017&month2=01&day2=31&station=AAT&station=ACV&station=AUN&station=AVX&station=BFL&station=DAG&station=BAB&station=BUO&station=BYS&station=L35&station=BIH&station=BLU&station=BLH&station=L08&station=BUR&station=C83&station=CXL&station=CMA&station=CZZ&station=NXF&station=NFG&station=CRQ&station=CIC&station=NID&station=CNO&station=O22&station=CCR&station=AJO&station=CEC&station=EDW&station=9L2&station=NJK&station=EMT&station=NZJ&station=EKA&station=L18&station=FOT&station=FAT&station=FCH&station=FUL&station=GOO&station=HAF&station=HJO&station=HHR&station=HWD&station=CVH&station=IPL&station=NRS&station=IYK&station=JAQ&station=WJF&station=POC&station=WHP&station=NLC&station=LHM&station=LVK&station=LPC&station=LGB&station=SLI&station=CQT&station=LAX&station=MAE&station=MMH&station=RIV&station=MYV&station=MHR&station=MCE&station=MER&station=NKX&station=MOD&station=NUQ&station=MHV&station=SIY&station=MRY&station=MHS&station=MWS&station=F70&station=APC&station=EED&station=3A6&station=NZY&station=DVO&station=OAK&station=L52&station=OKB&station=ONT&station=OVE&station=OXR&station=GXA&station=PMD&station=PSP&station=PAO&station=PRB&station=O69&station=PVF&station=PTV&station=NTD&station=87Q&station=RNM&station=RBL&station=RDD&station=O32&station=RAL&station=SAC&station=MCC&station=SMF&station=SNS&station=CPU&station=SBD&station=SQL&station=NUC&station=SDB&station=SDM&station=SEE&station=SAN&station=MYF&station=SFO&station=SJC&station=RHV&station=SBP&station=E16&station=NSI&station=SNA&station=SBA&station=SMX&station=SMO&station=STS&station=IZA&station=O87&station=TVL&station=SCK&station=SVE&station=TSP&station=TRM&station=TOA&station=SUU&station=O86&station=TRK&station=NXP&station=UKI&station=EDU&station=BAN&station=VCB&station=VBG&station=XVW&station=VNY&station=VCV&station=VIS&station=WVI&station=O54\n",
            "http://mesonet.agron.iastate.edu/cgi-bin/request/asos.py?&data=tmpf&data=relh&data=sped&data=mslp&data=p01i&data=vsby&data=gust_mph&data=skyc1&data=skyc2&data=skyc3&tz=Etc/UTC&format=comma&latlon=no&year1=2017&month1=01&day1=01&year2=2017&month2=01&day2=31&station=AFF&station=AKO&station=ALS&station=ASE&station=0CO&station=BDU&station=BJC&station=BKF&station=AEJ&station=ITR&station=1V6&station=CWN&station=00V&station=COS&station=CRV&station=CEZ&station=7BM&station=CAG&station=RCV&station=AJZ&station=APA&station=DEN&station=DRO&station=EGE&station=ABH&station=EIK&station=FCS&station=FNL&station=FMM&station=FTG&station=GNB&station=GJT&station=GXY&station=GUC&station=HDN&station=HEQ&station=20V&station=LHX&station=LAA&station=VTP&station=LXV&station=LIC&station=LMO&station=FLY&station=EEO&station=MYP&station=MTJ&station=MNH&station=3MW&station=AIB&station=PSO&station=PUB&station=4V0&station=CCU&station=RIL&station=04V&station=ANK&station=SHM&station=SPD&station=SBS&station=STK&station=5SM&station=TEX&station=TAD&station=33V&station=C07&station=4BM&station=CPW&station=2V5&station=2V6\n",
            "http://mesonet.agron.iastate.edu/cgi-bin/request/asos.py?&data=tmpf&data=relh&data=sped&data=mslp&data=p01i&data=vsby&data=gust_mph&data=skyc1&data=skyc2&data=skyc3&tz=Etc/UTC&format=comma&latlon=no&year1=2017&month1=01&day1=01&year2=2017&month2=01&day2=31&station=BDR&station=SNC&station=DXR&station=GON&station=BDL&station=HFD&station=MMK&station=HVN&station=OXC&station=IJD\n",
            "http://mesonet.agron.iastate.edu/cgi-bin/request/asos.py?&data=tmpf&data=relh&data=sped&data=mslp&data=p01i&data=vsby&data=gust_mph&data=skyc1&data=skyc2&data=skyc3&tz=Etc/UTC&format=comma&latlon=no&year1=2017&month1=01&day1=01&year2=2017&month2=01&day2=31&station=DOV&station=GED&station=ILG\n",
            "http://mesonet.agron.iastate.edu/cgi-bin/request/asos.py?&data=tmpf&data=relh&data=sped&data=mslp&data=p01i&data=vsby&data=gust_mph&data=skyc1&data=skyc2&data=skyc3&tz=Etc/UTC&format=comma&latlon=no&year1=2017&month1=01&day1=01&year2=2017&month2=01&day2=31&station=AAF&station=AGR&station=BOW&station=BCT&station=BKV&station=FIN&station=XMR&station=VSH&station=NFJ&station=CLW&station=CEW&station=CTY&station=CGC&station=DAB&station=54J&station=DED&station=DTS&station=EGI&station=VPS&station=EGC&station=FHB&station=FXE&station=FMY&station=FLL&station=RSW&station=FPR&station=GNV&station=HWO&station=HST&station=HRT&station=IMM&station=INF&station=X40&station=CRG&station=HEG&station=JAX&station=NIP&station=VQQ&station=42J&station=EYW&station=NQX&station=ISM&station=LCQ&station=LAL&station=X07&station=LEE&station=24J&station=MCF&station=MTH&station=MKY&station=MAI&station=NRB&station=MLB&station=MBF&station=MIA&station=TMB&station=OPF&station=NDZ&station=APF&station=TTS&station=EVB&station=OCF&station=OBE&station=ORL&station=MCO&station=OMN&station=28J&station=XFL&station=ECP&station=PFN&station=TDR&station=COF&station=NPA&station=PNS&station=40J&station=54A&station=PCM&station=PMP&station=PGD&station=2J9&station=SPG&station=PIE&station=SFB&station=SRQ&station=SEF&station=SGJ&station=TLH&station=TPA&station=TPF&station=VVG&station=TIX&station=1J0&station=PAM&station=VDF&station=VNC&station=VRB&station=LNA&station=F45&station=PBI&station=NSE&station=X60&station=GIF&station=SUA&station=ZPH\n",
            "http://mesonet.agron.iastate.edu/cgi-bin/request/asos.py?&data=tmpf&data=relh&data=sped&data=mslp&data=p01i&data=vsby&data=gust_mph&data=skyc1&data=skyc2&data=skyc3&tz=Etc/UTC&format=comma&latlon=no&year1=2017&month1=01&day1=01&year2=2017&month2=01&day2=31&station=ABY&station=AMG&station=ACJ&station=AHN&station=PDK&station=FTY&station=ATL&station=DNL&station=AGS&station=BGE&station=BHC&station=DZJ&station=BIJ&station=BQK&station=SSI&station=6A1&station=CZL&station=CXU&station=18A&station=47A&station=CTJ&station=VPC&station=CNI&station=CWV&station=CSG&station=CKF&station=AJR&station=9A1&station=CVC&station=PUJ&station=DNN&station=MGE&station=17J&station=DQH&station=DBN&station=EZM&station=EBA&station=27A&station=49A&station=FZG&station=LSF&station=LHW&station=GVL&station=3J7&station=4A7&station=HMP&station=AZE&station=HOE&station=SVN&station=19A&station=JZP&station=JCA&station=JES&station=9A5&station=LGC&station=LZU&station=2J3&station=MCN&station=RYY&station=MLJ&station=D73&station=VAD&station=MGR&station=MUL&station=CCO&station=FFC&station=PXE&station=PIM&station=RMG&station=OKZ&station=SAV&station=6A2&station=TBR&station=SBO&station=JYL&station=OPN&station=TVI&station=HQU&station=TMA&station=TOC&station=VLD&station=VDI&station=WRB&station=IIY&station=AYS&station=WDR\n",
            "http://mesonet.agron.iastate.edu/cgi-bin/request/asos.py?&data=tmpf&data=relh&data=sped&data=mslp&data=p01i&data=vsby&data=gust_mph&data=skyc1&data=skyc2&data=skyc3&tz=Etc/UTC&format=comma&latlon=no&year1=2017&month1=01&day1=01&year2=2017&month2=01&day2=31&station=PHSF&station=PHHN&station=PHIK&station=PHTO&station=PHNL&station=PHOG&station=PHJR&station=PHNG&station=PHKO&station=PHBK&station=PHJH&station=PHNY&station=PHLI&station=PHMK&station=PMDY&station=PHHI\n",
            "http://mesonet.agron.iastate.edu/cgi-bin/request/asos.py?&data=tmpf&data=relh&data=sped&data=mslp&data=p01i&data=vsby&data=gust_mph&data=skyc1&data=skyc2&data=skyc3&tz=Etc/UTC&format=comma&latlon=no&year1=2017&month1=01&day1=01&year2=2017&month2=01&day2=31&station=AMW&station=BRL&station=CID&station=DSM&station=DBQ&station=EST&station=IOW&station=LWD&station=MIW&station=MCW&station=OTM&station=DVN&station=SUX&station=SPW&station=ALO\n",
            "http://mesonet.agron.iastate.edu/cgi-bin/request/asos.py?&data=tmpf&data=relh&data=sped&data=mslp&data=p01i&data=vsby&data=gust_mph&data=skyc1&data=skyc2&data=skyc3&tz=Etc/UTC&format=comma&latlon=no&year1=2017&month1=01&day1=01&year2=2017&month2=01&day2=31&station=BOI&station=65S&station=BYI&station=EUL&station=LLJ&station=COE&station=DIJ&station=P69&station=GIC&station=SUN&station=IDA&station=JER&station=LWS&station=MLD&station=77M&station=MYL&station=MUO&station=MLP&station=MAN&station=PIH&station=RXE&station=SMN&station=SZT&station=U78&station=S14&station=SNT&station=TWF\n",
            "http://mesonet.agron.iastate.edu/cgi-bin/request/asos.py?&data=tmpf&data=relh&data=sped&data=mslp&data=p01i&data=vsby&data=gust_mph&data=skyc1&data=skyc2&data=skyc3&tz=Etc/UTC&format=comma&latlon=no&year1=2017&month1=01&day1=01&year2=2017&month2=01&day2=31&station=ALN&station=BMI&station=CPS&station=CIR&station=MDH&station=CUL&station=ENL&station=CMI&station=MDW&station=ARR&station=DPA&station=IGQ&station=CGX&station=ORD&station=06C&station=DNV&station=DEC&station=DKB&station=1H2&station=FWC&station=FOA&station=FEP&station=GBG&station=HSB&station=IJX&station=JOT&station=IKK&station=C75&station=LWV&station=AAA&station=3LF&station=MQB&station=MWA&station=MTO&station=M30&station=MLI&station=C09&station=AJG&station=I63&station=MVN&station=OLY&station=PWK&station=PRG&station=PIA&station=VYS&station=PPQ&station=PNT&station=UIN&station=TIP&station=RSV&station=RPJ&station=RFD&station=LOT&station=SLO&station=SFY&station=BLV&station=SAR&station=SPI&station=SQI&station=TAZ&station=UGN\n",
            "http://mesonet.agron.iastate.edu/cgi-bin/request/asos.py?&data=tmpf&data=relh&data=sped&data=mslp&data=p01i&data=vsby&data=gust_mph&data=skyc1&data=skyc2&data=skyc3&tz=Etc/UTC&format=comma&latlon=no&year1=2017&month1=01&day1=01&year2=2017&month2=01&day2=31&station=AID&station=ANQ&station=GWB&station=HLB&station=BMG&station=BAK&station=CFJ&station=DCY&station=EKM&station=EVV&station=FWA&station=FKR&station=FRH&station=GYY&station=GSH&station=4I7&station=GPC&station=GUS&station=HBE&station=HNB&station=HHG&station=IND&station=EYE&station=TYQ&station=HFY&station=MQJ&station=C62&station=OXI&station=OKK&station=LAF&station=PPO&station=GGP&station=IMS&station=MZZ&station=MGC&station=MCX&station=MIE&station=1II&station=PLD&station=RZL&station=RID&station=RCR&station=GEZ&station=SBN&station=HUF&station=VPZ&station=ASW\n"
          ],
          "name": "stdout"
        }
      ]
    },
    {
      "metadata": {
        "id": "ZUajt2C-A7px",
        "colab_type": "code",
        "colab": {
          "base_uri": "https://localhost:8080/",
          "height": 34
        },
        "outputId": "42375000-da91-4de6-eb2c-febd876de67b"
      },
      "cell_type": "code",
      "source": [
        "cnt"
      ],
      "execution_count": 11,
      "outputs": [
        {
          "output_type": "execute_result",
          "data": {
            "text/plain": [
              "51"
            ]
          },
          "metadata": {
            "tags": []
          },
          "execution_count": 11
        }
      ]
    },
    {
      "metadata": {
        "id": "hG4hHrACm0FL",
        "colab_type": "code",
        "colab": {}
      },
      "cell_type": "code",
      "source": [
        ""
      ],
      "execution_count": 0,
      "outputs": []
    },
    {
      "metadata": {
        "id": "e3vfnPA3nNX_",
        "colab_type": "code",
        "colab": {
          "base_uri": "https://localhost:8080/",
          "height": 235
        },
        "outputId": "adf9b295-afbd-46b0-9f67-550b3a64a69a"
      },
      "cell_type": "code",
      "source": [
        "weather.head()  "
      ],
      "execution_count": 0,
      "outputs": [
        {
          "output_type": "execute_result",
          "data": {
            "text/html": [
              "<div>\n",
              "<style scoped>\n",
              "    .dataframe tbody tr th:only-of-type {\n",
              "        vertical-align: middle;\n",
              "    }\n",
              "\n",
              "    .dataframe tbody tr th {\n",
              "        vertical-align: top;\n",
              "    }\n",
              "\n",
              "    .dataframe thead th {\n",
              "        text-align: right;\n",
              "    }\n",
              "</style>\n",
              "<table border=\"1\" class=\"dataframe\">\n",
              "  <thead>\n",
              "    <tr style=\"text-align: right;\">\n",
              "      <th></th>\n",
              "      <th></th>\n",
              "      <th>tmpf</th>\n",
              "      <th>relh</th>\n",
              "      <th>sped</th>\n",
              "      <th>mslp</th>\n",
              "      <th>p01i</th>\n",
              "      <th>vsby</th>\n",
              "      <th>gust_mph</th>\n",
              "      <th>skyc1</th>\n",
              "      <th>skyc2</th>\n",
              "      <th>skyc3</th>\n",
              "    </tr>\n",
              "    <tr>\n",
              "      <th>station</th>\n",
              "      <th>date</th>\n",
              "      <th></th>\n",
              "      <th></th>\n",
              "      <th></th>\n",
              "      <th></th>\n",
              "      <th></th>\n",
              "      <th></th>\n",
              "      <th></th>\n",
              "      <th></th>\n",
              "      <th></th>\n",
              "      <th></th>\n",
              "    </tr>\n",
              "  </thead>\n",
              "  <tbody>\n",
              "    <tr>\n",
              "      <th rowspan=\"5\" valign=\"top\">04V</th>\n",
              "      <th>2017-01-01 00:10:00</th>\n",
              "      <td>23.0</td>\n",
              "      <td>73.51</td>\n",
              "      <td>0.0</td>\n",
              "      <td>NaN</td>\n",
              "      <td>0.0</td>\n",
              "      <td>10.0</td>\n",
              "      <td>NaN</td>\n",
              "      <td>OVC</td>\n",
              "      <td>M</td>\n",
              "      <td>M</td>\n",
              "    </tr>\n",
              "    <tr>\n",
              "      <th>2017-01-01 00:30:00</th>\n",
              "      <td>23.0</td>\n",
              "      <td>73.51</td>\n",
              "      <td>5.8</td>\n",
              "      <td>NaN</td>\n",
              "      <td>0.0</td>\n",
              "      <td>10.0</td>\n",
              "      <td>NaN</td>\n",
              "      <td>BKN</td>\n",
              "      <td>M</td>\n",
              "      <td>M</td>\n",
              "    </tr>\n",
              "    <tr>\n",
              "      <th>2017-01-01 00:50:00</th>\n",
              "      <td>21.2</td>\n",
              "      <td>79.31</td>\n",
              "      <td>4.6</td>\n",
              "      <td>NaN</td>\n",
              "      <td>0.0</td>\n",
              "      <td>10.0</td>\n",
              "      <td>NaN</td>\n",
              "      <td>SCT</td>\n",
              "      <td>M</td>\n",
              "      <td>M</td>\n",
              "    </tr>\n",
              "    <tr>\n",
              "      <th>2017-01-01 01:10:00</th>\n",
              "      <td>21.2</td>\n",
              "      <td>73.32</td>\n",
              "      <td>3.5</td>\n",
              "      <td>NaN</td>\n",
              "      <td>0.0</td>\n",
              "      <td>10.0</td>\n",
              "      <td>NaN</td>\n",
              "      <td>CLR</td>\n",
              "      <td>M</td>\n",
              "      <td>M</td>\n",
              "    </tr>\n",
              "    <tr>\n",
              "      <th>2017-01-01 01:30:00</th>\n",
              "      <td>19.4</td>\n",
              "      <td>79.16</td>\n",
              "      <td>3.5</td>\n",
              "      <td>NaN</td>\n",
              "      <td>0.0</td>\n",
              "      <td>10.0</td>\n",
              "      <td>NaN</td>\n",
              "      <td>SCT</td>\n",
              "      <td>M</td>\n",
              "      <td>M</td>\n",
              "    </tr>\n",
              "  </tbody>\n",
              "</table>\n",
              "</div>"
            ],
            "text/plain": [
              "                             tmpf   relh  sped  mslp  p01i  vsby  gust_mph  \\\n",
              "station date                                                                 \n",
              "04V     2017-01-01 00:10:00  23.0  73.51   0.0   NaN   0.0  10.0       NaN   \n",
              "        2017-01-01 00:30:00  23.0  73.51   5.8   NaN   0.0  10.0       NaN   \n",
              "        2017-01-01 00:50:00  21.2  79.31   4.6   NaN   0.0  10.0       NaN   \n",
              "        2017-01-01 01:10:00  21.2  73.32   3.5   NaN   0.0  10.0       NaN   \n",
              "        2017-01-01 01:30:00  19.4  79.16   3.5   NaN   0.0  10.0       NaN   \n",
              "\n",
              "                            skyc1 skyc2 skyc3  \n",
              "station date                                   \n",
              "04V     2017-01-01 00:10:00   OVC     M     M  \n",
              "        2017-01-01 00:30:00   BKN     M     M  \n",
              "        2017-01-01 00:50:00   SCT     M     M  \n",
              "        2017-01-01 01:10:00   CLR     M     M  \n",
              "        2017-01-01 01:30:00   SCT     M     M  "
            ]
          },
          "metadata": {
            "tags": []
          },
          "execution_count": 16
        }
      ]
    },
    {
      "metadata": {
        "id": "2dquA_6JnNYB",
        "colab_type": "text"
      },
      "cell_type": "markdown",
      "source": [
        "OK, that was a bit of work. Here's a plot to reward ourselves."
      ]
    },
    {
      "metadata": {
        "id": "rXT8lsEwnNYC",
        "colab_type": "code",
        "colab": {
          "base_uri": "https://localhost:8080/",
          "height": 602
        },
        "outputId": "dfdf6aeb-99c0-4ca4-97cd-f6f9c37b20f9"
      },
      "cell_type": "code",
      "source": [
        "airports = ['W43', 'AFO', '82V', 'DUB']\n",
        "\n",
        "g = sns.FacetGrid(weather.loc[airports].reset_index(),\n",
        "                  col='station', hue='station', col_wrap=2, size=4)\n",
        "g.map(sns.regplot, 'sped', 'gust_mph')"
      ],
      "execution_count": 0,
      "outputs": [
        {
          "output_type": "execute_result",
          "data": {
            "text/plain": [
              "<seaborn.axisgrid.FacetGrid at 0x7f31e9952748>"
            ]
          },
          "metadata": {
            "tags": []
          },
          "execution_count": 17
        },
        {
          "output_type": "display_data",
          "data": {
            "image/png": "[encoded data removed]",
            "text/plain": [
              "<matplotlib.figure.Figure at 0x7f31c6afc6d8>"
            ]
          },
          "metadata": {
            "tags": []
          }
        }
      ]
    },
    {
      "metadata": {
        "id": "JPQVCzftnNYF",
        "colab_type": "text"
      },
      "cell_type": "markdown",
      "source": [
        "## Set Operations\n",
        "\n",
        "Indexes are set-like (technically *multi*sets, since you can have duplicates), so they support most python `set` operations. Since indexes are immutable you won't find any of the inplace `set` operations.\n",
        "One other difference is that since `Index`es are also array-like, you can't use some infix operators like `-` for `difference`. If you have a numeric index it is unclear whether you intend to perform math operations or set operations.\n",
        "You can use `&` for intersection, `|` for union, and `^` for symmetric difference though, since there's no ambiguity.\n",
        "\n",
        "For example, lets find the set of airports that we have both weather and flight information on. Since `weather` had a MultiIndex of `airport, datetime`, we'll use the `levels` attribute to get at the airport data, separate from the date data."
      ]
    },
    {
      "metadata": {
        "id": "GDjPkW33nNYG",
        "colab_type": "code",
        "colab": {
          "base_uri": "https://localhost:8080/",
          "height": 85
        },
        "outputId": "fe404209-cb00-4b0a-a32a-116e4e86ca7a"
      },
      "cell_type": "code",
      "source": [
        "# Bring in the flights data\n",
        "\n",
        "flights = pd.read_hdf('data/flights.h5', 'flights')\n",
        "\n",
        "weather_locs = weather.index.levels[0]\n",
        "# The `categories` attribute of a Categorical is an Index\n",
        "origin_locs = flights.origin.cat.categories\n",
        "dest_locs = flights.dest.cat.categories\n",
        "\n",
        "airports = weather_locs & origin_locs & dest_locs\n",
        "airports"
      ],
      "execution_count": 0,
      "outputs": [
        {
          "output_type": "execute_result",
          "data": {
            "text/plain": [
              "Index(['ABE', 'ABI', 'ABQ', 'ABR', 'ABY', 'ACT', 'ACV', 'ACY', 'AEX', 'AGS',\n",
              "       ...\n",
              "       'TUL', 'TUS', 'TVC', 'TWF', 'TXK', 'TYR', 'TYS', 'VLD', 'VPS', 'XNA'],\n",
              "      dtype='object', length=265)"
            ]
          },
          "metadata": {
            "tags": []
          },
          "execution_count": 25
        }
      ]
    },
    {
      "metadata": {
        "id": "wBDoyxEGnNYK",
        "colab_type": "code",
        "colab": {
          "base_uri": "https://localhost:8080/",
          "height": 323
        },
        "outputId": "be8b24c5-b2b1-406f-ece2-c4f0d8d84f0e"
      },
      "cell_type": "code",
      "source": [
        "print(\"Weather, no flights:\\n\\t\", weather_locs.difference(origin_locs | dest_locs), end='\\n\\n')\n",
        "\n",
        "print(\"Flights, no weather:\\n\\t\", (origin_locs | dest_locs).difference(weather_locs), end='\\n\\n')\n",
        "\n",
        "print(\"Dropped Stations:\\n\\t\", (origin_locs | dest_locs) ^ weather_locs)"
      ],
      "execution_count": 0,
      "outputs": [
        {
          "output_type": "stream",
          "text": [
            "Weather, no flights:\n",
            "\t Index(['04V', '04W', '05U', '06D', '08D', '0A9', '0CO', '0E0', '0F2', '0J4',\n",
            "       ...\n",
            "       'Y50', 'Y51', 'Y63', 'Y70', 'YIP', 'YKM', 'YKN', 'YNG', 'ZPH', 'ZZV'],\n",
            "      dtype='object', length=2069)\n",
            "\n",
            "Flights, no weather:\n",
            "\t Index(['ADK', 'ADQ', 'ANC', 'BET', 'BQN', 'BRW', 'CDV', 'FAI', 'FCA', 'GUM',\n",
            "       'HNL', 'ITO', 'JNU', 'KOA', 'KTN', 'LIH', 'MQT', 'OGG', 'OME', 'OTZ',\n",
            "       'PPG', 'PSE', 'PSG', 'SCC', 'SCE', 'SIT', 'SJU', 'STT', 'STX', 'WRG',\n",
            "       'YAK', 'YUM'],\n",
            "      dtype='object')\n",
            "\n",
            "Dropped Stations:\n",
            "\t Index(['04V', '04W', '05U', '06D', '08D', '0A9', '0CO', '0E0', '0F2', '0J4',\n",
            "       ...\n",
            "       'Y63', 'Y70', 'YAK', 'YIP', 'YKM', 'YKN', 'YNG', 'YUM', 'ZPH', 'ZZV'],\n",
            "      dtype='object', length=2101)\n"
          ],
          "name": "stdout"
        }
      ]
    },
    {
      "metadata": {
        "id": "kskkBPu6nNYO",
        "colab_type": "text"
      },
      "cell_type": "markdown",
      "source": [
        "## Flavors\n",
        "\n",
        "Pandas has many subclasses of the regular `Index`, each tailored to a specific kind of data.\n",
        "Most of the time these will be created for you automatically, so you don't have to worry about which one to choose.\n",
        "\n",
        "1. [`Index`](http://pandas.pydata.org/pandas-docs/version/0.18.0/generated/pandas.Index.html#pandas.Index)\n",
        "2. `Int64Index`\n",
        "3. `RangeIndex`: Memory-saving special case of `Int64Index`\n",
        "4. `FloatIndex`\n",
        "5. `DatetimeIndex`: Datetime64[ns] precision data\n",
        "6. `PeriodIndex`: Regularly-spaced, arbitrary precision datetime data.\n",
        "7. `TimedeltaIndex`\n",
        "8. `CategoricalIndex`\n",
        "9. `MultiIndex`\n",
        "\n",
        "You will sometimes create a `DatetimeIndex` with [`pd.date_range`](http://pandas.pydata.org/pandas-docs/version/0.18.0/generated/pandas.date_range.html) ([`pd.period_range`](http://pandas.pydata.org/pandas-docs/version/0.18.0/generated/pandas.period_range.html) for `PeriodIndex`).\n",
        "And you'll sometimes make a `MultiIndex` directly too (I'll have an example of this in my post on performace).\n",
        "\n",
        "Some of these specialized index types are purely optimizations; others use information about the data to provide additional methods.\n",
        "And while you might occasionally work with indexes directly (like the set operations above), most of they time you'll be operating on a Series or DataFrame, which in turn makes use of its Index.\n"
      ]
    },
    {
      "metadata": {
        "id": "m39SZnBGnNYP",
        "colab_type": "text"
      },
      "cell_type": "markdown",
      "source": [
        "### Row Slicing\n",
        "We saw in part one that they're great for making *row* subsetting as easy as column subsetting."
      ]
    },
    {
      "metadata": {
        "id": "7UNanV0znNYQ",
        "colab_type": "code",
        "colab": {
          "base_uri": "https://localhost:8080/",
          "height": 235
        },
        "outputId": "73b9dee8-3687-4b39-a834-0b820995847d"
      },
      "cell_type": "code",
      "source": [
        "weather.loc['DSM'].head()"
      ],
      "execution_count": 0,
      "outputs": [
        {
          "output_type": "execute_result",
          "data": {
            "text/html": [
              "<div>\n",
              "<style scoped>\n",
              "    .dataframe tbody tr th:only-of-type {\n",
              "        vertical-align: middle;\n",
              "    }\n",
              "\n",
              "    .dataframe tbody tr th {\n",
              "        vertical-align: top;\n",
              "    }\n",
              "\n",
              "    .dataframe thead th {\n",
              "        text-align: right;\n",
              "    }\n",
              "</style>\n",
              "<table border=\"1\" class=\"dataframe\">\n",
              "  <thead>\n",
              "    <tr style=\"text-align: right;\">\n",
              "      <th></th>\n",
              "      <th>tmpf</th>\n",
              "      <th>relh</th>\n",
              "      <th>sped</th>\n",
              "      <th>mslp</th>\n",
              "      <th>p01i</th>\n",
              "      <th>vsby</th>\n",
              "      <th>gust_mph</th>\n",
              "      <th>skyc1</th>\n",
              "      <th>skyc2</th>\n",
              "      <th>skyc3</th>\n",
              "    </tr>\n",
              "    <tr>\n",
              "      <th>date</th>\n",
              "      <th></th>\n",
              "      <th></th>\n",
              "      <th></th>\n",
              "      <th></th>\n",
              "      <th></th>\n",
              "      <th></th>\n",
              "      <th></th>\n",
              "      <th></th>\n",
              "      <th></th>\n",
              "      <th></th>\n",
              "    </tr>\n",
              "  </thead>\n",
              "  <tbody>\n",
              "    <tr>\n",
              "      <th>2017-01-01 00:05:00</th>\n",
              "      <td>NaN</td>\n",
              "      <td>NaN</td>\n",
              "      <td>0.0</td>\n",
              "      <td>NaN</td>\n",
              "      <td>NaN</td>\n",
              "      <td>10.0</td>\n",
              "      <td>NaN</td>\n",
              "      <td>CLR</td>\n",
              "      <td>M</td>\n",
              "      <td>M</td>\n",
              "    </tr>\n",
              "    <tr>\n",
              "      <th>2017-01-01 00:10:00</th>\n",
              "      <td>NaN</td>\n",
              "      <td>NaN</td>\n",
              "      <td>0.0</td>\n",
              "      <td>NaN</td>\n",
              "      <td>NaN</td>\n",
              "      <td>10.0</td>\n",
              "      <td>NaN</td>\n",
              "      <td>CLR</td>\n",
              "      <td>M</td>\n",
              "      <td>M</td>\n",
              "    </tr>\n",
              "    <tr>\n",
              "      <th>2017-01-01 00:15:00</th>\n",
              "      <td>NaN</td>\n",
              "      <td>NaN</td>\n",
              "      <td>0.0</td>\n",
              "      <td>NaN</td>\n",
              "      <td>NaN</td>\n",
              "      <td>10.0</td>\n",
              "      <td>NaN</td>\n",
              "      <td>CLR</td>\n",
              "      <td>M</td>\n",
              "      <td>M</td>\n",
              "    </tr>\n",
              "    <tr>\n",
              "      <th>2017-01-01 00:20:00</th>\n",
              "      <td>NaN</td>\n",
              "      <td>NaN</td>\n",
              "      <td>0.0</td>\n",
              "      <td>NaN</td>\n",
              "      <td>NaN</td>\n",
              "      <td>10.0</td>\n",
              "      <td>NaN</td>\n",
              "      <td>CLR</td>\n",
              "      <td>M</td>\n",
              "      <td>M</td>\n",
              "    </tr>\n",
              "    <tr>\n",
              "      <th>2017-01-01 00:25:00</th>\n",
              "      <td>NaN</td>\n",
              "      <td>NaN</td>\n",
              "      <td>0.0</td>\n",
              "      <td>NaN</td>\n",
              "      <td>NaN</td>\n",
              "      <td>10.0</td>\n",
              "      <td>NaN</td>\n",
              "      <td>CLR</td>\n",
              "      <td>M</td>\n",
              "      <td>M</td>\n",
              "    </tr>\n",
              "  </tbody>\n",
              "</table>\n",
              "</div>"
            ],
            "text/plain": [
              "                     tmpf  relh  sped  mslp  p01i  vsby  gust_mph skyc1 skyc2  \\\n",
              "date                                                                            \n",
              "2017-01-01 00:05:00   NaN   NaN   0.0   NaN   NaN  10.0       NaN   CLR     M   \n",
              "2017-01-01 00:10:00   NaN   NaN   0.0   NaN   NaN  10.0       NaN   CLR     M   \n",
              "2017-01-01 00:15:00   NaN   NaN   0.0   NaN   NaN  10.0       NaN   CLR     M   \n",
              "2017-01-01 00:20:00   NaN   NaN   0.0   NaN   NaN  10.0       NaN   CLR     M   \n",
              "2017-01-01 00:25:00   NaN   NaN   0.0   NaN   NaN  10.0       NaN   CLR     M   \n",
              "\n",
              "                    skyc3  \n",
              "date                       \n",
              "2017-01-01 00:05:00     M  \n",
              "2017-01-01 00:10:00     M  \n",
              "2017-01-01 00:15:00     M  \n",
              "2017-01-01 00:20:00     M  \n",
              "2017-01-01 00:25:00     M  "
            ]
          },
          "metadata": {
            "tags": []
          },
          "execution_count": 27
        }
      ]
    },
    {
      "metadata": {
        "id": "_ztDBoUIA-Ym",
        "colab_type": "code",
        "colab": {
          "base_uri": "https://localhost:8080/",
          "height": 450
        },
        "outputId": "3a2d2ee9-6e9b-46dd-ca15-0f75c00d0660"
      },
      "cell_type": "code",
      "source": [
        "weathe"
      ],
      "execution_count": 0,
      "outputs": [
        {
          "output_type": "execute_result",
          "data": {
            "text/html": [
              "<div>\n",
              "<style scoped>\n",
              "    .dataframe tbody tr th:only-of-type {\n",
              "        vertical-align: middle;\n",
              "    }\n",
              "\n",
              "    .dataframe tbody tr th {\n",
              "        vertical-align: top;\n",
              "    }\n",
              "\n",
              "    .dataframe thead th {\n",
              "        text-align: right;\n",
              "    }\n",
              "</style>\n",
              "<table border=\"1\" class=\"dataframe\">\n",
              "  <thead>\n",
              "    <tr style=\"text-align: right;\">\n",
              "      <th></th>\n",
              "      <th></th>\n",
              "      <th>tmpf</th>\n",
              "      <th>relh</th>\n",
              "      <th>sped</th>\n",
              "      <th>mslp</th>\n",
              "      <th>p01i</th>\n",
              "      <th>vsby</th>\n",
              "      <th>gust_mph</th>\n",
              "      <th>skyc1</th>\n",
              "      <th>skyc2</th>\n",
              "      <th>skyc3</th>\n",
              "    </tr>\n",
              "    <tr>\n",
              "      <th>station</th>\n",
              "      <th>date</th>\n",
              "      <th></th>\n",
              "      <th></th>\n",
              "      <th></th>\n",
              "      <th></th>\n",
              "      <th></th>\n",
              "      <th></th>\n",
              "      <th></th>\n",
              "      <th></th>\n",
              "      <th></th>\n",
              "      <th></th>\n",
              "    </tr>\n",
              "  </thead>\n",
              "  <tbody>\n",
              "    <tr>\n",
              "      <th rowspan=\"5\" valign=\"top\">04V</th>\n",
              "      <th>2017-01-01 00:10:00</th>\n",
              "      <td>23.0</td>\n",
              "      <td>73.51</td>\n",
              "      <td>0.0</td>\n",
              "      <td>NaN</td>\n",
              "      <td>0.0</td>\n",
              "      <td>10.0</td>\n",
              "      <td>NaN</td>\n",
              "      <td>OVC</td>\n",
              "      <td>M</td>\n",
              "      <td>M</td>\n",
              "    </tr>\n",
              "    <tr>\n",
              "      <th>2017-01-01 00:30:00</th>\n",
              "      <td>23.0</td>\n",
              "      <td>73.51</td>\n",
              "      <td>5.8</td>\n",
              "      <td>NaN</td>\n",
              "      <td>0.0</td>\n",
              "      <td>10.0</td>\n",
              "      <td>NaN</td>\n",
              "      <td>BKN</td>\n",
              "      <td>M</td>\n",
              "      <td>M</td>\n",
              "    </tr>\n",
              "    <tr>\n",
              "      <th>2017-01-01 00:50:00</th>\n",
              "      <td>21.2</td>\n",
              "      <td>79.31</td>\n",
              "      <td>4.6</td>\n",
              "      <td>NaN</td>\n",
              "      <td>0.0</td>\n",
              "      <td>10.0</td>\n",
              "      <td>NaN</td>\n",
              "      <td>SCT</td>\n",
              "      <td>M</td>\n",
              "      <td>M</td>\n",
              "    </tr>\n",
              "    <tr>\n",
              "      <th>2017-01-01 01:10:00</th>\n",
              "      <td>21.2</td>\n",
              "      <td>73.32</td>\n",
              "      <td>3.5</td>\n",
              "      <td>NaN</td>\n",
              "      <td>0.0</td>\n",
              "      <td>10.0</td>\n",
              "      <td>NaN</td>\n",
              "      <td>CLR</td>\n",
              "      <td>M</td>\n",
              "      <td>M</td>\n",
              "    </tr>\n",
              "    <tr>\n",
              "      <th>2017-01-01 01:30:00</th>\n",
              "      <td>19.4</td>\n",
              "      <td>79.16</td>\n",
              "      <td>3.5</td>\n",
              "      <td>NaN</td>\n",
              "      <td>0.0</td>\n",
              "      <td>10.0</td>\n",
              "      <td>NaN</td>\n",
              "      <td>SCT</td>\n",
              "      <td>M</td>\n",
              "      <td>M</td>\n",
              "    </tr>\n",
              "    <tr>\n",
              "      <th>...</th>\n",
              "      <th>...</th>\n",
              "      <td>...</td>\n",
              "      <td>...</td>\n",
              "      <td>...</td>\n",
              "      <td>...</td>\n",
              "      <td>...</td>\n",
              "      <td>...</td>\n",
              "      <td>...</td>\n",
              "      <td>...</td>\n",
              "      <td>...</td>\n",
              "      <td>...</td>\n",
              "    </tr>\n",
              "    <tr>\n",
              "      <th rowspan=\"5\" valign=\"top\">ZZV</th>\n",
              "      <th>2017-01-30 23:40:00</th>\n",
              "      <td>NaN</td>\n",
              "      <td>NaN</td>\n",
              "      <td>3.5</td>\n",
              "      <td>NaN</td>\n",
              "      <td>NaN</td>\n",
              "      <td>10.0</td>\n",
              "      <td>NaN</td>\n",
              "      <td>SCT</td>\n",
              "      <td>M</td>\n",
              "      <td>M</td>\n",
              "    </tr>\n",
              "    <tr>\n",
              "      <th>2017-01-30 23:45:00</th>\n",
              "      <td>NaN</td>\n",
              "      <td>NaN</td>\n",
              "      <td>4.6</td>\n",
              "      <td>NaN</td>\n",
              "      <td>NaN</td>\n",
              "      <td>10.0</td>\n",
              "      <td>NaN</td>\n",
              "      <td>BKN</td>\n",
              "      <td>M</td>\n",
              "      <td>M</td>\n",
              "    </tr>\n",
              "    <tr>\n",
              "      <th>2017-01-30 23:50:00</th>\n",
              "      <td>NaN</td>\n",
              "      <td>NaN</td>\n",
              "      <td>3.5</td>\n",
              "      <td>NaN</td>\n",
              "      <td>NaN</td>\n",
              "      <td>10.0</td>\n",
              "      <td>NaN</td>\n",
              "      <td>BKN</td>\n",
              "      <td>M</td>\n",
              "      <td>M</td>\n",
              "    </tr>\n",
              "    <tr>\n",
              "      <th>2017-01-30 23:53:00</th>\n",
              "      <td>27.0</td>\n",
              "      <td>60.37</td>\n",
              "      <td>4.6</td>\n",
              "      <td>1016.4</td>\n",
              "      <td>0.0</td>\n",
              "      <td>10.0</td>\n",
              "      <td>NaN</td>\n",
              "      <td>BKN</td>\n",
              "      <td>M</td>\n",
              "      <td>M</td>\n",
              "    </tr>\n",
              "    <tr>\n",
              "      <th>2017-01-30 23:55:00</th>\n",
              "      <td>NaN</td>\n",
              "      <td>NaN</td>\n",
              "      <td>4.6</td>\n",
              "      <td>NaN</td>\n",
              "      <td>NaN</td>\n",
              "      <td>10.0</td>\n",
              "      <td>NaN</td>\n",
              "      <td>BKN</td>\n",
              "      <td>M</td>\n",
              "      <td>M</td>\n",
              "    </tr>\n",
              "  </tbody>\n",
              "</table>\n",
              "<p>11057338 rows × 10 columns</p>\n",
              "</div>"
            ],
            "text/plain": [
              "                             tmpf   relh  sped    mslp  p01i  vsby  gust_mph  \\\n",
              "station date                                                                   \n",
              "04V     2017-01-01 00:10:00  23.0  73.51   0.0     NaN   0.0  10.0       NaN   \n",
              "        2017-01-01 00:30:00  23.0  73.51   5.8     NaN   0.0  10.0       NaN   \n",
              "        2017-01-01 00:50:00  21.2  79.31   4.6     NaN   0.0  10.0       NaN   \n",
              "        2017-01-01 01:10:00  21.2  73.32   3.5     NaN   0.0  10.0       NaN   \n",
              "        2017-01-01 01:30:00  19.4  79.16   3.5     NaN   0.0  10.0       NaN   \n",
              "...                           ...    ...   ...     ...   ...   ...       ...   \n",
              "ZZV     2017-01-30 23:40:00   NaN    NaN   3.5     NaN   NaN  10.0       NaN   \n",
              "        2017-01-30 23:45:00   NaN    NaN   4.6     NaN   NaN  10.0       NaN   \n",
              "        2017-01-30 23:50:00   NaN    NaN   3.5     NaN   NaN  10.0       NaN   \n",
              "        2017-01-30 23:53:00  27.0  60.37   4.6  1016.4   0.0  10.0       NaN   \n",
              "        2017-01-30 23:55:00   NaN    NaN   4.6     NaN   NaN  10.0       NaN   \n",
              "\n",
              "                            skyc1 skyc2 skyc3  \n",
              "station date                                   \n",
              "04V     2017-01-01 00:10:00   OVC     M     M  \n",
              "        2017-01-01 00:30:00   BKN     M     M  \n",
              "        2017-01-01 00:50:00   SCT     M     M  \n",
              "        2017-01-01 01:10:00   CLR     M     M  \n",
              "        2017-01-01 01:30:00   SCT     M     M  \n",
              "...                           ...   ...   ...  \n",
              "ZZV     2017-01-30 23:40:00   SCT     M     M  \n",
              "        2017-01-30 23:45:00   BKN     M     M  \n",
              "        2017-01-30 23:50:00   BKN     M     M  \n",
              "        2017-01-30 23:53:00   BKN     M     M  \n",
              "        2017-01-30 23:55:00   BKN     M     M  \n",
              "\n",
              "[11057338 rows x 10 columns]"
            ]
          },
          "metadata": {
            "tags": []
          },
          "execution_count": 28
        }
      ]
    },
    {
      "metadata": {
        "id": "9xNQYR9pnNYT",
        "colab_type": "text"
      },
      "cell_type": "markdown",
      "source": [
        "Without indexes we'd probably resort to boolean masks."
      ]
    },
    {
      "metadata": {
        "id": "bZO6hdJGnNYU",
        "colab_type": "code",
        "colab": {},
        "outputId": "bb3f0422-45c9-4ae0-ece9-02a39db626fa"
      },
      "cell_type": "code",
      "source": [
        "weather2 = weather.reset_index()\n",
        "weather2[weather2['station'] == 'DSM'].head()"
      ],
      "execution_count": 0,
      "outputs": [
        {
          "output_type": "execute_result",
          "data": {
            "text/html": [
              "<div>\n",
              "<style>\n",
              "    .dataframe thead tr:only-child th {\n",
              "        text-align: right;\n",
              "    }\n",
              "\n",
              "    .dataframe thead th {\n",
              "        text-align: left;\n",
              "    }\n",
              "\n",
              "    .dataframe tbody tr th {\n",
              "        vertical-align: top;\n",
              "    }\n",
              "</style>\n",
              "<table border=\"1\" class=\"dataframe\">\n",
              "  <thead>\n",
              "    <tr style=\"text-align: right;\">\n",
              "      <th></th>\n",
              "      <th>station</th>\n",
              "      <th>date</th>\n",
              "      <th>tmpf</th>\n",
              "      <th>relh</th>\n",
              "      <th>sped</th>\n",
              "      <th>mslp</th>\n",
              "      <th>p01i</th>\n",
              "      <th>vsby</th>\n",
              "      <th>gust_mph</th>\n",
              "      <th>skyc1</th>\n",
              "      <th>skyc2</th>\n",
              "      <th>skyc3</th>\n",
              "    </tr>\n",
              "  </thead>\n",
              "  <tbody>\n",
              "    <tr>\n",
              "      <th>884855</th>\n",
              "      <td>DSM</td>\n",
              "      <td>2014-01-01 00:54:00</td>\n",
              "      <td>10.94</td>\n",
              "      <td>72.79</td>\n",
              "      <td>10.4</td>\n",
              "      <td>1024.9</td>\n",
              "      <td>0.0</td>\n",
              "      <td>10.0</td>\n",
              "      <td>NaN</td>\n",
              "      <td>FEW</td>\n",
              "      <td>M</td>\n",
              "      <td>M</td>\n",
              "    </tr>\n",
              "    <tr>\n",
              "      <th>884856</th>\n",
              "      <td>DSM</td>\n",
              "      <td>2014-01-01 01:54:00</td>\n",
              "      <td>10.94</td>\n",
              "      <td>72.79</td>\n",
              "      <td>11.5</td>\n",
              "      <td>1025.4</td>\n",
              "      <td>0.0</td>\n",
              "      <td>10.0</td>\n",
              "      <td>NaN</td>\n",
              "      <td>OVC</td>\n",
              "      <td>M</td>\n",
              "      <td>M</td>\n",
              "    </tr>\n",
              "    <tr>\n",
              "      <th>884857</th>\n",
              "      <td>DSM</td>\n",
              "      <td>2014-01-01 02:54:00</td>\n",
              "      <td>10.94</td>\n",
              "      <td>72.79</td>\n",
              "      <td>8.1</td>\n",
              "      <td>1025.3</td>\n",
              "      <td>0.0</td>\n",
              "      <td>10.0</td>\n",
              "      <td>NaN</td>\n",
              "      <td>BKN</td>\n",
              "      <td>M</td>\n",
              "      <td>M</td>\n",
              "    </tr>\n",
              "    <tr>\n",
              "      <th>884858</th>\n",
              "      <td>DSM</td>\n",
              "      <td>2014-01-01 03:54:00</td>\n",
              "      <td>10.94</td>\n",
              "      <td>72.79</td>\n",
              "      <td>9.2</td>\n",
              "      <td>1025.3</td>\n",
              "      <td>0.0</td>\n",
              "      <td>10.0</td>\n",
              "      <td>NaN</td>\n",
              "      <td>OVC</td>\n",
              "      <td>M</td>\n",
              "      <td>M</td>\n",
              "    </tr>\n",
              "    <tr>\n",
              "      <th>884859</th>\n",
              "      <td>DSM</td>\n",
              "      <td>2014-01-01 04:54:00</td>\n",
              "      <td>10.04</td>\n",
              "      <td>72.69</td>\n",
              "      <td>9.2</td>\n",
              "      <td>1024.7</td>\n",
              "      <td>0.0</td>\n",
              "      <td>10.0</td>\n",
              "      <td>NaN</td>\n",
              "      <td>BKN</td>\n",
              "      <td>M</td>\n",
              "      <td>M</td>\n",
              "    </tr>\n",
              "  </tbody>\n",
              "</table>\n",
              "</div>"
            ],
            "text/plain": [
              "       station                date   tmpf   relh  sped    mslp  p01i  vsby  \\\n",
              "884855     DSM 2014-01-01 00:54:00  10.94  72.79  10.4  1024.9   0.0  10.0   \n",
              "884856     DSM 2014-01-01 01:54:00  10.94  72.79  11.5  1025.4   0.0  10.0   \n",
              "884857     DSM 2014-01-01 02:54:00  10.94  72.79   8.1  1025.3   0.0  10.0   \n",
              "884858     DSM 2014-01-01 03:54:00  10.94  72.79   9.2  1025.3   0.0  10.0   \n",
              "884859     DSM 2014-01-01 04:54:00  10.04  72.69   9.2  1024.7   0.0  10.0   \n",
              "\n",
              "        gust_mph skyc1 skyc2 skyc3  \n",
              "884855       NaN   FEW     M     M  \n",
              "884856       NaN   OVC     M     M  \n",
              "884857       NaN   BKN     M     M  \n",
              "884858       NaN   OVC     M     M  \n",
              "884859       NaN   BKN     M     M  "
            ]
          },
          "metadata": {
            "tags": []
          },
          "execution_count": 40
        }
      ]
    },
    {
      "metadata": {
        "id": "PAwbDTJ0nNYa",
        "colab_type": "text"
      },
      "cell_type": "markdown",
      "source": [
        "Slightly less convenient, but still doable."
      ]
    },
    {
      "metadata": {
        "id": "n_eEZzzbnNYa",
        "colab_type": "text"
      },
      "cell_type": "markdown",
      "source": [
        "### Indexes for Easier Arithmetic, Analysis"
      ]
    },
    {
      "metadata": {
        "id": "CATNFBs1nNYc",
        "colab_type": "text"
      },
      "cell_type": "markdown",
      "source": [
        "It's nice to have your metadata (labels on each observation) next to you actual values. But if you store them in an array, they'll get in the way of your operations.\n",
        "Say we wanted to translate the Fahrenheit temperature to Celsius."
      ]
    },
    {
      "metadata": {
        "id": "EMxhpojTnNYq",
        "colab_type": "code",
        "colab": {
          "base_uri": "https://localhost:8080/",
          "height": 450
        },
        "outputId": "a9726e0e-079c-47b1-fb32-b8eb0b20af8b"
      },
      "cell_type": "code",
      "source": [
        "# With indecies\n",
        "temp = weather['tmpf']\n",
        "\n",
        "c = (temp - 32) * 5 / 9\n",
        "c.to_frame()"
      ],
      "execution_count": 0,
      "outputs": [
        {
          "output_type": "execute_result",
          "data": {
            "text/html": [
              "<div>\n",
              "<style scoped>\n",
              "    .dataframe tbody tr th:only-of-type {\n",
              "        vertical-align: middle;\n",
              "    }\n",
              "\n",
              "    .dataframe tbody tr th {\n",
              "        vertical-align: top;\n",
              "    }\n",
              "\n",
              "    .dataframe thead th {\n",
              "        text-align: right;\n",
              "    }\n",
              "</style>\n",
              "<table border=\"1\" class=\"dataframe\">\n",
              "  <thead>\n",
              "    <tr style=\"text-align: right;\">\n",
              "      <th></th>\n",
              "      <th></th>\n",
              "      <th>tmpf</th>\n",
              "    </tr>\n",
              "    <tr>\n",
              "      <th>station</th>\n",
              "      <th>date</th>\n",
              "      <th></th>\n",
              "    </tr>\n",
              "  </thead>\n",
              "  <tbody>\n",
              "    <tr>\n",
              "      <th rowspan=\"5\" valign=\"top\">04V</th>\n",
              "      <th>2017-01-01 00:10:00</th>\n",
              "      <td>-5.000000</td>\n",
              "    </tr>\n",
              "    <tr>\n",
              "      <th>2017-01-01 00:30:00</th>\n",
              "      <td>-5.000000</td>\n",
              "    </tr>\n",
              "    <tr>\n",
              "      <th>2017-01-01 00:50:00</th>\n",
              "      <td>-6.000000</td>\n",
              "    </tr>\n",
              "    <tr>\n",
              "      <th>2017-01-01 01:10:00</th>\n",
              "      <td>-6.000000</td>\n",
              "    </tr>\n",
              "    <tr>\n",
              "      <th>2017-01-01 01:30:00</th>\n",
              "      <td>-7.000000</td>\n",
              "    </tr>\n",
              "    <tr>\n",
              "      <th>...</th>\n",
              "      <th>...</th>\n",
              "      <td>...</td>\n",
              "    </tr>\n",
              "    <tr>\n",
              "      <th rowspan=\"5\" valign=\"top\">ZZV</th>\n",
              "      <th>2017-01-30 23:40:00</th>\n",
              "      <td>NaN</td>\n",
              "    </tr>\n",
              "    <tr>\n",
              "      <th>2017-01-30 23:45:00</th>\n",
              "      <td>NaN</td>\n",
              "    </tr>\n",
              "    <tr>\n",
              "      <th>2017-01-30 23:50:00</th>\n",
              "      <td>NaN</td>\n",
              "    </tr>\n",
              "    <tr>\n",
              "      <th>2017-01-30 23:53:00</th>\n",
              "      <td>-2.777778</td>\n",
              "    </tr>\n",
              "    <tr>\n",
              "      <th>2017-01-30 23:55:00</th>\n",
              "      <td>NaN</td>\n",
              "    </tr>\n",
              "  </tbody>\n",
              "</table>\n",
              "<p>11057338 rows × 1 columns</p>\n",
              "</div>"
            ],
            "text/plain": [
              "                                 tmpf\n",
              "station date                         \n",
              "04V     2017-01-01 00:10:00 -5.000000\n",
              "        2017-01-01 00:30:00 -5.000000\n",
              "        2017-01-01 00:50:00 -6.000000\n",
              "        2017-01-01 01:10:00 -6.000000\n",
              "        2017-01-01 01:30:00 -7.000000\n",
              "...                               ...\n",
              "ZZV     2017-01-30 23:40:00       NaN\n",
              "        2017-01-30 23:45:00       NaN\n",
              "        2017-01-30 23:50:00       NaN\n",
              "        2017-01-30 23:53:00 -2.777778\n",
              "        2017-01-30 23:55:00       NaN\n",
              "\n",
              "[11057338 rows x 1 columns]"
            ]
          },
          "metadata": {
            "tags": []
          },
          "execution_count": 31
        }
      ]
    },
    {
      "metadata": {
        "id": "dgIY9K2OnNYv",
        "colab_type": "code",
        "colab": {},
        "outputId": "9fab1001-99bb-41fe-984f-f1d54d53b448"
      },
      "cell_type": "code",
      "source": [
        "# without\n",
        "temp2 = weather.reset_index()[['station', 'date', 'tmpf']]\n",
        "\n",
        "temp2['tmpf'] = (temp2['tmpf'] - 32) * 5 / 9\n",
        "temp2.head()"
      ],
      "execution_count": 0,
      "outputs": [
        {
          "output_type": "execute_result",
          "data": {
            "text/html": [
              "<div>\n",
              "<style>\n",
              "    .dataframe thead tr:only-child th {\n",
              "        text-align: right;\n",
              "    }\n",
              "\n",
              "    .dataframe thead th {\n",
              "        text-align: left;\n",
              "    }\n",
              "\n",
              "    .dataframe tbody tr th {\n",
              "        vertical-align: top;\n",
              "    }\n",
              "</style>\n",
              "<table border=\"1\" class=\"dataframe\">\n",
              "  <thead>\n",
              "    <tr style=\"text-align: right;\">\n",
              "      <th></th>\n",
              "      <th>station</th>\n",
              "      <th>date</th>\n",
              "      <th>tmpf</th>\n",
              "    </tr>\n",
              "  </thead>\n",
              "  <tbody>\n",
              "    <tr>\n",
              "      <th>0</th>\n",
              "      <td>01M</td>\n",
              "      <td>2014-01-01 00:15:00</td>\n",
              "      <td>1.0</td>\n",
              "    </tr>\n",
              "    <tr>\n",
              "      <th>1</th>\n",
              "      <td>01M</td>\n",
              "      <td>2014-01-01 00:35:00</td>\n",
              "      <td>0.8</td>\n",
              "    </tr>\n",
              "    <tr>\n",
              "      <th>2</th>\n",
              "      <td>01M</td>\n",
              "      <td>2014-01-01 00:55:00</td>\n",
              "      <td>0.3</td>\n",
              "    </tr>\n",
              "    <tr>\n",
              "      <th>3</th>\n",
              "      <td>01M</td>\n",
              "      <td>2014-01-01 01:15:00</td>\n",
              "      <td>-0.1</td>\n",
              "    </tr>\n",
              "    <tr>\n",
              "      <th>4</th>\n",
              "      <td>01M</td>\n",
              "      <td>2014-01-01 01:35:00</td>\n",
              "      <td>0.0</td>\n",
              "    </tr>\n",
              "  </tbody>\n",
              "</table>\n",
              "</div>"
            ],
            "text/plain": [
              "  station                date  tmpf\n",
              "0     01M 2014-01-01 00:15:00   1.0\n",
              "1     01M 2014-01-01 00:35:00   0.8\n",
              "2     01M 2014-01-01 00:55:00   0.3\n",
              "3     01M 2014-01-01 01:15:00  -0.1\n",
              "4     01M 2014-01-01 01:35:00   0.0"
            ]
          },
          "metadata": {
            "tags": []
          },
          "execution_count": 42
        }
      ]
    },
    {
      "metadata": {
        "id": "DBu52BuinNY1",
        "colab_type": "text"
      },
      "cell_type": "markdown",
      "source": [
        "Again, not terrible, but not as good.\n",
        "And, what if you had wanted to keep Fahrenheit around as well, instead of overwriting it like we did?\n",
        "Then you'd need to make a copy of everything, including the `station` and `date` columns.\n",
        "We don't have that problem, since indexes are immutable and safely shared between DataFrames / Series."
      ]
    },
    {
      "metadata": {
        "id": "7l214TSXnNY3",
        "colab_type": "code",
        "colab": {},
        "outputId": "2545221c-d023-4fac-e7d8-9ff61dfd291d"
      },
      "cell_type": "code",
      "source": [
        "temp.index is c.index"
      ],
      "execution_count": 0,
      "outputs": [
        {
          "output_type": "execute_result",
          "data": {
            "text/plain": [
              "True"
            ]
          },
          "metadata": {
            "tags": []
          },
          "execution_count": 43
        }
      ]
    },
    {
      "metadata": {
        "id": "sYGnu9Dste4Z",
        "colab_type": "code",
        "colab": {
          "base_uri": "https://localhost:8080/",
          "height": 935
        },
        "outputId": "555305bf-0486-458a-e00b-4d8f8116a15b"
      },
      "cell_type": "code",
      "source": [
        "!ls data/weather -lah"
      ],
      "execution_count": 0,
      "outputs": [
        {
          "output_type": "stream",
          "text": [
            "total 541M\r\n",
            "drwxr-xr-x 2 root root 4.0K Sep  5 07:16 .\r\n",
            "drwxr-xr-x 3 root root 4.0K Sep  5 09:12 ..\r\n",
            "-rw-r--r-- 1 root root  38M Sep  5 06:26 AK_ASOS.csv\r\n",
            "-rw-r--r-- 1 root root 9.8M Sep  5 06:27 AL_ASOS.csv\r\n",
            "-rw-r--r-- 1 root root  12M Sep  5 06:29 AR_ASOS.csv\r\n",
            "-rw-r--r-- 1 root root  15M Sep  5 06:30 AWOS.csv\r\n",
            "-rw-r--r-- 1 root root 8.6M Sep  5 06:31 AZ_ASOS.csv\r\n",
            "-rw-r--r-- 1 root root  36M Sep  5 06:34 CA_ASOS.csv\r\n",
            "-rw-r--r-- 1 root root  15M Sep  5 06:34 CO_ASOS.csv\r\n",
            "-rw-r--r-- 1 root root 3.1M Sep  5 06:35 CT_ASOS.csv\r\n",
            "-rw-r--r-- 1 root root 997K Sep  5 06:35 DE_ASOS.csv\r\n",
            "-rw-r--r-- 1 root root  22M Sep  5 06:37 FL_ASOS.csv\r\n",
            "-rw-r--r-- 1 root root  14M Sep  5 06:38 GA_ASOS.csv\r\n",
            "-rw-r--r-- 1 root root 4.2M Sep  5 06:39 HI_ASOS.csv\r\n",
            "-rw-r--r-- 1 root root 5.3M Sep  5 06:39 IA_ASOS.csv\r\n",
            "-rw-r--r-- 1 root root 6.9M Sep  5 06:40 ID_ASOS.csv\r\n",
            "-rw-r--r-- 1 root root  13M Sep  5 06:41 IL_ASOS.csv\r\n",
            "-rw-r--r-- 1 root root 9.2M Sep  5 06:42 IN_ASOS.csv\r\n",
            "-rw-r--r-- 1 root root 8.9M Sep  5 06:43 KS_ASOS.csv\r\n",
            "-rw-r--r-- 1 root root 7.7M Sep  5 06:44 KY_ASOS.csv\r\n",
            "-rw-r--r-- 1 root root  11M Sep  5 06:45 LA_ASOS.csv\r\n",
            "-rw-r--r-- 1 root root 5.8M Sep  5 06:46 MA_ASOS.csv\r\n",
            "-rw-r--r-- 1 root root 3.8M Sep  5 06:46 MD_ASOS.csv\r\n",
            "-rw-r--r-- 1 root root 4.6M Sep  5 06:46 ME_ASOS.csv\r\n",
            "-rw-r--r-- 1 root root  17M Sep  5 06:48 MI_ASOS.csv\r\n",
            "-rw-r--r-- 1 root root  16M Sep  5 06:49 MN_ASOS.csv\r\n",
            "-rw-r--r-- 1 root root 7.4M Sep  5 06:50 MO_ASOS.csv\r\n",
            "-rw-r--r-- 1 root root 8.2M Sep  5 06:51 MS_ASOS.csv\r\n",
            "-rw-r--r-- 1 root root 7.8M Sep  5 06:52 MT_ASOS.csv\r\n",
            "-rw-r--r-- 1 root root  15M Sep  5 06:53 NC_ASOS.csv\r\n",
            "-rw-r--r-- 1 root root 5.2M Sep  5 06:54 ND_ASOS.csv\r\n",
            "-rw-r--r-- 1 root root 8.7M Sep  5 06:55 NE_ASOS.csv\r\n",
            "-rw-r--r-- 1 root root 3.2M Sep  5 06:55 NH_ASOS.csv\r\n",
            "-rw-r--r-- 1 root root 5.4M Sep  5 06:56 NJ_ASOS.csv\r\n",
            "-rw-r--r-- 1 root root 7.7M Sep  5 06:57 NM_ASOS.csv\r\n",
            "-rw-r--r-- 1 root root 4.6M Sep  5 06:57 NV_ASOS.csv\r\n",
            "-rw-r--r-- 1 root root  14M Sep  5 06:58 NY_ASOS.csv\r\n",
            "-rw-r--r-- 1 root root  15M Sep  5 06:58 OH_ASOS.csv\r\n",
            "-rw-r--r-- 1 root root 9.6M Sep  5 06:59 OK_ASOS.csv\r\n",
            "-rw-r--r-- 1 root root 9.5M Sep  5 07:01 OR_ASOS.csv\r\n",
            "-rw-r--r-- 1 root root  14M Sep  5 07:02 PA_ASOS.csv\r\n",
            "-rw-r--r-- 1 root root 1.3M Sep  5 07:03 RI_ASOS.csv\r\n",
            "-rw-r--r-- 1 root root 9.5M Sep  5 07:03 SC_ASOS.csv\r\n",
            "-rw-r--r-- 1 root root 5.3M Sep  5 07:04 SD_ASOS.csv\r\n",
            "-rw-r--r-- 1 root root 6.9M Sep  5 07:05 TN_ASOS.csv\r\n",
            "-rw-r--r-- 1 root root  43M Sep  5 07:10 TX_ASOS.csv\r\n",
            "-rw-r--r-- 1 root root 6.1M Sep  5 07:11 UT_ASOS.csv\r\n",
            "-rw-r--r-- 1 root root  13M Sep  5 07:12 VA_ASOS.csv\r\n",
            "-rw-r--r-- 1 root root 2.3M Sep  5 07:12 VT_ASOS.csv\r\n",
            "-rw-r--r-- 1 root root  12M Sep  5 07:14 WA_ASOS.csv\r\n",
            "-rw-r--r-- 1 root root  14M Sep  5 07:15 WI_ASOS.csv\r\n",
            "-rw-r--r-- 1 root root 5.3M Sep  5 07:16 WV_ASOS.csv\r\n",
            "-rw-r--r-- 1 root root 9.9M Sep  5 07:17 WY_ASOS.csv\r\n"
          ],
          "name": "stdout"
        }
      ]
    },
    {
      "metadata": {
        "id": "jzUKVpvLnNY6",
        "colab_type": "text"
      },
      "cell_type": "markdown",
      "source": [
        "### Indexes for Alignment\n",
        "\n",
        "I've saved the best for last.\n",
        "Automatic alignment, or reindexing, is fundamental to pandas.\n",
        "\n",
        "All binary operations (add, multiply, etc.) between Series/DataFrames first *align* and then proceed.\n",
        "\n",
        "Let's suppose we have hourly observations on temperature and windspeed.\n",
        "And suppose some of the observations were invalid, and not reported (simulated below by sampling from the full dataset). We'll assume the missing windspeed observations were potentially different from the missing temperature observations."
      ]
    },
    {
      "metadata": {
        "id": "WsI0Dw0AnNY7",
        "colab_type": "code",
        "colab": {}
      },
      "cell_type": "code",
      "source": [
        "dsm = weather.loc['DSM']\n",
        "\n",
        "hourly = dsm.resample('H').mean()\n",
        "\n",
        "temp = hourly['tmpf'].sample(frac=.5, random_state=1).sort_index()\n",
        "sped = hourly['sped'].sample(frac=.5, random_state=2).sort_index()"
      ],
      "execution_count": 0,
      "outputs": []
    },
    {
      "metadata": {
        "id": "jFuOBYXXnNY-",
        "colab_type": "code",
        "colab": {},
        "outputId": "d473c199-fd83-4cd6-c040-c85e8690f093"
      },
      "cell_type": "code",
      "source": [
        "temp.head().to_frame()"
      ],
      "execution_count": 0,
      "outputs": [
        {
          "output_type": "execute_result",
          "data": {
            "text/html": [
              "<div>\n",
              "<style>\n",
              "    .dataframe thead tr:only-child th {\n",
              "        text-align: right;\n",
              "    }\n",
              "\n",
              "    .dataframe thead th {\n",
              "        text-align: left;\n",
              "    }\n",
              "\n",
              "    .dataframe tbody tr th {\n",
              "        vertical-align: top;\n",
              "    }\n",
              "</style>\n",
              "<table border=\"1\" class=\"dataframe\">\n",
              "  <thead>\n",
              "    <tr style=\"text-align: right;\">\n",
              "      <th></th>\n",
              "      <th>tmpf</th>\n",
              "    </tr>\n",
              "    <tr>\n",
              "      <th>date</th>\n",
              "      <th></th>\n",
              "    </tr>\n",
              "  </thead>\n",
              "  <tbody>\n",
              "    <tr>\n",
              "      <th>2014-01-01 00:00:00</th>\n",
              "      <td>10.94</td>\n",
              "    </tr>\n",
              "    <tr>\n",
              "      <th>2014-01-01 02:00:00</th>\n",
              "      <td>10.94</td>\n",
              "    </tr>\n",
              "    <tr>\n",
              "      <th>2014-01-01 03:00:00</th>\n",
              "      <td>10.94</td>\n",
              "    </tr>\n",
              "    <tr>\n",
              "      <th>2014-01-01 04:00:00</th>\n",
              "      <td>10.04</td>\n",
              "    </tr>\n",
              "    <tr>\n",
              "      <th>2014-01-01 05:00:00</th>\n",
              "      <td>10.04</td>\n",
              "    </tr>\n",
              "  </tbody>\n",
              "</table>\n",
              "</div>"
            ],
            "text/plain": [
              "                      tmpf\n",
              "date                      \n",
              "2014-01-01 00:00:00  10.94\n",
              "2014-01-01 02:00:00  10.94\n",
              "2014-01-01 03:00:00  10.94\n",
              "2014-01-01 04:00:00  10.04\n",
              "2014-01-01 05:00:00  10.04"
            ]
          },
          "metadata": {
            "tags": []
          },
          "execution_count": 45
        }
      ]
    },
    {
      "metadata": {
        "id": "4AyIhoKWnNZE",
        "colab_type": "code",
        "colab": {},
        "outputId": "88358999-f8c3-4be6-a372-9b94e94b408c"
      },
      "cell_type": "code",
      "source": [
        "sped.head()"
      ],
      "execution_count": 0,
      "outputs": [
        {
          "output_type": "execute_result",
          "data": {
            "text/plain": [
              "date\n",
              "2014-01-01 01:00:00    11.5\n",
              "2014-01-01 02:00:00     8.1\n",
              "2014-01-01 03:00:00     9.2\n",
              "2014-01-01 04:00:00     9.2\n",
              "2014-01-01 05:00:00    10.4\n",
              "Name: sped, dtype: float64"
            ]
          },
          "metadata": {
            "tags": []
          },
          "execution_count": 46
        }
      ]
    },
    {
      "metadata": {
        "id": "oQtu7sicnNZK",
        "colab_type": "text"
      },
      "cell_type": "markdown",
      "source": [
        "Notice that the two indexes aren't identical.\n",
        "\n",
        "Suppose that the `windspeed : temperature` ratio is meaningful.\n",
        "When we go to compute that, pandas will automatically align the two by index label."
      ]
    },
    {
      "metadata": {
        "id": "iOW5yi2snNZL",
        "colab_type": "code",
        "colab": {},
        "outputId": "62cbca22-b0b4-44cc-fbd4-195d5506cc0d"
      },
      "cell_type": "code",
      "source": [
        "sped / temp"
      ],
      "execution_count": 0,
      "outputs": [
        {
          "output_type": "execute_result",
          "data": {
            "text/plain": [
              "date\n",
              "2014-01-01 00:00:00         NaN\n",
              "2014-01-01 01:00:00         NaN\n",
              "2014-01-01 02:00:00    0.740402\n",
              "2014-01-01 03:00:00    0.840951\n",
              "2014-01-01 04:00:00    0.916335\n",
              "                         ...   \n",
              "2014-01-30 13:00:00         NaN\n",
              "2014-01-30 14:00:00    0.590416\n",
              "2014-01-30 17:00:00         NaN\n",
              "2014-01-30 21:00:00         NaN\n",
              "2014-01-30 23:00:00         NaN\n",
              "Length: 550, dtype: float64"
            ]
          },
          "metadata": {
            "tags": []
          },
          "execution_count": 47
        }
      ]
    },
    {
      "metadata": {
        "id": "w7lCvLdvnNZS",
        "colab_type": "text"
      },
      "cell_type": "markdown",
      "source": [
        "This lets you focus on doing the operation, rather than manually aligning things, ensuring that the arrays are the same length and in the same order.\n",
        "By deault, missing values are inserted where the two don't align.\n",
        "You can use the method version of any binary operation to specify a `fill_value`"
      ]
    },
    {
      "metadata": {
        "id": "lV8nMUltnNZT",
        "colab_type": "code",
        "colab": {},
        "outputId": "6e4a947a-2f3c-42b4-9a4c-53e0e852fd1b"
      },
      "cell_type": "code",
      "source": [
        "sped.div(temp, fill_value=1)"
      ],
      "execution_count": 0,
      "outputs": [
        {
          "output_type": "execute_result",
          "data": {
            "text/plain": [
              "date\n",
              "2014-01-01 00:00:00     0.091408\n",
              "2014-01-01 01:00:00    11.500000\n",
              "2014-01-01 02:00:00     0.740402\n",
              "2014-01-01 03:00:00     0.840951\n",
              "2014-01-01 04:00:00     0.916335\n",
              "                         ...    \n",
              "2014-01-30 13:00:00     0.027809\n",
              "2014-01-30 14:00:00     0.590416\n",
              "2014-01-30 17:00:00     0.023267\n",
              "2014-01-30 21:00:00     0.035663\n",
              "2014-01-30 23:00:00    13.800000\n",
              "Length: 550, dtype: float64"
            ]
          },
          "metadata": {
            "tags": []
          },
          "execution_count": 48
        }
      ]
    },
    {
      "metadata": {
        "id": "ZHWX4J5KnNZW",
        "colab_type": "text"
      },
      "cell_type": "markdown",
      "source": [
        "And since I couldn't find anywhere else to put it, you can control the axis the operation is aligned along as well."
      ]
    },
    {
      "metadata": {
        "id": "c_ZEiXqenNZX",
        "colab_type": "code",
        "colab": {},
        "outputId": "bc90eb4c-6dc2-4fa4-98c3-ae49b32cb68b"
      },
      "cell_type": "code",
      "source": [
        "hourly.div(sped, axis='index')"
      ],
      "execution_count": 0,
      "outputs": [
        {
          "output_type": "execute_result",
          "data": {
            "text/html": [
              "<div>\n",
              "<style>\n",
              "    .dataframe thead tr:only-child th {\n",
              "        text-align: right;\n",
              "    }\n",
              "\n",
              "    .dataframe thead th {\n",
              "        text-align: left;\n",
              "    }\n",
              "\n",
              "    .dataframe tbody tr th {\n",
              "        vertical-align: top;\n",
              "    }\n",
              "</style>\n",
              "<table border=\"1\" class=\"dataframe\">\n",
              "  <thead>\n",
              "    <tr style=\"text-align: right;\">\n",
              "      <th></th>\n",
              "      <th>tmpf</th>\n",
              "      <th>relh</th>\n",
              "      <th>sped</th>\n",
              "      <th>mslp</th>\n",
              "      <th>p01i</th>\n",
              "      <th>vsby</th>\n",
              "      <th>gust_mph</th>\n",
              "    </tr>\n",
              "    <tr>\n",
              "      <th>date</th>\n",
              "      <th></th>\n",
              "      <th></th>\n",
              "      <th></th>\n",
              "      <th></th>\n",
              "      <th></th>\n",
              "      <th></th>\n",
              "      <th></th>\n",
              "    </tr>\n",
              "  </thead>\n",
              "  <tbody>\n",
              "    <tr>\n",
              "      <th>2014-01-01 00:00:00</th>\n",
              "      <td>NaN</td>\n",
              "      <td>NaN</td>\n",
              "      <td>NaN</td>\n",
              "      <td>NaN</td>\n",
              "      <td>NaN</td>\n",
              "      <td>NaN</td>\n",
              "      <td>NaN</td>\n",
              "    </tr>\n",
              "    <tr>\n",
              "      <th>2014-01-01 01:00:00</th>\n",
              "      <td>0.951304</td>\n",
              "      <td>6.329565</td>\n",
              "      <td>1.0</td>\n",
              "      <td>89.165217</td>\n",
              "      <td>0.0</td>\n",
              "      <td>0.869565</td>\n",
              "      <td>NaN</td>\n",
              "    </tr>\n",
              "    <tr>\n",
              "      <th>2014-01-01 02:00:00</th>\n",
              "      <td>1.350617</td>\n",
              "      <td>8.986420</td>\n",
              "      <td>1.0</td>\n",
              "      <td>126.580247</td>\n",
              "      <td>0.0</td>\n",
              "      <td>1.234568</td>\n",
              "      <td>NaN</td>\n",
              "    </tr>\n",
              "    <tr>\n",
              "      <th>2014-01-01 03:00:00</th>\n",
              "      <td>1.189130</td>\n",
              "      <td>7.911957</td>\n",
              "      <td>1.0</td>\n",
              "      <td>111.445652</td>\n",
              "      <td>0.0</td>\n",
              "      <td>1.086957</td>\n",
              "      <td>NaN</td>\n",
              "    </tr>\n",
              "    <tr>\n",
              "      <th>2014-01-01 04:00:00</th>\n",
              "      <td>1.091304</td>\n",
              "      <td>7.901087</td>\n",
              "      <td>1.0</td>\n",
              "      <td>111.380435</td>\n",
              "      <td>0.0</td>\n",
              "      <td>1.086957</td>\n",
              "      <td>NaN</td>\n",
              "    </tr>\n",
              "    <tr>\n",
              "      <th>...</th>\n",
              "      <td>...</td>\n",
              "      <td>...</td>\n",
              "      <td>...</td>\n",
              "      <td>...</td>\n",
              "      <td>...</td>\n",
              "      <td>...</td>\n",
              "      <td>...</td>\n",
              "    </tr>\n",
              "    <tr>\n",
              "      <th>2014-01-30 19:00:00</th>\n",
              "      <td>NaN</td>\n",
              "      <td>NaN</td>\n",
              "      <td>NaN</td>\n",
              "      <td>NaN</td>\n",
              "      <td>NaN</td>\n",
              "      <td>NaN</td>\n",
              "      <td>NaN</td>\n",
              "    </tr>\n",
              "    <tr>\n",
              "      <th>2014-01-30 20:00:00</th>\n",
              "      <td>NaN</td>\n",
              "      <td>NaN</td>\n",
              "      <td>NaN</td>\n",
              "      <td>NaN</td>\n",
              "      <td>NaN</td>\n",
              "      <td>NaN</td>\n",
              "      <td>NaN</td>\n",
              "    </tr>\n",
              "    <tr>\n",
              "      <th>2014-01-30 21:00:00</th>\n",
              "      <td>NaN</td>\n",
              "      <td>NaN</td>\n",
              "      <td>NaN</td>\n",
              "      <td>NaN</td>\n",
              "      <td>NaN</td>\n",
              "      <td>NaN</td>\n",
              "      <td>NaN</td>\n",
              "    </tr>\n",
              "    <tr>\n",
              "      <th>2014-01-30 22:00:00</th>\n",
              "      <td>NaN</td>\n",
              "      <td>NaN</td>\n",
              "      <td>NaN</td>\n",
              "      <td>NaN</td>\n",
              "      <td>NaN</td>\n",
              "      <td>NaN</td>\n",
              "      <td>NaN</td>\n",
              "    </tr>\n",
              "    <tr>\n",
              "      <th>2014-01-30 23:00:00</th>\n",
              "      <td>1.588406</td>\n",
              "      <td>4.502174</td>\n",
              "      <td>1.0</td>\n",
              "      <td>73.434783</td>\n",
              "      <td>0.0</td>\n",
              "      <td>0.724638</td>\n",
              "      <td>NaN</td>\n",
              "    </tr>\n",
              "  </tbody>\n",
              "</table>\n",
              "<p>720 rows × 7 columns</p>\n",
              "</div>"
            ],
            "text/plain": [
              "                         tmpf      relh  sped        mslp  p01i      vsby  \\\n",
              "date                                                                        \n",
              "2014-01-01 00:00:00       NaN       NaN   NaN         NaN   NaN       NaN   \n",
              "2014-01-01 01:00:00  0.951304  6.329565   1.0   89.165217   0.0  0.869565   \n",
              "2014-01-01 02:00:00  1.350617  8.986420   1.0  126.580247   0.0  1.234568   \n",
              "2014-01-01 03:00:00  1.189130  7.911957   1.0  111.445652   0.0  1.086957   \n",
              "2014-01-01 04:00:00  1.091304  7.901087   1.0  111.380435   0.0  1.086957   \n",
              "...                       ...       ...   ...         ...   ...       ...   \n",
              "2014-01-30 19:00:00       NaN       NaN   NaN         NaN   NaN       NaN   \n",
              "2014-01-30 20:00:00       NaN       NaN   NaN         NaN   NaN       NaN   \n",
              "2014-01-30 21:00:00       NaN       NaN   NaN         NaN   NaN       NaN   \n",
              "2014-01-30 22:00:00       NaN       NaN   NaN         NaN   NaN       NaN   \n",
              "2014-01-30 23:00:00  1.588406  4.502174   1.0   73.434783   0.0  0.724638   \n",
              "\n",
              "                     gust_mph  \n",
              "date                           \n",
              "2014-01-01 00:00:00       NaN  \n",
              "2014-01-01 01:00:00       NaN  \n",
              "2014-01-01 02:00:00       NaN  \n",
              "2014-01-01 03:00:00       NaN  \n",
              "2014-01-01 04:00:00       NaN  \n",
              "...                       ...  \n",
              "2014-01-30 19:00:00       NaN  \n",
              "2014-01-30 20:00:00       NaN  \n",
              "2014-01-30 21:00:00       NaN  \n",
              "2014-01-30 22:00:00       NaN  \n",
              "2014-01-30 23:00:00       NaN  \n",
              "\n",
              "[720 rows x 7 columns]"
            ]
          },
          "metadata": {
            "tags": []
          },
          "execution_count": 49
        }
      ]
    },
    {
      "metadata": {
        "id": "HXZlyMFDnNZa",
        "colab_type": "text"
      },
      "cell_type": "markdown",
      "source": [
        "The non row-labeled version of this is messy."
      ]
    },
    {
      "metadata": {
        "id": "Pp5mUlcjnNZc",
        "colab_type": "code",
        "colab": {},
        "outputId": "d81b4bc8-6472-47d4-dadf-914f3af99ecf"
      },
      "cell_type": "code",
      "source": [
        "temp2 = temp.reset_index()\n",
        "sped2 = sped.reset_index()\n",
        "\n",
        "# Find rows where the operation is defined\n",
        "common_dates = pd.Index(temp2.date) & sped2.date\n",
        "pd.concat([\n",
        "    # concat to not lose date information\n",
        "    sped2.loc[sped2['date'].isin(common_dates), 'date'],\n",
        "    (sped2.loc[sped2.date.isin(common_dates), 'sped'] /\n",
        "     temp2.loc[temp2.date.isin(common_dates), 'tmpf'])],\n",
        "    axis=1).dropna(how='all')"
      ],
      "execution_count": 0,
      "outputs": [
        {
          "output_type": "execute_result",
          "data": {
            "text/html": [
              "<div>\n",
              "<style>\n",
              "    .dataframe thead tr:only-child th {\n",
              "        text-align: right;\n",
              "    }\n",
              "\n",
              "    .dataframe thead th {\n",
              "        text-align: left;\n",
              "    }\n",
              "\n",
              "    .dataframe tbody tr th {\n",
              "        vertical-align: top;\n",
              "    }\n",
              "</style>\n",
              "<table border=\"1\" class=\"dataframe\">\n",
              "  <thead>\n",
              "    <tr style=\"text-align: right;\">\n",
              "      <th></th>\n",
              "      <th>date</th>\n",
              "      <th>0</th>\n",
              "    </tr>\n",
              "  </thead>\n",
              "  <tbody>\n",
              "    <tr>\n",
              "      <th>1</th>\n",
              "      <td>2014-01-01 02:00:00</td>\n",
              "      <td>0.740402</td>\n",
              "    </tr>\n",
              "    <tr>\n",
              "      <th>2</th>\n",
              "      <td>2014-01-01 03:00:00</td>\n",
              "      <td>0.840951</td>\n",
              "    </tr>\n",
              "    <tr>\n",
              "      <th>3</th>\n",
              "      <td>2014-01-01 04:00:00</td>\n",
              "      <td>0.916335</td>\n",
              "    </tr>\n",
              "    <tr>\n",
              "      <th>4</th>\n",
              "      <td>2014-01-01 05:00:00</td>\n",
              "      <td>1.035857</td>\n",
              "    </tr>\n",
              "    <tr>\n",
              "      <th>8</th>\n",
              "      <td>2014-01-01 13:00:00</td>\n",
              "      <td>NaN</td>\n",
              "    </tr>\n",
              "    <tr>\n",
              "      <th>...</th>\n",
              "      <td>...</td>\n",
              "      <td>...</td>\n",
              "    </tr>\n",
              "    <tr>\n",
              "      <th>351</th>\n",
              "      <td>2014-01-29 23:00:00</td>\n",
              "      <td>0.541495</td>\n",
              "    </tr>\n",
              "    <tr>\n",
              "      <th>354</th>\n",
              "      <td>2014-01-30 05:00:00</td>\n",
              "      <td>0.493440</td>\n",
              "    </tr>\n",
              "    <tr>\n",
              "      <th>356</th>\n",
              "      <td>2014-01-30 09:00:00</td>\n",
              "      <td>NaN</td>\n",
              "    </tr>\n",
              "    <tr>\n",
              "      <th>357</th>\n",
              "      <td>2014-01-30 10:00:00</td>\n",
              "      <td>0.624643</td>\n",
              "    </tr>\n",
              "    <tr>\n",
              "      <th>358</th>\n",
              "      <td>2014-01-30 14:00:00</td>\n",
              "      <td>NaN</td>\n",
              "    </tr>\n",
              "  </tbody>\n",
              "</table>\n",
              "<p>170 rows × 2 columns</p>\n",
              "</div>"
            ],
            "text/plain": [
              "                   date         0\n",
              "1   2014-01-01 02:00:00  0.740402\n",
              "2   2014-01-01 03:00:00  0.840951\n",
              "3   2014-01-01 04:00:00  0.916335\n",
              "4   2014-01-01 05:00:00  1.035857\n",
              "8   2014-01-01 13:00:00       NaN\n",
              "..                  ...       ...\n",
              "351 2014-01-29 23:00:00  0.541495\n",
              "354 2014-01-30 05:00:00  0.493440\n",
              "356 2014-01-30 09:00:00       NaN\n",
              "357 2014-01-30 10:00:00  0.624643\n",
              "358 2014-01-30 14:00:00       NaN\n",
              "\n",
              "[170 rows x 2 columns]"
            ]
          },
          "metadata": {
            "tags": []
          },
          "execution_count": 50
        }
      ]
    },
    {
      "metadata": {
        "id": "WzUZCNE1nNZh",
        "colab_type": "text"
      },
      "cell_type": "markdown",
      "source": [
        "And we have a bug in there. Can you spot it?\n",
        "I only grabbed the dates from `sped2` in the line `sped2.loc[sped2['date'].isin(common_dates), 'date']`.\n",
        "Really that should be `sped2.loc[sped2.date.isin(common_dates)] | temp2.loc[temp2.date.isin(common_dates)]`.\n",
        "But I think leaving the buggy version states my case even more strongly. The `temp / sped` version where pandas aligns everything is better."
      ]
    },
    {
      "metadata": {
        "id": "5dJxxAMKnNZi",
        "colab_type": "text"
      },
      "cell_type": "markdown",
      "source": [
        "## Merging\n",
        "\n",
        "There are two ways of merging DataFrames / Series in pandas.\n",
        "\n",
        "1. Relational Database style with `pd.merge`\n",
        "2. Array style with `pd.concat`\n",
        "\n",
        "Personally, I think in terms of the `concat` style.\n",
        "I learned pandas before I ever really used SQL, so it comes more naturally to me I suppose.\n",
        "\n",
        "### Concat Version"
      ]
    },
    {
      "metadata": {
        "id": "H5M6iAh_nNZj",
        "colab_type": "code",
        "colab": {},
        "outputId": "29d98735-64d9-4570-ff54-290bf3dab264"
      },
      "cell_type": "code",
      "source": [
        "pd.concat([temp, sped], axis=1).head()"
      ],
      "execution_count": 0,
      "outputs": [
        {
          "output_type": "execute_result",
          "data": {
            "text/html": [
              "<div>\n",
              "<style>\n",
              "    .dataframe thead tr:only-child th {\n",
              "        text-align: right;\n",
              "    }\n",
              "\n",
              "    .dataframe thead th {\n",
              "        text-align: left;\n",
              "    }\n",
              "\n",
              "    .dataframe tbody tr th {\n",
              "        vertical-align: top;\n",
              "    }\n",
              "</style>\n",
              "<table border=\"1\" class=\"dataframe\">\n",
              "  <thead>\n",
              "    <tr style=\"text-align: right;\">\n",
              "      <th></th>\n",
              "      <th>tmpf</th>\n",
              "      <th>sped</th>\n",
              "    </tr>\n",
              "    <tr>\n",
              "      <th>date</th>\n",
              "      <th></th>\n",
              "      <th></th>\n",
              "    </tr>\n",
              "  </thead>\n",
              "  <tbody>\n",
              "    <tr>\n",
              "      <th>2014-01-01 00:00:00</th>\n",
              "      <td>10.94</td>\n",
              "      <td>NaN</td>\n",
              "    </tr>\n",
              "    <tr>\n",
              "      <th>2014-01-01 01:00:00</th>\n",
              "      <td>NaN</td>\n",
              "      <td>11.5</td>\n",
              "    </tr>\n",
              "    <tr>\n",
              "      <th>2014-01-01 02:00:00</th>\n",
              "      <td>10.94</td>\n",
              "      <td>8.1</td>\n",
              "    </tr>\n",
              "    <tr>\n",
              "      <th>2014-01-01 03:00:00</th>\n",
              "      <td>10.94</td>\n",
              "      <td>9.2</td>\n",
              "    </tr>\n",
              "    <tr>\n",
              "      <th>2014-01-01 04:00:00</th>\n",
              "      <td>10.04</td>\n",
              "      <td>9.2</td>\n",
              "    </tr>\n",
              "  </tbody>\n",
              "</table>\n",
              "</div>"
            ],
            "text/plain": [
              "                      tmpf  sped\n",
              "date                            \n",
              "2014-01-01 00:00:00  10.94   NaN\n",
              "2014-01-01 01:00:00    NaN  11.5\n",
              "2014-01-01 02:00:00  10.94   8.1\n",
              "2014-01-01 03:00:00  10.94   9.2\n",
              "2014-01-01 04:00:00  10.04   9.2"
            ]
          },
          "metadata": {
            "tags": []
          },
          "execution_count": 51
        }
      ]
    },
    {
      "metadata": {
        "id": "1s9MoKqhnNZo",
        "colab_type": "text"
      },
      "cell_type": "markdown",
      "source": [
        "The `axis` parameter controls how the data should be stacked, `0` for vertically, `1` for horizontally.\n",
        "The `join` parameter controls the merge behavior on the shared axis, (the Index for `axis=1`). By default it's like a union of the two indexes, or an outer join."
      ]
    },
    {
      "metadata": {
        "id": "zpS_xr6nnNZo",
        "colab_type": "code",
        "colab": {},
        "outputId": "932d73e6-7148-49a2-fc75-f4cef967b2d3"
      },
      "cell_type": "code",
      "source": [
        "pd.concat([temp, sped], axis=1, join='inner')"
      ],
      "execution_count": 0,
      "outputs": [
        {
          "output_type": "execute_result",
          "data": {
            "text/html": [
              "<div>\n",
              "<style>\n",
              "    .dataframe thead tr:only-child th {\n",
              "        text-align: right;\n",
              "    }\n",
              "\n",
              "    .dataframe thead th {\n",
              "        text-align: left;\n",
              "    }\n",
              "\n",
              "    .dataframe tbody tr th {\n",
              "        vertical-align: top;\n",
              "    }\n",
              "</style>\n",
              "<table border=\"1\" class=\"dataframe\">\n",
              "  <thead>\n",
              "    <tr style=\"text-align: right;\">\n",
              "      <th></th>\n",
              "      <th>tmpf</th>\n",
              "      <th>sped</th>\n",
              "    </tr>\n",
              "    <tr>\n",
              "      <th>date</th>\n",
              "      <th></th>\n",
              "      <th></th>\n",
              "    </tr>\n",
              "  </thead>\n",
              "  <tbody>\n",
              "    <tr>\n",
              "      <th>2014-01-01 02:00:00</th>\n",
              "      <td>10.94</td>\n",
              "      <td>8.100</td>\n",
              "    </tr>\n",
              "    <tr>\n",
              "      <th>2014-01-01 03:00:00</th>\n",
              "      <td>10.94</td>\n",
              "      <td>9.200</td>\n",
              "    </tr>\n",
              "    <tr>\n",
              "      <th>2014-01-01 04:00:00</th>\n",
              "      <td>10.04</td>\n",
              "      <td>9.200</td>\n",
              "    </tr>\n",
              "    <tr>\n",
              "      <th>2014-01-01 05:00:00</th>\n",
              "      <td>10.04</td>\n",
              "      <td>10.400</td>\n",
              "    </tr>\n",
              "    <tr>\n",
              "      <th>2014-01-01 13:00:00</th>\n",
              "      <td>8.96</td>\n",
              "      <td>13.825</td>\n",
              "    </tr>\n",
              "    <tr>\n",
              "      <th>...</th>\n",
              "      <td>...</td>\n",
              "      <td>...</td>\n",
              "    </tr>\n",
              "    <tr>\n",
              "      <th>2014-01-29 23:00:00</th>\n",
              "      <td>35.96</td>\n",
              "      <td>18.400</td>\n",
              "    </tr>\n",
              "    <tr>\n",
              "      <th>2014-01-30 05:00:00</th>\n",
              "      <td>33.98</td>\n",
              "      <td>17.300</td>\n",
              "    </tr>\n",
              "    <tr>\n",
              "      <th>2014-01-30 09:00:00</th>\n",
              "      <td>35.06</td>\n",
              "      <td>16.100</td>\n",
              "    </tr>\n",
              "    <tr>\n",
              "      <th>2014-01-30 10:00:00</th>\n",
              "      <td>35.06</td>\n",
              "      <td>21.900</td>\n",
              "    </tr>\n",
              "    <tr>\n",
              "      <th>2014-01-30 14:00:00</th>\n",
              "      <td>35.06</td>\n",
              "      <td>20.700</td>\n",
              "    </tr>\n",
              "  </tbody>\n",
              "</table>\n",
              "<p>170 rows × 2 columns</p>\n",
              "</div>"
            ],
            "text/plain": [
              "                      tmpf    sped\n",
              "date                              \n",
              "2014-01-01 02:00:00  10.94   8.100\n",
              "2014-01-01 03:00:00  10.94   9.200\n",
              "2014-01-01 04:00:00  10.04   9.200\n",
              "2014-01-01 05:00:00  10.04  10.400\n",
              "2014-01-01 13:00:00   8.96  13.825\n",
              "...                    ...     ...\n",
              "2014-01-29 23:00:00  35.96  18.400\n",
              "2014-01-30 05:00:00  33.98  17.300\n",
              "2014-01-30 09:00:00  35.06  16.100\n",
              "2014-01-30 10:00:00  35.06  21.900\n",
              "2014-01-30 14:00:00  35.06  20.700\n",
              "\n",
              "[170 rows x 2 columns]"
            ]
          },
          "metadata": {
            "tags": []
          },
          "execution_count": 52
        }
      ]
    },
    {
      "metadata": {
        "id": "28iiybw0nNZw",
        "colab_type": "text"
      },
      "cell_type": "markdown",
      "source": [
        "### Merge Version\n",
        "\n",
        "Since we're joining by index here the merge version is quite similar.\n",
        "We'll see an example later of a one-to-many join where the two differ."
      ]
    },
    {
      "metadata": {
        "id": "MPtV0uBYnNZx",
        "colab_type": "code",
        "colab": {},
        "outputId": "f17c36d0-3ed1-42a2-9f5f-78c28e9f61ae"
      },
      "cell_type": "code",
      "source": [
        "pd.merge(temp.to_frame(), sped.to_frame(), left_index=True, right_index=True).head()"
      ],
      "execution_count": 0,
      "outputs": [
        {
          "output_type": "execute_result",
          "data": {
            "text/html": [
              "<div>\n",
              "<style>\n",
              "    .dataframe thead tr:only-child th {\n",
              "        text-align: right;\n",
              "    }\n",
              "\n",
              "    .dataframe thead th {\n",
              "        text-align: left;\n",
              "    }\n",
              "\n",
              "    .dataframe tbody tr th {\n",
              "        vertical-align: top;\n",
              "    }\n",
              "</style>\n",
              "<table border=\"1\" class=\"dataframe\">\n",
              "  <thead>\n",
              "    <tr style=\"text-align: right;\">\n",
              "      <th></th>\n",
              "      <th>tmpf</th>\n",
              "      <th>sped</th>\n",
              "    </tr>\n",
              "    <tr>\n",
              "      <th>date</th>\n",
              "      <th></th>\n",
              "      <th></th>\n",
              "    </tr>\n",
              "  </thead>\n",
              "  <tbody>\n",
              "    <tr>\n",
              "      <th>2014-01-01 02:00:00</th>\n",
              "      <td>10.94</td>\n",
              "      <td>8.100</td>\n",
              "    </tr>\n",
              "    <tr>\n",
              "      <th>2014-01-01 03:00:00</th>\n",
              "      <td>10.94</td>\n",
              "      <td>9.200</td>\n",
              "    </tr>\n",
              "    <tr>\n",
              "      <th>2014-01-01 04:00:00</th>\n",
              "      <td>10.04</td>\n",
              "      <td>9.200</td>\n",
              "    </tr>\n",
              "    <tr>\n",
              "      <th>2014-01-01 05:00:00</th>\n",
              "      <td>10.04</td>\n",
              "      <td>10.400</td>\n",
              "    </tr>\n",
              "    <tr>\n",
              "      <th>2014-01-01 13:00:00</th>\n",
              "      <td>8.96</td>\n",
              "      <td>13.825</td>\n",
              "    </tr>\n",
              "  </tbody>\n",
              "</table>\n",
              "</div>"
            ],
            "text/plain": [
              "                      tmpf    sped\n",
              "date                              \n",
              "2014-01-01 02:00:00  10.94   8.100\n",
              "2014-01-01 03:00:00  10.94   9.200\n",
              "2014-01-01 04:00:00  10.04   9.200\n",
              "2014-01-01 05:00:00  10.04  10.400\n",
              "2014-01-01 13:00:00   8.96  13.825"
            ]
          },
          "metadata": {
            "tags": []
          },
          "execution_count": 53
        }
      ]
    },
    {
      "metadata": {
        "id": "ZbWE4e4OnNZ8",
        "colab_type": "code",
        "colab": {},
        "outputId": "46550ad6-de5a-43f8-b7c7-30b79aa63938"
      },
      "cell_type": "code",
      "source": [
        "pd.merge(temp.to_frame(), sped.to_frame(), left_index=True, right_index=True,\n",
        "         how='outer').head()"
      ],
      "execution_count": 0,
      "outputs": [
        {
          "output_type": "execute_result",
          "data": {
            "text/html": [
              "<div>\n",
              "<style>\n",
              "    .dataframe thead tr:only-child th {\n",
              "        text-align: right;\n",
              "    }\n",
              "\n",
              "    .dataframe thead th {\n",
              "        text-align: left;\n",
              "    }\n",
              "\n",
              "    .dataframe tbody tr th {\n",
              "        vertical-align: top;\n",
              "    }\n",
              "</style>\n",
              "<table border=\"1\" class=\"dataframe\">\n",
              "  <thead>\n",
              "    <tr style=\"text-align: right;\">\n",
              "      <th></th>\n",
              "      <th>tmpf</th>\n",
              "      <th>sped</th>\n",
              "    </tr>\n",
              "    <tr>\n",
              "      <th>date</th>\n",
              "      <th></th>\n",
              "      <th></th>\n",
              "    </tr>\n",
              "  </thead>\n",
              "  <tbody>\n",
              "    <tr>\n",
              "      <th>2014-01-01 00:00:00</th>\n",
              "      <td>10.94</td>\n",
              "      <td>NaN</td>\n",
              "    </tr>\n",
              "    <tr>\n",
              "      <th>2014-01-01 01:00:00</th>\n",
              "      <td>NaN</td>\n",
              "      <td>11.5</td>\n",
              "    </tr>\n",
              "    <tr>\n",
              "      <th>2014-01-01 02:00:00</th>\n",
              "      <td>10.94</td>\n",
              "      <td>8.1</td>\n",
              "    </tr>\n",
              "    <tr>\n",
              "      <th>2014-01-01 03:00:00</th>\n",
              "      <td>10.94</td>\n",
              "      <td>9.2</td>\n",
              "    </tr>\n",
              "    <tr>\n",
              "      <th>2014-01-01 04:00:00</th>\n",
              "      <td>10.04</td>\n",
              "      <td>9.2</td>\n",
              "    </tr>\n",
              "  </tbody>\n",
              "</table>\n",
              "</div>"
            ],
            "text/plain": [
              "                      tmpf  sped\n",
              "date                            \n",
              "2014-01-01 00:00:00  10.94   NaN\n",
              "2014-01-01 01:00:00    NaN  11.5\n",
              "2014-01-01 02:00:00  10.94   8.1\n",
              "2014-01-01 03:00:00  10.94   9.2\n",
              "2014-01-01 04:00:00  10.04   9.2"
            ]
          },
          "metadata": {
            "tags": []
          },
          "execution_count": 54
        }
      ]
    },
    {
      "metadata": {
        "id": "8TnXmvDCnNZ-",
        "colab_type": "text"
      },
      "cell_type": "markdown",
      "source": [
        "Like I said, I typically prefer `concat` to `merge`.\n",
        "The exception here is one-to-many type joins. Let's walk through one of those,\n",
        "where we join the flight data to the weather data.\n",
        "To focus just on the merge, we'll aggregate hour weather data to be daily, rather than trying to find the closest recorded weather observation to each departure (you could do that, but it's not the focus right now). We'll then join the one `(airport, date)` record to the many `(airport, date, flight)` records.\n",
        "\n",
        "Quick tangent, to get the weather data to daily frequency, we'll need to resample (more on that in the timeseries section). The resample essentially splits the recorded values into daily buckets and computes the aggregation function on each bucket. The only wrinkle is that we have to resample *by station*, so we'll use the `pd.TimeGrouper` helper."
      ]
    },
    {
      "metadata": {
        "id": "el5Vn5tBnNZ_",
        "colab_type": "code",
        "colab": {}
      },
      "cell_type": "code",
      "source": [
        "idx_cols = ['unique_carrier', 'origin', 'dest', 'tail_num', 'fl_num', 'fl_date']\n",
        "data_cols = ['crs_dep_time', 'dep_delay', 'crs_arr_time', 'arr_delay',\n",
        "             'taxi_out', 'taxi_in', 'wheels_off', 'wheels_on']\n",
        "\n",
        "df = flights.set_index(idx_cols)[data_cols].sort_index()"
      ],
      "execution_count": 0,
      "outputs": []
    },
    {
      "metadata": {
        "id": "v8i18q9KnNaB",
        "colab_type": "code",
        "colab": {},
        "outputId": "dec65854-6220-4546-f1d5-002cf301fe9b"
      },
      "cell_type": "code",
      "source": [
        "def mode(x):\n",
        "    '''\n",
        "    Arbitrarily break ties.\n",
        "    '''\n",
        "    return x.value_counts().index[0]\n",
        "\n",
        "aggfuncs = {'tmpf': 'mean', 'relh': 'mean',\n",
        "            'sped': 'mean', 'mslp': 'mean',\n",
        "            'p01i': 'mean', 'vsby': 'mean',\n",
        "            'gust_mph': 'mean', 'skyc1': mode,\n",
        "            'skyc2': mode, 'skyc3': mode}\n",
        "# TimeGrouper works on a DatetimeIndex, so we move `station` to the\n",
        "# columns and then groupby it as well.\n",
        "daily = (weather.reset_index(level=\"station\")\n",
        "                .groupby([pd.TimeGrouper('1d'), \"station\"])\n",
        "                .agg(aggfuncs))\n",
        "\n",
        "daily.head()"
      ],
      "execution_count": 0,
      "outputs": [
        {
          "output_type": "execute_result",
          "data": {
            "text/html": [
              "<div>\n",
              "<style>\n",
              "    .dataframe thead tr:only-child th {\n",
              "        text-align: right;\n",
              "    }\n",
              "\n",
              "    .dataframe thead th {\n",
              "        text-align: left;\n",
              "    }\n",
              "\n",
              "    .dataframe tbody tr th {\n",
              "        vertical-align: top;\n",
              "    }\n",
              "</style>\n",
              "<table border=\"1\" class=\"dataframe\">\n",
              "  <thead>\n",
              "    <tr style=\"text-align: right;\">\n",
              "      <th></th>\n",
              "      <th></th>\n",
              "      <th>tmpf</th>\n",
              "      <th>relh</th>\n",
              "      <th>sped</th>\n",
              "      <th>mslp</th>\n",
              "      <th>p01i</th>\n",
              "      <th>vsby</th>\n",
              "      <th>gust_mph</th>\n",
              "      <th>skyc1</th>\n",
              "      <th>skyc2</th>\n",
              "      <th>skyc3</th>\n",
              "    </tr>\n",
              "    <tr>\n",
              "      <th>date</th>\n",
              "      <th>station</th>\n",
              "      <th></th>\n",
              "      <th></th>\n",
              "      <th></th>\n",
              "      <th></th>\n",
              "      <th></th>\n",
              "      <th></th>\n",
              "      <th></th>\n",
              "      <th></th>\n",
              "      <th></th>\n",
              "      <th></th>\n",
              "    </tr>\n",
              "  </thead>\n",
              "  <tbody>\n",
              "    <tr>\n",
              "      <th rowspan=\"5\" valign=\"top\">2014-01-01</th>\n",
              "      <th>01M</th>\n",
              "      <td>35.747500</td>\n",
              "      <td>81.117917</td>\n",
              "      <td>2.294444</td>\n",
              "      <td>NaN</td>\n",
              "      <td>0.0</td>\n",
              "      <td>9.229167</td>\n",
              "      <td>NaN</td>\n",
              "      <td>CLR</td>\n",
              "      <td>M</td>\n",
              "      <td>M</td>\n",
              "    </tr>\n",
              "    <tr>\n",
              "      <th>04V</th>\n",
              "      <td>18.350000</td>\n",
              "      <td>72.697778</td>\n",
              "      <td>11.250000</td>\n",
              "      <td>NaN</td>\n",
              "      <td>0.0</td>\n",
              "      <td>9.861111</td>\n",
              "      <td>31.603571</td>\n",
              "      <td>CLR</td>\n",
              "      <td>M</td>\n",
              "      <td>M</td>\n",
              "    </tr>\n",
              "    <tr>\n",
              "      <th>04W</th>\n",
              "      <td>-9.075000</td>\n",
              "      <td>69.908056</td>\n",
              "      <td>3.647222</td>\n",
              "      <td>NaN</td>\n",
              "      <td>0.0</td>\n",
              "      <td>10.000000</td>\n",
              "      <td>NaN</td>\n",
              "      <td>OVC</td>\n",
              "      <td>M</td>\n",
              "      <td>M</td>\n",
              "    </tr>\n",
              "    <tr>\n",
              "      <th>05U</th>\n",
              "      <td>26.321127</td>\n",
              "      <td>71.519859</td>\n",
              "      <td>3.829577</td>\n",
              "      <td>NaN</td>\n",
              "      <td>0.0</td>\n",
              "      <td>9.929577</td>\n",
              "      <td>NaN</td>\n",
              "      <td>CLR</td>\n",
              "      <td>M</td>\n",
              "      <td>M</td>\n",
              "    </tr>\n",
              "    <tr>\n",
              "      <th>06D</th>\n",
              "      <td>-11.388060</td>\n",
              "      <td>73.784179</td>\n",
              "      <td>5.359722</td>\n",
              "      <td>NaN</td>\n",
              "      <td>0.0</td>\n",
              "      <td>9.576389</td>\n",
              "      <td>NaN</td>\n",
              "      <td>CLR</td>\n",
              "      <td>M</td>\n",
              "      <td>M</td>\n",
              "    </tr>\n",
              "  </tbody>\n",
              "</table>\n",
              "</div>"
            ],
            "text/plain": [
              "                         tmpf       relh       sped  mslp  p01i       vsby  \\\n",
              "date       station                                                           \n",
              "2014-01-01 01M      35.747500  81.117917   2.294444   NaN   0.0   9.229167   \n",
              "           04V      18.350000  72.697778  11.250000   NaN   0.0   9.861111   \n",
              "           04W      -9.075000  69.908056   3.647222   NaN   0.0  10.000000   \n",
              "           05U      26.321127  71.519859   3.829577   NaN   0.0   9.929577   \n",
              "           06D     -11.388060  73.784179   5.359722   NaN   0.0   9.576389   \n",
              "\n",
              "                     gust_mph skyc1 skyc2 skyc3  \n",
              "date       station                               \n",
              "2014-01-01 01M            NaN   CLR     M     M  \n",
              "           04V      31.603571   CLR     M     M  \n",
              "           04W            NaN   OVC     M     M  \n",
              "           05U            NaN   CLR     M     M  \n",
              "           06D            NaN   CLR     M     M  "
            ]
          },
          "metadata": {
            "tags": []
          },
          "execution_count": 57
        }
      ]
    },
    {
      "metadata": {
        "id": "HB3Js9rHnNaG",
        "colab_type": "text"
      },
      "cell_type": "markdown",
      "source": [
        "Now that we have daily flight and weather data, we can merge.\n",
        "We'll use the `on` keyword to indicate the columns we'll merge on (this is like a `USING (...)` SQL statement), we just have to make sure the names align."
      ]
    },
    {
      "metadata": {
        "id": "CtC-PHzpnNaH",
        "colab_type": "code",
        "colab": {},
        "outputId": "a294b860-5280-4ace-e335-e149e1c99161"
      },
      "cell_type": "code",
      "source": [
        "flights.fl_date.unique()"
      ],
      "execution_count": 0,
      "outputs": [
        {
          "output_type": "execute_result",
          "data": {
            "text/plain": [
              "array(['2017-01-01T00:00:00.000000000', '2017-01-02T00:00:00.000000000',\n",
              "       '2017-01-03T00:00:00.000000000', '2017-01-04T00:00:00.000000000',\n",
              "       '2017-01-05T00:00:00.000000000', '2017-01-06T00:00:00.000000000',\n",
              "       '2017-01-07T00:00:00.000000000', '2017-01-08T00:00:00.000000000',\n",
              "       '2017-01-09T00:00:00.000000000', '2017-01-10T00:00:00.000000000',\n",
              "       '2017-01-11T00:00:00.000000000', '2017-01-12T00:00:00.000000000',\n",
              "       '2017-01-13T00:00:00.000000000', '2017-01-14T00:00:00.000000000',\n",
              "       '2017-01-15T00:00:00.000000000', '2017-01-16T00:00:00.000000000',\n",
              "       '2017-01-17T00:00:00.000000000', '2017-01-18T00:00:00.000000000',\n",
              "       '2017-01-19T00:00:00.000000000', '2017-01-20T00:00:00.000000000',\n",
              "       '2017-01-21T00:00:00.000000000', '2017-01-22T00:00:00.000000000',\n",
              "       '2017-01-23T00:00:00.000000000', '2017-01-24T00:00:00.000000000',\n",
              "       '2017-01-25T00:00:00.000000000', '2017-01-26T00:00:00.000000000',\n",
              "       '2017-01-27T00:00:00.000000000', '2017-01-28T00:00:00.000000000',\n",
              "       '2017-01-29T00:00:00.000000000', '2017-01-30T00:00:00.000000000',\n",
              "       '2017-01-31T00:00:00.000000000'], dtype='datetime64[ns]')"
            ]
          },
          "metadata": {
            "tags": []
          },
          "execution_count": 64
        }
      ]
    },
    {
      "metadata": {
        "id": "-rdqzwe4nNaM",
        "colab_type": "code",
        "colab": {},
        "outputId": "50ea1f6d-e2f9-4bfb-cfc0-e26f3cc2e931"
      },
      "cell_type": "code",
      "source": [
        "flights.origin.unique()"
      ],
      "execution_count": 0,
      "outputs": [
        {
          "output_type": "execute_result",
          "data": {
            "text/plain": [
              "[ORD, LAS, DCA, TPA, PHL, ..., YAK, ELM, MOT, LSE, TKI]\n",
              "Length: 298\n",
              "Categories (298, object): [ORD, LAS, DCA, TPA, ..., ELM, MOT, LSE, TKI]"
            ]
          },
          "metadata": {
            "tags": []
          },
          "execution_count": 65
        }
      ]
    },
    {
      "metadata": {
        "id": "zcNfDquynNaQ",
        "colab_type": "code",
        "colab": {},
        "outputId": "ca49af25-117a-4d2a-c89f-cca461592161"
      },
      "cell_type": "code",
      "source": [
        "daily.reset_index().date.unique()"
      ],
      "execution_count": 0,
      "outputs": [
        {
          "output_type": "execute_result",
          "data": {
            "text/plain": [
              "array(['2014-01-01T00:00:00.000000000', '2014-01-02T00:00:00.000000000',\n",
              "       '2014-01-03T00:00:00.000000000', '2014-01-04T00:00:00.000000000',\n",
              "       '2014-01-05T00:00:00.000000000', '2014-01-06T00:00:00.000000000',\n",
              "       '2014-01-07T00:00:00.000000000', '2014-01-08T00:00:00.000000000',\n",
              "       '2014-01-09T00:00:00.000000000', '2014-01-10T00:00:00.000000000',\n",
              "       '2014-01-11T00:00:00.000000000', '2014-01-12T00:00:00.000000000',\n",
              "       '2014-01-13T00:00:00.000000000', '2014-01-14T00:00:00.000000000',\n",
              "       '2014-01-15T00:00:00.000000000', '2014-01-16T00:00:00.000000000',\n",
              "       '2014-01-17T00:00:00.000000000', '2014-01-18T00:00:00.000000000',\n",
              "       '2014-01-19T00:00:00.000000000', '2014-01-20T00:00:00.000000000',\n",
              "       '2014-01-21T00:00:00.000000000', '2014-01-22T00:00:00.000000000',\n",
              "       '2014-01-23T00:00:00.000000000', '2014-01-24T00:00:00.000000000',\n",
              "       '2014-01-25T00:00:00.000000000', '2014-01-26T00:00:00.000000000',\n",
              "       '2014-01-27T00:00:00.000000000', '2014-01-28T00:00:00.000000000',\n",
              "       '2014-01-29T00:00:00.000000000', '2014-01-30T00:00:00.000000000'], dtype='datetime64[ns]')"
            ]
          },
          "metadata": {
            "tags": []
          },
          "execution_count": 66
        }
      ]
    },
    {
      "metadata": {
        "id": "eaKtO9pfnNaZ",
        "colab_type": "code",
        "colab": {},
        "outputId": "4a052241-233c-4f49-d6cf-62ef3d9d825b"
      },
      "cell_type": "code",
      "source": [
        "daily.reset_index().station.unique()"
      ],
      "execution_count": 0,
      "outputs": [
        {
          "output_type": "execute_result",
          "data": {
            "text/plain": [
              "array(['01M', '04V', '04W', ..., 'NR02', '0CO', 'AXV'], dtype=object)"
            ]
          },
          "metadata": {
            "tags": []
          },
          "execution_count": 67
        }
      ]
    },
    {
      "metadata": {
        "id": "JWn76CyYnNac",
        "colab_type": "text"
      },
      "cell_type": "markdown",
      "source": [
        "### The merge version"
      ]
    },
    {
      "metadata": {
        "id": "VC1NIFA0nNaf",
        "colab_type": "code",
        "colab": {}
      },
      "cell_type": "code",
      "source": [
        "daily_ = (\n",
        "    daily\n",
        "    .reset_index()\n",
        "    .rename(columns={'date': 'fl_date', 'station': 'origin'})\n",
        "    .assign(origin=lambda x: pd.Categorical(x.origin,\n",
        "                                            categories=flights.origin.cat.categories))\n",
        ")"
      ],
      "execution_count": 0,
      "outputs": []
    },
    {
      "metadata": {
        "id": "USr5AA5TnNam",
        "colab_type": "code",
        "colab": {},
        "outputId": "dc60fb2d-a5ab-4f30-dffd-093374e76c54"
      },
      "cell_type": "code",
      "source": [
        "flights.fl_date.unique()"
      ],
      "execution_count": 0,
      "outputs": [
        {
          "output_type": "execute_result",
          "data": {
            "text/plain": [
              "array(['2017-01-01T00:00:00.000000000', '2017-01-02T00:00:00.000000000',\n",
              "       '2017-01-03T00:00:00.000000000', '2017-01-04T00:00:00.000000000',\n",
              "       '2017-01-05T00:00:00.000000000', '2017-01-06T00:00:00.000000000',\n",
              "       '2017-01-07T00:00:00.000000000', '2017-01-08T00:00:00.000000000',\n",
              "       '2017-01-09T00:00:00.000000000', '2017-01-10T00:00:00.000000000',\n",
              "       '2017-01-11T00:00:00.000000000', '2017-01-12T00:00:00.000000000',\n",
              "       '2017-01-13T00:00:00.000000000', '2017-01-14T00:00:00.000000000',\n",
              "       '2017-01-15T00:00:00.000000000', '2017-01-16T00:00:00.000000000',\n",
              "       '2017-01-17T00:00:00.000000000', '2017-01-18T00:00:00.000000000',\n",
              "       '2017-01-19T00:00:00.000000000', '2017-01-20T00:00:00.000000000',\n",
              "       '2017-01-21T00:00:00.000000000', '2017-01-22T00:00:00.000000000',\n",
              "       '2017-01-23T00:00:00.000000000', '2017-01-24T00:00:00.000000000',\n",
              "       '2017-01-25T00:00:00.000000000', '2017-01-26T00:00:00.000000000',\n",
              "       '2017-01-27T00:00:00.000000000', '2017-01-28T00:00:00.000000000',\n",
              "       '2017-01-29T00:00:00.000000000', '2017-01-30T00:00:00.000000000',\n",
              "       '2017-01-31T00:00:00.000000000'], dtype='datetime64[ns]')"
            ]
          },
          "metadata": {
            "tags": []
          },
          "execution_count": 99
        }
      ]
    },
    {
      "metadata": {
        "id": "trSwV_4pnNas",
        "colab_type": "code",
        "colab": {},
        "outputId": "7b88cf01-31ed-4c40-e75d-f1cb31bb9fca"
      },
      "cell_type": "code",
      "source": [
        "daily.reset_index().date.unique()"
      ],
      "execution_count": 0,
      "outputs": [
        {
          "output_type": "execute_result",
          "data": {
            "text/plain": [
              "array(['2014-01-01T00:00:00.000000000', '2014-01-02T00:00:00.000000000',\n",
              "       '2014-01-03T00:00:00.000000000', '2014-01-04T00:00:00.000000000',\n",
              "       '2014-01-05T00:00:00.000000000', '2014-01-06T00:00:00.000000000',\n",
              "       '2014-01-07T00:00:00.000000000', '2014-01-08T00:00:00.000000000',\n",
              "       '2014-01-09T00:00:00.000000000', '2014-01-10T00:00:00.000000000',\n",
              "       '2014-01-11T00:00:00.000000000', '2014-01-12T00:00:00.000000000',\n",
              "       '2014-01-13T00:00:00.000000000', '2014-01-14T00:00:00.000000000',\n",
              "       '2014-01-15T00:00:00.000000000', '2014-01-16T00:00:00.000000000',\n",
              "       '2014-01-17T00:00:00.000000000', '2014-01-18T00:00:00.000000000',\n",
              "       '2014-01-19T00:00:00.000000000', '2014-01-20T00:00:00.000000000',\n",
              "       '2014-01-21T00:00:00.000000000', '2014-01-22T00:00:00.000000000',\n",
              "       '2014-01-23T00:00:00.000000000', '2014-01-24T00:00:00.000000000',\n",
              "       '2014-01-25T00:00:00.000000000', '2014-01-26T00:00:00.000000000',\n",
              "       '2014-01-27T00:00:00.000000000', '2014-01-28T00:00:00.000000000',\n",
              "       '2014-01-29T00:00:00.000000000', '2014-01-30T00:00:00.000000000'], dtype='datetime64[ns]')"
            ]
          },
          "metadata": {
            "tags": []
          },
          "execution_count": 102
        }
      ]
    },
    {
      "metadata": {
        "id": "Dw6GAFYmnNav",
        "colab_type": "code",
        "colab": {},
        "outputId": "1c912a51-70c0-4dd9-d570-5e254261bdf0"
      },
      "cell_type": "code",
      "source": [
        "m = pd.merge(flights, daily_,\n",
        "             on=['fl_date', 'origin']).set_index(idx_cols).sort_index()\n",
        "\n",
        "m.head()"
      ],
      "execution_count": 0,
      "outputs": [
        {
          "output_type": "execute_result",
          "data": {
            "text/html": [
              "<div>\n",
              "<style>\n",
              "    .dataframe thead tr:only-child th {\n",
              "        text-align: right;\n",
              "    }\n",
              "\n",
              "    .dataframe thead th {\n",
              "        text-align: left;\n",
              "    }\n",
              "\n",
              "    .dataframe tbody tr th {\n",
              "        vertical-align: top;\n",
              "    }\n",
              "</style>\n",
              "<table border=\"1\" class=\"dataframe\">\n",
              "  <thead>\n",
              "    <tr style=\"text-align: right;\">\n",
              "      <th></th>\n",
              "      <th></th>\n",
              "      <th></th>\n",
              "      <th></th>\n",
              "      <th></th>\n",
              "      <th></th>\n",
              "      <th>airline_id</th>\n",
              "      <th>origin_airport_id</th>\n",
              "      <th>origin_airport_seq_id</th>\n",
              "      <th>origin_city_market_id</th>\n",
              "      <th>origin_city_name</th>\n",
              "      <th>dest_airport_id</th>\n",
              "      <th>dest_airport_seq_id</th>\n",
              "      <th>dest_city_market_id</th>\n",
              "      <th>dest_city_name</th>\n",
              "      <th>crs_dep_time</th>\n",
              "      <th>...</th>\n",
              "      <th>tmpf</th>\n",
              "      <th>relh</th>\n",
              "      <th>sped</th>\n",
              "      <th>mslp</th>\n",
              "      <th>p01i</th>\n",
              "      <th>vsby</th>\n",
              "      <th>gust_mph</th>\n",
              "      <th>skyc1</th>\n",
              "      <th>skyc2</th>\n",
              "      <th>skyc3</th>\n",
              "    </tr>\n",
              "    <tr>\n",
              "      <th>unique_carrier</th>\n",
              "      <th>origin</th>\n",
              "      <th>dest</th>\n",
              "      <th>tail_num</th>\n",
              "      <th>fl_num</th>\n",
              "      <th>fl_date</th>\n",
              "      <th></th>\n",
              "      <th></th>\n",
              "      <th></th>\n",
              "      <th></th>\n",
              "      <th></th>\n",
              "      <th></th>\n",
              "      <th></th>\n",
              "      <th></th>\n",
              "      <th></th>\n",
              "      <th></th>\n",
              "      <th></th>\n",
              "      <th></th>\n",
              "      <th></th>\n",
              "      <th></th>\n",
              "      <th></th>\n",
              "      <th></th>\n",
              "      <th></th>\n",
              "      <th></th>\n",
              "      <th></th>\n",
              "      <th></th>\n",
              "      <th></th>\n",
              "    </tr>\n",
              "  </thead>\n",
              "  <tbody>\n",
              "    <tr>\n",
              "      <th rowspan=\"5\" valign=\"top\">OO</th>\n",
              "      <th rowspan=\"5\" valign=\"top\">YUM</th>\n",
              "      <th rowspan=\"5\" valign=\"top\">PHX</th>\n",
              "      <th rowspan=\"5\" valign=\"top\">N423SW</th>\n",
              "      <th rowspan=\"5\" valign=\"top\">3068</th>\n",
              "      <th>2017-01-31</th>\n",
              "      <td>20304</td>\n",
              "      <td>16218</td>\n",
              "      <td>1621801</td>\n",
              "      <td>33785</td>\n",
              "      <td>Yuma</td>\n",
              "      <td>14107</td>\n",
              "      <td>1410702</td>\n",
              "      <td>30466</td>\n",
              "      <td>Phoenix</td>\n",
              "      <td>2017-01-31 11:30:00</td>\n",
              "      <td>...</td>\n",
              "      <td>35.747500</td>\n",
              "      <td>81.117917</td>\n",
              "      <td>2.294444</td>\n",
              "      <td>NaN</td>\n",
              "      <td>0.0</td>\n",
              "      <td>9.229167</td>\n",
              "      <td>NaN</td>\n",
              "      <td>CLR</td>\n",
              "      <td>M</td>\n",
              "      <td>M</td>\n",
              "    </tr>\n",
              "    <tr>\n",
              "      <th>2017-01-31</th>\n",
              "      <td>20304</td>\n",
              "      <td>16218</td>\n",
              "      <td>1621801</td>\n",
              "      <td>33785</td>\n",
              "      <td>Yuma</td>\n",
              "      <td>14107</td>\n",
              "      <td>1410702</td>\n",
              "      <td>30466</td>\n",
              "      <td>Phoenix</td>\n",
              "      <td>2017-01-31 11:30:00</td>\n",
              "      <td>...</td>\n",
              "      <td>18.350000</td>\n",
              "      <td>72.697778</td>\n",
              "      <td>11.250000</td>\n",
              "      <td>NaN</td>\n",
              "      <td>0.0</td>\n",
              "      <td>9.861111</td>\n",
              "      <td>31.603571</td>\n",
              "      <td>CLR</td>\n",
              "      <td>M</td>\n",
              "      <td>M</td>\n",
              "    </tr>\n",
              "    <tr>\n",
              "      <th>2017-01-31</th>\n",
              "      <td>20304</td>\n",
              "      <td>16218</td>\n",
              "      <td>1621801</td>\n",
              "      <td>33785</td>\n",
              "      <td>Yuma</td>\n",
              "      <td>14107</td>\n",
              "      <td>1410702</td>\n",
              "      <td>30466</td>\n",
              "      <td>Phoenix</td>\n",
              "      <td>2017-01-31 11:30:00</td>\n",
              "      <td>...</td>\n",
              "      <td>-9.075000</td>\n",
              "      <td>69.908056</td>\n",
              "      <td>3.647222</td>\n",
              "      <td>NaN</td>\n",
              "      <td>0.0</td>\n",
              "      <td>10.000000</td>\n",
              "      <td>NaN</td>\n",
              "      <td>OVC</td>\n",
              "      <td>M</td>\n",
              "      <td>M</td>\n",
              "    </tr>\n",
              "    <tr>\n",
              "      <th>2017-01-31</th>\n",
              "      <td>20304</td>\n",
              "      <td>16218</td>\n",
              "      <td>1621801</td>\n",
              "      <td>33785</td>\n",
              "      <td>Yuma</td>\n",
              "      <td>14107</td>\n",
              "      <td>1410702</td>\n",
              "      <td>30466</td>\n",
              "      <td>Phoenix</td>\n",
              "      <td>2017-01-31 11:30:00</td>\n",
              "      <td>...</td>\n",
              "      <td>26.321127</td>\n",
              "      <td>71.519859</td>\n",
              "      <td>3.829577</td>\n",
              "      <td>NaN</td>\n",
              "      <td>0.0</td>\n",
              "      <td>9.929577</td>\n",
              "      <td>NaN</td>\n",
              "      <td>CLR</td>\n",
              "      <td>M</td>\n",
              "      <td>M</td>\n",
              "    </tr>\n",
              "    <tr>\n",
              "      <th>2017-01-31</th>\n",
              "      <td>20304</td>\n",
              "      <td>16218</td>\n",
              "      <td>1621801</td>\n",
              "      <td>33785</td>\n",
              "      <td>Yuma</td>\n",
              "      <td>14107</td>\n",
              "      <td>1410702</td>\n",
              "      <td>30466</td>\n",
              "      <td>Phoenix</td>\n",
              "      <td>2017-01-31 11:30:00</td>\n",
              "      <td>...</td>\n",
              "      <td>-11.388060</td>\n",
              "      <td>73.784179</td>\n",
              "      <td>5.359722</td>\n",
              "      <td>NaN</td>\n",
              "      <td>0.0</td>\n",
              "      <td>9.576389</td>\n",
              "      <td>NaN</td>\n",
              "      <td>CLR</td>\n",
              "      <td>M</td>\n",
              "      <td>M</td>\n",
              "    </tr>\n",
              "  </tbody>\n",
              "</table>\n",
              "<p>5 rows × 37 columns</p>\n",
              "</div>"
            ],
            "text/plain": [
              "                                                       airline_id  \\\n",
              "unique_carrier origin dest tail_num fl_num fl_date                  \n",
              "OO             YUM    PHX  N423SW   3068   2017-01-31       20304   \n",
              "                                           2017-01-31       20304   \n",
              "                                           2017-01-31       20304   \n",
              "                                           2017-01-31       20304   \n",
              "                                           2017-01-31       20304   \n",
              "\n",
              "                                                       origin_airport_id  \\\n",
              "unique_carrier origin dest tail_num fl_num fl_date                         \n",
              "OO             YUM    PHX  N423SW   3068   2017-01-31              16218   \n",
              "                                           2017-01-31              16218   \n",
              "                                           2017-01-31              16218   \n",
              "                                           2017-01-31              16218   \n",
              "                                           2017-01-31              16218   \n",
              "\n",
              "                                                       origin_airport_seq_id  \\\n",
              "unique_carrier origin dest tail_num fl_num fl_date                             \n",
              "OO             YUM    PHX  N423SW   3068   2017-01-31                1621801   \n",
              "                                           2017-01-31                1621801   \n",
              "                                           2017-01-31                1621801   \n",
              "                                           2017-01-31                1621801   \n",
              "                                           2017-01-31                1621801   \n",
              "\n",
              "                                                       origin_city_market_id  \\\n",
              "unique_carrier origin dest tail_num fl_num fl_date                             \n",
              "OO             YUM    PHX  N423SW   3068   2017-01-31                  33785   \n",
              "                                           2017-01-31                  33785   \n",
              "                                           2017-01-31                  33785   \n",
              "                                           2017-01-31                  33785   \n",
              "                                           2017-01-31                  33785   \n",
              "\n",
              "                                                      origin_city_name  \\\n",
              "unique_carrier origin dest tail_num fl_num fl_date                       \n",
              "OO             YUM    PHX  N423SW   3068   2017-01-31             Yuma   \n",
              "                                           2017-01-31             Yuma   \n",
              "                                           2017-01-31             Yuma   \n",
              "                                           2017-01-31             Yuma   \n",
              "                                           2017-01-31             Yuma   \n",
              "\n",
              "                                                       dest_airport_id  \\\n",
              "unique_carrier origin dest tail_num fl_num fl_date                       \n",
              "OO             YUM    PHX  N423SW   3068   2017-01-31            14107   \n",
              "                                           2017-01-31            14107   \n",
              "                                           2017-01-31            14107   \n",
              "                                           2017-01-31            14107   \n",
              "                                           2017-01-31            14107   \n",
              "\n",
              "                                                       dest_airport_seq_id  \\\n",
              "unique_carrier origin dest tail_num fl_num fl_date                           \n",
              "OO             YUM    PHX  N423SW   3068   2017-01-31              1410702   \n",
              "                                           2017-01-31              1410702   \n",
              "                                           2017-01-31              1410702   \n",
              "                                           2017-01-31              1410702   \n",
              "                                           2017-01-31              1410702   \n",
              "\n",
              "                                                       dest_city_market_id  \\\n",
              "unique_carrier origin dest tail_num fl_num fl_date                           \n",
              "OO             YUM    PHX  N423SW   3068   2017-01-31                30466   \n",
              "                                           2017-01-31                30466   \n",
              "                                           2017-01-31                30466   \n",
              "                                           2017-01-31                30466   \n",
              "                                           2017-01-31                30466   \n",
              "\n",
              "                                                      dest_city_name  \\\n",
              "unique_carrier origin dest tail_num fl_num fl_date                     \n",
              "OO             YUM    PHX  N423SW   3068   2017-01-31        Phoenix   \n",
              "                                           2017-01-31        Phoenix   \n",
              "                                           2017-01-31        Phoenix   \n",
              "                                           2017-01-31        Phoenix   \n",
              "                                           2017-01-31        Phoenix   \n",
              "\n",
              "                                                             crs_dep_time  \\\n",
              "unique_carrier origin dest tail_num fl_num fl_date                          \n",
              "OO             YUM    PHX  N423SW   3068   2017-01-31 2017-01-31 11:30:00   \n",
              "                                           2017-01-31 2017-01-31 11:30:00   \n",
              "                                           2017-01-31 2017-01-31 11:30:00   \n",
              "                                           2017-01-31 2017-01-31 11:30:00   \n",
              "                                           2017-01-31 2017-01-31 11:30:00   \n",
              "\n",
              "                                                       ...         tmpf  \\\n",
              "unique_carrier origin dest tail_num fl_num fl_date     ...                \n",
              "OO             YUM    PHX  N423SW   3068   2017-01-31  ...    35.747500   \n",
              "                                           2017-01-31  ...    18.350000   \n",
              "                                           2017-01-31  ...    -9.075000   \n",
              "                                           2017-01-31  ...    26.321127   \n",
              "                                           2017-01-31  ...   -11.388060   \n",
              "\n",
              "                                                            relh       sped  \\\n",
              "unique_carrier origin dest tail_num fl_num fl_date                            \n",
              "OO             YUM    PHX  N423SW   3068   2017-01-31  81.117917   2.294444   \n",
              "                                           2017-01-31  72.697778  11.250000   \n",
              "                                           2017-01-31  69.908056   3.647222   \n",
              "                                           2017-01-31  71.519859   3.829577   \n",
              "                                           2017-01-31  73.784179   5.359722   \n",
              "\n",
              "                                                       mslp  p01i       vsby  \\\n",
              "unique_carrier origin dest tail_num fl_num fl_date                             \n",
              "OO             YUM    PHX  N423SW   3068   2017-01-31   NaN   0.0   9.229167   \n",
              "                                           2017-01-31   NaN   0.0   9.861111   \n",
              "                                           2017-01-31   NaN   0.0  10.000000   \n",
              "                                           2017-01-31   NaN   0.0   9.929577   \n",
              "                                           2017-01-31   NaN   0.0   9.576389   \n",
              "\n",
              "                                                        gust_mph skyc1  skyc2  \\\n",
              "unique_carrier origin dest tail_num fl_num fl_date                              \n",
              "OO             YUM    PHX  N423SW   3068   2017-01-31        NaN   CLR      M   \n",
              "                                           2017-01-31  31.603571   CLR      M   \n",
              "                                           2017-01-31        NaN   OVC      M   \n",
              "                                           2017-01-31        NaN   CLR      M   \n",
              "                                           2017-01-31        NaN   CLR      M   \n",
              "\n",
              "                                                       skyc3  \n",
              "unique_carrier origin dest tail_num fl_num fl_date            \n",
              "OO             YUM    PHX  N423SW   3068   2017-01-31      M  \n",
              "                                           2017-01-31      M  \n",
              "                                           2017-01-31      M  \n",
              "                                           2017-01-31      M  \n",
              "                                           2017-01-31      M  \n",
              "\n",
              "[5 rows x 37 columns]"
            ]
          },
          "metadata": {
            "tags": []
          },
          "execution_count": 72
        }
      ]
    },
    {
      "metadata": {
        "id": "mThGNTOLnNay",
        "colab_type": "text"
      },
      "cell_type": "markdown",
      "source": [
        "Since data-wrangling on its own is never the goal, let's do some quick analysis.\n",
        "Seaborn makes it easy to explore bivariate relationships."
      ]
    },
    {
      "metadata": {
        "id": "Excc29gcnNaz",
        "colab_type": "text"
      },
      "cell_type": "markdown",
      "source": [
        "Looking at the various [sky coverage states](https://en.wikipedia.org/wiki/METAR#Cloud_reporting):\n",
        "\n"
      ]
    },
    {
      "metadata": {
        "id": "lz5bjraEnNa0",
        "colab_type": "code",
        "colab": {},
        "outputId": "fb0d40c4-7d36-4ae8-94e9-e1ae06bc36bd"
      },
      "cell_type": "code",
      "source": [
        "m.groupby('skyc1').dep_delay.agg(['mean', 'count']).sort_values(by='mean')"
      ],
      "execution_count": 0,
      "outputs": [
        {
          "output_type": "execute_result",
          "data": {
            "text/html": [
              "<div>\n",
              "<style>\n",
              "    .dataframe thead tr:only-child th {\n",
              "        text-align: right;\n",
              "    }\n",
              "\n",
              "    .dataframe thead th {\n",
              "        text-align: left;\n",
              "    }\n",
              "\n",
              "    .dataframe tbody tr th {\n",
              "        vertical-align: top;\n",
              "    }\n",
              "</style>\n",
              "<table border=\"1\" class=\"dataframe\">\n",
              "  <thead>\n",
              "    <tr style=\"text-align: right;\">\n",
              "      <th></th>\n",
              "      <th>mean</th>\n",
              "      <th>count</th>\n",
              "    </tr>\n",
              "    <tr>\n",
              "      <th>skyc1</th>\n",
              "      <th></th>\n",
              "      <th></th>\n",
              "    </tr>\n",
              "  </thead>\n",
              "  <tbody>\n",
              "    <tr>\n",
              "      <th>BKN</th>\n",
              "      <td>-8.0</td>\n",
              "      <td>276</td>\n",
              "    </tr>\n",
              "    <tr>\n",
              "      <th>CLR</th>\n",
              "      <td>-8.0</td>\n",
              "      <td>3033</td>\n",
              "    </tr>\n",
              "    <tr>\n",
              "      <th>FEW</th>\n",
              "      <td>-8.0</td>\n",
              "      <td>258</td>\n",
              "    </tr>\n",
              "    <tr>\n",
              "      <th>M</th>\n",
              "      <td>-8.0</td>\n",
              "      <td>180</td>\n",
              "    </tr>\n",
              "    <tr>\n",
              "      <th>OVC</th>\n",
              "      <td>-8.0</td>\n",
              "      <td>1545</td>\n",
              "    </tr>\n",
              "    <tr>\n",
              "      <th>SCT</th>\n",
              "      <td>-8.0</td>\n",
              "      <td>246</td>\n",
              "    </tr>\n",
              "    <tr>\n",
              "      <th>VV</th>\n",
              "      <td>-8.0</td>\n",
              "      <td>57</td>\n",
              "    </tr>\n",
              "  </tbody>\n",
              "</table>\n",
              "</div>"
            ],
            "text/plain": [
              "       mean  count\n",
              "skyc1             \n",
              "BKN    -8.0    276\n",
              "CLR    -8.0   3033\n",
              "FEW    -8.0    258\n",
              "M      -8.0    180\n",
              "OVC    -8.0   1545\n",
              "SCT    -8.0    246\n",
              "VV     -8.0     57"
            ]
          },
          "metadata": {
            "tags": []
          },
          "execution_count": 76
        }
      ]
    },
    {
      "metadata": {
        "id": "fFNfQs3pnNa2",
        "colab_type": "code",
        "colab": {},
        "outputId": "7c760d7c-9cba-4fa6-e400-8bd914fce961"
      },
      "cell_type": "code",
      "source": [
        "import statsmodels.api as sm"
      ],
      "execution_count": 0,
      "outputs": [
        {
          "output_type": "stream",
          "text": [
            "/Users/taugspurger/miniconda3/envs/modern-pandas/lib/python3.6/site-packages/statsmodels/compat/pandas.py:56: FutureWarning: The pandas.core.datetools module is deprecated and will be removed in a future version. Please use the pandas.tseries module instead.\n",
            "  from pandas.core import datetools\n"
          ],
          "name": "stderr"
        }
      ]
    },
    {
      "metadata": {
        "id": "-a5M1FKmnNa5",
        "colab_type": "text"
      },
      "cell_type": "markdown",
      "source": [
        "Statsmodels (via [patsy](http://patsy.readthedocs.org/) can automatically convert dummy data to dummy variables in a formula with the `C` function)."
      ]
    },
    {
      "metadata": {
        "id": "tSro7w88nNa5",
        "colab_type": "code",
        "colab": {},
        "outputId": "d9df6c3a-da88-4a55-84ab-7dd30dde74a1"
      },
      "cell_type": "code",
      "source": [
        "mod = sm.OLS.from_formula('dep_delay ~ C(skyc1) + tmpf + relh + sped + mslp', data=m)\n",
        "res = mod.fit()\n",
        "res.summary()"
      ],
      "execution_count": 0,
      "outputs": [
        {
          "output_type": "execute_result",
          "data": {
            "text/html": [
              "<table class=\"simpletable\">\n",
              "<caption>OLS Regression Results</caption>\n",
              "<tr>\n",
              "  <th>Dep. Variable:</th>        <td>dep_delay</td>    <th>  R-squared:         </th> <td>   0.000</td> \n",
              "</tr>\n",
              "<tr>\n",
              "  <th>Model:</th>                   <td>OLS</td>       <th>  Adj. R-squared:    </th> <td>  -0.004</td> \n",
              "</tr>\n",
              "<tr>\n",
              "  <th>Method:</th>             <td>Least Squares</td>  <th>  F-statistic:       </th> <td>4.527e-14</td>\n",
              "</tr>\n",
              "<tr>\n",
              "  <th>Date:</th>             <td>Fri, 01 Sep 2017</td> <th>  Prob (F-statistic):</th>  <td>  1.00</td>  \n",
              "</tr>\n",
              "<tr>\n",
              "  <th>Time:</th>                 <td>17:21:21</td>     <th>  Log-Likelihood:    </th> <td> -4390.8</td> \n",
              "</tr>\n",
              "<tr>\n",
              "  <th>No. Observations:</th>      <td>  2487</td>      <th>  AIC:               </th> <td>   8804.</td> \n",
              "</tr>\n",
              "<tr>\n",
              "  <th>Df Residuals:</th>          <td>  2476</td>      <th>  BIC:               </th> <td>   8868.</td> \n",
              "</tr>\n",
              "<tr>\n",
              "  <th>Df Model:</th>              <td>    10</td>      <th>                     </th>     <td> </td>    \n",
              "</tr>\n",
              "<tr>\n",
              "  <th>Covariance Type:</th>      <td>nonrobust</td>    <th>                     </th>     <td> </td>    \n",
              "</tr>\n",
              "</table>\n",
              "<table class=\"simpletable\">\n",
              "<tr>\n",
              "         <td></td>            <th>coef</th>     <th>std err</th>      <th>t</th>      <th>P>|t|</th>  <th>[0.025</th>    <th>0.975]</th>  \n",
              "</tr>\n",
              "<tr>\n",
              "  <th>Intercept</th>       <td>   -8.0000</td> <td>    3.438</td> <td>   -2.327</td> <td> 0.020</td> <td>  -14.742</td> <td>   -1.258</td>\n",
              "</tr>\n",
              "<tr>\n",
              "  <th>C(skyc1)[T.CLR]</th> <td> 2.782e-15</td> <td>    0.122</td> <td> 2.28e-14</td> <td> 1.000</td> <td>   -0.240</td> <td>    0.240</td>\n",
              "</tr>\n",
              "<tr>\n",
              "  <th>C(skyc1)[T.FEW]</th> <td> 1.943e-16</td> <td>    0.166</td> <td> 1.17e-15</td> <td> 1.000</td> <td>   -0.326</td> <td>    0.326</td>\n",
              "</tr>\n",
              "<tr>\n",
              "  <th>C(skyc1)[T.M]</th>   <td> 3.166e-15</td> <td>    0.194</td> <td> 1.63e-14</td> <td> 1.000</td> <td>   -0.381</td> <td>    0.381</td>\n",
              "</tr>\n",
              "<tr>\n",
              "  <th>C(skyc1)[T.OVC]</th> <td> 3.383e-16</td> <td>    0.124</td> <td> 2.73e-15</td> <td> 1.000</td> <td>   -0.243</td> <td>    0.243</td>\n",
              "</tr>\n",
              "<tr>\n",
              "  <th>C(skyc1)[T.SCT]</th> <td>-2.024e-14</td> <td>    0.284</td> <td>-7.12e-14</td> <td> 1.000</td> <td>   -0.557</td> <td>    0.557</td>\n",
              "</tr>\n",
              "<tr>\n",
              "  <th>C(skyc1)[T.VV ]</th> <td> 3.973e-15</td> <td>    0.224</td> <td> 1.77e-14</td> <td> 1.000</td> <td>   -0.440</td> <td>    0.440</td>\n",
              "</tr>\n",
              "<tr>\n",
              "  <th>tmpf</th>            <td>-3.123e-17</td> <td>    0.002</td> <td>-1.77e-14</td> <td> 1.000</td> <td>   -0.003</td> <td>    0.003</td>\n",
              "</tr>\n",
              "<tr>\n",
              "  <th>relh</th>            <td>-3.144e-17</td> <td>    0.002</td> <td>-1.41e-14</td> <td> 1.000</td> <td>   -0.004</td> <td>    0.004</td>\n",
              "</tr>\n",
              "<tr>\n",
              "  <th>sped</th>            <td>-9.498e-17</td> <td>    0.007</td> <td>-1.38e-14</td> <td> 1.000</td> <td>   -0.013</td> <td>    0.013</td>\n",
              "</tr>\n",
              "<tr>\n",
              "  <th>mslp</th>            <td>-2.251e-16</td> <td>    0.003</td> <td>-6.76e-14</td> <td> 1.000</td> <td>   -0.007</td> <td>    0.007</td>\n",
              "</tr>\n",
              "</table>\n",
              "<table class=\"simpletable\">\n",
              "<tr>\n",
              "  <th>Omnibus:</th>       <td>170.859</td> <th>  Durbin-Watson:     </th> <td>   0.002</td>\n",
              "</tr>\n",
              "<tr>\n",
              "  <th>Prob(Omnibus):</th> <td> 0.000</td>  <th>  Jarque-Bera (JB):  </th> <td> 440.406</td>\n",
              "</tr>\n",
              "<tr>\n",
              "  <th>Skew:</th>          <td>-0.707</td>  <th>  Prob(JB):          </th> <td>2.33e-96</td>\n",
              "</tr>\n",
              "<tr>\n",
              "  <th>Kurtosis:</th>      <td> 1.500</td>  <th>  Cond. No.          </th> <td>1.24e+05</td>\n",
              "</tr>\n",
              "</table>"
            ],
            "text/plain": [
              "<class 'statsmodels.iolib.summary.Summary'>\n",
              "\"\"\"\n",
              "                            OLS Regression Results                            \n",
              "==============================================================================\n",
              "Dep. Variable:              dep_delay   R-squared:                       0.000\n",
              "Model:                            OLS   Adj. R-squared:                 -0.004\n",
              "Method:                 Least Squares   F-statistic:                 4.527e-14\n",
              "Date:                Fri, 01 Sep 2017   Prob (F-statistic):               1.00\n",
              "Time:                        17:21:21   Log-Likelihood:                -4390.8\n",
              "No. Observations:                2487   AIC:                             8804.\n",
              "Df Residuals:                    2476   BIC:                             8868.\n",
              "Df Model:                          10                                         \n",
              "Covariance Type:            nonrobust                                         \n",
              "===================================================================================\n",
              "                      coef    std err          t      P>|t|      [0.025      0.975]\n",
              "-----------------------------------------------------------------------------------\n",
              "Intercept          -8.0000      3.438     -2.327      0.020     -14.742      -1.258\n",
              "C(skyc1)[T.CLR]  2.782e-15      0.122   2.28e-14      1.000      -0.240       0.240\n",
              "C(skyc1)[T.FEW]  1.943e-16      0.166   1.17e-15      1.000      -0.326       0.326\n",
              "C(skyc1)[T.M]    3.166e-15      0.194   1.63e-14      1.000      -0.381       0.381\n",
              "C(skyc1)[T.OVC]  3.383e-16      0.124   2.73e-15      1.000      -0.243       0.243\n",
              "C(skyc1)[T.SCT] -2.024e-14      0.284  -7.12e-14      1.000      -0.557       0.557\n",
              "C(skyc1)[T.VV ]  3.973e-15      0.224   1.77e-14      1.000      -0.440       0.440\n",
              "tmpf            -3.123e-17      0.002  -1.77e-14      1.000      -0.003       0.003\n",
              "relh            -3.144e-17      0.002  -1.41e-14      1.000      -0.004       0.004\n",
              "sped            -9.498e-17      0.007  -1.38e-14      1.000      -0.013       0.013\n",
              "mslp            -2.251e-16      0.003  -6.76e-14      1.000      -0.007       0.007\n",
              "==============================================================================\n",
              "Omnibus:                      170.859   Durbin-Watson:                   0.002\n",
              "Prob(Omnibus):                  0.000   Jarque-Bera (JB):              440.406\n",
              "Skew:                          -0.707   Prob(JB):                     2.33e-96\n",
              "Kurtosis:                       1.500   Cond. No.                     1.24e+05\n",
              "==============================================================================\n",
              "\n",
              "Warnings:\n",
              "[1] Standard Errors assume that the covariance matrix of the errors is correctly specified.\n",
              "[2] The condition number is large, 1.24e+05. This might indicate that there are\n",
              "strong multicollinearity or other numerical problems.\n",
              "\"\"\""
            ]
          },
          "metadata": {
            "tags": []
          },
          "execution_count": 78
        }
      ]
    },
    {
      "metadata": {
        "id": "tNKQ0Vz7nNa8",
        "colab_type": "code",
        "colab": {},
        "outputId": "8e5c9294-0d15-4d50-9d04-c1acdb5f7ad4"
      },
      "cell_type": "code",
      "source": [
        "fig, ax = plt.subplots()\n",
        "ax.scatter(res.fittedvalues, res.resid, color='k', marker='.', alpha=.25)\n",
        "ax.set(xlabel='Predicted', ylabel='Residual')\n",
        "sns.despine()"
      ],
      "execution_count": 0,
      "outputs": [
        {
          "output_type": "display_data",
          "data": {
            "image/png": "[encoded data removed]",
            "text/plain": [
              "<matplotlib.figure.Figure at 0x1248c8e80>"
            ]
          },
          "metadata": {
            "tags": []
          }
        }
      ]
    },
    {
      "metadata": {
        "id": "msSBqx6BnNa-",
        "colab_type": "text"
      },
      "cell_type": "markdown",
      "source": [
        "Those residuals should look like white noise.\n",
        "Looks like our linear model isn't flexible enough to model the delays,\n",
        "but I think that's enough for now.\n",
        "\n",
        "---\n",
        "\n",
        "We'll talk more about indexes in the Tidy Data and Reshaping section.\n",
        "[Let me know](http://twitter.com/tomaugspurger) if you have any feedback.\n",
        "Thanks for reading!"
      ]
    }
  ]
}