{
  "nbformat": 4,
  "nbformat_minor": 0,
  "metadata": {
    "colab": {
      "name": "modern_3_indexes.ipynb",
      "version": "0.3.2",
      "provenance": []
    },
    "kernelspec": {
      "display_name": "Python 3",
      "language": "python",
      "name": "python3"
    }
  },
  "cells": [
    {
      "metadata": {
        "id": "Y1VoddbWnNXf",
        "colab_type": "text"
      },
      "cell_type": "markdown",
      "source": [
        "# Indexes\n",
        "\n",
        "Today we're going to be talking about pandas' [`Index`es](http://pandas.pydata.org/pandas-docs/version/0.18.0/api.html#index).\n",
        "They're essential to pandas, but can be a difficult concept to grasp at first.\n",
        "I suspect this is partly because they're unlike what you'll find in SQL or R.\n",
        "\n",
        "`Index`es offer\n",
        "\n",
        "- a metadata container\n",
        "- easy label-based row selection and assignment\n",
        "- easy label-based alignment in operations\n",
        "\n",
        "One of my first tasks when analyzing a new dataset is to identify a unique identifier for each observation, and set that as the index. It could be a simple integer, or like in our first chapter, it could be several columns (`carrier`, `origin` `dest`, `tail_num` `date`).\n",
        "\n",
        "To demonstrate the benefits of proper `Index` use, we'll first fetch some weather data from sensors at a bunch of airports across the US.\n",
        "See [here](https://github.com/akrherz/iem/blob/master/scripts/asos/iem_scraper_example.py) for the example scraper I based this off of.\n",
        "Those uninterested in the details of fetching and prepping the data and [skip past it](#set-operations).\n",
        "\n",
        "At a high level, here's how we'll fetch the data: the sensors are broken up by \"network\" (states).\n",
        "We'll make one API call per state to get the list of airport IDs per network (using `get_ids` below).\n",
        "Once we have the IDs, we'll again make one call per state getting the actual observations (in `get_weather`).\n",
        "Feel free to skim the code below, I'll highlight the interesting bits.\n"
      ]
    },
    {
      "metadata": {
        "id": "YVqrYZOOnU7Z",
        "colab_type": "code",
        "colab": {
          "base_uri": "https://localhost:8080/",
          "height": 272
        },
        "outputId": "5e7c500c-fe31-4f30-cb59-8c684559076b"
      },
      "cell_type": "code",
      "source": [
        "import os\n",
        "if not os.getcwd().endswith('effective-pandas'):\n",
        "  if 'effective-pandas' not in os.listdir():\n",
        "      !git clone https://github.com/TomAugspurger/effective-pandas\n",
        "  os.chdir('effective-pandas')\n",
        "!pip install --upgrade tables"
      ],
      "execution_count": 1,
      "outputs": [
        {
          "output_type": "stream",
          "text": [
            "Cloning into 'effective-pandas'...\n",
            "remote: Counting objects: 156, done.\u001b[K\n",
            "remote: Total 156 (delta 0), reused 0 (delta 0), pack-reused 156\u001b[K\n",
            "Receiving objects: 100% (156/156), 12.96 MiB | 41.09 MiB/s, done.\n",
            "Resolving deltas: 100% (80/80), done.\n",
            "Collecting tables\n",
            "\u001b[?25l  Downloading https://files.pythonhosted.org/packages/d7/1b/21f4c7f296b718575c17ef25e61c05742a283c45077b4c8d5a190b3e0b59/tables-3.4.4-cp36-cp36m-manylinux1_x86_64.whl (3.8MB)\n",
            "\u001b[K    100% |████████████████████████████████| 3.8MB 7.6MB/s \n",
            "\u001b[?25hCollecting numexpr>=2.5.2 (from tables)\n",
            "\u001b[?25l  Downloading https://files.pythonhosted.org/packages/db/ea/efd9e16283637eb5b6c0042b6cc3521f1b9a5b47767ac463c88bbd37670c/numexpr-2.6.8-cp36-cp36m-manylinux1_x86_64.whl (162kB)\n",
            "\u001b[K    100% |████████████████████████████████| 163kB 12.7MB/s \n",
            "\u001b[?25hRequirement already satisfied, skipping upgrade: six>=1.9.0 in /usr/local/lib/python3.6/dist-packages (from tables) (1.11.0)\n",
            "Requirement already satisfied, skipping upgrade: numpy>=1.8.0 in /usr/local/lib/python3.6/dist-packages (from tables) (1.14.5)\n",
            "Installing collected packages: numexpr, tables\n",
            "Successfully installed numexpr-2.6.8 tables-3.4.4\n"
          ],
          "name": "stdout"
        }
      ]
    },
    {
      "metadata": {
        "id": "vJcrXmxpnNXi",
        "colab_type": "code",
        "colab": {}
      },
      "cell_type": "code",
      "source": [
        "%matplotlib inline\n",
        "\n",
        "import os\n",
        "import json\n",
        "import glob\n",
        "import datetime\n",
        "from io import StringIO\n",
        "\n",
        "import requests\n",
        "import numpy as np\n",
        "import pandas as pd\n",
        "import seaborn as sns\n",
        "import matplotlib.pyplot as plt\n",
        "\n",
        "import prep\n",
        "\n",
        "sns.set_style('ticks')\n",
        "pd.options.display.max_rows = 10\n",
        "# States are broken into networks. The networks have a list of ids, each representing a station.\n",
        "# We will take that list of ids and pass them as query parameters to the URL we built up ealier.\n",
        "states = \"\"\"AK AL AR AZ CA CO CT DE FL GA HI IA ID IL IN KS KY LA MA MD ME\n",
        " MI MN MO MS MT NC ND NE NH NJ NM NV NY OH OK OR PA RI SC SD TN TX UT VA VT\n",
        " WA WI WV WY\"\"\".split()\n",
        "\n",
        "# IEM has Iowa AWOS sites in its own labeled network\n",
        "networks = ['AWOS'] + ['{}_ASOS'.format(state) for state in states]"
      ],
      "execution_count": 0,
      "outputs": []
    },
    {
      "metadata": {
        "id": "gqTV47QjnNXm",
        "colab_type": "code",
        "colab": {}
      },
      "cell_type": "code",
      "source": [
        "def get_weather(stations, start=pd.Timestamp('2017-01-01'),\n",
        "                end=pd.Timestamp('2017-01-31')):\n",
        "    '''\n",
        "    Fetch weather data from MESONet between ``start`` and ``stop``.\n",
        "    '''\n",
        "    url = (\"http://mesonet.agron.iastate.edu/cgi-bin/request/asos.py?\"\n",
        "           \"&data=tmpf&data=relh&data=sped&data=mslp&data=p01i&data=v\"\n",
        "           \"sby&data=gust_mph&data=skyc1&data=skyc2&data=skyc3\"\n",
        "           \"&tz=Etc/UTC&format=comma&latlon=no\"\n",
        "           \"&{start:year1=%Y&month1=%m&day1=%d}\"\n",
        "           \"&{end:year2=%Y&month2=%m&day2=%d}&{stations}\")\n",
        "    \n",
        "    stations = \"&\".join(\"station=%s\" % s for s in stations)\n",
        "    # print(url.format(start=start, end=end, stations=stations))\n",
        "    weather = (pd.read_csv(url.format(start=start, end=end, stations=stations),\n",
        "                           comment=\"#\")\n",
        "                 .rename(columns={\"valid\": \"date\"})\n",
        "                 .rename(columns=str.strip)\n",
        "                 .assign(date=lambda df: pd.to_datetime(df['date']))\n",
        "                 .set_index([\"station\", \"date\"])\n",
        "                 .sort_index())\n",
        "    float_cols = ['tmpf', 'relh', 'sped', 'mslp', 'p01i', 'vsby', \"gust_mph\"]\n",
        "    weather[float_cols] = weather[float_cols].apply(pd.to_numeric, errors=\"corce\")\n",
        "    return weather"
      ],
      "execution_count": 0,
      "outputs": []
    },
    {
      "metadata": {
        "id": "N5FHF9u6nNXo",
        "colab_type": "code",
        "colab": {}
      },
      "cell_type": "code",
      "source": [
        "def get_ids(network):\n",
        "    url = \"http://mesonet.agron.iastate.edu/geojson/network.php?network={}\"\n",
        "    r = requests.get(url.format(network))\n",
        "    md = pd.io.json.json_normalize(r.json()['features'])\n",
        "    md['network'] = network\n",
        "    return md"
      ],
      "execution_count": 0,
      "outputs": []
    },
    {
      "metadata": {
        "id": "WmXH4V2JnNXr",
        "colab_type": "text"
      },
      "cell_type": "markdown",
      "source": [
        "There isn't too much in `get_weather` worth mentioning, just grabbing some CSV files from various URLs.\n",
        "They put metadata in the \"CSV\"s at the top of the file as lines prefixed by a `#`.\n",
        "Pandas will ignore these with the `comment='#'` parameter.\n",
        "\n",
        "I do want to talk briefly about the gem of a method that is [`json_normalize`](http://pandas.pydata.org/pandas-docs/version/0.18.0/generated/pandas.io.json.json_normalize.html)  .\n",
        "The weather API returns some slightly-nested data."
      ]
    },
    {
      "metadata": {
        "id": "9fZh6N8RnNXs",
        "colab_type": "code",
        "colab": {
          "base_uri": "https://localhost:8080/",
          "height": 527
        },
        "outputId": "9164e08f-d0dc-4683-ac1a-fa5af9cf994e"
      },
      "cell_type": "code",
      "source": [
        "url = \"http://mesonet.agron.iastate.edu/geojson/network.php?network={}\"\n",
        "r = requests.get(url.format(\"AWOS\"))\n",
        "js = r.json()\n",
        "\n",
        "js['features'][:2]"
      ],
      "execution_count": 5,
      "outputs": [
        {
          "output_type": "execute_result",
          "data": {
            "text/plain": [
              "[{'geometry': {'coordinates': [-94.2724, 43.0796], 'type': 'Point'},\n",
              "  'id': 'AXA',\n",
              "  'properties': {'climate_site': 'IA0133',\n",
              "   'country': 'US',\n",
              "   'county': 'Kossuth',\n",
              "   'elevation': 368.8,\n",
              "   'ncdc81': 'USC00130133',\n",
              "   'sid': 'AXA',\n",
              "   'sname': 'ALGONA',\n",
              "   'state': 'IA',\n",
              "   'tzname': 'America/Chicago',\n",
              "   'ugc_county': 'IAC109',\n",
              "   'ugc_zone': 'IAZ005',\n",
              "   'wfo': 'DMX'},\n",
              "  'type': 'Feature'},\n",
              " {'geometry': {'coordinates': [-93.5695, 41.6878], 'type': 'Point'},\n",
              "  'id': 'IKV',\n",
              "  'properties': {'climate_site': 'IA0241',\n",
              "   'country': 'US',\n",
              "   'county': 'Polk',\n",
              "   'elevation': 270.7,\n",
              "   'ncdc81': 'USC00130241',\n",
              "   'sid': 'IKV',\n",
              "   'sname': 'ANKENY',\n",
              "   'state': 'IA',\n",
              "   'tzname': 'America/Chicago',\n",
              "   'ugc_county': 'IAC153',\n",
              "   'ugc_zone': 'IAZ060',\n",
              "   'wfo': 'DMX'},\n",
              "  'type': 'Feature'}]"
            ]
          },
          "metadata": {
            "tags": []
          },
          "execution_count": 5
        }
      ]
    },
    {
      "metadata": {
        "id": "40QEPk9nnNXy",
        "colab_type": "text"
      },
      "cell_type": "markdown",
      "source": [
        "If we just pass that list off to the `DataFrame` constructor, we get this."
      ]
    },
    {
      "metadata": {
        "id": "smOzxsyxnNXz",
        "colab_type": "code",
        "colab": {
          "base_uri": "https://localhost:8080/",
          "height": 204
        },
        "outputId": "0861ea29-0d4a-4dbb-9c4c-26e33d2f6401"
      },
      "cell_type": "code",
      "source": [
        "pd.DataFrame(js['features']).head()"
      ],
      "execution_count": 6,
      "outputs": [
        {
          "output_type": "execute_result",
          "data": {
            "text/html": [
              "<div>\n",
              "<style scoped>\n",
              "    .dataframe tbody tr th:only-of-type {\n",
              "        vertical-align: middle;\n",
              "    }\n",
              "\n",
              "    .dataframe tbody tr th {\n",
              "        vertical-align: top;\n",
              "    }\n",
              "\n",
              "    .dataframe thead th {\n",
              "        text-align: right;\n",
              "    }\n",
              "</style>\n",
              "<table border=\"1\" class=\"dataframe\">\n",
              "  <thead>\n",
              "    <tr style=\"text-align: right;\">\n",
              "      <th></th>\n",
              "      <th>geometry</th>\n",
              "      <th>id</th>\n",
              "      <th>properties</th>\n",
              "      <th>type</th>\n",
              "    </tr>\n",
              "  </thead>\n",
              "  <tbody>\n",
              "    <tr>\n",
              "      <th>0</th>\n",
              "      <td>{'type': 'Point', 'coordinates': [-94.2724, 43...</td>\n",
              "      <td>AXA</td>\n",
              "      <td>{'elevation': 368.8, 'sname': 'ALGONA', 'state...</td>\n",
              "      <td>Feature</td>\n",
              "    </tr>\n",
              "    <tr>\n",
              "      <th>1</th>\n",
              "      <td>{'type': 'Point', 'coordinates': [-93.5695, 41...</td>\n",
              "      <td>IKV</td>\n",
              "      <td>{'elevation': 270.7, 'sname': 'ANKENY', 'state...</td>\n",
              "      <td>Feature</td>\n",
              "    </tr>\n",
              "    <tr>\n",
              "      <th>2</th>\n",
              "      <td>{'type': 'Point', 'coordinates': [-95.0465, 41...</td>\n",
              "      <td>AIO</td>\n",
              "      <td>{'elevation': 351.7, 'sname': 'ATLANTIC', 'sta...</td>\n",
              "      <td>Feature</td>\n",
              "    </tr>\n",
              "    <tr>\n",
              "      <th>3</th>\n",
              "      <td>{'type': 'Point', 'coordinates': [-94.9204, 41...</td>\n",
              "      <td>ADU</td>\n",
              "      <td>{'elevation': 399.3, 'sname': 'AUDUBON', 'stat...</td>\n",
              "      <td>Feature</td>\n",
              "    </tr>\n",
              "    <tr>\n",
              "      <th>4</th>\n",
              "      <td>{'type': 'Point', 'coordinates': [-93.8486, 42...</td>\n",
              "      <td>BNW</td>\n",
              "      <td>{'elevation': 349.3, 'sname': 'BOONE MUNI', 's...</td>\n",
              "      <td>Feature</td>\n",
              "    </tr>\n",
              "  </tbody>\n",
              "</table>\n",
              "</div>"
            ],
            "text/plain": [
              "                                            geometry   id  \\\n",
              "0  {'type': 'Point', 'coordinates': [-94.2724, 43...  AXA   \n",
              "1  {'type': 'Point', 'coordinates': [-93.5695, 41...  IKV   \n",
              "2  {'type': 'Point', 'coordinates': [-95.0465, 41...  AIO   \n",
              "3  {'type': 'Point', 'coordinates': [-94.9204, 41...  ADU   \n",
              "4  {'type': 'Point', 'coordinates': [-93.8486, 42...  BNW   \n",
              "\n",
              "                                          properties     type  \n",
              "0  {'elevation': 368.8, 'sname': 'ALGONA', 'state...  Feature  \n",
              "1  {'elevation': 270.7, 'sname': 'ANKENY', 'state...  Feature  \n",
              "2  {'elevation': 351.7, 'sname': 'ATLANTIC', 'sta...  Feature  \n",
              "3  {'elevation': 399.3, 'sname': 'AUDUBON', 'stat...  Feature  \n",
              "4  {'elevation': 349.3, 'sname': 'BOONE MUNI', 's...  Feature  "
            ]
          },
          "metadata": {
            "tags": []
          },
          "execution_count": 6
        }
      ]
    },
    {
      "metadata": {
        "id": "F7wLpzINnNX3",
        "colab_type": "text"
      },
      "cell_type": "markdown",
      "source": [
        "In general, DataFrames don't handle nested data that well.\n",
        "It's often better to normalize it somehow.\n",
        "In this case, we can \"lift\"\n",
        "the nested items (`geometry.coordinates`, `properties.sid`, and `properties.sname`)\n",
        "up to the top level."
      ]
    },
    {
      "metadata": {
        "id": "0ED84K0bnNX3",
        "colab_type": "code",
        "colab": {
          "base_uri": "https://localhost:8080/",
          "height": 439
        },
        "outputId": "6af4bc03-0c86-4306-cdd4-8803b91af596"
      },
      "cell_type": "code",
      "source": [
        "pd.io.json.json_normalize(js['features'])"
      ],
      "execution_count": 7,
      "outputs": [
        {
          "output_type": "execute_result",
          "data": {
            "text/html": [
              "<div>\n",
              "<style scoped>\n",
              "    .dataframe tbody tr th:only-of-type {\n",
              "        vertical-align: middle;\n",
              "    }\n",
              "\n",
              "    .dataframe tbody tr th {\n",
              "        vertical-align: top;\n",
              "    }\n",
              "\n",
              "    .dataframe thead th {\n",
              "        text-align: right;\n",
              "    }\n",
              "</style>\n",
              "<table border=\"1\" class=\"dataframe\">\n",
              "  <thead>\n",
              "    <tr style=\"text-align: right;\">\n",
              "      <th></th>\n",
              "      <th>geometry.coordinates</th>\n",
              "      <th>geometry.type</th>\n",
              "      <th>id</th>\n",
              "      <th>properties.climate_site</th>\n",
              "      <th>properties.country</th>\n",
              "      <th>properties.county</th>\n",
              "      <th>properties.elevation</th>\n",
              "      <th>properties.ncdc81</th>\n",
              "      <th>properties.sid</th>\n",
              "      <th>properties.sname</th>\n",
              "      <th>properties.state</th>\n",
              "      <th>properties.tzname</th>\n",
              "      <th>properties.ugc_county</th>\n",
              "      <th>properties.ugc_zone</th>\n",
              "      <th>properties.wfo</th>\n",
              "      <th>type</th>\n",
              "    </tr>\n",
              "  </thead>\n",
              "  <tbody>\n",
              "    <tr>\n",
              "      <th>0</th>\n",
              "      <td>[-94.2724, 43.0796]</td>\n",
              "      <td>Point</td>\n",
              "      <td>AXA</td>\n",
              "      <td>IA0133</td>\n",
              "      <td>US</td>\n",
              "      <td>Kossuth</td>\n",
              "      <td>368.8</td>\n",
              "      <td>USC00130133</td>\n",
              "      <td>AXA</td>\n",
              "      <td>ALGONA</td>\n",
              "      <td>IA</td>\n",
              "      <td>America/Chicago</td>\n",
              "      <td>IAC109</td>\n",
              "      <td>IAZ005</td>\n",
              "      <td>DMX</td>\n",
              "      <td>Feature</td>\n",
              "    </tr>\n",
              "    <tr>\n",
              "      <th>1</th>\n",
              "      <td>[-93.5695, 41.6878]</td>\n",
              "      <td>Point</td>\n",
              "      <td>IKV</td>\n",
              "      <td>IA0241</td>\n",
              "      <td>US</td>\n",
              "      <td>Polk</td>\n",
              "      <td>270.7</td>\n",
              "      <td>USC00130241</td>\n",
              "      <td>IKV</td>\n",
              "      <td>ANKENY</td>\n",
              "      <td>IA</td>\n",
              "      <td>America/Chicago</td>\n",
              "      <td>IAC153</td>\n",
              "      <td>IAZ060</td>\n",
              "      <td>DMX</td>\n",
              "      <td>Feature</td>\n",
              "    </tr>\n",
              "    <tr>\n",
              "      <th>2</th>\n",
              "      <td>[-95.0465, 41.4059]</td>\n",
              "      <td>Point</td>\n",
              "      <td>AIO</td>\n",
              "      <td>IA0364</td>\n",
              "      <td>US</td>\n",
              "      <td>Cass</td>\n",
              "      <td>351.7</td>\n",
              "      <td>USC00130364</td>\n",
              "      <td>AIO</td>\n",
              "      <td>ATLANTIC</td>\n",
              "      <td>IA</td>\n",
              "      <td>America/Chicago</td>\n",
              "      <td>IAC029</td>\n",
              "      <td>IAZ070</td>\n",
              "      <td>DMX</td>\n",
              "      <td>Feature</td>\n",
              "    </tr>\n",
              "    <tr>\n",
              "      <th>3</th>\n",
              "      <td>[-94.9204, 41.6994]</td>\n",
              "      <td>Point</td>\n",
              "      <td>ADU</td>\n",
              "      <td>IA0385</td>\n",
              "      <td>US</td>\n",
              "      <td>Audubon</td>\n",
              "      <td>399.3</td>\n",
              "      <td>USC00130385</td>\n",
              "      <td>ADU</td>\n",
              "      <td>AUDUBON</td>\n",
              "      <td>IA</td>\n",
              "      <td>America/Chicago</td>\n",
              "      <td>IAC009</td>\n",
              "      <td>IAZ057</td>\n",
              "      <td>DMX</td>\n",
              "      <td>Feature</td>\n",
              "    </tr>\n",
              "    <tr>\n",
              "      <th>4</th>\n",
              "      <td>[-93.8486, 42.0486]</td>\n",
              "      <td>Point</td>\n",
              "      <td>BNW</td>\n",
              "      <td>IA0807</td>\n",
              "      <td>US</td>\n",
              "      <td>Boone</td>\n",
              "      <td>349.3</td>\n",
              "      <td>USC00130807</td>\n",
              "      <td>BNW</td>\n",
              "      <td>BOONE MUNI</td>\n",
              "      <td>IA</td>\n",
              "      <td>America/Chicago</td>\n",
              "      <td>IAC015</td>\n",
              "      <td>IAZ047</td>\n",
              "      <td>DMX</td>\n",
              "      <td>Feature</td>\n",
              "    </tr>\n",
              "    <tr>\n",
              "      <th>...</th>\n",
              "      <td>...</td>\n",
              "      <td>...</td>\n",
              "      <td>...</td>\n",
              "      <td>...</td>\n",
              "      <td>...</td>\n",
              "      <td>...</td>\n",
              "      <td>...</td>\n",
              "      <td>...</td>\n",
              "      <td>...</td>\n",
              "      <td>...</td>\n",
              "      <td>...</td>\n",
              "      <td>...</td>\n",
              "      <td>...</td>\n",
              "      <td>...</td>\n",
              "      <td>...</td>\n",
              "      <td>...</td>\n",
              "    </tr>\n",
              "    <tr>\n",
              "      <th>41</th>\n",
              "      <td>[-95.4112, 40.7533]</td>\n",
              "      <td>Point</td>\n",
              "      <td>SDA</td>\n",
              "      <td>IA7613</td>\n",
              "      <td>US</td>\n",
              "      <td>Fremont</td>\n",
              "      <td>296.0</td>\n",
              "      <td>USC00137613</td>\n",
              "      <td>SDA</td>\n",
              "      <td>SHENANDOAH MUNI</td>\n",
              "      <td>IA</td>\n",
              "      <td>America/Chicago</td>\n",
              "      <td>IAC071</td>\n",
              "      <td>IAZ090</td>\n",
              "      <td>OAX</td>\n",
              "      <td>Feature</td>\n",
              "    </tr>\n",
              "    <tr>\n",
              "      <th>42</th>\n",
              "      <td>[-95.2399, 42.5972]</td>\n",
              "      <td>Point</td>\n",
              "      <td>SLB</td>\n",
              "      <td>IA7979</td>\n",
              "      <td>US</td>\n",
              "      <td>Buena Vista</td>\n",
              "      <td>449.9</td>\n",
              "      <td>USC00137979</td>\n",
              "      <td>SLB</td>\n",
              "      <td>Storm Lake</td>\n",
              "      <td>IA</td>\n",
              "      <td>America/Chicago</td>\n",
              "      <td>IAC021</td>\n",
              "      <td>IAZ301</td>\n",
              "      <td>FSD</td>\n",
              "      <td>Feature</td>\n",
              "    </tr>\n",
              "    <tr>\n",
              "      <th>43</th>\n",
              "      <td>[-92.0248, 42.2176]</td>\n",
              "      <td>Point</td>\n",
              "      <td>VTI</td>\n",
              "      <td>IA8568</td>\n",
              "      <td>US</td>\n",
              "      <td>Benton</td>\n",
              "      <td>255.0</td>\n",
              "      <td>USC00138568</td>\n",
              "      <td>VTI</td>\n",
              "      <td>VINTON</td>\n",
              "      <td>IA</td>\n",
              "      <td>America/Chicago</td>\n",
              "      <td>IAC011</td>\n",
              "      <td>IAZ051</td>\n",
              "      <td>DVN</td>\n",
              "      <td>Feature</td>\n",
              "    </tr>\n",
              "    <tr>\n",
              "      <th>44</th>\n",
              "      <td>[-91.6748, 41.2751]</td>\n",
              "      <td>Point</td>\n",
              "      <td>AWG</td>\n",
              "      <td>IA8688</td>\n",
              "      <td>US</td>\n",
              "      <td>Washington</td>\n",
              "      <td>228.9</td>\n",
              "      <td>USC00138688</td>\n",
              "      <td>AWG</td>\n",
              "      <td>WASHINGTON</td>\n",
              "      <td>IA</td>\n",
              "      <td>America/Chicago</td>\n",
              "      <td>IAC183</td>\n",
              "      <td>IAZ077</td>\n",
              "      <td>DVN</td>\n",
              "      <td>Feature</td>\n",
              "    </tr>\n",
              "    <tr>\n",
              "      <th>45</th>\n",
              "      <td>[-93.8691, 42.4392]</td>\n",
              "      <td>Point</td>\n",
              "      <td>EBS</td>\n",
              "      <td>IA8806</td>\n",
              "      <td>US</td>\n",
              "      <td>Hamilton</td>\n",
              "      <td>337.4</td>\n",
              "      <td>USC00138806</td>\n",
              "      <td>EBS</td>\n",
              "      <td>Webster City</td>\n",
              "      <td>IA</td>\n",
              "      <td>America/Chicago</td>\n",
              "      <td>IAC079</td>\n",
              "      <td>IAZ036</td>\n",
              "      <td>DMX</td>\n",
              "      <td>Feature</td>\n",
              "    </tr>\n",
              "  </tbody>\n",
              "</table>\n",
              "<p>46 rows × 16 columns</p>\n",
              "</div>"
            ],
            "text/plain": [
              "   geometry.coordinates geometry.type   id properties.climate_site  \\\n",
              "0   [-94.2724, 43.0796]         Point  AXA                  IA0133   \n",
              "1   [-93.5695, 41.6878]         Point  IKV                  IA0241   \n",
              "2   [-95.0465, 41.4059]         Point  AIO                  IA0364   \n",
              "3   [-94.9204, 41.6994]         Point  ADU                  IA0385   \n",
              "4   [-93.8486, 42.0486]         Point  BNW                  IA0807   \n",
              "..                  ...           ...  ...                     ...   \n",
              "41  [-95.4112, 40.7533]         Point  SDA                  IA7613   \n",
              "42  [-95.2399, 42.5972]         Point  SLB                  IA7979   \n",
              "43  [-92.0248, 42.2176]         Point  VTI                  IA8568   \n",
              "44  [-91.6748, 41.2751]         Point  AWG                  IA8688   \n",
              "45  [-93.8691, 42.4392]         Point  EBS                  IA8806   \n",
              "\n",
              "   properties.country properties.county  properties.elevation  \\\n",
              "0                  US           Kossuth                 368.8   \n",
              "1                  US              Polk                 270.7   \n",
              "2                  US              Cass                 351.7   \n",
              "3                  US           Audubon                 399.3   \n",
              "4                  US             Boone                 349.3   \n",
              "..                ...               ...                   ...   \n",
              "41                 US           Fremont                 296.0   \n",
              "42                 US       Buena Vista                 449.9   \n",
              "43                 US            Benton                 255.0   \n",
              "44                 US        Washington                 228.9   \n",
              "45                 US          Hamilton                 337.4   \n",
              "\n",
              "   properties.ncdc81 properties.sid properties.sname properties.state  \\\n",
              "0        USC00130133            AXA           ALGONA               IA   \n",
              "1        USC00130241            IKV           ANKENY               IA   \n",
              "2        USC00130364            AIO         ATLANTIC               IA   \n",
              "3        USC00130385            ADU          AUDUBON               IA   \n",
              "4        USC00130807            BNW       BOONE MUNI               IA   \n",
              "..               ...            ...              ...              ...   \n",
              "41       USC00137613            SDA  SHENANDOAH MUNI               IA   \n",
              "42       USC00137979            SLB       Storm Lake               IA   \n",
              "43       USC00138568            VTI           VINTON               IA   \n",
              "44       USC00138688            AWG       WASHINGTON               IA   \n",
              "45       USC00138806            EBS     Webster City               IA   \n",
              "\n",
              "   properties.tzname properties.ugc_county properties.ugc_zone properties.wfo  \\\n",
              "0    America/Chicago                IAC109              IAZ005            DMX   \n",
              "1    America/Chicago                IAC153              IAZ060            DMX   \n",
              "2    America/Chicago                IAC029              IAZ070            DMX   \n",
              "3    America/Chicago                IAC009              IAZ057            DMX   \n",
              "4    America/Chicago                IAC015              IAZ047            DMX   \n",
              "..               ...                   ...                 ...            ...   \n",
              "41   America/Chicago                IAC071              IAZ090            OAX   \n",
              "42   America/Chicago                IAC021              IAZ301            FSD   \n",
              "43   America/Chicago                IAC011              IAZ051            DVN   \n",
              "44   America/Chicago                IAC183              IAZ077            DVN   \n",
              "45   America/Chicago                IAC079              IAZ036            DMX   \n",
              "\n",
              "       type  \n",
              "0   Feature  \n",
              "1   Feature  \n",
              "2   Feature  \n",
              "3   Feature  \n",
              "4   Feature  \n",
              "..      ...  \n",
              "41  Feature  \n",
              "42  Feature  \n",
              "43  Feature  \n",
              "44  Feature  \n",
              "45  Feature  \n",
              "\n",
              "[46 rows x 16 columns]"
            ]
          },
          "metadata": {
            "tags": []
          },
          "execution_count": 7
        }
      ]
    },
    {
      "metadata": {
        "id": "7c_MVyALnNX7",
        "colab_type": "text"
      },
      "cell_type": "markdown",
      "source": [
        "Sure, it's not *that* difficult to write a quick for loop or list comprehension to extract those,\n",
        "but that gets tedious.\n",
        "If we were using the latitude and longitude data, we would want to split\n",
        "the `geometry.coordinates` column into two. But we aren't so we won't.\n",
        "\n",
        "Going back to the task, we get the airport IDs for every network (state)\n",
        "with `get_ids`. Then we pass those IDs into `get_weather` to fetch the\n",
        "actual weather data."
      ]
    },
    {
      "metadata": {
        "id": "4H603hnGnNX7",
        "colab_type": "code",
        "colab": {
          "base_uri": "https://localhost:8080/",
          "height": 34
        },
        "outputId": "c8a9db34-f62f-43ff-c6b6-85c147fae1e6"
      },
      "cell_type": "code",
      "source": [
        "import os\n",
        "from tqdm import tqdm\n",
        "import concurrent.futures\n",
        "\n",
        "def weather_worker(k, v):\n",
        "    weather = get_weather(v['id'])\n",
        "    weather.to_csv(\"data/weather/{}.csv\".format(k))\n",
        "\n",
        "ids = pd.concat([get_ids(network) for network in networks], ignore_index=True)\n",
        "gr = ids.groupby('network')\n",
        "\n",
        "store = 'data/weather.h5'\n",
        "\n",
        "if not os.path.exists(store):\n",
        "    os.makedirs(\"data/weather\", exist_ok=True)\n",
        "    with concurrent.futures.ThreadPoolExecutor(max_workers=10) as e:\n",
        "        fs = [e.submit(weather_worker, k, v) for k, v in gr]\n",
        "        with tqdm(total=len(fs), desc=\"Downloading\") as pbar:\n",
        "            for i, future in enumerate(concurrent.futures.as_completed(fs)):\n",
        "                pbar.update(i)\n",
        "\n",
        "    weather = pd.concat([\n",
        "        pd.read_csv(f, parse_dates=['date'], index_col=['station', 'date'])\n",
        "        for f in glob.glob('data/weather/*.csv')\n",
        "    ]).sort_index()\n",
        "\n",
        "    weather.to_hdf(\"data/weather.h5\", \"weather\")\n",
        "else:\n",
        "    weather = pd.read_hdf(\"data/weather.h5\", \"weather\")"
      ],
      "execution_count": 8,
      "outputs": [
        {
          "output_type": "stream",
          "text": [
            "Downloading: 1275it [06:57,  2.66it/s]\n"
          ],
          "name": "stderr"
        }
      ]
    },
    {
      "metadata": {
        "id": "e3vfnPA3nNX_",
        "colab_type": "code",
        "colab": {
          "base_uri": "https://localhost:8080/",
          "height": 235
        },
        "outputId": "e8c59227-f6f8-4c0d-e1a8-d9b90e013323"
      },
      "cell_type": "code",
      "source": [
        "weather.head()  "
      ],
      "execution_count": 9,
      "outputs": [
        {
          "output_type": "execute_result",
          "data": {
            "text/html": [
              "<div>\n",
              "<style scoped>\n",
              "    .dataframe tbody tr th:only-of-type {\n",
              "        vertical-align: middle;\n",
              "    }\n",
              "\n",
              "    .dataframe tbody tr th {\n",
              "        vertical-align: top;\n",
              "    }\n",
              "\n",
              "    .dataframe thead th {\n",
              "        text-align: right;\n",
              "    }\n",
              "</style>\n",
              "<table border=\"1\" class=\"dataframe\">\n",
              "  <thead>\n",
              "    <tr style=\"text-align: right;\">\n",
              "      <th></th>\n",
              "      <th></th>\n",
              "      <th>tmpf</th>\n",
              "      <th>relh</th>\n",
              "      <th>sped</th>\n",
              "      <th>mslp</th>\n",
              "      <th>p01i</th>\n",
              "      <th>vsby</th>\n",
              "      <th>gust_mph</th>\n",
              "      <th>skyc1</th>\n",
              "      <th>skyc2</th>\n",
              "      <th>skyc3</th>\n",
              "    </tr>\n",
              "    <tr>\n",
              "      <th>station</th>\n",
              "      <th>date</th>\n",
              "      <th></th>\n",
              "      <th></th>\n",
              "      <th></th>\n",
              "      <th></th>\n",
              "      <th></th>\n",
              "      <th></th>\n",
              "      <th></th>\n",
              "      <th></th>\n",
              "      <th></th>\n",
              "      <th></th>\n",
              "    </tr>\n",
              "  </thead>\n",
              "  <tbody>\n",
              "    <tr>\n",
              "      <th rowspan=\"5\" valign=\"top\">04V</th>\n",
              "      <th>2017-01-01 00:10:00</th>\n",
              "      <td>23.0</td>\n",
              "      <td>73.51</td>\n",
              "      <td>0.0</td>\n",
              "      <td>NaN</td>\n",
              "      <td>0.0</td>\n",
              "      <td>10.0</td>\n",
              "      <td>NaN</td>\n",
              "      <td>OVC</td>\n",
              "      <td>M</td>\n",
              "      <td>M</td>\n",
              "    </tr>\n",
              "    <tr>\n",
              "      <th>2017-01-01 00:30:00</th>\n",
              "      <td>23.0</td>\n",
              "      <td>73.51</td>\n",
              "      <td>5.8</td>\n",
              "      <td>NaN</td>\n",
              "      <td>0.0</td>\n",
              "      <td>10.0</td>\n",
              "      <td>NaN</td>\n",
              "      <td>BKN</td>\n",
              "      <td>M</td>\n",
              "      <td>M</td>\n",
              "    </tr>\n",
              "    <tr>\n",
              "      <th>2017-01-01 00:50:00</th>\n",
              "      <td>21.2</td>\n",
              "      <td>79.31</td>\n",
              "      <td>4.6</td>\n",
              "      <td>NaN</td>\n",
              "      <td>0.0</td>\n",
              "      <td>10.0</td>\n",
              "      <td>NaN</td>\n",
              "      <td>SCT</td>\n",
              "      <td>M</td>\n",
              "      <td>M</td>\n",
              "    </tr>\n",
              "    <tr>\n",
              "      <th>2017-01-01 01:10:00</th>\n",
              "      <td>21.2</td>\n",
              "      <td>73.32</td>\n",
              "      <td>3.5</td>\n",
              "      <td>NaN</td>\n",
              "      <td>0.0</td>\n",
              "      <td>10.0</td>\n",
              "      <td>NaN</td>\n",
              "      <td>CLR</td>\n",
              "      <td>M</td>\n",
              "      <td>M</td>\n",
              "    </tr>\n",
              "    <tr>\n",
              "      <th>2017-01-01 01:30:00</th>\n",
              "      <td>19.4</td>\n",
              "      <td>79.16</td>\n",
              "      <td>3.5</td>\n",
              "      <td>NaN</td>\n",
              "      <td>0.0</td>\n",
              "      <td>10.0</td>\n",
              "      <td>NaN</td>\n",
              "      <td>SCT</td>\n",
              "      <td>M</td>\n",
              "      <td>M</td>\n",
              "    </tr>\n",
              "  </tbody>\n",
              "</table>\n",
              "</div>"
            ],
            "text/plain": [
              "                             tmpf   relh  sped  mslp  p01i  vsby  gust_mph  \\\n",
              "station date                                                                 \n",
              "04V     2017-01-01 00:10:00  23.0  73.51   0.0   NaN   0.0  10.0       NaN   \n",
              "        2017-01-01 00:30:00  23.0  73.51   5.8   NaN   0.0  10.0       NaN   \n",
              "        2017-01-01 00:50:00  21.2  79.31   4.6   NaN   0.0  10.0       NaN   \n",
              "        2017-01-01 01:10:00  21.2  73.32   3.5   NaN   0.0  10.0       NaN   \n",
              "        2017-01-01 01:30:00  19.4  79.16   3.5   NaN   0.0  10.0       NaN   \n",
              "\n",
              "                            skyc1 skyc2 skyc3  \n",
              "station date                                   \n",
              "04V     2017-01-01 00:10:00   OVC     M     M  \n",
              "        2017-01-01 00:30:00   BKN     M     M  \n",
              "        2017-01-01 00:50:00   SCT     M     M  \n",
              "        2017-01-01 01:10:00   CLR     M     M  \n",
              "        2017-01-01 01:30:00   SCT     M     M  "
            ]
          },
          "metadata": {
            "tags": []
          },
          "execution_count": 9
        }
      ]
    },
    {
      "metadata": {
        "id": "2dquA_6JnNYB",
        "colab_type": "text"
      },
      "cell_type": "markdown",
      "source": [
        "OK, that was a bit of work. Here's a plot to reward ourselves."
      ]
    },
    {
      "metadata": {
        "id": "rXT8lsEwnNYC",
        "colab_type": "code",
        "colab": {
          "base_uri": "https://localhost:8080/",
          "height": 602
        },
        "outputId": "4252b571-ce2e-40fe-ce83-7b384f6e9660"
      },
      "cell_type": "code",
      "source": [
        "airports = ['W43', 'AFO', '82V', 'DUB']\n",
        "\n",
        "g = sns.FacetGrid(weather.loc[airports].reset_index(),\n",
        "                  col='station', hue='station', col_wrap=2, size=4)\n",
        "g.map(sns.regplot, 'sped', 'gust_mph')"
      ],
      "execution_count": 10,
      "outputs": [
        {
          "output_type": "execute_result",
          "data": {
            "text/plain": [
              "<seaborn.axisgrid.FacetGrid at 0x7f0d417007b8>"
            ]
          },
          "metadata": {
            "tags": []
          },
          "execution_count": 10
        },
        {
          "output_type": "display_data",
          "data": {
            "image/png": "[encoded data removed]",
            "text/plain": [
              "<matplotlib.figure.Figure at 0x7f0d41700f60>"
            ]
          },
          "metadata": {
            "tags": []
          }
        }
      ]
    },
    {
      "metadata": {
        "id": "JPQVCzftnNYF",
        "colab_type": "text"
      },
      "cell_type": "markdown",
      "source": [
        "## Set Operations\n",
        "\n",
        "Indexes are set-like (technically *multi*sets, since you can have duplicates), so they support most python `set` operations. Since indexes are immutable you won't find any of the inplace `set` operations.\n",
        "One other difference is that since `Index`es are also array-like, you can't use some infix operators like `-` for `difference`. If you have a numeric index it is unclear whether you intend to perform math operations or set operations.\n",
        "You can use `&` for intersection, `|` for union, and `^` for symmetric difference though, since there's no ambiguity.\n",
        "\n",
        "For example, lets find the set of airports that we have both weather and flight information on. Since `weather` had a MultiIndex of `airport, datetime`, we'll use the `levels` attribute to get at the airport data, separate from the date data."
      ]
    },
    {
      "metadata": {
        "id": "GDjPkW33nNYG",
        "colab_type": "code",
        "colab": {
          "base_uri": "https://localhost:8080/",
          "height": 356
        },
        "outputId": "57af248c-5519-4924-c1d7-e76d3fe2172d"
      },
      "cell_type": "code",
      "source": [
        "# Bring in the flights data\n",
        "\n",
        "flights = pd.read_hdf('data/flights.h5', 'flights')\n",
        "\n",
        "weather_locs = weather.index.levels[0]\n",
        "# The `categories` attribute of a Categorical is an Index\n",
        "origin_locs = flights.origin.cat.categories\n",
        "dest_locs = flights.dest.cat.categories\n",
        "\n",
        "airports = weather_locs & origin_locs & dest_locs\n",
        "airports"
      ],
      "execution_count": 11,
      "outputs": [
        {
          "output_type": "error",
          "ename": "FileNotFoundError",
          "evalue": "ignored",
          "traceback": [
            "\u001b[0;31m---------------------------------------------------------------------------\u001b[0m",
            "\u001b[0;31mFileNotFoundError\u001b[0m                         Traceback (most recent call last)",
            "\u001b[0;32m<ipython-input-11-fe351c4aabdf>\u001b[0m in \u001b[0;36m<module>\u001b[0;34m()\u001b[0m\n\u001b[1;32m      1\u001b[0m \u001b[0;34m\u001b[0m\u001b[0m\n\u001b[0;32m----> 2\u001b[0;31m \u001b[0mflights\u001b[0m \u001b[0;34m=\u001b[0m \u001b[0mpd\u001b[0m\u001b[0;34m.\u001b[0m\u001b[0mread_hdf\u001b[0m\u001b[0;34m(\u001b[0m\u001b[0;34m'data/flights.h5'\u001b[0m\u001b[0;34m,\u001b[0m \u001b[0;34m'flights'\u001b[0m\u001b[0;34m)\u001b[0m\u001b[0;34m\u001b[0m\u001b[0m\n\u001b[0m\u001b[1;32m      3\u001b[0m \u001b[0;34m\u001b[0m\u001b[0m\n\u001b[1;32m      4\u001b[0m \u001b[0mweather_locs\u001b[0m \u001b[0;34m=\u001b[0m \u001b[0mweather\u001b[0m\u001b[0;34m.\u001b[0m\u001b[0mindex\u001b[0m\u001b[0;34m.\u001b[0m\u001b[0mlevels\u001b[0m\u001b[0;34m[\u001b[0m\u001b[0;36m0\u001b[0m\u001b[0;34m]\u001b[0m\u001b[0;34m\u001b[0m\u001b[0m\n\u001b[1;32m      5\u001b[0m \u001b[0;31m# The `categories` attribute of a Categorical is an Index\u001b[0m\u001b[0;34m\u001b[0m\u001b[0;34m\u001b[0m\u001b[0m\n",
            "\u001b[0;32m/usr/local/lib/python3.6/dist-packages/pandas/io/pytables.py\u001b[0m in \u001b[0;36mread_hdf\u001b[0;34m(path_or_buf, key, mode, **kwargs)\u001b[0m\n\u001b[1;32m    345\u001b[0m         \u001b[0;32mif\u001b[0m \u001b[0;32mnot\u001b[0m \u001b[0mexists\u001b[0m\u001b[0;34m:\u001b[0m\u001b[0;34m\u001b[0m\u001b[0m\n\u001b[1;32m    346\u001b[0m             raise compat.FileNotFoundError(\n\u001b[0;32m--> 347\u001b[0;31m                 'File %s does not exist' % path_or_buf)\n\u001b[0m\u001b[1;32m    348\u001b[0m \u001b[0;34m\u001b[0m\u001b[0m\n\u001b[1;32m    349\u001b[0m         \u001b[0mstore\u001b[0m \u001b[0;34m=\u001b[0m \u001b[0mHDFStore\u001b[0m\u001b[0;34m(\u001b[0m\u001b[0mpath_or_buf\u001b[0m\u001b[0;34m,\u001b[0m \u001b[0mmode\u001b[0m\u001b[0;34m=\u001b[0m\u001b[0mmode\u001b[0m\u001b[0;34m,\u001b[0m \u001b[0;34m**\u001b[0m\u001b[0mkwargs\u001b[0m\u001b[0;34m)\u001b[0m\u001b[0;34m\u001b[0m\u001b[0m\n",
            "\u001b[0;31mFileNotFoundError\u001b[0m: File data/flights.h5 does not exist"
          ]
        }
      ]
    },
    {
      "metadata": {
        "id": "wBDoyxEGnNYK",
        "colab_type": "code",
        "colab": {
          "base_uri": "https://localhost:8080/",
          "height": 323
        },
        "outputId": "be8b24c5-b2b1-406f-ece2-c4f0d8d84f0e"
      },
      "cell_type": "code",
      "source": [
        "print(\"Weather, no flights:\\n\\t\", weather_locs.difference(origin_locs | dest_locs), end='\\n\\n')\n",
        "\n",
        "print(\"Flights, no weather:\\n\\t\", (origin_locs | dest_locs).difference(weather_locs), end='\\n\\n')\n",
        "\n",
        "print(\"Dropped Stations:\\n\\t\", (origin_locs | dest_locs) ^ weather_locs)"
      ],
      "execution_count": 0,
      "outputs": [
        {
          "output_type": "stream",
          "text": [
            "Weather, no flights:\n",
            "\t Index(['04V', '04W', '05U', '06D', '08D', '0A9', '0CO', '0E0', '0F2', '0J4',\n",
            "       ...\n",
            "       'Y50', 'Y51', 'Y63', 'Y70', 'YIP', 'YKM', 'YKN', 'YNG', 'ZPH', 'ZZV'],\n",
            "      dtype='object', length=2069)\n",
            "\n",
            "Flights, no weather:\n",
            "\t Index(['ADK', 'ADQ', 'ANC', 'BET', 'BQN', 'BRW', 'CDV', 'FAI', 'FCA', 'GUM',\n",
            "       'HNL', 'ITO', 'JNU', 'KOA', 'KTN', 'LIH', 'MQT', 'OGG', 'OME', 'OTZ',\n",
            "       'PPG', 'PSE', 'PSG', 'SCC', 'SCE', 'SIT', 'SJU', 'STT', 'STX', 'WRG',\n",
            "       'YAK', 'YUM'],\n",
            "      dtype='object')\n",
            "\n",
            "Dropped Stations:\n",
            "\t Index(['04V', '04W', '05U', '06D', '08D', '0A9', '0CO', '0E0', '0F2', '0J4',\n",
            "       ...\n",
            "       'Y63', 'Y70', 'YAK', 'YIP', 'YKM', 'YKN', 'YNG', 'YUM', 'ZPH', 'ZZV'],\n",
            "      dtype='object', length=2101)\n"
          ],
          "name": "stdout"
        }
      ]
    },
    {
      "metadata": {
        "id": "kskkBPu6nNYO",
        "colab_type": "text"
      },
      "cell_type": "markdown",
      "source": [
        "## Flavors\n",
        "\n",
        "Pandas has many subclasses of the regular `Index`, each tailored to a specific kind of data.\n",
        "Most of the time these will be created for you automatically, so you don't have to worry about which one to choose.\n",
        "\n",
        "1. [`Index`](http://pandas.pydata.org/pandas-docs/version/0.18.0/generated/pandas.Index.html#pandas.Index)\n",
        "2. `Int64Index`\n",
        "3. `RangeIndex`: Memory-saving special case of `Int64Index`\n",
        "4. `FloatIndex`\n",
        "5. `DatetimeIndex`: Datetime64[ns] precision data\n",
        "6. `PeriodIndex`: Regularly-spaced, arbitrary precision datetime data.\n",
        "7. `TimedeltaIndex`\n",
        "8. `CategoricalIndex`\n",
        "9. `MultiIndex`\n",
        "\n",
        "You will sometimes create a `DatetimeIndex` with [`pd.date_range`](http://pandas.pydata.org/pandas-docs/version/0.18.0/generated/pandas.date_range.html) ([`pd.period_range`](http://pandas.pydata.org/pandas-docs/version/0.18.0/generated/pandas.period_range.html) for `PeriodIndex`).\n",
        "And you'll sometimes make a `MultiIndex` directly too (I'll have an example of this in my post on performace).\n",
        "\n",
        "Some of these specialized index types are purely optimizations; others use information about the data to provide additional methods.\n",
        "And while you might occasionally work with indexes directly (like the set operations above), most of they time you'll be operating on a Series or DataFrame, which in turn makes use of its Index.\n"
      ]
    },
    {
      "metadata": {
        "id": "m39SZnBGnNYP",
        "colab_type": "text"
      },
      "cell_type": "markdown",
      "source": [
        "### Row Slicing\n",
        "We saw in part one that they're great for making *row* subsetting as easy as column subsetting."
      ]
    },
    {
      "metadata": {
        "id": "7UNanV0znNYQ",
        "colab_type": "code",
        "colab": {
          "base_uri": "https://localhost:8080/",
          "height": 235
        },
        "outputId": "cc1f9704-a8f4-49b3-80fd-7c5c000ce83c"
      },
      "cell_type": "code",
      "source": [
        "weather.loc['DSM'].head()"
      ],
      "execution_count": 12,
      "outputs": [
        {
          "output_type": "execute_result",
          "data": {
            "text/html": [
              "<div>\n",
              "<style scoped>\n",
              "    .dataframe tbody tr th:only-of-type {\n",
              "        vertical-align: middle;\n",
              "    }\n",
              "\n",
              "    .dataframe tbody tr th {\n",
              "        vertical-align: top;\n",
              "    }\n",
              "\n",
              "    .dataframe thead th {\n",
              "        text-align: right;\n",
              "    }\n",
              "</style>\n",
              "<table border=\"1\" class=\"dataframe\">\n",
              "  <thead>\n",
              "    <tr style=\"text-align: right;\">\n",
              "      <th></th>\n",
              "      <th>tmpf</th>\n",
              "      <th>relh</th>\n",
              "      <th>sped</th>\n",
              "      <th>mslp</th>\n",
              "      <th>p01i</th>\n",
              "      <th>vsby</th>\n",
              "      <th>gust_mph</th>\n",
              "      <th>skyc1</th>\n",
              "      <th>skyc2</th>\n",
              "      <th>skyc3</th>\n",
              "    </tr>\n",
              "    <tr>\n",
              "      <th>date</th>\n",
              "      <th></th>\n",
              "      <th></th>\n",
              "      <th></th>\n",
              "      <th></th>\n",
              "      <th></th>\n",
              "      <th></th>\n",
              "      <th></th>\n",
              "      <th></th>\n",
              "      <th></th>\n",
              "      <th></th>\n",
              "    </tr>\n",
              "  </thead>\n",
              "  <tbody>\n",
              "    <tr>\n",
              "      <th>2017-01-01 00:05:00</th>\n",
              "      <td>NaN</td>\n",
              "      <td>NaN</td>\n",
              "      <td>0.0</td>\n",
              "      <td>NaN</td>\n",
              "      <td>NaN</td>\n",
              "      <td>10.0</td>\n",
              "      <td>NaN</td>\n",
              "      <td>CLR</td>\n",
              "      <td>M</td>\n",
              "      <td>M</td>\n",
              "    </tr>\n",
              "    <tr>\n",
              "      <th>2017-01-01 00:10:00</th>\n",
              "      <td>NaN</td>\n",
              "      <td>NaN</td>\n",
              "      <td>0.0</td>\n",
              "      <td>NaN</td>\n",
              "      <td>NaN</td>\n",
              "      <td>10.0</td>\n",
              "      <td>NaN</td>\n",
              "      <td>CLR</td>\n",
              "      <td>M</td>\n",
              "      <td>M</td>\n",
              "    </tr>\n",
              "    <tr>\n",
              "      <th>2017-01-01 00:15:00</th>\n",
              "      <td>NaN</td>\n",
              "      <td>NaN</td>\n",
              "      <td>0.0</td>\n",
              "      <td>NaN</td>\n",
              "      <td>NaN</td>\n",
              "      <td>10.0</td>\n",
              "      <td>NaN</td>\n",
              "      <td>CLR</td>\n",
              "      <td>M</td>\n",
              "      <td>M</td>\n",
              "    </tr>\n",
              "    <tr>\n",
              "      <th>2017-01-01 00:20:00</th>\n",
              "      <td>NaN</td>\n",
              "      <td>NaN</td>\n",
              "      <td>0.0</td>\n",
              "      <td>NaN</td>\n",
              "      <td>NaN</td>\n",
              "      <td>10.0</td>\n",
              "      <td>NaN</td>\n",
              "      <td>CLR</td>\n",
              "      <td>M</td>\n",
              "      <td>M</td>\n",
              "    </tr>\n",
              "    <tr>\n",
              "      <th>2017-01-01 00:25:00</th>\n",
              "      <td>NaN</td>\n",
              "      <td>NaN</td>\n",
              "      <td>0.0</td>\n",
              "      <td>NaN</td>\n",
              "      <td>NaN</td>\n",
              "      <td>10.0</td>\n",
              "      <td>NaN</td>\n",
              "      <td>CLR</td>\n",
              "      <td>M</td>\n",
              "      <td>M</td>\n",
              "    </tr>\n",
              "  </tbody>\n",
              "</table>\n",
              "</div>"
            ],
            "text/plain": [
              "                     tmpf  relh  sped  mslp  p01i  vsby  gust_mph skyc1 skyc2  \\\n",
              "date                                                                            \n",
              "2017-01-01 00:05:00   NaN   NaN   0.0   NaN   NaN  10.0       NaN   CLR     M   \n",
              "2017-01-01 00:10:00   NaN   NaN   0.0   NaN   NaN  10.0       NaN   CLR     M   \n",
              "2017-01-01 00:15:00   NaN   NaN   0.0   NaN   NaN  10.0       NaN   CLR     M   \n",
              "2017-01-01 00:20:00   NaN   NaN   0.0   NaN   NaN  10.0       NaN   CLR     M   \n",
              "2017-01-01 00:25:00   NaN   NaN   0.0   NaN   NaN  10.0       NaN   CLR     M   \n",
              "\n",
              "                    skyc3  \n",
              "date                       \n",
              "2017-01-01 00:05:00     M  \n",
              "2017-01-01 00:10:00     M  \n",
              "2017-01-01 00:15:00     M  \n",
              "2017-01-01 00:20:00     M  \n",
              "2017-01-01 00:25:00     M  "
            ]
          },
          "metadata": {
            "tags": []
          },
          "execution_count": 12
        }
      ]
    },
    {
      "metadata": {
        "id": "_ztDBoUIA-Ym",
        "colab_type": "code",
        "colab": {
          "base_uri": "https://localhost:8080/",
          "height": 169
        },
        "outputId": "95e8deef-d40e-4178-b238-432f8616ff8c"
      },
      "cell_type": "code",
      "source": [
        "weathe"
      ],
      "execution_count": 13,
      "outputs": [
        {
          "output_type": "error",
          "ename": "NameError",
          "evalue": "ignored",
          "traceback": [
            "\u001b[0;31m---------------------------------------------------------------------------\u001b[0m",
            "\u001b[0;31mNameError\u001b[0m                                 Traceback (most recent call last)",
            "\u001b[0;32m<ipython-input-13-9084dffa3732>\u001b[0m in \u001b[0;36m<module>\u001b[0;34m()\u001b[0m\n\u001b[0;32m----> 1\u001b[0;31m \u001b[0mweathe\u001b[0m\u001b[0;34m\u001b[0m\u001b[0m\n\u001b[0m",
            "\u001b[0;31mNameError\u001b[0m: name 'weathe' is not defined"
          ]
        }
      ]
    },
    {
      "metadata": {
        "id": "9xNQYR9pnNYT",
        "colab_type": "text"
      },
      "cell_type": "markdown",
      "source": [
        "Without indexes we'd probably resort to boolean masks."
      ]
    },
    {
      "metadata": {
        "id": "bZO6hdJGnNYU",
        "colab_type": "code",
        "colab": {},
        "outputId": "bb3f0422-45c9-4ae0-ece9-02a39db626fa"
      },
      "cell_type": "code",
      "source": [
        "weather2 = weather.reset_index()\n",
        "weather2[weather2['station'] == 'DSM'].head()"
      ],
      "execution_count": 0,
      "outputs": [
        {
          "output_type": "execute_result",
          "data": {
            "text/html": [
              "<div>\n",
              "<style>\n",
              "    .dataframe thead tr:only-child th {\n",
              "        text-align: right;\n",
              "    }\n",
              "\n",
              "    .dataframe thead th {\n",
              "        text-align: left;\n",
              "    }\n",
              "\n",
              "    .dataframe tbody tr th {\n",
              "        vertical-align: top;\n",
              "    }\n",
              "</style>\n",
              "<table border=\"1\" class=\"dataframe\">\n",
              "  <thead>\n",
              "    <tr style=\"text-align: right;\">\n",
              "      <th></th>\n",
              "      <th>station</th>\n",
              "      <th>date</th>\n",
              "      <th>tmpf</th>\n",
              "      <th>relh</th>\n",
              "      <th>sped</th>\n",
              "      <th>mslp</th>\n",
              "      <th>p01i</th>\n",
              "      <th>vsby</th>\n",
              "      <th>gust_mph</th>\n",
              "      <th>skyc1</th>\n",
              "      <th>skyc2</th>\n",
              "      <th>skyc3</th>\n",
              "    </tr>\n",
              "  </thead>\n",
              "  <tbody>\n",
              "    <tr>\n",
              "      <th>884855</th>\n",
              "      <td>DSM</td>\n",
              "      <td>2014-01-01 00:54:00</td>\n",
              "      <td>10.94</td>\n",
              "      <td>72.79</td>\n",
              "      <td>10.4</td>\n",
              "      <td>1024.9</td>\n",
              "      <td>0.0</td>\n",
              "      <td>10.0</td>\n",
              "      <td>NaN</td>\n",
              "      <td>FEW</td>\n",
              "      <td>M</td>\n",
              "      <td>M</td>\n",
              "    </tr>\n",
              "    <tr>\n",
              "      <th>884856</th>\n",
              "      <td>DSM</td>\n",
              "      <td>2014-01-01 01:54:00</td>\n",
              "      <td>10.94</td>\n",
              "      <td>72.79</td>\n",
              "      <td>11.5</td>\n",
              "      <td>1025.4</td>\n",
              "      <td>0.0</td>\n",
              "      <td>10.0</td>\n",
              "      <td>NaN</td>\n",
              "      <td>OVC</td>\n",
              "      <td>M</td>\n",
              "      <td>M</td>\n",
              "    </tr>\n",
              "    <tr>\n",
              "      <th>884857</th>\n",
              "      <td>DSM</td>\n",
              "      <td>2014-01-01 02:54:00</td>\n",
              "      <td>10.94</td>\n",
              "      <td>72.79</td>\n",
              "      <td>8.1</td>\n",
              "      <td>1025.3</td>\n",
              "      <td>0.0</td>\n",
              "      <td>10.0</td>\n",
              "      <td>NaN</td>\n",
              "      <td>BKN</td>\n",
              "      <td>M</td>\n",
              "      <td>M</td>\n",
              "    </tr>\n",
              "    <tr>\n",
              "      <th>884858</th>\n",
              "      <td>DSM</td>\n",
              "      <td>2014-01-01 03:54:00</td>\n",
              "      <td>10.94</td>\n",
              "      <td>72.79</td>\n",
              "      <td>9.2</td>\n",
              "      <td>1025.3</td>\n",
              "      <td>0.0</td>\n",
              "      <td>10.0</td>\n",
              "      <td>NaN</td>\n",
              "      <td>OVC</td>\n",
              "      <td>M</td>\n",
              "      <td>M</td>\n",
              "    </tr>\n",
              "    <tr>\n",
              "      <th>884859</th>\n",
              "      <td>DSM</td>\n",
              "      <td>2014-01-01 04:54:00</td>\n",
              "      <td>10.04</td>\n",
              "      <td>72.69</td>\n",
              "      <td>9.2</td>\n",
              "      <td>1024.7</td>\n",
              "      <td>0.0</td>\n",
              "      <td>10.0</td>\n",
              "      <td>NaN</td>\n",
              "      <td>BKN</td>\n",
              "      <td>M</td>\n",
              "      <td>M</td>\n",
              "    </tr>\n",
              "  </tbody>\n",
              "</table>\n",
              "</div>"
            ],
            "text/plain": [
              "       station                date   tmpf   relh  sped    mslp  p01i  vsby  \\\n",
              "884855     DSM 2014-01-01 00:54:00  10.94  72.79  10.4  1024.9   0.0  10.0   \n",
              "884856     DSM 2014-01-01 01:54:00  10.94  72.79  11.5  1025.4   0.0  10.0   \n",
              "884857     DSM 2014-01-01 02:54:00  10.94  72.79   8.1  1025.3   0.0  10.0   \n",
              "884858     DSM 2014-01-01 03:54:00  10.94  72.79   9.2  1025.3   0.0  10.0   \n",
              "884859     DSM 2014-01-01 04:54:00  10.04  72.69   9.2  1024.7   0.0  10.0   \n",
              "\n",
              "        gust_mph skyc1 skyc2 skyc3  \n",
              "884855       NaN   FEW     M     M  \n",
              "884856       NaN   OVC     M     M  \n",
              "884857       NaN   BKN     M     M  \n",
              "884858       NaN   OVC     M     M  \n",
              "884859       NaN   BKN     M     M  "
            ]
          },
          "metadata": {
            "tags": []
          },
          "execution_count": 40
        }
      ]
    },
    {
      "metadata": {
        "id": "PAwbDTJ0nNYa",
        "colab_type": "text"
      },
      "cell_type": "markdown",
      "source": [
        "Slightly less convenient, but still doable."
      ]
    },
    {
      "metadata": {
        "id": "n_eEZzzbnNYa",
        "colab_type": "text"
      },
      "cell_type": "markdown",
      "source": [
        "### Indexes for Easier Arithmetic, Analysis"
      ]
    },
    {
      "metadata": {
        "id": "CATNFBs1nNYc",
        "colab_type": "text"
      },
      "cell_type": "markdown",
      "source": [
        "It's nice to have your metadata (labels on each observation) next to you actual values. But if you store them in an array, they'll get in the way of your operations.\n",
        "Say we wanted to translate the Fahrenheit temperature to Celsius."
      ]
    },
    {
      "metadata": {
        "id": "EMxhpojTnNYq",
        "colab_type": "code",
        "colab": {
          "base_uri": "https://localhost:8080/",
          "height": 450
        },
        "outputId": "59eb1ff2-8b48-447a-cb00-c232e950543c"
      },
      "cell_type": "code",
      "source": [
        "# With indecies\n",
        "temp = weather['tmpf']\n",
        "\n",
        "c = (temp - 32) * 5 / 9\n",
        "c.to_frame()"
      ],
      "execution_count": 14,
      "outputs": [
        {
          "output_type": "execute_result",
          "data": {
            "text/html": [
              "<div>\n",
              "<style scoped>\n",
              "    .dataframe tbody tr th:only-of-type {\n",
              "        vertical-align: middle;\n",
              "    }\n",
              "\n",
              "    .dataframe tbody tr th {\n",
              "        vertical-align: top;\n",
              "    }\n",
              "\n",
              "    .dataframe thead th {\n",
              "        text-align: right;\n",
              "    }\n",
              "</style>\n",
              "<table border=\"1\" class=\"dataframe\">\n",
              "  <thead>\n",
              "    <tr style=\"text-align: right;\">\n",
              "      <th></th>\n",
              "      <th></th>\n",
              "      <th>tmpf</th>\n",
              "    </tr>\n",
              "    <tr>\n",
              "      <th>station</th>\n",
              "      <th>date</th>\n",
              "      <th></th>\n",
              "    </tr>\n",
              "  </thead>\n",
              "  <tbody>\n",
              "    <tr>\n",
              "      <th rowspan=\"5\" valign=\"top\">04V</th>\n",
              "      <th>2017-01-01 00:10:00</th>\n",
              "      <td>-5.000000</td>\n",
              "    </tr>\n",
              "    <tr>\n",
              "      <th>2017-01-01 00:30:00</th>\n",
              "      <td>-5.000000</td>\n",
              "    </tr>\n",
              "    <tr>\n",
              "      <th>2017-01-01 00:50:00</th>\n",
              "      <td>-6.000000</td>\n",
              "    </tr>\n",
              "    <tr>\n",
              "      <th>2017-01-01 01:10:00</th>\n",
              "      <td>-6.000000</td>\n",
              "    </tr>\n",
              "    <tr>\n",
              "      <th>2017-01-01 01:30:00</th>\n",
              "      <td>-7.000000</td>\n",
              "    </tr>\n",
              "    <tr>\n",
              "      <th>...</th>\n",
              "      <th>...</th>\n",
              "      <td>...</td>\n",
              "    </tr>\n",
              "    <tr>\n",
              "      <th rowspan=\"5\" valign=\"top\">ZZV</th>\n",
              "      <th>2017-01-30 23:40:00</th>\n",
              "      <td>NaN</td>\n",
              "    </tr>\n",
              "    <tr>\n",
              "      <th>2017-01-30 23:45:00</th>\n",
              "      <td>NaN</td>\n",
              "    </tr>\n",
              "    <tr>\n",
              "      <th>2017-01-30 23:50:00</th>\n",
              "      <td>NaN</td>\n",
              "    </tr>\n",
              "    <tr>\n",
              "      <th>2017-01-30 23:53:00</th>\n",
              "      <td>-2.777778</td>\n",
              "    </tr>\n",
              "    <tr>\n",
              "      <th>2017-01-30 23:55:00</th>\n",
              "      <td>NaN</td>\n",
              "    </tr>\n",
              "  </tbody>\n",
              "</table>\n",
              "<p>9105417 rows × 1 columns</p>\n",
              "</div>"
            ],
            "text/plain": [
              "                                 tmpf\n",
              "station date                         \n",
              "04V     2017-01-01 00:10:00 -5.000000\n",
              "        2017-01-01 00:30:00 -5.000000\n",
              "        2017-01-01 00:50:00 -6.000000\n",
              "        2017-01-01 01:10:00 -6.000000\n",
              "        2017-01-01 01:30:00 -7.000000\n",
              "...                               ...\n",
              "ZZV     2017-01-30 23:40:00       NaN\n",
              "        2017-01-30 23:45:00       NaN\n",
              "        2017-01-30 23:50:00       NaN\n",
              "        2017-01-30 23:53:00 -2.777778\n",
              "        2017-01-30 23:55:00       NaN\n",
              "\n",
              "[9105417 rows x 1 columns]"
            ]
          },
          "metadata": {
            "tags": []
          },
          "execution_count": 14
        }
      ]
    },
    {
      "metadata": {
        "id": "dgIY9K2OnNYv",
        "colab_type": "code",
        "colab": {
          "base_uri": "https://localhost:8080/",
          "height": 204
        },
        "outputId": "36fb4cb0-d0ee-4490-af25-97600bf0a3aa"
      },
      "cell_type": "code",
      "source": [
        "# without\n",
        "temp2 = weather.reset_index()[['station', 'date', 'tmpf']]\n",
        "\n",
        "temp2['tmpf'] = (temp2['tmpf'] - 32) * 5 / 9\n",
        "temp2.head()"
      ],
      "execution_count": 15,
      "outputs": [
        {
          "output_type": "execute_result",
          "data": {
            "text/html": [
              "<div>\n",
              "<style scoped>\n",
              "    .dataframe tbody tr th:only-of-type {\n",
              "        vertical-align: middle;\n",
              "    }\n",
              "\n",
              "    .dataframe tbody tr th {\n",
              "        vertical-align: top;\n",
              "    }\n",
              "\n",
              "    .dataframe thead th {\n",
              "        text-align: right;\n",
              "    }\n",
              "</style>\n",
              "<table border=\"1\" class=\"dataframe\">\n",
              "  <thead>\n",
              "    <tr style=\"text-align: right;\">\n",
              "      <th></th>\n",
              "      <th>station</th>\n",
              "      <th>date</th>\n",
              "      <th>tmpf</th>\n",
              "    </tr>\n",
              "  </thead>\n",
              "  <tbody>\n",
              "    <tr>\n",
              "      <th>0</th>\n",
              "      <td>04V</td>\n",
              "      <td>2017-01-01 00:10:00</td>\n",
              "      <td>-5.0</td>\n",
              "    </tr>\n",
              "    <tr>\n",
              "      <th>1</th>\n",
              "      <td>04V</td>\n",
              "      <td>2017-01-01 00:30:00</td>\n",
              "      <td>-5.0</td>\n",
              "    </tr>\n",
              "    <tr>\n",
              "      <th>2</th>\n",
              "      <td>04V</td>\n",
              "      <td>2017-01-01 00:50:00</td>\n",
              "      <td>-6.0</td>\n",
              "    </tr>\n",
              "    <tr>\n",
              "      <th>3</th>\n",
              "      <td>04V</td>\n",
              "      <td>2017-01-01 01:10:00</td>\n",
              "      <td>-6.0</td>\n",
              "    </tr>\n",
              "    <tr>\n",
              "      <th>4</th>\n",
              "      <td>04V</td>\n",
              "      <td>2017-01-01 01:30:00</td>\n",
              "      <td>-7.0</td>\n",
              "    </tr>\n",
              "  </tbody>\n",
              "</table>\n",
              "</div>"
            ],
            "text/plain": [
              "  station                date  tmpf\n",
              "0     04V 2017-01-01 00:10:00  -5.0\n",
              "1     04V 2017-01-01 00:30:00  -5.0\n",
              "2     04V 2017-01-01 00:50:00  -6.0\n",
              "3     04V 2017-01-01 01:10:00  -6.0\n",
              "4     04V 2017-01-01 01:30:00  -7.0"
            ]
          },
          "metadata": {
            "tags": []
          },
          "execution_count": 15
        }
      ]
    },
    {
      "metadata": {
        "id": "DBu52BuinNY1",
        "colab_type": "text"
      },
      "cell_type": "markdown",
      "source": [
        "Again, not terrible, but not as good.\n",
        "And, what if you had wanted to keep Fahrenheit around as well, instead of overwriting it like we did?\n",
        "Then you'd need to make a copy of everything, including the `station` and `date` columns.\n",
        "We don't have that problem, since indexes are immutable and safely shared between DataFrames / Series."
      ]
    },
    {
      "metadata": {
        "id": "7l214TSXnNY3",
        "colab_type": "code",
        "colab": {
          "base_uri": "https://localhost:8080/",
          "height": 34
        },
        "outputId": "39ca9e61-31b3-4504-e48f-618d39e3f5d7"
      },
      "cell_type": "code",
      "source": [
        "temp.index is c.index"
      ],
      "execution_count": 16,
      "outputs": [
        {
          "output_type": "execute_result",
          "data": {
            "text/plain": [
              "True"
            ]
          },
          "metadata": {
            "tags": []
          },
          "execution_count": 16
        }
      ]
    },
    {
      "metadata": {
        "id": "jzUKVpvLnNY6",
        "colab_type": "text"
      },
      "cell_type": "markdown",
      "source": [
        "### Indexes for Alignment\n",
        "\n",
        "I've saved the best for last.\n",
        "Automatic alignment, or reindexing, is fundamental to pandas.\n",
        "\n",
        "All binary operations (add, multiply, etc.) between Series/DataFrames first *align* and then proceed.\n",
        "\n",
        "Let's suppose we have hourly observations on temperature and windspeed.\n",
        "And suppose some of the observations were invalid, and not reported (simulated below by sampling from the full dataset). We'll assume the missing windspeed observations were potentially different from the missing temperature observations."
      ]
    },
    {
      "metadata": {
        "id": "WsI0Dw0AnNY7",
        "colab_type": "code",
        "colab": {}
      },
      "cell_type": "code",
      "source": [
        "dsm = weather.loc['DSM']\n",
        "\n",
        "hourly = dsm.resample('H').mean()\n",
        "\n",
        "temp = hourly['tmpf'].sample(frac=.5, random_state=1).sort_index()\n",
        "sped = hourly['sped'].sample(frac=.5, random_state=2).sort_index()"
      ],
      "execution_count": 0,
      "outputs": []
    },
    {
      "metadata": {
        "id": "jFuOBYXXnNY-",
        "colab_type": "code",
        "colab": {
          "base_uri": "https://localhost:8080/",
          "height": 136
        },
        "outputId": "6f46eb6a-12e5-470e-bc7b-d8b8a51e10ab"
      },
      "cell_type": "code",
      "source": [
        "    temp.head()"
      ],
      "execution_count": 46,
      "outputs": [
        {
          "output_type": "execute_result",
          "data": {
            "text/plain": [
              "date\n",
              "2017-01-01 00:00:00    28.9\n",
              "2017-01-01 02:00:00    24.1\n",
              "2017-01-01 03:00:00    24.1\n",
              "2017-01-01 04:00:00    21.9\n",
              "2017-01-01 05:00:00    24.1\n",
              "Name: tmpf, dtype: float64"
            ]
          },
          "metadata": {
            "tags": []
          },
          "execution_count": 46
        }
      ]
    },
    {
      "metadata": {
        "id": "4AyIhoKWnNZE",
        "colab_type": "code",
        "colab": {
          "base_uri": "https://localhost:8080/",
          "height": 136
        },
        "outputId": "e0862ef1-2f58-470e-f607-073b6c5e818b"
      },
      "cell_type": "code",
      "source": [
        "sped.head()"
      ],
      "execution_count": 47,
      "outputs": [
        {
          "output_type": "execute_result",
          "data": {
            "text/plain": [
              "date\n",
              "2017-01-01 01:00:00    3.890909\n",
              "2017-01-01 02:00:00    4.377778\n",
              "2017-01-01 03:00:00    6.150000\n",
              "2017-01-01 04:00:00    4.942857\n",
              "2017-01-01 05:00:00    7.925000\n",
              "Name: sped, dtype: float64"
            ]
          },
          "metadata": {
            "tags": []
          },
          "execution_count": 47
        }
      ]
    },
    {
      "metadata": {
        "id": "oQtu7sicnNZK",
        "colab_type": "text"
      },
      "cell_type": "markdown",
      "source": [
        "Notice that the two indexes aren't identical.\n",
        "\n",
        "Suppose that the `windspeed : temperature` ratio is meaningful.\n",
        "When we go to compute that, pandas will automatically align the two by index label."
      ]
    },
    {
      "metadata": {
        "id": "iOW5yi2snNZL",
        "colab_type": "code",
        "colab": {
          "base_uri": "https://localhost:8080/",
          "height": 238
        },
        "outputId": "aad24ee7-5aa2-4827-80ae-0a8441b523f5"
      },
      "cell_type": "code",
      "source": [
        "sped / temp"
      ],
      "execution_count": 48,
      "outputs": [
        {
          "output_type": "execute_result",
          "data": {
            "text/plain": [
              "date\n",
              "2017-01-01 00:00:00         NaN\n",
              "2017-01-01 01:00:00         NaN\n",
              "2017-01-01 02:00:00    0.181651\n",
              "2017-01-01 03:00:00    0.255187\n",
              "2017-01-01 04:00:00    0.225701\n",
              "                         ...   \n",
              "2017-01-30 13:00:00         NaN\n",
              "2017-01-30 14:00:00    0.263348\n",
              "2017-01-30 17:00:00         NaN\n",
              "2017-01-30 21:00:00         NaN\n",
              "2017-01-30 23:00:00         NaN\n",
              "Length: 550, dtype: float64"
            ]
          },
          "metadata": {
            "tags": []
          },
          "execution_count": 48
        }
      ]
    },
    {
      "metadata": {
        "id": "w7lCvLdvnNZS",
        "colab_type": "text"
      },
      "cell_type": "markdown",
      "source": [
        "This lets you focus on doing the operation, rather than manually aligning things, ensuring that the arrays are the same length and in the same order.\n",
        "By deault, missing values are inserted where the two don't align.\n",
        "You can use the method version of any binary operation to specify a `fill_value`"
      ]
    },
    {
      "metadata": {
        "id": "lV8nMUltnNZT",
        "colab_type": "code",
        "colab": {
          "base_uri": "https://localhost:8080/",
          "height": 238
        },
        "outputId": "24423492-0176-4030-829b-7ebafaa83d26"
      },
      "cell_type": "code",
      "source": [
        "sped.div(temp, fill_value=1)"
      ],
      "execution_count": 49,
      "outputs": [
        {
          "output_type": "execute_result",
          "data": {
            "text/plain": [
              "date\n",
              "2017-01-01 00:00:00     0.034602\n",
              "2017-01-01 01:00:00     3.890909\n",
              "2017-01-01 02:00:00     0.181651\n",
              "2017-01-01 03:00:00     0.255187\n",
              "2017-01-01 04:00:00     0.225701\n",
              "                         ...    \n",
              "2017-01-30 13:00:00     0.030211\n",
              "2017-01-30 14:00:00     0.263348\n",
              "2017-01-30 17:00:00     0.021739\n",
              "2017-01-30 21:00:00     0.019569\n",
              "2017-01-30 23:00:00    21.300000\n",
              "Length: 550, dtype: float64"
            ]
          },
          "metadata": {
            "tags": []
          },
          "execution_count": 49
        }
      ]
    },
    {
      "metadata": {
        "id": "ZHWX4J5KnNZW",
        "colab_type": "text"
      },
      "cell_type": "markdown",
      "source": [
        "And since I couldn't find anywhere else to put it, you can control the axis the operation is aligned along as well."
      ]
    },
    {
      "metadata": {
        "id": "c_ZEiXqenNZX",
        "colab_type": "code",
        "colab": {
          "base_uri": "https://localhost:8080/",
          "height": 450
        },
        "outputId": "34939215-c949-4aec-a85b-5e0685ec003c"
      },
      "cell_type": "code",
      "source": [
        "hourly.div(sped, axis='index')"
      ],
      "execution_count": 50,
      "outputs": [
        {
          "output_type": "execute_result",
          "data": {
            "text/html": [
              "<div>\n",
              "<style scoped>\n",
              "    .dataframe tbody tr th:only-of-type {\n",
              "        vertical-align: middle;\n",
              "    }\n",
              "\n",
              "    .dataframe tbody tr th {\n",
              "        vertical-align: top;\n",
              "    }\n",
              "\n",
              "    .dataframe thead th {\n",
              "        text-align: right;\n",
              "    }\n",
              "</style>\n",
              "<table border=\"1\" class=\"dataframe\">\n",
              "  <thead>\n",
              "    <tr style=\"text-align: right;\">\n",
              "      <th></th>\n",
              "      <th>tmpf</th>\n",
              "      <th>relh</th>\n",
              "      <th>sped</th>\n",
              "      <th>mslp</th>\n",
              "      <th>p01i</th>\n",
              "      <th>vsby</th>\n",
              "      <th>gust_mph</th>\n",
              "    </tr>\n",
              "    <tr>\n",
              "      <th>date</th>\n",
              "      <th></th>\n",
              "      <th></th>\n",
              "      <th></th>\n",
              "      <th></th>\n",
              "      <th></th>\n",
              "      <th></th>\n",
              "      <th></th>\n",
              "    </tr>\n",
              "  </thead>\n",
              "  <tbody>\n",
              "    <tr>\n",
              "      <th>2017-01-01 00:00:00</th>\n",
              "      <td>NaN</td>\n",
              "      <td>NaN</td>\n",
              "      <td>NaN</td>\n",
              "      <td>NaN</td>\n",
              "      <td>NaN</td>\n",
              "      <td>NaN</td>\n",
              "      <td>NaN</td>\n",
              "    </tr>\n",
              "    <tr>\n",
              "      <th>2017-01-01 01:00:00</th>\n",
              "      <td>6.193925</td>\n",
              "      <td>19.088084</td>\n",
              "      <td>1.0</td>\n",
              "      <td>260.710280</td>\n",
              "      <td>0.0</td>\n",
              "      <td>2.570093</td>\n",
              "      <td>NaN</td>\n",
              "    </tr>\n",
              "    <tr>\n",
              "      <th>2017-01-01 02:00:00</th>\n",
              "      <td>5.505076</td>\n",
              "      <td>16.965228</td>\n",
              "      <td>1.0</td>\n",
              "      <td>231.829949</td>\n",
              "      <td>0.0</td>\n",
              "      <td>2.284264</td>\n",
              "      <td>NaN</td>\n",
              "    </tr>\n",
              "    <tr>\n",
              "      <th>2017-01-01 03:00:00</th>\n",
              "      <td>3.918699</td>\n",
              "      <td>12.076423</td>\n",
              "      <td>1.0</td>\n",
              "      <td>165.121951</td>\n",
              "      <td>0.0</td>\n",
              "      <td>1.626016</td>\n",
              "      <td>NaN</td>\n",
              "    </tr>\n",
              "    <tr>\n",
              "      <th>2017-01-01 04:00:00</th>\n",
              "      <td>4.430636</td>\n",
              "      <td>15.713584</td>\n",
              "      <td>1.0</td>\n",
              "      <td>205.549133</td>\n",
              "      <td>0.0</td>\n",
              "      <td>2.023121</td>\n",
              "      <td>NaN</td>\n",
              "    </tr>\n",
              "    <tr>\n",
              "      <th>...</th>\n",
              "      <td>...</td>\n",
              "      <td>...</td>\n",
              "      <td>...</td>\n",
              "      <td>...</td>\n",
              "      <td>...</td>\n",
              "      <td>...</td>\n",
              "      <td>...</td>\n",
              "    </tr>\n",
              "    <tr>\n",
              "      <th>2017-01-30 19:00:00</th>\n",
              "      <td>NaN</td>\n",
              "      <td>NaN</td>\n",
              "      <td>NaN</td>\n",
              "      <td>NaN</td>\n",
              "      <td>NaN</td>\n",
              "      <td>NaN</td>\n",
              "      <td>NaN</td>\n",
              "    </tr>\n",
              "    <tr>\n",
              "      <th>2017-01-30 20:00:00</th>\n",
              "      <td>NaN</td>\n",
              "      <td>NaN</td>\n",
              "      <td>NaN</td>\n",
              "      <td>NaN</td>\n",
              "      <td>NaN</td>\n",
              "      <td>NaN</td>\n",
              "      <td>NaN</td>\n",
              "    </tr>\n",
              "    <tr>\n",
              "      <th>2017-01-30 21:00:00</th>\n",
              "      <td>NaN</td>\n",
              "      <td>NaN</td>\n",
              "      <td>NaN</td>\n",
              "      <td>NaN</td>\n",
              "      <td>NaN</td>\n",
              "      <td>NaN</td>\n",
              "      <td>NaN</td>\n",
              "    </tr>\n",
              "    <tr>\n",
              "      <th>2017-01-30 22:00:00</th>\n",
              "      <td>NaN</td>\n",
              "      <td>NaN</td>\n",
              "      <td>NaN</td>\n",
              "      <td>NaN</td>\n",
              "      <td>NaN</td>\n",
              "      <td>NaN</td>\n",
              "      <td>NaN</td>\n",
              "    </tr>\n",
              "    <tr>\n",
              "      <th>2017-01-30 23:00:00</th>\n",
              "      <td>2.201878</td>\n",
              "      <td>2.421596</td>\n",
              "      <td>1.0</td>\n",
              "      <td>47.253521</td>\n",
              "      <td>0.0</td>\n",
              "      <td>0.469484</td>\n",
              "      <td>1.352113</td>\n",
              "    </tr>\n",
              "  </tbody>\n",
              "</table>\n",
              "<p>720 rows × 7 columns</p>\n",
              "</div>"
            ],
            "text/plain": [
              "                         tmpf       relh  sped        mslp  p01i      vsby  \\\n",
              "date                                                                         \n",
              "2017-01-01 00:00:00       NaN        NaN   NaN         NaN   NaN       NaN   \n",
              "2017-01-01 01:00:00  6.193925  19.088084   1.0  260.710280   0.0  2.570093   \n",
              "2017-01-01 02:00:00  5.505076  16.965228   1.0  231.829949   0.0  2.284264   \n",
              "2017-01-01 03:00:00  3.918699  12.076423   1.0  165.121951   0.0  1.626016   \n",
              "2017-01-01 04:00:00  4.430636  15.713584   1.0  205.549133   0.0  2.023121   \n",
              "...                       ...        ...   ...         ...   ...       ...   \n",
              "2017-01-30 19:00:00       NaN        NaN   NaN         NaN   NaN       NaN   \n",
              "2017-01-30 20:00:00       NaN        NaN   NaN         NaN   NaN       NaN   \n",
              "2017-01-30 21:00:00       NaN        NaN   NaN         NaN   NaN       NaN   \n",
              "2017-01-30 22:00:00       NaN        NaN   NaN         NaN   NaN       NaN   \n",
              "2017-01-30 23:00:00  2.201878   2.421596   1.0   47.253521   0.0  0.469484   \n",
              "\n",
              "                     gust_mph  \n",
              "date                           \n",
              "2017-01-01 00:00:00       NaN  \n",
              "2017-01-01 01:00:00       NaN  \n",
              "2017-01-01 02:00:00       NaN  \n",
              "2017-01-01 03:00:00       NaN  \n",
              "2017-01-01 04:00:00       NaN  \n",
              "...                       ...  \n",
              "2017-01-30 19:00:00       NaN  \n",
              "2017-01-30 20:00:00       NaN  \n",
              "2017-01-30 21:00:00       NaN  \n",
              "2017-01-30 22:00:00       NaN  \n",
              "2017-01-30 23:00:00  1.352113  \n",
              "\n",
              "[720 rows x 7 columns]"
            ]
          },
          "metadata": {
            "tags": []
          },
          "execution_count": 50
        }
      ]
    },
    {
      "metadata": {
        "id": "HXZlyMFDnNZa",
        "colab_type": "text"
      },
      "cell_type": "markdown",
      "source": [
        "The non row-labeled version of this is messy."
      ]
    },
    {
      "metadata": {
        "id": "Pp5mUlcjnNZc",
        "colab_type": "code",
        "colab": {
          "base_uri": "https://localhost:8080/",
          "height": 419
        },
        "outputId": "f9ce95f3-7d95-4c05-b0ee-985d3f9cb46c"
      },
      "cell_type": "code",
      "source": [
        "temp2 = temp.reset_index()\n",
        "sped2 = sped.reset_index()\n",
        "\n",
        "# Find rows where the operation is defined\n",
        "common_dates = pd.Index(temp2.date) & sped2.date\n",
        "pd.concat([\n",
        "    # concat to not lose date information\n",
        "    sped2.loc[sped2['date'].isin(common_dates), 'date'],\n",
        "    (sped2.loc[sped2.date.isin(common_dates), 'sped'] /\n",
        "     temp2.loc[temp2.date.isin(common_dates), 'tmpf'])],\n",
        "    axis=1).dropna(how='all')"
      ],
      "execution_count": 51,
      "outputs": [
        {
          "output_type": "execute_result",
          "data": {
            "text/html": [
              "<div>\n",
              "<style scoped>\n",
              "    .dataframe tbody tr th:only-of-type {\n",
              "        vertical-align: middle;\n",
              "    }\n",
              "\n",
              "    .dataframe tbody tr th {\n",
              "        vertical-align: top;\n",
              "    }\n",
              "\n",
              "    .dataframe thead th {\n",
              "        text-align: right;\n",
              "    }\n",
              "</style>\n",
              "<table border=\"1\" class=\"dataframe\">\n",
              "  <thead>\n",
              "    <tr style=\"text-align: right;\">\n",
              "      <th></th>\n",
              "      <th>date</th>\n",
              "      <th>0</th>\n",
              "    </tr>\n",
              "  </thead>\n",
              "  <tbody>\n",
              "    <tr>\n",
              "      <th>1</th>\n",
              "      <td>2017-01-01 02:00:00</td>\n",
              "      <td>0.181651</td>\n",
              "    </tr>\n",
              "    <tr>\n",
              "      <th>2</th>\n",
              "      <td>2017-01-01 03:00:00</td>\n",
              "      <td>0.255187</td>\n",
              "    </tr>\n",
              "    <tr>\n",
              "      <th>3</th>\n",
              "      <td>2017-01-01 04:00:00</td>\n",
              "      <td>0.225701</td>\n",
              "    </tr>\n",
              "    <tr>\n",
              "      <th>4</th>\n",
              "      <td>2017-01-01 05:00:00</td>\n",
              "      <td>0.328838</td>\n",
              "    </tr>\n",
              "    <tr>\n",
              "      <th>8</th>\n",
              "      <td>2017-01-01 13:00:00</td>\n",
              "      <td>NaN</td>\n",
              "    </tr>\n",
              "    <tr>\n",
              "      <th>...</th>\n",
              "      <td>...</td>\n",
              "      <td>...</td>\n",
              "    </tr>\n",
              "    <tr>\n",
              "      <th>351</th>\n",
              "      <td>2017-01-29 23:00:00</td>\n",
              "      <td>0.325152</td>\n",
              "    </tr>\n",
              "    <tr>\n",
              "      <th>354</th>\n",
              "      <td>2017-01-30 05:00:00</td>\n",
              "      <td>0.101042</td>\n",
              "    </tr>\n",
              "    <tr>\n",
              "      <th>356</th>\n",
              "      <td>2017-01-30 09:00:00</td>\n",
              "      <td>NaN</td>\n",
              "    </tr>\n",
              "    <tr>\n",
              "      <th>357</th>\n",
              "      <td>2017-01-30 10:00:00</td>\n",
              "      <td>0.167157</td>\n",
              "    </tr>\n",
              "    <tr>\n",
              "      <th>358</th>\n",
              "      <td>2017-01-30 14:00:00</td>\n",
              "      <td>NaN</td>\n",
              "    </tr>\n",
              "  </tbody>\n",
              "</table>\n",
              "<p>170 rows × 2 columns</p>\n",
              "</div>"
            ],
            "text/plain": [
              "                   date         0\n",
              "1   2017-01-01 02:00:00  0.181651\n",
              "2   2017-01-01 03:00:00  0.255187\n",
              "3   2017-01-01 04:00:00  0.225701\n",
              "4   2017-01-01 05:00:00  0.328838\n",
              "8   2017-01-01 13:00:00       NaN\n",
              "..                  ...       ...\n",
              "351 2017-01-29 23:00:00  0.325152\n",
              "354 2017-01-30 05:00:00  0.101042\n",
              "356 2017-01-30 09:00:00       NaN\n",
              "357 2017-01-30 10:00:00  0.167157\n",
              "358 2017-01-30 14:00:00       NaN\n",
              "\n",
              "[170 rows x 2 columns]"
            ]
          },
          "metadata": {
            "tags": []
          },
          "execution_count": 51
        }
      ]
    },
    {
      "metadata": {
        "id": "WzUZCNE1nNZh",
        "colab_type": "text"
      },
      "cell_type": "markdown",
      "source": [
        "And we have a bug in there. Can you spot it?\n",
        "I only grabbed the dates from `sped2` in the line `sped2.loc[sped2['date'].isin(common_dates), 'date']`.\n",
        "Really that should be `sped2.loc[sped2.date.isin(common_dates)] | temp2.loc[temp2.date.isin(common_dates)]`.\n",
        "But I think leaving the buggy version states my case even more strongly. The `temp / sped` version where pandas aligns everything is better."
      ]
    },
    {
      "metadata": {
        "id": "5dJxxAMKnNZi",
        "colab_type": "text"
      },
      "cell_type": "markdown",
      "source": [
        "## Merging\n",
        "\n",
        "There are two ways of merging DataFrames / Series in pandas.\n",
        "\n",
        "1. Relational Database style with `pd.merge`\n",
        "2. Array style with `pd.concat`\n",
        "\n",
        "Personally, I think in terms of the `concat` style.\n",
        "I learned pandas before I ever really used SQL, so it comes more naturally to me I suppose.\n",
        "\n",
        "### Concat Version"
      ]
    },
    {
      "metadata": {
        "id": "H5M6iAh_nNZj",
        "colab_type": "code",
        "colab": {
          "base_uri": "https://localhost:8080/",
          "height": 235
        },
        "outputId": "447ab0f4-ff16-40f5-f1fb-f9413d812a8f"
      },
      "cell_type": "code",
      "source": [
        "pd.concat([temp, sped], axis=1).head()"
      ],
      "execution_count": 52,
      "outputs": [
        {
          "output_type": "execute_result",
          "data": {
            "text/html": [
              "<div>\n",
              "<style scoped>\n",
              "    .dataframe tbody tr th:only-of-type {\n",
              "        vertical-align: middle;\n",
              "    }\n",
              "\n",
              "    .dataframe tbody tr th {\n",
              "        vertical-align: top;\n",
              "    }\n",
              "\n",
              "    .dataframe thead th {\n",
              "        text-align: right;\n",
              "    }\n",
              "</style>\n",
              "<table border=\"1\" class=\"dataframe\">\n",
              "  <thead>\n",
              "    <tr style=\"text-align: right;\">\n",
              "      <th></th>\n",
              "      <th>tmpf</th>\n",
              "      <th>sped</th>\n",
              "    </tr>\n",
              "    <tr>\n",
              "      <th>date</th>\n",
              "      <th></th>\n",
              "      <th></th>\n",
              "    </tr>\n",
              "  </thead>\n",
              "  <tbody>\n",
              "    <tr>\n",
              "      <th>2017-01-01 00:00:00</th>\n",
              "      <td>28.9</td>\n",
              "      <td>NaN</td>\n",
              "    </tr>\n",
              "    <tr>\n",
              "      <th>2017-01-01 01:00:00</th>\n",
              "      <td>NaN</td>\n",
              "      <td>3.890909</td>\n",
              "    </tr>\n",
              "    <tr>\n",
              "      <th>2017-01-01 02:00:00</th>\n",
              "      <td>24.1</td>\n",
              "      <td>4.377778</td>\n",
              "    </tr>\n",
              "    <tr>\n",
              "      <th>2017-01-01 03:00:00</th>\n",
              "      <td>24.1</td>\n",
              "      <td>6.150000</td>\n",
              "    </tr>\n",
              "    <tr>\n",
              "      <th>2017-01-01 04:00:00</th>\n",
              "      <td>21.9</td>\n",
              "      <td>4.942857</td>\n",
              "    </tr>\n",
              "  </tbody>\n",
              "</table>\n",
              "</div>"
            ],
            "text/plain": [
              "                     tmpf      sped\n",
              "date                               \n",
              "2017-01-01 00:00:00  28.9       NaN\n",
              "2017-01-01 01:00:00   NaN  3.890909\n",
              "2017-01-01 02:00:00  24.1  4.377778\n",
              "2017-01-01 03:00:00  24.1  6.150000\n",
              "2017-01-01 04:00:00  21.9  4.942857"
            ]
          },
          "metadata": {
            "tags": []
          },
          "execution_count": 52
        }
      ]
    },
    {
      "metadata": {
        "id": "1s9MoKqhnNZo",
        "colab_type": "text"
      },
      "cell_type": "markdown",
      "source": [
        "The `axis` parameter controls how the data should be stacked, `0` for vertically, `1` for horizontally.\n",
        "The `join` parameter controls the merge behavior on the shared axis, (the Index for `axis=1`). By default it's like a union of the two indexes, or an outer join."
      ]
    },
    {
      "metadata": {
        "id": "zpS_xr6nnNZo",
        "colab_type": "code",
        "colab": {
          "base_uri": "https://localhost:8080/",
          "height": 450
        },
        "outputId": "9630dda5-769f-42f3-d110-a00865ad74a7"
      },
      "cell_type": "code",
      "source": [
        "pd.concat([temp, sped], axis=1, join='inner')"
      ],
      "execution_count": 53,
      "outputs": [
        {
          "output_type": "execute_result",
          "data": {
            "text/html": [
              "<div>\n",
              "<style scoped>\n",
              "    .dataframe tbody tr th:only-of-type {\n",
              "        vertical-align: middle;\n",
              "    }\n",
              "\n",
              "    .dataframe tbody tr th {\n",
              "        vertical-align: top;\n",
              "    }\n",
              "\n",
              "    .dataframe thead th {\n",
              "        text-align: right;\n",
              "    }\n",
              "</style>\n",
              "<table border=\"1\" class=\"dataframe\">\n",
              "  <thead>\n",
              "    <tr style=\"text-align: right;\">\n",
              "      <th></th>\n",
              "      <th>tmpf</th>\n",
              "      <th>sped</th>\n",
              "    </tr>\n",
              "    <tr>\n",
              "      <th>date</th>\n",
              "      <th></th>\n",
              "      <th></th>\n",
              "    </tr>\n",
              "  </thead>\n",
              "  <tbody>\n",
              "    <tr>\n",
              "      <th>2017-01-01 02:00:00</th>\n",
              "      <td>24.10</td>\n",
              "      <td>4.377778</td>\n",
              "    </tr>\n",
              "    <tr>\n",
              "      <th>2017-01-01 03:00:00</th>\n",
              "      <td>24.10</td>\n",
              "      <td>6.150000</td>\n",
              "    </tr>\n",
              "    <tr>\n",
              "      <th>2017-01-01 04:00:00</th>\n",
              "      <td>21.90</td>\n",
              "      <td>4.942857</td>\n",
              "    </tr>\n",
              "    <tr>\n",
              "      <th>2017-01-01 05:00:00</th>\n",
              "      <td>24.10</td>\n",
              "      <td>7.925000</td>\n",
              "    </tr>\n",
              "    <tr>\n",
              "      <th>2017-01-01 13:00:00</th>\n",
              "      <td>19.90</td>\n",
              "      <td>8.083333</td>\n",
              "    </tr>\n",
              "    <tr>\n",
              "      <th>...</th>\n",
              "      <td>...</td>\n",
              "      <td>...</td>\n",
              "    </tr>\n",
              "    <tr>\n",
              "      <th>2017-01-29 23:00:00</th>\n",
              "      <td>33.55</td>\n",
              "      <td>9.754545</td>\n",
              "    </tr>\n",
              "    <tr>\n",
              "      <th>2017-01-30 05:00:00</th>\n",
              "      <td>30.00</td>\n",
              "      <td>3.233333</td>\n",
              "    </tr>\n",
              "    <tr>\n",
              "      <th>2017-01-30 09:00:00</th>\n",
              "      <td>30.90</td>\n",
              "      <td>6.281818</td>\n",
              "    </tr>\n",
              "    <tr>\n",
              "      <th>2017-01-30 10:00:00</th>\n",
              "      <td>32.00</td>\n",
              "      <td>5.683333</td>\n",
              "    </tr>\n",
              "    <tr>\n",
              "      <th>2017-01-30 14:00:00</th>\n",
              "      <td>34.00</td>\n",
              "      <td>8.953846</td>\n",
              "    </tr>\n",
              "  </tbody>\n",
              "</table>\n",
              "<p>170 rows × 2 columns</p>\n",
              "</div>"
            ],
            "text/plain": [
              "                      tmpf      sped\n",
              "date                                \n",
              "2017-01-01 02:00:00  24.10  4.377778\n",
              "2017-01-01 03:00:00  24.10  6.150000\n",
              "2017-01-01 04:00:00  21.90  4.942857\n",
              "2017-01-01 05:00:00  24.10  7.925000\n",
              "2017-01-01 13:00:00  19.90  8.083333\n",
              "...                    ...       ...\n",
              "2017-01-29 23:00:00  33.55  9.754545\n",
              "2017-01-30 05:00:00  30.00  3.233333\n",
              "2017-01-30 09:00:00  30.90  6.281818\n",
              "2017-01-30 10:00:00  32.00  5.683333\n",
              "2017-01-30 14:00:00  34.00  8.953846\n",
              "\n",
              "[170 rows x 2 columns]"
            ]
          },
          "metadata": {
            "tags": []
          },
          "execution_count": 53
        }
      ]
    },
    {
      "metadata": {
        "id": "28iiybw0nNZw",
        "colab_type": "text"
      },
      "cell_type": "markdown",
      "source": [
        "### Merge Version\n",
        "\n",
        "Since we're joining by index here the merge version is quite similar.\n",
        "We'll see an example later of a one-to-many join where the two differ."
      ]
    },
    {
      "metadata": {
        "id": "MPtV0uBYnNZx",
        "colab_type": "code",
        "colab": {
          "base_uri": "https://localhost:8080/",
          "height": 235
        },
        "outputId": "41c6f413-386d-4928-f3fe-c4f121e45918"
      },
      "cell_type": "code",
      "source": [
        "pd.merge(temp.to_frame(), sped.to_frame(), left_index=True, right_index=True).head()"
      ],
      "execution_count": 54,
      "outputs": [
        {
          "output_type": "execute_result",
          "data": {
            "text/html": [
              "<div>\n",
              "<style scoped>\n",
              "    .dataframe tbody tr th:only-of-type {\n",
              "        vertical-align: middle;\n",
              "    }\n",
              "\n",
              "    .dataframe tbody tr th {\n",
              "        vertical-align: top;\n",
              "    }\n",
              "\n",
              "    .dataframe thead th {\n",
              "        text-align: right;\n",
              "    }\n",
              "</style>\n",
              "<table border=\"1\" class=\"dataframe\">\n",
              "  <thead>\n",
              "    <tr style=\"text-align: right;\">\n",
              "      <th></th>\n",
              "      <th>tmpf</th>\n",
              "      <th>sped</th>\n",
              "    </tr>\n",
              "    <tr>\n",
              "      <th>date</th>\n",
              "      <th></th>\n",
              "      <th></th>\n",
              "    </tr>\n",
              "  </thead>\n",
              "  <tbody>\n",
              "    <tr>\n",
              "      <th>2017-01-01 02:00:00</th>\n",
              "      <td>24.1</td>\n",
              "      <td>4.377778</td>\n",
              "    </tr>\n",
              "    <tr>\n",
              "      <th>2017-01-01 03:00:00</th>\n",
              "      <td>24.1</td>\n",
              "      <td>6.150000</td>\n",
              "    </tr>\n",
              "    <tr>\n",
              "      <th>2017-01-01 04:00:00</th>\n",
              "      <td>21.9</td>\n",
              "      <td>4.942857</td>\n",
              "    </tr>\n",
              "    <tr>\n",
              "      <th>2017-01-01 05:00:00</th>\n",
              "      <td>24.1</td>\n",
              "      <td>7.925000</td>\n",
              "    </tr>\n",
              "    <tr>\n",
              "      <th>2017-01-01 13:00:00</th>\n",
              "      <td>19.9</td>\n",
              "      <td>8.083333</td>\n",
              "    </tr>\n",
              "  </tbody>\n",
              "</table>\n",
              "</div>"
            ],
            "text/plain": [
              "                     tmpf      sped\n",
              "date                               \n",
              "2017-01-01 02:00:00  24.1  4.377778\n",
              "2017-01-01 03:00:00  24.1  6.150000\n",
              "2017-01-01 04:00:00  21.9  4.942857\n",
              "2017-01-01 05:00:00  24.1  7.925000\n",
              "2017-01-01 13:00:00  19.9  8.083333"
            ]
          },
          "metadata": {
            "tags": []
          },
          "execution_count": 54
        }
      ]
    },
    {
      "metadata": {
        "id": "ZbWE4e4OnNZ8",
        "colab_type": "code",
        "colab": {
          "base_uri": "https://localhost:8080/",
          "height": 235
        },
        "outputId": "3f28c1cf-4c13-43bf-802a-e988ac2c8ce3"
      },
      "cell_type": "code",
      "source": [
        "pd.merge(temp.to_frame(), sped.to_frame(), left_index=True, right_index=True,\n",
        "         how='outer').head()"
      ],
      "execution_count": 55,
      "outputs": [
        {
          "output_type": "execute_result",
          "data": {
            "text/html": [
              "<div>\n",
              "<style scoped>\n",
              "    .dataframe tbody tr th:only-of-type {\n",
              "        vertical-align: middle;\n",
              "    }\n",
              "\n",
              "    .dataframe tbody tr th {\n",
              "        vertical-align: top;\n",
              "    }\n",
              "\n",
              "    .dataframe thead th {\n",
              "        text-align: right;\n",
              "    }\n",
              "</style>\n",
              "<table border=\"1\" class=\"dataframe\">\n",
              "  <thead>\n",
              "    <tr style=\"text-align: right;\">\n",
              "      <th></th>\n",
              "      <th>tmpf</th>\n",
              "      <th>sped</th>\n",
              "    </tr>\n",
              "    <tr>\n",
              "      <th>date</th>\n",
              "      <th></th>\n",
              "      <th></th>\n",
              "    </tr>\n",
              "  </thead>\n",
              "  <tbody>\n",
              "    <tr>\n",
              "      <th>2017-01-01 00:00:00</th>\n",
              "      <td>28.9</td>\n",
              "      <td>NaN</td>\n",
              "    </tr>\n",
              "    <tr>\n",
              "      <th>2017-01-01 01:00:00</th>\n",
              "      <td>NaN</td>\n",
              "      <td>3.890909</td>\n",
              "    </tr>\n",
              "    <tr>\n",
              "      <th>2017-01-01 02:00:00</th>\n",
              "      <td>24.1</td>\n",
              "      <td>4.377778</td>\n",
              "    </tr>\n",
              "    <tr>\n",
              "      <th>2017-01-01 03:00:00</th>\n",
              "      <td>24.1</td>\n",
              "      <td>6.150000</td>\n",
              "    </tr>\n",
              "    <tr>\n",
              "      <th>2017-01-01 04:00:00</th>\n",
              "      <td>21.9</td>\n",
              "      <td>4.942857</td>\n",
              "    </tr>\n",
              "  </tbody>\n",
              "</table>\n",
              "</div>"
            ],
            "text/plain": [
              "                     tmpf      sped\n",
              "date                               \n",
              "2017-01-01 00:00:00  28.9       NaN\n",
              "2017-01-01 01:00:00   NaN  3.890909\n",
              "2017-01-01 02:00:00  24.1  4.377778\n",
              "2017-01-01 03:00:00  24.1  6.150000\n",
              "2017-01-01 04:00:00  21.9  4.942857"
            ]
          },
          "metadata": {
            "tags": []
          },
          "execution_count": 55
        }
      ]
    },
    {
      "metadata": {
        "id": "8TnXmvDCnNZ-",
        "colab_type": "text"
      },
      "cell_type": "markdown",
      "source": [
        "Like I said, I typically prefer `concat` to `merge`.\n",
        "The exception here is one-to-many type joins. Let's walk through one of those,\n",
        "where we join the flight data to the weather data.\n",
        "To focus just on the merge, we'll aggregate hour weather data to be daily, rather than trying to find the closest recorded weather observation to each departure (you could do that, but it's not the focus right now). We'll then join the one `(airport, date)` record to the many `(airport, date, flight)` records.\n",
        "\n",
        "Quick tangent, to get the weather data to daily frequency, we'll need to resample (more on that in the timeseries section). The resample essentially splits the recorded values into daily buckets and computes the aggregation function on each bucket. The only wrinkle is that we have to resample *by station*, so we'll use the `pd.TimeGrouper` helper."
      ]
    },
    {
      "metadata": {
        "id": "el5Vn5tBnNZ_",
        "colab_type": "code",
        "colab": {
          "base_uri": "https://localhost:8080/",
          "height": 203
        },
        "outputId": "9608053a-a10d-4421-f8d5-689dbb98d769"
      },
      "cell_type": "code",
      "source": [
        "idx_cols = ['unique_carrier', 'origin', 'dest', 'tail_num', 'fl_num', 'fl_date']\n",
        "data_cols = ['crs_dep_time', 'dep_delay', 'crs_arr_time', 'arr_delay',\n",
        "             'taxi_out', 'taxi_in', 'wheels_off', 'wheels_on']\n",
        "\n",
        "df = flights.set_index(idx_cols)[data_cols].sort_index()"
      ],
      "execution_count": 60,
      "outputs": [
        {
          "output_type": "error",
          "ename": "NameError",
          "evalue": "ignored",
          "traceback": [
            "\u001b[0;31m---------------------------------------------------------------------------\u001b[0m",
            "\u001b[0;31mNameError\u001b[0m                                 Traceback (most recent call last)",
            "\u001b[0;32m<ipython-input-60-21712d8e9c53>\u001b[0m in \u001b[0;36m<module>\u001b[0;34m()\u001b[0m\n\u001b[1;32m      3\u001b[0m              'taxi_out', 'taxi_in', 'wheels_off', 'wheels_on']\n\u001b[1;32m      4\u001b[0m \u001b[0;34m\u001b[0m\u001b[0m\n\u001b[0;32m----> 5\u001b[0;31m \u001b[0mdf\u001b[0m \u001b[0;34m=\u001b[0m \u001b[0mflights\u001b[0m\u001b[0;34m.\u001b[0m\u001b[0mset_index\u001b[0m\u001b[0;34m(\u001b[0m\u001b[0midx_cols\u001b[0m\u001b[0;34m)\u001b[0m\u001b[0;34m[\u001b[0m\u001b[0mdata_cols\u001b[0m\u001b[0;34m]\u001b[0m\u001b[0;34m.\u001b[0m\u001b[0msort_index\u001b[0m\u001b[0;34m(\u001b[0m\u001b[0;34m)\u001b[0m\u001b[0;34m\u001b[0m\u001b[0m\n\u001b[0m",
            "\u001b[0;31mNameError\u001b[0m: name 'flights' is not defined"
          ]
        }
      ]
    },
    {
      "metadata": {
        "id": "v8i18q9KnNaB",
        "colab_type": "code",
        "colab": {},
        "outputId": "dec65854-6220-4546-f1d5-002cf301fe9b"
      },
      "cell_type": "code",
      "source": [
        "def mode(x):\n",
        "    '''\n",
        "    Arbitrarily break ties.\n",
        "    '''\n",
        "    return x.value_counts().index[0]\n",
        "\n",
        "aggfuncs = {'tmpf': 'mean', 'relh': 'mean',\n",
        "            'sped': 'mean', 'mslp': 'mean',\n",
        "            'p01i': 'mean', 'vsby': 'mean',\n",
        "            'gust_mph': 'mean', 'skyc1': mode,\n",
        "            'skyc2': mode, 'skyc3': mode}\n",
        "# TimeGrouper works on a DatetimeIndex, so we move `station` to the\n",
        "# columns and then groupby it as well.\n",
        "daily = (weather.reset_index(level=\"station\")\n",
        "                .groupby([pd.TimeGrouper('1d'), \"station\"])\n",
        "                .agg(aggfuncs))\n",
        "\n",
        "daily.head()"
      ],
      "execution_count": 0,
      "outputs": [
        {
          "output_type": "execute_result",
          "data": {
            "text/html": [
              "<div>\n",
              "<style>\n",
              "    .dataframe thead tr:only-child th {\n",
              "        text-align: right;\n",
              "    }\n",
              "\n",
              "    .dataframe thead th {\n",
              "        text-align: left;\n",
              "    }\n",
              "\n",
              "    .dataframe tbody tr th {\n",
              "        vertical-align: top;\n",
              "    }\n",
              "</style>\n",
              "<table border=\"1\" class=\"dataframe\">\n",
              "  <thead>\n",
              "    <tr style=\"text-align: right;\">\n",
              "      <th></th>\n",
              "      <th></th>\n",
              "      <th>tmpf</th>\n",
              "      <th>relh</th>\n",
              "      <th>sped</th>\n",
              "      <th>mslp</th>\n",
              "      <th>p01i</th>\n",
              "      <th>vsby</th>\n",
              "      <th>gust_mph</th>\n",
              "      <th>skyc1</th>\n",
              "      <th>skyc2</th>\n",
              "      <th>skyc3</th>\n",
              "    </tr>\n",
              "    <tr>\n",
              "      <th>date</th>\n",
              "      <th>station</th>\n",
              "      <th></th>\n",
              "      <th></th>\n",
              "      <th></th>\n",
              "      <th></th>\n",
              "      <th></th>\n",
              "      <th></th>\n",
              "      <th></th>\n",
              "      <th></th>\n",
              "      <th></th>\n",
              "      <th></th>\n",
              "    </tr>\n",
              "  </thead>\n",
              "  <tbody>\n",
              "    <tr>\n",
              "      <th rowspan=\"5\" valign=\"top\">2014-01-01</th>\n",
              "      <th>01M</th>\n",
              "      <td>35.747500</td>\n",
              "      <td>81.117917</td>\n",
              "      <td>2.294444</td>\n",
              "      <td>NaN</td>\n",
              "      <td>0.0</td>\n",
              "      <td>9.229167</td>\n",
              "      <td>NaN</td>\n",
              "      <td>CLR</td>\n",
              "      <td>M</td>\n",
              "      <td>M</td>\n",
              "    </tr>\n",
              "    <tr>\n",
              "      <th>04V</th>\n",
              "      <td>18.350000</td>\n",
              "      <td>72.697778</td>\n",
              "      <td>11.250000</td>\n",
              "      <td>NaN</td>\n",
              "      <td>0.0</td>\n",
              "      <td>9.861111</td>\n",
              "      <td>31.603571</td>\n",
              "      <td>CLR</td>\n",
              "      <td>M</td>\n",
              "      <td>M</td>\n",
              "    </tr>\n",
              "    <tr>\n",
              "      <th>04W</th>\n",
              "      <td>-9.075000</td>\n",
              "      <td>69.908056</td>\n",
              "      <td>3.647222</td>\n",
              "      <td>NaN</td>\n",
              "      <td>0.0</td>\n",
              "      <td>10.000000</td>\n",
              "      <td>NaN</td>\n",
              "      <td>OVC</td>\n",
              "      <td>M</td>\n",
              "      <td>M</td>\n",
              "    </tr>\n",
              "    <tr>\n",
              "      <th>05U</th>\n",
              "      <td>26.321127</td>\n",
              "      <td>71.519859</td>\n",
              "      <td>3.829577</td>\n",
              "      <td>NaN</td>\n",
              "      <td>0.0</td>\n",
              "      <td>9.929577</td>\n",
              "      <td>NaN</td>\n",
              "      <td>CLR</td>\n",
              "      <td>M</td>\n",
              "      <td>M</td>\n",
              "    </tr>\n",
              "    <tr>\n",
              "      <th>06D</th>\n",
              "      <td>-11.388060</td>\n",
              "      <td>73.784179</td>\n",
              "      <td>5.359722</td>\n",
              "      <td>NaN</td>\n",
              "      <td>0.0</td>\n",
              "      <td>9.576389</td>\n",
              "      <td>NaN</td>\n",
              "      <td>CLR</td>\n",
              "      <td>M</td>\n",
              "      <td>M</td>\n",
              "    </tr>\n",
              "  </tbody>\n",
              "</table>\n",
              "</div>"
            ],
            "text/plain": [
              "                         tmpf       relh       sped  mslp  p01i       vsby  \\\n",
              "date       station                                                           \n",
              "2014-01-01 01M      35.747500  81.117917   2.294444   NaN   0.0   9.229167   \n",
              "           04V      18.350000  72.697778  11.250000   NaN   0.0   9.861111   \n",
              "           04W      -9.075000  69.908056   3.647222   NaN   0.0  10.000000   \n",
              "           05U      26.321127  71.519859   3.829577   NaN   0.0   9.929577   \n",
              "           06D     -11.388060  73.784179   5.359722   NaN   0.0   9.576389   \n",
              "\n",
              "                     gust_mph skyc1 skyc2 skyc3  \n",
              "date       station                               \n",
              "2014-01-01 01M            NaN   CLR     M     M  \n",
              "           04V      31.603571   CLR     M     M  \n",
              "           04W            NaN   OVC     M     M  \n",
              "           05U            NaN   CLR     M     M  \n",
              "           06D            NaN   CLR     M     M  "
            ]
          },
          "metadata": {
            "tags": []
          },
          "execution_count": 57
        }
      ]
    },
    {
      "metadata": {
        "id": "HB3Js9rHnNaG",
        "colab_type": "text"
      },
      "cell_type": "markdown",
      "source": [
        "Now that we have daily flight and weather data, we can merge.\n",
        "We'll use the `on` keyword to indicate the columns we'll merge on (this is like a `USING (...)` SQL statement), we just have to make sure the names align."
      ]
    },
    {
      "metadata": {
        "id": "CtC-PHzpnNaH",
        "colab_type": "code",
        "colab": {},
        "outputId": "a294b860-5280-4ace-e335-e149e1c99161"
      },
      "cell_type": "code",
      "source": [
        "flights.fl_date.unique()"
      ],
      "execution_count": 0,
      "outputs": [
        {
          "output_type": "execute_result",
          "data": {
            "text/plain": [
              "array(['2017-01-01T00:00:00.000000000', '2017-01-02T00:00:00.000000000',\n",
              "       '2017-01-03T00:00:00.000000000', '2017-01-04T00:00:00.000000000',\n",
              "       '2017-01-05T00:00:00.000000000', '2017-01-06T00:00:00.000000000',\n",
              "       '2017-01-07T00:00:00.000000000', '2017-01-08T00:00:00.000000000',\n",
              "       '2017-01-09T00:00:00.000000000', '2017-01-10T00:00:00.000000000',\n",
              "       '2017-01-11T00:00:00.000000000', '2017-01-12T00:00:00.000000000',\n",
              "       '2017-01-13T00:00:00.000000000', '2017-01-14T00:00:00.000000000',\n",
              "       '2017-01-15T00:00:00.000000000', '2017-01-16T00:00:00.000000000',\n",
              "       '2017-01-17T00:00:00.000000000', '2017-01-18T00:00:00.000000000',\n",
              "       '2017-01-19T00:00:00.000000000', '2017-01-20T00:00:00.000000000',\n",
              "       '2017-01-21T00:00:00.000000000', '2017-01-22T00:00:00.000000000',\n",
              "       '2017-01-23T00:00:00.000000000', '2017-01-24T00:00:00.000000000',\n",
              "       '2017-01-25T00:00:00.000000000', '2017-01-26T00:00:00.000000000',\n",
              "       '2017-01-27T00:00:00.000000000', '2017-01-28T00:00:00.000000000',\n",
              "       '2017-01-29T00:00:00.000000000', '2017-01-30T00:00:00.000000000',\n",
              "       '2017-01-31T00:00:00.000000000'], dtype='datetime64[ns]')"
            ]
          },
          "metadata": {
            "tags": []
          },
          "execution_count": 64
        }
      ]
    },
    {
      "metadata": {
        "id": "-rdqzwe4nNaM",
        "colab_type": "code",
        "colab": {},
        "outputId": "50ea1f6d-e2f9-4bfb-cfc0-e26f3cc2e931"
      },
      "cell_type": "code",
      "source": [
        "flights.origin.unique()"
      ],
      "execution_count": 0,
      "outputs": [
        {
          "output_type": "execute_result",
          "data": {
            "text/plain": [
              "[ORD, LAS, DCA, TPA, PHL, ..., YAK, ELM, MOT, LSE, TKI]\n",
              "Length: 298\n",
              "Categories (298, object): [ORD, LAS, DCA, TPA, ..., ELM, MOT, LSE, TKI]"
            ]
          },
          "metadata": {
            "tags": []
          },
          "execution_count": 65
        }
      ]
    },
    {
      "metadata": {
        "id": "zcNfDquynNaQ",
        "colab_type": "code",
        "colab": {},
        "outputId": "ca49af25-117a-4d2a-c89f-cca461592161"
      },
      "cell_type": "code",
      "source": [
        "daily.reset_index().date.unique()"
      ],
      "execution_count": 0,
      "outputs": [
        {
          "output_type": "execute_result",
          "data": {
            "text/plain": [
              "array(['2014-01-01T00:00:00.000000000', '2014-01-02T00:00:00.000000000',\n",
              "       '2014-01-03T00:00:00.000000000', '2014-01-04T00:00:00.000000000',\n",
              "       '2014-01-05T00:00:00.000000000', '2014-01-06T00:00:00.000000000',\n",
              "       '2014-01-07T00:00:00.000000000', '2014-01-08T00:00:00.000000000',\n",
              "       '2014-01-09T00:00:00.000000000', '2014-01-10T00:00:00.000000000',\n",
              "       '2014-01-11T00:00:00.000000000', '2014-01-12T00:00:00.000000000',\n",
              "       '2014-01-13T00:00:00.000000000', '2014-01-14T00:00:00.000000000',\n",
              "       '2014-01-15T00:00:00.000000000', '2014-01-16T00:00:00.000000000',\n",
              "       '2014-01-17T00:00:00.000000000', '2014-01-18T00:00:00.000000000',\n",
              "       '2014-01-19T00:00:00.000000000', '2014-01-20T00:00:00.000000000',\n",
              "       '2014-01-21T00:00:00.000000000', '2014-01-22T00:00:00.000000000',\n",
              "       '2014-01-23T00:00:00.000000000', '2014-01-24T00:00:00.000000000',\n",
              "       '2014-01-25T00:00:00.000000000', '2014-01-26T00:00:00.000000000',\n",
              "       '2014-01-27T00:00:00.000000000', '2014-01-28T00:00:00.000000000',\n",
              "       '2014-01-29T00:00:00.000000000', '2014-01-30T00:00:00.000000000'], dtype='datetime64[ns]')"
            ]
          },
          "metadata": {
            "tags": []
          },
          "execution_count": 66
        }
      ]
    },
    {
      "metadata": {
        "id": "eaKtO9pfnNaZ",
        "colab_type": "code",
        "colab": {},
        "outputId": "4a052241-233c-4f49-d6cf-62ef3d9d825b"
      },
      "cell_type": "code",
      "source": [
        "daily.reset_index().station.unique()"
      ],
      "execution_count": 0,
      "outputs": [
        {
          "output_type": "execute_result",
          "data": {
            "text/plain": [
              "array(['01M', '04V', '04W', ..., 'NR02', '0CO', 'AXV'], dtype=object)"
            ]
          },
          "metadata": {
            "tags": []
          },
          "execution_count": 67
        }
      ]
    },
    {
      "metadata": {
        "id": "JWn76CyYnNac",
        "colab_type": "text"
      },
      "cell_type": "markdown",
      "source": [
        "### The merge version"
      ]
    },
    {
      "metadata": {
        "id": "VC1NIFA0nNaf",
        "colab_type": "code",
        "colab": {}
      },
      "cell_type": "code",
      "source": [
        "daily_ = (\n",
        "    daily\n",
        "    .reset_index()\n",
        "    .rename(columns={'date': 'fl_date', 'station': 'origin'})\n",
        "    .assign(origin=lambda x: pd.Categorical(x.origin,\n",
        "                                            categories=flights.origin.cat.categories))\n",
        ")"
      ],
      "execution_count": 0,
      "outputs": []
    },
    {
      "metadata": {
        "id": "USr5AA5TnNam",
        "colab_type": "code",
        "colab": {},
        "outputId": "dc60fb2d-a5ab-4f30-dffd-093374e76c54"
      },
      "cell_type": "code",
      "source": [
        "flights.fl_date.unique()"
      ],
      "execution_count": 0,
      "outputs": [
        {
          "output_type": "execute_result",
          "data": {
            "text/plain": [
              "array(['2017-01-01T00:00:00.000000000', '2017-01-02T00:00:00.000000000',\n",
              "       '2017-01-03T00:00:00.000000000', '2017-01-04T00:00:00.000000000',\n",
              "       '2017-01-05T00:00:00.000000000', '2017-01-06T00:00:00.000000000',\n",
              "       '2017-01-07T00:00:00.000000000', '2017-01-08T00:00:00.000000000',\n",
              "       '2017-01-09T00:00:00.000000000', '2017-01-10T00:00:00.000000000',\n",
              "       '2017-01-11T00:00:00.000000000', '2017-01-12T00:00:00.000000000',\n",
              "       '2017-01-13T00:00:00.000000000', '2017-01-14T00:00:00.000000000',\n",
              "       '2017-01-15T00:00:00.000000000', '2017-01-16T00:00:00.000000000',\n",
              "       '2017-01-17T00:00:00.000000000', '2017-01-18T00:00:00.000000000',\n",
              "       '2017-01-19T00:00:00.000000000', '2017-01-20T00:00:00.000000000',\n",
              "       '2017-01-21T00:00:00.000000000', '2017-01-22T00:00:00.000000000',\n",
              "       '2017-01-23T00:00:00.000000000', '2017-01-24T00:00:00.000000000',\n",
              "       '2017-01-25T00:00:00.000000000', '2017-01-26T00:00:00.000000000',\n",
              "       '2017-01-27T00:00:00.000000000', '2017-01-28T00:00:00.000000000',\n",
              "       '2017-01-29T00:00:00.000000000', '2017-01-30T00:00:00.000000000',\n",
              "       '2017-01-31T00:00:00.000000000'], dtype='datetime64[ns]')"
            ]
          },
          "metadata": {
            "tags": []
          },
          "execution_count": 99
        }
      ]
    },
    {
      "metadata": {
        "id": "trSwV_4pnNas",
        "colab_type": "code",
        "colab": {},
        "outputId": "7b88cf01-31ed-4c40-e75d-f1cb31bb9fca"
      },
      "cell_type": "code",
      "source": [
        "daily.reset_index().date.unique()"
      ],
      "execution_count": 0,
      "outputs": [
        {
          "output_type": "execute_result",
          "data": {
            "text/plain": [
              "array(['2014-01-01T00:00:00.000000000', '2014-01-02T00:00:00.000000000',\n",
              "       '2014-01-03T00:00:00.000000000', '2014-01-04T00:00:00.000000000',\n",
              "       '2014-01-05T00:00:00.000000000', '2014-01-06T00:00:00.000000000',\n",
              "       '2014-01-07T00:00:00.000000000', '2014-01-08T00:00:00.000000000',\n",
              "       '2014-01-09T00:00:00.000000000', '2014-01-10T00:00:00.000000000',\n",
              "       '2014-01-11T00:00:00.000000000', '2014-01-12T00:00:00.000000000',\n",
              "       '2014-01-13T00:00:00.000000000', '2014-01-14T00:00:00.000000000',\n",
              "       '2014-01-15T00:00:00.000000000', '2014-01-16T00:00:00.000000000',\n",
              "       '2014-01-17T00:00:00.000000000', '2014-01-18T00:00:00.000000000',\n",
              "       '2014-01-19T00:00:00.000000000', '2014-01-20T00:00:00.000000000',\n",
              "       '2014-01-21T00:00:00.000000000', '2014-01-22T00:00:00.000000000',\n",
              "       '2014-01-23T00:00:00.000000000', '2014-01-24T00:00:00.000000000',\n",
              "       '2014-01-25T00:00:00.000000000', '2014-01-26T00:00:00.000000000',\n",
              "       '2014-01-27T00:00:00.000000000', '2014-01-28T00:00:00.000000000',\n",
              "       '2014-01-29T00:00:00.000000000', '2014-01-30T00:00:00.000000000'], dtype='datetime64[ns]')"
            ]
          },
          "metadata": {
            "tags": []
          },
          "execution_count": 102
        }
      ]
    },
    {
      "metadata": {
        "id": "Dw6GAFYmnNav",
        "colab_type": "code",
        "colab": {},
        "outputId": "1c912a51-70c0-4dd9-d570-5e254261bdf0"
      },
      "cell_type": "code",
      "source": [
        "m = pd.merge(flights, daily_,\n",
        "             on=['fl_date', 'origin']).set_index(idx_cols).sort_index()\n",
        "\n",
        "m.head()"
      ],
      "execution_count": 0,
      "outputs": [
        {
          "output_type": "execute_result",
          "data": {
            "text/html": [
              "<div>\n",
              "<style>\n",
              "    .dataframe thead tr:only-child th {\n",
              "        text-align: right;\n",
              "    }\n",
              "\n",
              "    .dataframe thead th {\n",
              "        text-align: left;\n",
              "    }\n",
              "\n",
              "    .dataframe tbody tr th {\n",
              "        vertical-align: top;\n",
              "    }\n",
              "</style>\n",
              "<table border=\"1\" class=\"dataframe\">\n",
              "  <thead>\n",
              "    <tr style=\"text-align: right;\">\n",
              "      <th></th>\n",
              "      <th></th>\n",
              "      <th></th>\n",
              "      <th></th>\n",
              "      <th></th>\n",
              "      <th></th>\n",
              "      <th>airline_id</th>\n",
              "      <th>origin_airport_id</th>\n",
              "      <th>origin_airport_seq_id</th>\n",
              "      <th>origin_city_market_id</th>\n",
              "      <th>origin_city_name</th>\n",
              "      <th>dest_airport_id</th>\n",
              "      <th>dest_airport_seq_id</th>\n",
              "      <th>dest_city_market_id</th>\n",
              "      <th>dest_city_name</th>\n",
              "      <th>crs_dep_time</th>\n",
              "      <th>...</th>\n",
              "      <th>tmpf</th>\n",
              "      <th>relh</th>\n",
              "      <th>sped</th>\n",
              "      <th>mslp</th>\n",
              "      <th>p01i</th>\n",
              "      <th>vsby</th>\n",
              "      <th>gust_mph</th>\n",
              "      <th>skyc1</th>\n",
              "      <th>skyc2</th>\n",
              "      <th>skyc3</th>\n",
              "    </tr>\n",
              "    <tr>\n",
              "      <th>unique_carrier</th>\n",
              "      <th>origin</th>\n",
              "      <th>dest</th>\n",
              "      <th>tail_num</th>\n",
              "      <th>fl_num</th>\n",
              "      <th>fl_date</th>\n",
              "      <th></th>\n",
              "      <th></th>\n",
              "      <th></th>\n",
              "      <th></th>\n",
              "      <th></th>\n",
              "      <th></th>\n",
              "      <th></th>\n",
              "      <th></th>\n",
              "      <th></th>\n",
              "      <th></th>\n",
              "      <th></th>\n",
              "      <th></th>\n",
              "      <th></th>\n",
              "      <th></th>\n",
              "      <th></th>\n",
              "      <th></th>\n",
              "      <th></th>\n",
              "      <th></th>\n",
              "      <th></th>\n",
              "      <th></th>\n",
              "      <th></th>\n",
              "    </tr>\n",
              "  </thead>\n",
              "  <tbody>\n",
              "    <tr>\n",
              "      <th rowspan=\"5\" valign=\"top\">OO</th>\n",
              "      <th rowspan=\"5\" valign=\"top\">YUM</th>\n",
              "      <th rowspan=\"5\" valign=\"top\">PHX</th>\n",
              "      <th rowspan=\"5\" valign=\"top\">N423SW</th>\n",
              "      <th rowspan=\"5\" valign=\"top\">3068</th>\n",
              "      <th>2017-01-31</th>\n",
              "      <td>20304</td>\n",
              "      <td>16218</td>\n",
              "      <td>1621801</td>\n",
              "      <td>33785</td>\n",
              "      <td>Yuma</td>\n",
              "      <td>14107</td>\n",
              "      <td>1410702</td>\n",
              "      <td>30466</td>\n",
              "      <td>Phoenix</td>\n",
              "      <td>2017-01-31 11:30:00</td>\n",
              "      <td>...</td>\n",
              "      <td>35.747500</td>\n",
              "      <td>81.117917</td>\n",
              "      <td>2.294444</td>\n",
              "      <td>NaN</td>\n",
              "      <td>0.0</td>\n",
              "      <td>9.229167</td>\n",
              "      <td>NaN</td>\n",
              "      <td>CLR</td>\n",
              "      <td>M</td>\n",
              "      <td>M</td>\n",
              "    </tr>\n",
              "    <tr>\n",
              "      <th>2017-01-31</th>\n",
              "      <td>20304</td>\n",
              "      <td>16218</td>\n",
              "      <td>1621801</td>\n",
              "      <td>33785</td>\n",
              "      <td>Yuma</td>\n",
              "      <td>14107</td>\n",
              "      <td>1410702</td>\n",
              "      <td>30466</td>\n",
              "      <td>Phoenix</td>\n",
              "      <td>2017-01-31 11:30:00</td>\n",
              "      <td>...</td>\n",
              "      <td>18.350000</td>\n",
              "      <td>72.697778</td>\n",
              "      <td>11.250000</td>\n",
              "      <td>NaN</td>\n",
              "      <td>0.0</td>\n",
              "      <td>9.861111</td>\n",
              "      <td>31.603571</td>\n",
              "      <td>CLR</td>\n",
              "      <td>M</td>\n",
              "      <td>M</td>\n",
              "    </tr>\n",
              "    <tr>\n",
              "      <th>2017-01-31</th>\n",
              "      <td>20304</td>\n",
              "      <td>16218</td>\n",
              "      <td>1621801</td>\n",
              "      <td>33785</td>\n",
              "      <td>Yuma</td>\n",
              "      <td>14107</td>\n",
              "      <td>1410702</td>\n",
              "      <td>30466</td>\n",
              "      <td>Phoenix</td>\n",
              "      <td>2017-01-31 11:30:00</td>\n",
              "      <td>...</td>\n",
              "      <td>-9.075000</td>\n",
              "      <td>69.908056</td>\n",
              "      <td>3.647222</td>\n",
              "      <td>NaN</td>\n",
              "      <td>0.0</td>\n",
              "      <td>10.000000</td>\n",
              "      <td>NaN</td>\n",
              "      <td>OVC</td>\n",
              "      <td>M</td>\n",
              "      <td>M</td>\n",
              "    </tr>\n",
              "    <tr>\n",
              "      <th>2017-01-31</th>\n",
              "      <td>20304</td>\n",
              "      <td>16218</td>\n",
              "      <td>1621801</td>\n",
              "      <td>33785</td>\n",
              "      <td>Yuma</td>\n",
              "      <td>14107</td>\n",
              "      <td>1410702</td>\n",
              "      <td>30466</td>\n",
              "      <td>Phoenix</td>\n",
              "      <td>2017-01-31 11:30:00</td>\n",
              "      <td>...</td>\n",
              "      <td>26.321127</td>\n",
              "      <td>71.519859</td>\n",
              "      <td>3.829577</td>\n",
              "      <td>NaN</td>\n",
              "      <td>0.0</td>\n",
              "      <td>9.929577</td>\n",
              "      <td>NaN</td>\n",
              "      <td>CLR</td>\n",
              "      <td>M</td>\n",
              "      <td>M</td>\n",
              "    </tr>\n",
              "    <tr>\n",
              "      <th>2017-01-31</th>\n",
              "      <td>20304</td>\n",
              "      <td>16218</td>\n",
              "      <td>1621801</td>\n",
              "      <td>33785</td>\n",
              "      <td>Yuma</td>\n",
              "      <td>14107</td>\n",
              "      <td>1410702</td>\n",
              "      <td>30466</td>\n",
              "      <td>Phoenix</td>\n",
              "      <td>2017-01-31 11:30:00</td>\n",
              "      <td>...</td>\n",
              "      <td>-11.388060</td>\n",
              "      <td>73.784179</td>\n",
              "      <td>5.359722</td>\n",
              "      <td>NaN</td>\n",
              "      <td>0.0</td>\n",
              "      <td>9.576389</td>\n",
              "      <td>NaN</td>\n",
              "      <td>CLR</td>\n",
              "      <td>M</td>\n",
              "      <td>M</td>\n",
              "    </tr>\n",
              "  </tbody>\n",
              "</table>\n",
              "<p>5 rows × 37 columns</p>\n",
              "</div>"
            ],
            "text/plain": [
              "                                                       airline_id  \\\n",
              "unique_carrier origin dest tail_num fl_num fl_date                  \n",
              "OO             YUM    PHX  N423SW   3068   2017-01-31       20304   \n",
              "                                           2017-01-31       20304   \n",
              "                                           2017-01-31       20304   \n",
              "                                           2017-01-31       20304   \n",
              "                                           2017-01-31       20304   \n",
              "\n",
              "                                                       origin_airport_id  \\\n",
              "unique_carrier origin dest tail_num fl_num fl_date                         \n",
              "OO             YUM    PHX  N423SW   3068   2017-01-31              16218   \n",
              "                                           2017-01-31              16218   \n",
              "                                           2017-01-31              16218   \n",
              "                                           2017-01-31              16218   \n",
              "                                           2017-01-31              16218   \n",
              "\n",
              "                                                       origin_airport_seq_id  \\\n",
              "unique_carrier origin dest tail_num fl_num fl_date                             \n",
              "OO             YUM    PHX  N423SW   3068   2017-01-31                1621801   \n",
              "                                           2017-01-31                1621801   \n",
              "                                           2017-01-31                1621801   \n",
              "                                           2017-01-31                1621801   \n",
              "                                           2017-01-31                1621801   \n",
              "\n",
              "                                                       origin_city_market_id  \\\n",
              "unique_carrier origin dest tail_num fl_num fl_date                             \n",
              "OO             YUM    PHX  N423SW   3068   2017-01-31                  33785   \n",
              "                                           2017-01-31                  33785   \n",
              "                                           2017-01-31                  33785   \n",
              "                                           2017-01-31                  33785   \n",
              "                                           2017-01-31                  33785   \n",
              "\n",
              "                                                      origin_city_name  \\\n",
              "unique_carrier origin dest tail_num fl_num fl_date                       \n",
              "OO             YUM    PHX  N423SW   3068   2017-01-31             Yuma   \n",
              "                                           2017-01-31             Yuma   \n",
              "                                           2017-01-31             Yuma   \n",
              "                                           2017-01-31             Yuma   \n",
              "                                           2017-01-31             Yuma   \n",
              "\n",
              "                                                       dest_airport_id  \\\n",
              "unique_carrier origin dest tail_num fl_num fl_date                       \n",
              "OO             YUM    PHX  N423SW   3068   2017-01-31            14107   \n",
              "                                           2017-01-31            14107   \n",
              "                                           2017-01-31            14107   \n",
              "                                           2017-01-31            14107   \n",
              "                                           2017-01-31            14107   \n",
              "\n",
              "                                                       dest_airport_seq_id  \\\n",
              "unique_carrier origin dest tail_num fl_num fl_date                           \n",
              "OO             YUM    PHX  N423SW   3068   2017-01-31              1410702   \n",
              "                                           2017-01-31              1410702   \n",
              "                                           2017-01-31              1410702   \n",
              "                                           2017-01-31              1410702   \n",
              "                                           2017-01-31              1410702   \n",
              "\n",
              "                                                       dest_city_market_id  \\\n",
              "unique_carrier origin dest tail_num fl_num fl_date                           \n",
              "OO             YUM    PHX  N423SW   3068   2017-01-31                30466   \n",
              "                                           2017-01-31                30466   \n",
              "                                           2017-01-31                30466   \n",
              "                                           2017-01-31                30466   \n",
              "                                           2017-01-31                30466   \n",
              "\n",
              "                                                      dest_city_name  \\\n",
              "unique_carrier origin dest tail_num fl_num fl_date                     \n",
              "OO             YUM    PHX  N423SW   3068   2017-01-31        Phoenix   \n",
              "                                           2017-01-31        Phoenix   \n",
              "                                           2017-01-31        Phoenix   \n",
              "                                           2017-01-31        Phoenix   \n",
              "                                           2017-01-31        Phoenix   \n",
              "\n",
              "                                                             crs_dep_time  \\\n",
              "unique_carrier origin dest tail_num fl_num fl_date                          \n",
              "OO             YUM    PHX  N423SW   3068   2017-01-31 2017-01-31 11:30:00   \n",
              "                                           2017-01-31 2017-01-31 11:30:00   \n",
              "                                           2017-01-31 2017-01-31 11:30:00   \n",
              "                                           2017-01-31 2017-01-31 11:30:00   \n",
              "                                           2017-01-31 2017-01-31 11:30:00   \n",
              "\n",
              "                                                       ...         tmpf  \\\n",
              "unique_carrier origin dest tail_num fl_num fl_date     ...                \n",
              "OO             YUM    PHX  N423SW   3068   2017-01-31  ...    35.747500   \n",
              "                                           2017-01-31  ...    18.350000   \n",
              "                                           2017-01-31  ...    -9.075000   \n",
              "                                           2017-01-31  ...    26.321127   \n",
              "                                           2017-01-31  ...   -11.388060   \n",
              "\n",
              "                                                            relh       sped  \\\n",
              "unique_carrier origin dest tail_num fl_num fl_date                            \n",
              "OO             YUM    PHX  N423SW   3068   2017-01-31  81.117917   2.294444   \n",
              "                                           2017-01-31  72.697778  11.250000   \n",
              "                                           2017-01-31  69.908056   3.647222   \n",
              "                                           2017-01-31  71.519859   3.829577   \n",
              "                                           2017-01-31  73.784179   5.359722   \n",
              "\n",
              "                                                       mslp  p01i       vsby  \\\n",
              "unique_carrier origin dest tail_num fl_num fl_date                             \n",
              "OO             YUM    PHX  N423SW   3068   2017-01-31   NaN   0.0   9.229167   \n",
              "                                           2017-01-31   NaN   0.0   9.861111   \n",
              "                                           2017-01-31   NaN   0.0  10.000000   \n",
              "                                           2017-01-31   NaN   0.0   9.929577   \n",
              "                                           2017-01-31   NaN   0.0   9.576389   \n",
              "\n",
              "                                                        gust_mph skyc1  skyc2  \\\n",
              "unique_carrier origin dest tail_num fl_num fl_date                              \n",
              "OO             YUM    PHX  N423SW   3068   2017-01-31        NaN   CLR      M   \n",
              "                                           2017-01-31  31.603571   CLR      M   \n",
              "                                           2017-01-31        NaN   OVC      M   \n",
              "                                           2017-01-31        NaN   CLR      M   \n",
              "                                           2017-01-31        NaN   CLR      M   \n",
              "\n",
              "                                                       skyc3  \n",
              "unique_carrier origin dest tail_num fl_num fl_date            \n",
              "OO             YUM    PHX  N423SW   3068   2017-01-31      M  \n",
              "                                           2017-01-31      M  \n",
              "                                           2017-01-31      M  \n",
              "                                           2017-01-31      M  \n",
              "                                           2017-01-31      M  \n",
              "\n",
              "[5 rows x 37 columns]"
            ]
          },
          "metadata": {
            "tags": []
          },
          "execution_count": 72
        }
      ]
    },
    {
      "metadata": {
        "id": "mThGNTOLnNay",
        "colab_type": "text"
      },
      "cell_type": "markdown",
      "source": [
        "Since data-wrangling on its own is never the goal, let's do some quick analysis.\n",
        "Seaborn makes it easy to explore bivariate relationships."
      ]
    },
    {
      "metadata": {
        "id": "Excc29gcnNaz",
        "colab_type": "text"
      },
      "cell_type": "markdown",
      "source": [
        "Looking at the various [sky coverage states](https://en.wikipedia.org/wiki/METAR#Cloud_reporting):\n",
        "\n"
      ]
    },
    {
      "metadata": {
        "id": "lz5bjraEnNa0",
        "colab_type": "code",
        "colab": {},
        "outputId": "fb0d40c4-7d36-4ae8-94e9-e1ae06bc36bd"
      },
      "cell_type": "code",
      "source": [
        "m.groupby('skyc1').dep_delay.agg(['mean', 'count']).sort_values(by='mean')"
      ],
      "execution_count": 0,
      "outputs": [
        {
          "output_type": "execute_result",
          "data": {
            "text/html": [
              "<div>\n",
              "<style>\n",
              "    .dataframe thead tr:only-child th {\n",
              "        text-align: right;\n",
              "    }\n",
              "\n",
              "    .dataframe thead th {\n",
              "        text-align: left;\n",
              "    }\n",
              "\n",
              "    .dataframe tbody tr th {\n",
              "        vertical-align: top;\n",
              "    }\n",
              "</style>\n",
              "<table border=\"1\" class=\"dataframe\">\n",
              "  <thead>\n",
              "    <tr style=\"text-align: right;\">\n",
              "      <th></th>\n",
              "      <th>mean</th>\n",
              "      <th>count</th>\n",
              "    </tr>\n",
              "    <tr>\n",
              "      <th>skyc1</th>\n",
              "      <th></th>\n",
              "      <th></th>\n",
              "    </tr>\n",
              "  </thead>\n",
              "  <tbody>\n",
              "    <tr>\n",
              "      <th>BKN</th>\n",
              "      <td>-8.0</td>\n",
              "      <td>276</td>\n",
              "    </tr>\n",
              "    <tr>\n",
              "      <th>CLR</th>\n",
              "      <td>-8.0</td>\n",
              "      <td>3033</td>\n",
              "    </tr>\n",
              "    <tr>\n",
              "      <th>FEW</th>\n",
              "      <td>-8.0</td>\n",
              "      <td>258</td>\n",
              "    </tr>\n",
              "    <tr>\n",
              "      <th>M</th>\n",
              "      <td>-8.0</td>\n",
              "      <td>180</td>\n",
              "    </tr>\n",
              "    <tr>\n",
              "      <th>OVC</th>\n",
              "      <td>-8.0</td>\n",
              "      <td>1545</td>\n",
              "    </tr>\n",
              "    <tr>\n",
              "      <th>SCT</th>\n",
              "      <td>-8.0</td>\n",
              "      <td>246</td>\n",
              "    </tr>\n",
              "    <tr>\n",
              "      <th>VV</th>\n",
              "      <td>-8.0</td>\n",
              "      <td>57</td>\n",
              "    </tr>\n",
              "  </tbody>\n",
              "</table>\n",
              "</div>"
            ],
            "text/plain": [
              "       mean  count\n",
              "skyc1             \n",
              "BKN    -8.0    276\n",
              "CLR    -8.0   3033\n",
              "FEW    -8.0    258\n",
              "M      -8.0    180\n",
              "OVC    -8.0   1545\n",
              "SCT    -8.0    246\n",
              "VV     -8.0     57"
            ]
          },
          "metadata": {
            "tags": []
          },
          "execution_count": 76
        }
      ]
    },
    {
      "metadata": {
        "id": "fFNfQs3pnNa2",
        "colab_type": "code",
        "colab": {},
        "outputId": "7c760d7c-9cba-4fa6-e400-8bd914fce961"
      },
      "cell_type": "code",
      "source": [
        "import statsmodels.api as sm"
      ],
      "execution_count": 0,
      "outputs": [
        {
          "output_type": "stream",
          "text": [
            "/Users/taugspurger/miniconda3/envs/modern-pandas/lib/python3.6/site-packages/statsmodels/compat/pandas.py:56: FutureWarning: The pandas.core.datetools module is deprecated and will be removed in a future version. Please use the pandas.tseries module instead.\n",
            "  from pandas.core import datetools\n"
          ],
          "name": "stderr"
        }
      ]
    },
    {
      "metadata": {
        "id": "-a5M1FKmnNa5",
        "colab_type": "text"
      },
      "cell_type": "markdown",
      "source": [
        "Statsmodels (via [patsy](http://patsy.readthedocs.org/) can automatically convert dummy data to dummy variables in a formula with the `C` function)."
      ]
    },
    {
      "metadata": {
        "id": "tSro7w88nNa5",
        "colab_type": "code",
        "colab": {},
        "outputId": "d9df6c3a-da88-4a55-84ab-7dd30dde74a1"
      },
      "cell_type": "code",
      "source": [
        "mod = sm.OLS.from_formula('dep_delay ~ C(skyc1) + tmpf + relh + sped + mslp', data=m)\n",
        "res = mod.fit()\n",
        "res.summary()"
      ],
      "execution_count": 0,
      "outputs": [
        {
          "output_type": "execute_result",
          "data": {
            "text/html": [
              "<table class=\"simpletable\">\n",
              "<caption>OLS Regression Results</caption>\n",
              "<tr>\n",
              "  <th>Dep. Variable:</th>        <td>dep_delay</td>    <th>  R-squared:         </th> <td>   0.000</td> \n",
              "</tr>\n",
              "<tr>\n",
              "  <th>Model:</th>                   <td>OLS</td>       <th>  Adj. R-squared:    </th> <td>  -0.004</td> \n",
              "</tr>\n",
              "<tr>\n",
              "  <th>Method:</th>             <td>Least Squares</td>  <th>  F-statistic:       </th> <td>4.527e-14</td>\n",
              "</tr>\n",
              "<tr>\n",
              "  <th>Date:</th>             <td>Fri, 01 Sep 2017</td> <th>  Prob (F-statistic):</th>  <td>  1.00</td>  \n",
              "</tr>\n",
              "<tr>\n",
              "  <th>Time:</th>                 <td>17:21:21</td>     <th>  Log-Likelihood:    </th> <td> -4390.8</td> \n",
              "</tr>\n",
              "<tr>\n",
              "  <th>No. Observations:</th>      <td>  2487</td>      <th>  AIC:               </th> <td>   8804.</td> \n",
              "</tr>\n",
              "<tr>\n",
              "  <th>Df Residuals:</th>          <td>  2476</td>      <th>  BIC:               </th> <td>   8868.</td> \n",
              "</tr>\n",
              "<tr>\n",
              "  <th>Df Model:</th>              <td>    10</td>      <th>                     </th>     <td> </td>    \n",
              "</tr>\n",
              "<tr>\n",
              "  <th>Covariance Type:</th>      <td>nonrobust</td>    <th>                     </th>     <td> </td>    \n",
              "</tr>\n",
              "</table>\n",
              "<table class=\"simpletable\">\n",
              "<tr>\n",
              "         <td></td>            <th>coef</th>     <th>std err</th>      <th>t</th>      <th>P>|t|</th>  <th>[0.025</th>    <th>0.975]</th>  \n",
              "</tr>\n",
              "<tr>\n",
              "  <th>Intercept</th>       <td>   -8.0000</td> <td>    3.438</td> <td>   -2.327</td> <td> 0.020</td> <td>  -14.742</td> <td>   -1.258</td>\n",
              "</tr>\n",
              "<tr>\n",
              "  <th>C(skyc1)[T.CLR]</th> <td> 2.782e-15</td> <td>    0.122</td> <td> 2.28e-14</td> <td> 1.000</td> <td>   -0.240</td> <td>    0.240</td>\n",
              "</tr>\n",
              "<tr>\n",
              "  <th>C(skyc1)[T.FEW]</th> <td> 1.943e-16</td> <td>    0.166</td> <td> 1.17e-15</td> <td> 1.000</td> <td>   -0.326</td> <td>    0.326</td>\n",
              "</tr>\n",
              "<tr>\n",
              "  <th>C(skyc1)[T.M]</th>   <td> 3.166e-15</td> <td>    0.194</td> <td> 1.63e-14</td> <td> 1.000</td> <td>   -0.381</td> <td>    0.381</td>\n",
              "</tr>\n",
              "<tr>\n",
              "  <th>C(skyc1)[T.OVC]</th> <td> 3.383e-16</td> <td>    0.124</td> <td> 2.73e-15</td> <td> 1.000</td> <td>   -0.243</td> <td>    0.243</td>\n",
              "</tr>\n",
              "<tr>\n",
              "  <th>C(skyc1)[T.SCT]</th> <td>-2.024e-14</td> <td>    0.284</td> <td>-7.12e-14</td> <td> 1.000</td> <td>   -0.557</td> <td>    0.557</td>\n",
              "</tr>\n",
              "<tr>\n",
              "  <th>C(skyc1)[T.VV ]</th> <td> 3.973e-15</td> <td>    0.224</td> <td> 1.77e-14</td> <td> 1.000</td> <td>   -0.440</td> <td>    0.440</td>\n",
              "</tr>\n",
              "<tr>\n",
              "  <th>tmpf</th>            <td>-3.123e-17</td> <td>    0.002</td> <td>-1.77e-14</td> <td> 1.000</td> <td>   -0.003</td> <td>    0.003</td>\n",
              "</tr>\n",
              "<tr>\n",
              "  <th>relh</th>            <td>-3.144e-17</td> <td>    0.002</td> <td>-1.41e-14</td> <td> 1.000</td> <td>   -0.004</td> <td>    0.004</td>\n",
              "</tr>\n",
              "<tr>\n",
              "  <th>sped</th>            <td>-9.498e-17</td> <td>    0.007</td> <td>-1.38e-14</td> <td> 1.000</td> <td>   -0.013</td> <td>    0.013</td>\n",
              "</tr>\n",
              "<tr>\n",
              "  <th>mslp</th>            <td>-2.251e-16</td> <td>    0.003</td> <td>-6.76e-14</td> <td> 1.000</td> <td>   -0.007</td> <td>    0.007</td>\n",
              "</tr>\n",
              "</table>\n",
              "<table class=\"simpletable\">\n",
              "<tr>\n",
              "  <th>Omnibus:</th>       <td>170.859</td> <th>  Durbin-Watson:     </th> <td>   0.002</td>\n",
              "</tr>\n",
              "<tr>\n",
              "  <th>Prob(Omnibus):</th> <td> 0.000</td>  <th>  Jarque-Bera (JB):  </th> <td> 440.406</td>\n",
              "</tr>\n",
              "<tr>\n",
              "  <th>Skew:</th>          <td>-0.707</td>  <th>  Prob(JB):          </th> <td>2.33e-96</td>\n",
              "</tr>\n",
              "<tr>\n",
              "  <th>Kurtosis:</th>      <td> 1.500</td>  <th>  Cond. No.          </th> <td>1.24e+05</td>\n",
              "</tr>\n",
              "</table>"
            ],
            "text/plain": [
              "<class 'statsmodels.iolib.summary.Summary'>\n",
              "\"\"\"\n",
              "                            OLS Regression Results                            \n",
              "==============================================================================\n",
              "Dep. Variable:              dep_delay   R-squared:                       0.000\n",
              "Model:                            OLS   Adj. R-squared:                 -0.004\n",
              "Method:                 Least Squares   F-statistic:                 4.527e-14\n",
              "Date:                Fri, 01 Sep 2017   Prob (F-statistic):               1.00\n",
              "Time:                        17:21:21   Log-Likelihood:                -4390.8\n",
              "No. Observations:                2487   AIC:                             8804.\n",
              "Df Residuals:                    2476   BIC:                             8868.\n",
              "Df Model:                          10                                         \n",
              "Covariance Type:            nonrobust                                         \n",
              "===================================================================================\n",
              "                      coef    std err          t      P>|t|      [0.025      0.975]\n",
              "-----------------------------------------------------------------------------------\n",
              "Intercept          -8.0000      3.438     -2.327      0.020     -14.742      -1.258\n",
              "C(skyc1)[T.CLR]  2.782e-15      0.122   2.28e-14      1.000      -0.240       0.240\n",
              "C(skyc1)[T.FEW]  1.943e-16      0.166   1.17e-15      1.000      -0.326       0.326\n",
              "C(skyc1)[T.M]    3.166e-15      0.194   1.63e-14      1.000      -0.381       0.381\n",
              "C(skyc1)[T.OVC]  3.383e-16      0.124   2.73e-15      1.000      -0.243       0.243\n",
              "C(skyc1)[T.SCT] -2.024e-14      0.284  -7.12e-14      1.000      -0.557       0.557\n",
              "C(skyc1)[T.VV ]  3.973e-15      0.224   1.77e-14      1.000      -0.440       0.440\n",
              "tmpf            -3.123e-17      0.002  -1.77e-14      1.000      -0.003       0.003\n",
              "relh            -3.144e-17      0.002  -1.41e-14      1.000      -0.004       0.004\n",
              "sped            -9.498e-17      0.007  -1.38e-14      1.000      -0.013       0.013\n",
              "mslp            -2.251e-16      0.003  -6.76e-14      1.000      -0.007       0.007\n",
              "==============================================================================\n",
              "Omnibus:                      170.859   Durbin-Watson:                   0.002\n",
              "Prob(Omnibus):                  0.000   Jarque-Bera (JB):              440.406\n",
              "Skew:                          -0.707   Prob(JB):                     2.33e-96\n",
              "Kurtosis:                       1.500   Cond. No.                     1.24e+05\n",
              "==============================================================================\n",
              "\n",
              "Warnings:\n",
              "[1] Standard Errors assume that the covariance matrix of the errors is correctly specified.\n",
              "[2] The condition number is large, 1.24e+05. This might indicate that there are\n",
              "strong multicollinearity or other numerical problems.\n",
              "\"\"\""
            ]
          },
          "metadata": {
            "tags": []
          },
          "execution_count": 78
        }
      ]
    },
    {
      "metadata": {
        "id": "tNKQ0Vz7nNa8",
        "colab_type": "code",
        "colab": {},
        "outputId": "8e5c9294-0d15-4d50-9d04-c1acdb5f7ad4"
      },
      "cell_type": "code",
      "source": [
        "fig, ax = plt.subplots()\n",
        "ax.scatter(res.fittedvalues, res.resid, color='k', marker='.', alpha=.25)\n",
        "ax.set(xlabel='Predicted', ylabel='Residual')\n",
        "sns.despine()"
      ],
      "execution_count": 0,
      "outputs": [
        {
          "output_type": "display_data",
          "data": {
            "image/png": "[encoded data removed]",
            "text/plain": [
              "<matplotlib.figure.Figure at 0x1248c8e80>"
            ]
          },
          "metadata": {
            "tags": []
          }
        }
      ]
    },
    {
      "metadata": {
        "id": "msSBqx6BnNa-",
        "colab_type": "text"
      },
      "cell_type": "markdown",
      "source": [
        "Those residuals should look like white noise.\n",
        "Looks like our linear model isn't flexible enough to model the delays,\n",
        "but I think that's enough for now.\n",
        "\n",
        "---\n",
        "\n",
        "We'll talk more about indexes in the Tidy Data and Reshaping section.\n",
        "[Let me know](http://twitter.com/tomaugspurger) if you have any feedback.\n",
        "Thanks for reading!"
      ]
    }
  ]
}